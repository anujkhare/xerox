{
 "metadata": {
  "name": "",
  "signature": "sha256:d9ebef54c74fc9ca64e8a22e89c6eae6547878397ae0f518ffe344ef3314514a"
 },
 "nbformat": 3,
 "nbformat_minor": 0,
 "worksheets": [
  {
   "cells": [
    {
     "cell_type": "code",
     "collapsed": false,
     "input": [
      "%vimception"
     ],
     "language": "python",
     "metadata": {},
     "outputs": [
      {
       "output_type": "stream",
       "stream": "stderr",
       "text": [
        "ERROR: Line magic function `%vimception` not found.\n"
       ]
      }
     ],
     "prompt_number": 3
    },
    {
     "cell_type": "code",
     "collapsed": false,
     "input": [
      "%reset"
     ],
     "language": "python",
     "metadata": {},
     "outputs": [
      {
       "name": "stdout",
       "output_type": "stream",
       "stream": "stdout",
       "text": [
        "Once deleted, variables cannot be recovered. Proceed (y/[n])? y\n"
       ]
      }
     ],
     "prompt_number": 90
    },
    {
     "cell_type": "code",
     "collapsed": false,
     "input": [
      "import re\n",
      "import pandas\n",
      "import numpy as np\n",
      "import pandas as pd\n",
      "from patsy import dmatrices, dmatrix\n",
      "from pandas import Series, DataFrame\n",
      "import matplotlib.pyplot as plt\n",
      "%pylab inline\n",
      "import time\n",
      "import sklearn\n",
      "from sklearn.decomposition import PCA\n",
      "from sklearn.linear_model import LinearRegression\n",
      "from sklearn.linear_model import Lars\n",
      "from sklearn import neighbors\n",
      "from sklearn import gaussian_process\n",
      "from sklearn.cross_validation import KFold\n",
      "from sklearn.grid_search import GridSearchCV\n",
      "import scipy.stats as stats\n",
      "import scipy\n",
      "import matplotlib.pyplot as plt\n",
      "from mpl_toolkits.mplot3d import Axes3D\n",
      "from sklearn.cluster import KMeans\n",
      "from scipy.spatial import ConvexHull\n",
      "import scipy.spatial.distance as sdist"
     ],
     "language": "python",
     "metadata": {},
     "outputs": [
      {
       "output_type": "stream",
       "stream": "stdout",
       "text": [
        "Populating the interactive namespace from numpy and matplotlib\n"
       ]
      }
     ],
     "prompt_number": 2
    },
    {
     "cell_type": "code",
     "collapsed": false,
     "input": [
      "df_age = pd.read_csv('data_train/id_age_train.csv')\n",
      "df_labels = pd.read_csv('data_train/id_label_train.csv')\n",
      "df_vitals = pd.read_csv('data_train/id_time_vitals_train.csv')\n",
      "df_labs = pd.read_csv('data_train/id_time_labs_train.csv')"
     ],
     "language": "python",
     "metadata": {},
     "outputs": [],
     "prompt_number": 2
    },
    {
     "cell_type": "markdown",
     "metadata": {},
     "source": [
      "### Drop columns with no entries at all\n",
      "- Maybe consider removing ones with \"too few\" (?) entries too\n",
      "\n",
      "c = df_labs.ix[:, df_labs.count(axis=0)==0].columns\n",
      "print c\n",
      "df_labs.isnull().all(axis=0).sum()\n",
      "df_vitals.isnull().all(axis=0).sum()"
     ]
    },
    {
     "cell_type": "markdown",
     "metadata": {},
     "source": [
      "### Skewed?\n",
      "Check if data is skewed, if yes, then we need some strategy to show the model eq. amount of positive (died) examples for better generalization\n",
      "\n",
      "N_PATIENTS = df_labels['ID'].count()\n",
      "print N_PATIENTS\n",
      "sum(df_labels['LABEL'] == 1) * 100.0 / N_PATIENTS"
     ]
    },
    {
     "cell_type": "markdown",
     "metadata": {},
     "source": [
      "### Preprocess\n",
      "- Imputations?\n",
      "- Segmentation?\n",
      "- ??\n",
      "- feature selection?"
     ]
    },
    {
     "cell_type": "markdown",
     "metadata": {},
     "source": [
      "### Append the labels to the labs and vitals for ease :P"
     ]
    },
    {
     "cell_type": "code",
     "collapsed": false,
     "input": [
      "for i in df_labels.ix[:, 'ID']:\n",
      "    index = df_vitals.ix[:, 'ID'] == i # 1-1 corr in vitals and labs ID-TIME\n",
      "    label = df_labels.ix[i - 1, 'LABEL']\n",
      "    df_vitals.ix[index, 'label'] = label\n",
      "    df_labs.ix[index, 'label'] = label"
     ],
     "language": "python",
     "metadata": {},
     "outputs": [],
     "prompt_number": 3
    },
    {
     "cell_type": "markdown",
     "metadata": {},
     "source": [
      "### impute with zeros\n",
      "\n",
      "df_vitals_zero=df_vitals.copy()\n",
      "df_vitals_zero[df_vitals.isnull()] = 0"
     ]
    },
    {
     "cell_type": "markdown",
     "metadata": {},
     "source": [
      "### Impute with mean"
     ]
    },
    {
     "cell_type": "code",
     "collapsed": false,
     "input": [
      "df_vitals_mean = df_vitals.copy()\n",
      "for i in xrange(1, 7):\n",
      "    col = 'V' + str(i)\n",
      "    index = df_vitals_mean.ix[:, col].isnull()\n",
      "    df_vitals_mean.ix[index, col] = df_vitals_mean.ix[index^1, col].mean()\n",
      "df_labs_mean = df_labs.copy()\n",
      "for i in xrange(1, 26):\n",
      "    col = 'L' + str(i)\n",
      "    index = df_labs_mean.ix[:, col].isnull()\n",
      "    df_labs_mean.ix[index, col] = df_labs_mean.ix[index^1, col].mean()\n",
      "# Combined values imputed with mean\n",
      "patient_combined_mean = [np.append(np.array(df_vitals_mean.ix[df_vitals_mean['ID'] == ID, 2:8]),\n",
      "                                   np.array(df_labs_mean.ix[df_labs_mean['ID'] == ID, 2:27]), axis=1)\n",
      "                         for ID in df_labels['ID'].unique()                        \n",
      "                         ]\n",
      "\n",
      "# split into living and dead\n",
      "patient_combined_dead = [patient_combined_mean[ID-1] for ID in df_labels['ID']\n",
      "                                                      if df_labels.ix[ID - 1, 'LABEL'] == 1]\n",
      "patient_combined_living = [patient_combined_mean[ID-1] for ID in df_labels['ID']\n",
      "                                                      if df_labels.ix[ID - 1, 'LABEL'] == 0]"
     ],
     "language": "python",
     "metadata": {},
     "outputs": [],
     "prompt_number": 4
    },
    {
     "cell_type": "code",
     "collapsed": false,
     "input": [
      "patient_combined_living_mean = patient_combined_living\n",
      "patient_combined_dead_mean = patient_combined_dead"
     ],
     "language": "python",
     "metadata": {},
     "outputs": [],
     "prompt_number": 7
    },
    {
     "cell_type": "code",
     "collapsed": false,
     "input": [
      "# Combined values WITH NANs\n",
      "df_v = df_vitals\n",
      "df_l = df_labs\n",
      "patient_combined = [np.append(np.array(df_v.ix[df_v['ID'] == ID, 2:8]),\n",
      "                              np.array(df_l.ix[df_l['ID'] == ID, 2:27]), axis=1)\n",
      "                    for ID in df_labels['ID'].unique()                        \n",
      "                   ]\n",
      "\n",
      "# split into living and dead\n",
      "patient_combined_dead_nan = [patient_combined[ID-1] for ID in df_labels['ID']\n",
      "                                                      if df_labels.ix[ID - 1, 'LABEL'] == 1]\n",
      "patient_combined_living_nan = [patient_combined[ID-1] for ID in df_labels['ID']\n",
      "                                                      if df_labels.ix[ID - 1, 'LABEL'] == 0]"
     ],
     "language": "python",
     "metadata": {},
     "outputs": [],
     "prompt_number": 8
    },
    {
     "cell_type": "markdown",
     "metadata": {},
     "source": [
      "### Save the values"
     ]
    },
    {
     "cell_type": "markdown",
     "metadata": {},
     "source": [
      "for i, o in enumerate(patient_combined_living_nan):\n",
      "    np.savetxt('patient_living_nan/' + str(i) + '.csv', o, delimiter=',')\n",
      "for i, o in enumerate(patient_combined_dead_nan):\n",
      "    np.savetxt('patient_dead_nan/' + str(i) + '.csv', o, delimiter=',')"
     ]
    },
    {
     "cell_type": "markdown",
     "metadata": {},
     "source": [
      "### Split into living and dead sets separately"
     ]
    },
    {
     "cell_type": "markdown",
     "metadata": {},
     "source": [
      "num_pos = 0\n",
      "for i in df_labels.ix[:, 'ID']:\n",
      "    num_pos = num_pos + df_vitals.ID[df_vitals.ID == i].count() * df_labels.LABEL[i-1]\n",
      "print num_pos"
     ]
    },
    {
     "cell_type": "code",
     "collapsed": false,
     "input": [
      "df_vitals_dead = df_vitals[df_vitals.label == 1]\n",
      "df_vitals_living = df_vitals[df_vitals.label == 0]"
     ],
     "language": "python",
     "metadata": {},
     "outputs": [],
     "prompt_number": 9
    },
    {
     "cell_type": "code",
     "collapsed": false,
     "input": [
      "df_labs_dead = df_labs[df_labs.label == 1]\n",
      "df_labs_living = df_labs[df_labs.label == 0]"
     ],
     "language": "python",
     "metadata": {},
     "outputs": [],
     "prompt_number": 10
    },
    {
     "cell_type": "markdown",
     "metadata": {},
     "source": [
      "# Exploratory analysis\n",
      "\n",
      "## Export histograms of all labs and vitals"
     ]
    },
    {
     "cell_type": "markdown",
     "metadata": {},
     "source": [
      "for i in xrange(1, 6):\n",
      "    col = 'V' + str(i)\n",
      "    plt = figure(figsize=(30, 30));\n",
      "    title('Hello there')\n",
      "    v_dead = np.array(df_vitals_dead.ix[df_vitals_dead[col].notnull(), col])\n",
      "\n",
      "    subplot(3, 1, 1)\n",
      "    hist(v_dead, bins=100);\n",
      "    title('Dead - Vital ' + col)\n",
      "\n",
      "    subplot(3, 1, 2)\n",
      "    hist(np.array(df_vitals.ix[df_vitals[col].notnull(), col]) , bins=100);\n",
      "    title('Everyone - Vital ' + col)\n",
      "\n",
      "    subplot(3, 1, 3)\n",
      "    v_living = np.array(df_vitals_living.ix[df_vitals_living[col].notnull(), col])\n",
      "    hist(v_living, bins=100);\n",
      "    title('Living - Vital ' + col)\n",
      "\n",
      "    plt.savefig('plots/' + col+'.png')"
     ]
    },
    {
     "cell_type": "markdown",
     "metadata": {},
     "source": [
      "for i in xrange(13, 14):\n",
      "    col = 'L' + str(i)\n",
      "    plt = figure(figsize=(30, 30));\n",
      "    title('Hello there')\n",
      "    v_dead = np.array(df_labs_dead.ix[df_labs_dead[col].notnull(), col])\n",
      "\n",
      "    subplot(3, 1, 1)\n",
      "    hist(v_dead, bins=100);\n",
      "    title('Dead - Lab ' + col)\n",
      "\n",
      "    subplot(3, 1, 2)\n",
      "    hist(np.array(df_labs.ix[df_labs[col].notnull(), col]) , bins=100);\n",
      "    title('Everyone - Lab ' + col)\n",
      "\n",
      "    subplot(3, 1, 3)\n",
      "    v_living = np.array(df_labs_living.ix[df_labs_living[col].notnull(), col])\n",
      "    hist(v_living, bins=100);\n",
      "    title('Living - Lab ' + col)\n",
      "\n",
      "    plt.savefig('plots/' + col+'.png')"
     ]
    },
    {
     "cell_type": "markdown",
     "metadata": {},
     "source": [
      "### NEED TO REMOVE OUTLIER VALUES!\n",
      "- there are outlier values in many of the labs which are waaay out there.. remove\n",
      "\n",
      "- L13 does not have any dead patient data!"
     ]
    },
    {
     "cell_type": "markdown",
     "metadata": {},
     "source": [
      "### Plot qunatiles of length of patient timestamps\n",
      "\n",
      "k = 100\n",
      "scatter(xrange(1, N_PATIENTS + 1 - k), lens[:-k])"
     ]
    },
    {
     "cell_type": "markdown",
     "metadata": {},
     "source": [
      "### Windows!"
     ]
    },
    {
     "cell_type": "markdown",
     "metadata": {},
     "source": [
      "df_combined_mean = df_labs_mean.join(df_vitals_mean.drop(['ID', 'TIME', 'label'], axis=1))\n",
      "df_combined_mean.columns\n",
      "df_combined_mean_vals = df_combined_mean.drop(['ID', 'TIME', 'label', 'ICU'], axis=1)"
     ]
    },
    {
     "cell_type": "markdown",
     "metadata": {},
     "source": [
      "- We want to get windows of each patient separately"
     ]
    },
    {
     "cell_type": "markdown",
     "metadata": {},
     "source": [
      "### We will loose the smaller time series dependign on the window size\n",
      "- liviing - 44 values < 50\n",
      "- dead - 4 values < 50\n",
      "\n",
      "- 525046 windows - living\n",
      "- 71186 windows - dead \n",
      "\n",
      "### The stats are structured as:\n",
      "- Divided into living and dead\n",
      "- PATIENT WISE\n",
      "- Each row has 31 * {Mean, var, min, max} entries\n",
      "- Each row corresponds to one window in some patient (living / dead)"
     ]
    },
    {
     "cell_type": "code",
     "collapsed": false,
     "input": [
      "window_size = 10\n",
      "stride = 1"
     ],
     "language": "python",
     "metadata": {},
     "outputs": [],
     "prompt_number": 11
    },
    {
     "cell_type": "code",
     "collapsed": false,
     "input": [
      "patient_combined_dead = patient_combined_dead_mean\n",
      "patient_combined_living = patient_combined_living_mean"
     ],
     "language": "python",
     "metadata": {},
     "outputs": [],
     "prompt_number": 12
    },
    {
     "cell_type": "code",
     "collapsed": true,
     "input": [
      "ts_lens_dead = [x.shape[0] for x in patient_combined_dead]\n",
      "ts_lens_living = [x.shape[0] for x in patient_combined_living]"
     ],
     "language": "python",
     "metadata": {},
     "outputs": [],
     "prompt_number": 13
    },
    {
     "cell_type": "code",
     "collapsed": false,
     "input": [
      "n_features = 31\n",
      "n_stats = 4\n",
      "n_dead = len(patient_combined_dead)\n",
      "n_living = len(patient_combined_living)"
     ],
     "language": "python",
     "metadata": {},
     "outputs": [],
     "prompt_number": 14
    },
    {
     "cell_type": "code",
     "collapsed": false,
     "input": [
      "data = patient_combined_dead\n",
      "window_stats = []\n",
      "\n",
      "for i in xrange(len(data)):\n",
      "    ts = data[i]\n",
      "    n_windows = ts.shape[0] - window_size + 1 # NO STRIDE!!\n",
      "    \n",
      "    if(n_windows <= 0):\n",
      "        window_stats.append(None)    # We want to keep 1-1 mapping with patients..\n",
      "        continue\n",
      "    \n",
      "    l = np.zeros((n_windows, n_stats * n_features))\n",
      "    \n",
      "    for j in xrange(0, n_windows, stride):   # NO STRIDE!\n",
      "        window = ts[j : window_size+j, :] \n",
      "        l[j, :n_features] = np.nanmean(window, axis=0)\n",
      "        l[j, n_features:2*n_features] = np.nanvar(window, axis=0)\n",
      "        l[j, 2*n_features:3*n_features] = np.nanmin(window, axis=0)\n",
      "        l[j, 3*n_features:4*n_features] = np.nanmax(window, axis=0)\n",
      "    \n",
      "    window_stats.append(l)\n",
      "\n",
      "# SET teh global variable\n",
      "window_stats_patient_dead = window_stats"
     ],
     "language": "python",
     "metadata": {},
     "outputs": [],
     "prompt_number": 18
    },
    {
     "cell_type": "code",
     "collapsed": false,
     "input": [
      "# Create a list of columns\n",
      "cols = []\n",
      "for sname in ['mean', 'var', 'min', 'max']:\n",
      "    for i in xrange(1, 6+1):\n",
      "        cols.append(sname + '_v' + str(i))\n",
      "    for i in xrange(1, 25+1):\n",
      "        cols.append(sname + '_l' + str(i))"
     ],
     "language": "python",
     "metadata": {},
     "outputs": [],
     "prompt_number": 19
    },
    {
     "cell_type": "code",
     "collapsed": false,
     "input": [
      "# No. of patients with NO WINDOW\n",
      "print sum([window_stats_patient_dead[i] == None for i in xrange(n_dead)])\n",
      "print sum([window_stats_patient_living[i] == None for i in xrange(n_living)])"
     ],
     "language": "python",
     "metadata": {},
     "outputs": [
      {
       "output_type": "stream",
       "stream": "stdout",
       "text": [
        "5\n",
        "43\n"
       ]
      },
      {
       "output_type": "stream",
       "stream": "stderr",
       "text": [
        "-c:2: FutureWarning: comparison to `None` will result in an elementwise object comparison in the future.\n",
        "-c:3: FutureWarning: comparison to `None` will result in an elementwise object comparison in the future.\n"
       ]
      }
     ],
     "prompt_number": 20
    },
    {
     "cell_type": "code",
     "collapsed": false,
     "input": [
      "print len(window_stats_patient_dead)\n",
      "print len(window_stats_patient_living)"
     ],
     "language": "python",
     "metadata": {},
     "outputs": [
      {
       "output_type": "stream",
       "stream": "stdout",
       "text": [
        "245\n",
        "3349\n"
       ]
      }
     ],
     "prompt_number": 66
    },
    {
     "cell_type": "code",
     "collapsed": false,
     "input": [
      "l = [x.shape[0] for x in window_stats_patient_dead if x is not None]\n",
      "print sum(l), l[0]"
     ],
     "language": "python",
     "metadata": {},
     "outputs": [
      {
       "output_type": "stream",
       "stream": "stdout",
       "text": [
        "71186 34\n"
       ]
      }
     ],
     "prompt_number": 21
    },
    {
     "cell_type": "markdown",
     "metadata": {},
     "source": [
      "### Stack the living and dead stats"
     ]
    },
    {
     "cell_type": "code",
     "collapsed": false,
     "input": [
      "window_stats_patient_dead[2].shape"
     ],
     "language": "python",
     "metadata": {},
     "outputs": [
      {
       "metadata": {},
       "output_type": "pyout",
       "prompt_number": 22,
       "text": [
        "(40, 124)"
       ]
      }
     ],
     "prompt_number": 22
    },
    {
     "cell_type": "code",
     "collapsed": false,
     "input": [
      "window_stats = [x for x in window_stats_patient_dead if x is not None]\n",
      "window_stats_dead = np.vstack(window_stats)"
     ],
     "language": "python",
     "metadata": {},
     "outputs": [],
     "prompt_number": 23
    },
    {
     "cell_type": "code",
     "collapsed": false,
     "input": [
      "window_stats = [x for x in window_stats_patient_living if x is not None]\n",
      "window_stats_living = np.vstack(window_stats)"
     ],
     "language": "python",
     "metadata": {},
     "outputs": [],
     "prompt_number": 24
    },
    {
     "cell_type": "code",
     "collapsed": false,
     "input": [
      "window_stats_living.shape"
     ],
     "language": "python",
     "metadata": {},
     "outputs": [
      {
       "metadata": {},
       "output_type": "pyout",
       "prompt_number": 25,
       "text": [
        "(525046, 124)"
       ]
      }
     ],
     "prompt_number": 25
    },
    {
     "cell_type": "markdown",
     "metadata": {},
     "source": [
      "### Save csv\n",
      "np.savetxt('windows/window_stats_dead_mean.csv', window_stats_dead, delimiter=',')"
     ]
    },
    {
     "cell_type": "markdown",
     "metadata": {},
     "source": [
      "# RANDOM FOREST"
     ]
    },
    {
     "cell_type": "code",
     "collapsed": true,
     "input": [
      "from sklearn.ensemble import *"
     ],
     "language": "python",
     "metadata": {},
     "outputs": [],
     "prompt_number": 4
    },
    {
     "cell_type": "code",
     "collapsed": false,
     "input": [
      "window_stats_dead = np.loadtxt('/root/code/xerox/windows/window_stats_dead_mean.csv', delimiter=',')"
     ],
     "language": "python",
     "metadata": {},
     "outputs": [],
     "prompt_number": 6
    },
    {
     "cell_type": "code",
     "collapsed": false,
     "input": [
      "window_stats_living = np.loadtxt('/root/code/xerox/windows/window_stats_living_mean.csv', delimiter=',')"
     ],
     "language": "python",
     "metadata": {},
     "outputs": [],
     "prompt_number": 7
    },
    {
     "cell_type": "code",
     "collapsed": false,
     "input": [
      "data = np.vstack((window_stats_dead, window_stats_living))\n",
      "labels = np.vstack((np.ones((window_stats_dead.shape[0], 1)),\n",
      "                    np.zeros((window_stats_living.shape[0], 1))\n",
      "                    ))"
     ],
     "language": "python",
     "metadata": {},
     "outputs": [],
     "prompt_number": 8
    },
    {
     "cell_type": "code",
     "collapsed": false,
     "input": [
      "del window_stats_living"
     ],
     "language": "python",
     "metadata": {},
     "outputs": [],
     "prompt_number": 11
    },
    {
     "cell_type": "code",
     "collapsed": false,
     "input": [
      "ind = np.arange(0, labels.shape[0])\n",
      "shuffle(ind)"
     ],
     "language": "python",
     "metadata": {},
     "outputs": [],
     "prompt_number": 27
    },
    {
     "cell_type": "code",
     "collapsed": false,
     "input": [
      "N = len(ind)\n",
      "split = 0.6"
     ],
     "language": "python",
     "metadata": {},
     "outputs": [],
     "prompt_number": 28
    },
    {
     "cell_type": "code",
     "collapsed": false,
     "input": [
      "data.shape"
     ],
     "language": "python",
     "metadata": {},
     "outputs": [
      {
       "metadata": {},
       "output_type": "pyout",
       "prompt_number": 56,
       "text": [
        "(596232, 124)"
       ]
      }
     ],
     "prompt_number": 56
    },
    {
     "cell_type": "code",
     "collapsed": false,
     "input": [
      "len(labels)"
     ],
     "language": "python",
     "metadata": {},
     "outputs": [
      {
       "metadata": {},
       "output_type": "pyout",
       "prompt_number": 30,
       "text": [
        "596232"
       ]
      }
     ],
     "prompt_number": 30
    },
    {
     "cell_type": "code",
     "collapsed": false,
     "input": [
      "data_train = data[ind[:split*N], :]\n",
      "data_valid = data[ind[split*N:], :]"
     ],
     "language": "python",
     "metadata": {},
     "outputs": [],
     "prompt_number": 31
    },
    {
     "cell_type": "code",
     "collapsed": false,
     "input": [
      "labels_train = labels[ind[:split*N]]\n",
      "labels_valid = labels[ind[split*N:]]"
     ],
     "language": "python",
     "metadata": {},
     "outputs": [],
     "prompt_number": 32
    },
    {
     "cell_type": "code",
     "collapsed": false,
     "input": [
      "len(labels_train) + len(labels_valid)"
     ],
     "language": "python",
     "metadata": {},
     "outputs": [
      {
       "metadata": {},
       "output_type": "pyout",
       "prompt_number": 33,
       "text": [
        "596232"
       ]
      }
     ],
     "prompt_number": 33
    },
    {
     "cell_type": "code",
     "collapsed": false,
     "input": [
      "data_train.shape[0] + data_valid.shape[0]"
     ],
     "language": "python",
     "metadata": {},
     "outputs": [
      {
       "metadata": {},
       "output_type": "pyout",
       "prompt_number": 34,
       "text": [
        "596232"
       ]
      }
     ],
     "prompt_number": 34
    },
    {
     "cell_type": "code",
     "collapsed": false,
     "input": [
      "f = RandomForestClassifier(n_estimators=100, n_jobs=-1, oob_score=True)"
     ],
     "language": "python",
     "metadata": {},
     "outputs": [],
     "prompt_number": 35
    },
    {
     "cell_type": "code",
     "collapsed": false,
     "input": [
      "f.fit(data_train, labels_train[:, 0])"
     ],
     "language": "python",
     "metadata": {},
     "outputs": [
      {
       "metadata": {},
       "output_type": "pyout",
       "prompt_number": 36,
       "text": [
        "RandomForestClassifier(bootstrap=True, class_weight=None, criterion='gini',\n",
        "            max_depth=None, max_features='auto', max_leaf_nodes=None,\n",
        "            min_samples_leaf=1, min_samples_split=2,\n",
        "            min_weight_fraction_leaf=0.0, n_estimators=100, n_jobs=-1,\n",
        "            oob_score=True, random_state=None, verbose=0, warm_start=False)"
       ]
      }
     ],
     "prompt_number": 36
    },
    {
     "cell_type": "code",
     "collapsed": false,
     "input": [
      "from sklearn import metrics"
     ],
     "language": "python",
     "metadata": {},
     "outputs": [],
     "prompt_number": 40
    },
    {
     "cell_type": "code",
     "collapsed": false,
     "input": [
      "f.oob_score_"
     ],
     "language": "python",
     "metadata": {},
     "outputs": [
      {
       "metadata": {},
       "output_type": "pyout",
       "prompt_number": 37,
       "text": [
        "0.97448978165645905"
       ]
      }
     ],
     "prompt_number": 37
    },
    {
     "cell_type": "code",
     "collapsed": false,
     "input": [
      "y_predicted = f.predict(data_valid)"
     ],
     "language": "python",
     "metadata": {},
     "outputs": [],
     "prompt_number": 41
    },
    {
     "cell_type": "code",
     "collapsed": false,
     "input": [
      "f.score(data_valid, labels_valid)"
     ],
     "language": "python",
     "metadata": {},
     "outputs": [
      {
       "metadata": {},
       "output_type": "pyout",
       "prompt_number": 57,
       "text": [
        "0.97531164436692064"
       ]
      }
     ],
     "prompt_number": 57
    },
    {
     "cell_type": "code",
     "collapsed": false,
     "input": [
      "metrics.confusion_matrix(labels_valid, y_predicted)"
     ],
     "language": "python",
     "metadata": {},
     "outputs": [
      {
       "metadata": {},
       "output_type": "pyout",
       "prompt_number": 55,
       "text": [
        "array([[209965,     78],\n",
        "       [  5810,  22640]])"
       ]
      }
     ],
     "prompt_number": 55
    },
    {
     "cell_type": "markdown",
     "metadata": {},
     "source": [
      "## RF reports :P\n",
      "- Works well (a little too well) in classifying the outputs\n",
      "\n",
      "## TODO\n",
      "- impute missing values with -1 for RF\n",
      "- get patient wise data, split into 2 sets\n",
      "- generate matrices using 1, and train RF\n",
      "- use the rf to classify the windows of the other time series\n",
      "- \n",
      "- Use the classification of the RF on the windows as some feature for an hmm, or other classifier?\n",
      "    - The idea is that we want the model to get surer that it has seen some consistent 1 windows before it starts throwing out 1s.\n",
      "- Age, ICU!"
     ]
    },
    {
     "cell_type": "markdown",
     "metadata": {},
     "source": [
      "### Save csv\n",
      "np.savetxt('windows/window_stats_living.csv', window_stats_living, delimiter=',')"
     ]
    },
    {
     "cell_type": "markdown",
     "metadata": {},
     "source": [
      "### Populate the df!\n",
      "\n",
      "n_windows_dead = np.array(ts_lens_dead) - window_size + 1\n",
      "n_windows_dead = sum(n_windows_dead[n_windows_dead > 0])\n",
      "n_windows_living = np.array(ts_lens_living) - window_size + 1\n",
      "n_windows_living = sum(n_windows_living[n_windows_living > 0])\n",
      "#### Create dataframes for the stats\n",
      "df_window_stats_living = pd.DataFrame(index=np.arange(0, n_windows_living), columns=cols)\n",
      "df_window_stats_dead = pd.DataFrame(index=np.arange(0, n_windows_dead), columns=cols)\n",
      "#### Populate the dataframe\n",
      "k = 0\n",
      "for x in window_stats_patient_dead:\n",
      "    if x is None:\n",
      "        continue\n",
      "    df_window_stats_dead.loc[k : k+x.shape[0]-1] = x\n",
      "    k = k+x.shape[0]\n",
      "df_window_stats_dead"
     ]
    }
   ],
   "metadata": {}
  }
 ]
}