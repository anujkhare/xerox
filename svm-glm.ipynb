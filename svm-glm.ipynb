{
 "metadata": {
  "name": "",
  "signature": "sha256:0c016bd632250b7fc6b74a4f3bcd9cc087464bcd95f18a5b9876cbccac3cde78"
 },
 "nbformat": 3,
 "nbformat_minor": 0,
 "worksheets": [
  {
   "cells": [
    {
     "cell_type": "code",
     "collapsed": false,
     "input": [
      "%reset"
     ],
     "language": "python",
     "metadata": {},
     "outputs": [
      {
       "name": "stdout",
       "output_type": "stream",
       "stream": "stdout",
       "text": [
        "Once deleted, variables cannot be recovered. Proceed (y/[n])? y\n"
       ]
      }
     ],
     "prompt_number": 837
    },
    {
     "cell_type": "code",
     "collapsed": false,
     "input": [
      "col_labs =[\n",
      "\"Systolic Blood Pressure in mmHg\",\n",
      "\"Diastolic Blood Pressure in mmHg\", \n",
      "\"Heart Rate in bpm\", \n",
      "\"Respiration Rate in bpm\",\n",
      "\"Oxygen Saturation in %\",\n",
      "\"Temperature in Celsius\",\n",
      "\"Arterial blood PH in ph\",\n",
      "\"Partial Pressure of Carbon dioxide (PaCO2) in mmHg\",\n",
      "\"Partial Pressure of Oxygen (PaO2) in mmHg\",\n",
      "\"Sodium in mmol/L\",\n",
      "\"Potassium in mmol/L\",\n",
      "\"Bicarbonate in mmol/L\",\n",
      "\"Blood Urea Nitrogen in mg/dL\",\n",
      "\"Serum Creatinine in mg/dL\",\n",
      "\"WBC Count in x 103/\u00b5L\",\n",
      "\"Hematocrit %\",\n",
      "\"Platelet Count in x 103/\u00b5L\",\n",
      "\"Bilirubin in mg/dL\",\n",
      "\"Urine Output in ml\",\n",
      "\"LDL Cholesterol in mg/dL\",\n",
      "\"Lactic Acid in mmol/L\",\n",
      "\"Troponin I in ng/ml\",\n",
      "\"Troponin T in ng/ml\",\n",
      "\"Random Blood Glucose in mg/dL\",\n",
      "\"Fasting Blood Glucose in mg/dL\",\n",
      "\"Fraction of Inspired Oxygen (FiO2) in %\",\n",
      "\"Albumin in g/dl\",\n",
      "\"Alkaline Phosphatase in IU/L\",\n",
      "\"Alanine in IU/L\",\n",
      "\"HDL Cholesterol in mg/dL\",\n",
      "\"Magnesium in mg/dL\"]"
     ],
     "language": "python",
     "metadata": {},
     "outputs": [],
     "prompt_number": 908
    },
    {
     "cell_type": "code",
     "collapsed": false,
     "input": [
      "import pysal\n",
      "from pysal import *\n",
      "from sklearn.ensemble import RandomForestClassifier\n",
      "from sklearn import svm\n",
      "from sklearn.metrics import confusion_matrix\n",
      "from math import *\n",
      "from scipy.stats import *\n",
      "import re\n",
      "import pandas\n",
      "import numpy as np\n",
      "import pandas as pd\n",
      "from pandas import Series, DataFrame\n",
      "import matplotlib.pyplot as plt\n",
      "from scipy.stats import norm\n",
      "from sklearn.linear_model import *"
     ],
     "language": "python",
     "metadata": {},
     "outputs": [],
     "prompt_number": 847
    },
    {
     "cell_type": "code",
     "collapsed": false,
     "input": [
      "np.set_printoptions(precision=5, suppress=True)"
     ],
     "language": "python",
     "metadata": {},
     "outputs": [],
     "prompt_number": 916
    },
    {
     "cell_type": "code",
     "collapsed": false,
     "input": [
      "df_age = pd.read_csv('data_train/id_age_train.csv')\n",
      "df_labels = pd.read_csv('data_train/id_label_train.csv')\n",
      "df_vitals = pd.read_csv('data_train/id_time_vitals_train.csv')\n",
      "df_labs = pd.read_csv('data_train/id_time_labs_train.csv')"
     ],
     "language": "python",
     "metadata": {},
     "outputs": [],
     "prompt_number": 841
    },
    {
     "cell_type": "markdown",
     "metadata": {},
     "source": [
      "### Normalize following the procedure in the paper\n",
      "\n",
      "#### Find the xL, xU, w1, w2, w3 vars"
     ]
    },
    {
     "cell_type": "code",
     "collapsed": false,
     "input": [
      "df_combined = df_vitals.drop('ICU', axis=1).copy()"
     ],
     "language": "python",
     "metadata": {},
     "outputs": [],
     "prompt_number": 842
    },
    {
     "cell_type": "code",
     "collapsed": false,
     "input": [
      "df_combined = df_combined.join(df_labs.drop(['ID', 'TIME'], axis=1))\n",
      "df_combined.drop(['ID', 'TIME'], axis=1, inplace=True)"
     ],
     "language": "python",
     "metadata": {},
     "outputs": [],
     "prompt_number": 843
    },
    {
     "cell_type": "code",
     "collapsed": false,
     "input": [
      "n_features = 31"
     ],
     "language": "python",
     "metadata": {},
     "outputs": [],
     "prompt_number": 844
    },
    {
     "cell_type": "markdown",
     "metadata": {},
     "source": [
      "### Process the entire data using this process"
     ]
    },
    {
     "cell_type": "code",
     "collapsed": false,
     "input": [
      "# transform one element given range and W\n",
      "def norm_transform(x, x_range, W):\n",
      "    if(x<x_range[0]):\n",
      "        x=x_range[0]\n",
      "    if(x>x_range[1]):\n",
      "        x=x_range[1]\n",
      "        \n",
      "    return np.dot(W,\n",
      "                  [1, x, log(1+x)])"
     ],
     "language": "python",
     "metadata": {},
     "outputs": [],
     "prompt_number": 849
    },
    {
     "cell_type": "code",
     "collapsed": false,
     "input": [
      "x_range = np.zeros((n_features, 2))\n",
      "W = np.zeros((n_features, 3))\n",
      "for i in xrange(n_features):\n",
      "#for i in xrange(1):\n",
      "    vals = df_combined.ix[df_combined.ix[:, i].notnull(), i]\n",
      "    vals = np.sort(vals)\n",
      "\n",
      "    # find the quantiles\n",
      "    N = vals.shape[0]\n",
      "    q = np.array([(j-0.5)/N for j in xrange(N)])\n",
      "    \n",
      "    i_l = np.min(np.arange(q.shape[0])[q>0.01])\n",
      "    i_u = np.max(np.arange(q.shape[0])[q<0.99])\n",
      "    \n",
      "    x_range[i, 0] = vals[i_l]\n",
      "    x_range[i, 1] = vals[i_u]\n",
      "\n",
      "    vals = vals[i_l: i_u+1]\n",
      "    q=norm.ppf(q[i_l: i_u+1]) / 3\n",
      "\n",
      "    X = np.ones((vals.shape[0], 3))\n",
      "    X[:, 1] = vals\n",
      "    X[:, 2] = np.log(1 + vals)\n",
      "\n",
      "    W[i, :] = np.dot(np.linalg.pinv(np.dot(X.T, X)),\n",
      "                     np.dot(X.T, q)\n",
      "                     )\n",
      "print x_range[0], W[0], norm_transform(100, x_range[0], W[0])"
     ],
     "language": "python",
     "metadata": {},
     "outputs": [
      {
       "output_type": "stream",
       "stream": "stdout",
       "text": [
        "[  77.  184.] [-9.50483 -0.00169  2.02252] -0.339251822373\n"
       ]
      }
     ],
     "prompt_number": 848
    },
    {
     "cell_type": "code",
     "collapsed": false,
     "input": [
      "df_norm = df_combined.copy()"
     ],
     "language": "python",
     "metadata": {},
     "outputs": [],
     "prompt_number": 850
    },
    {
     "cell_type": "code",
     "collapsed": false,
     "input": [
      "for i in xrange(n_features):\n",
      "    df_norm.ix[:, i] = df_norm.ix[:, i].apply(lambda x:norm_transform(x, x_range[i], W[i]))"
     ],
     "language": "python",
     "metadata": {},
     "outputs": [],
     "prompt_number": 851
    },
    {
     "cell_type": "code",
     "collapsed": false,
     "input": [
      "df_norm[df_norm.isnull()] = 0"
     ],
     "language": "python",
     "metadata": {},
     "outputs": [],
     "prompt_number": 852
    },
    {
     "cell_type": "code",
     "collapsed": false,
     "input": [
      "df_norm.describe()"
     ],
     "language": "python",
     "metadata": {},
     "outputs": [
      {
       "html": [
        "<div style=\"max-height:1000px;max-width:1500px;overflow:auto;\">\n",
        "<table border=\"1\" class=\"dataframe\">\n",
        "  <thead>\n",
        "    <tr style=\"text-align: right;\">\n",
        "      <th></th>\n",
        "      <th>V1</th>\n",
        "      <th>V2</th>\n",
        "      <th>V3</th>\n",
        "      <th>V4</th>\n",
        "      <th>V5</th>\n",
        "      <th>V6</th>\n",
        "      <th>L1</th>\n",
        "      <th>L2</th>\n",
        "      <th>L3</th>\n",
        "      <th>L4</th>\n",
        "      <th>...</th>\n",
        "      <th>L16</th>\n",
        "      <th>L17</th>\n",
        "      <th>L18</th>\n",
        "      <th>L19</th>\n",
        "      <th>L20</th>\n",
        "      <th>L21</th>\n",
        "      <th>L22</th>\n",
        "      <th>L23</th>\n",
        "      <th>L24</th>\n",
        "      <th>L25</th>\n",
        "    </tr>\n",
        "  </thead>\n",
        "  <tbody>\n",
        "    <tr>\n",
        "      <th>count</th>\n",
        "      <td> 628437.000000</td>\n",
        "      <td> 628437.000000</td>\n",
        "      <td> 628437.000000</td>\n",
        "      <td> 628437.000000</td>\n",
        "      <td> 628437.000000</td>\n",
        "      <td> 628437.000000</td>\n",
        "      <td> 628437.000000</td>\n",
        "      <td> 628437.000000</td>\n",
        "      <td> 628437.000000</td>\n",
        "      <td> 628437.000000</td>\n",
        "      <td>...</td>\n",
        "      <td> 628437.000000</td>\n",
        "      <td> 628437.000000</td>\n",
        "      <td> 628437.000000</td>\n",
        "      <td> 628437.000000</td>\n",
        "      <td> 628437.000000</td>\n",
        "      <td> 628437.000000</td>\n",
        "      <td> 628437.000000</td>\n",
        "      <td> 628437.000000</td>\n",
        "      <td> 628437.000000</td>\n",
        "      <td> 628437.000000</td>\n",
        "    </tr>\n",
        "    <tr>\n",
        "      <th>mean</th>\n",
        "      <td>     -0.000540</td>\n",
        "      <td>     -0.000349</td>\n",
        "      <td>      0.000140</td>\n",
        "      <td>      0.000180</td>\n",
        "      <td>     -0.002086</td>\n",
        "      <td>     -0.000361</td>\n",
        "      <td>      0.000037</td>\n",
        "      <td>     -0.000041</td>\n",
        "      <td>     -0.000036</td>\n",
        "      <td>     -0.000044</td>\n",
        "      <td>...</td>\n",
        "      <td>     -0.000005</td>\n",
        "      <td>     -0.000001</td>\n",
        "      <td>     -0.000319</td>\n",
        "      <td>     -0.000006</td>\n",
        "      <td>     -0.000033</td>\n",
        "      <td>     -0.000000</td>\n",
        "      <td>     -0.000027</td>\n",
        "      <td>     -0.000011</td>\n",
        "      <td>     -0.000003</td>\n",
        "      <td>     -0.000007</td>\n",
        "    </tr>\n",
        "    <tr>\n",
        "      <th>std</th>\n",
        "      <td>      0.268826</td>\n",
        "      <td>      0.269727</td>\n",
        "      <td>      0.278195</td>\n",
        "      <td>      0.271774</td>\n",
        "      <td>      0.258598</td>\n",
        "      <td>      0.168144</td>\n",
        "      <td>      0.045938</td>\n",
        "      <td>      0.047391</td>\n",
        "      <td>      0.046243</td>\n",
        "      <td>      0.077164</td>\n",
        "      <td>...</td>\n",
        "      <td>      0.025758</td>\n",
        "      <td>      0.003404</td>\n",
        "      <td>      0.135656</td>\n",
        "      <td>      0.015508</td>\n",
        "      <td>      0.030905</td>\n",
        "      <td>      0.047318</td>\n",
        "      <td>      0.042632</td>\n",
        "      <td>      0.031214</td>\n",
        "      <td>      0.009020</td>\n",
        "      <td>      0.054558</td>\n",
        "    </tr>\n",
        "    <tr>\n",
        "      <th>min</th>\n",
        "      <td>     -0.823122</td>\n",
        "      <td>     -0.832645</td>\n",
        "      <td>     -0.757585</td>\n",
        "      <td>     -0.814802</td>\n",
        "      <td>     -0.693755</td>\n",
        "      <td>     -1.039356</td>\n",
        "      <td>     -0.699635</td>\n",
        "      <td>     -0.986676</td>\n",
        "      <td>     -0.803858</td>\n",
        "      <td>     -1.063083</td>\n",
        "      <td>...</td>\n",
        "      <td>     -0.378839</td>\n",
        "      <td>     -0.219519</td>\n",
        "      <td>     -0.926135</td>\n",
        "      <td>     -0.722979</td>\n",
        "      <td>     -0.801997</td>\n",
        "      <td>     -0.758326</td>\n",
        "      <td>     -0.783260</td>\n",
        "      <td>     -0.800160</td>\n",
        "      <td>     -0.946023</td>\n",
        "      <td>     -0.888026</td>\n",
        "    </tr>\n",
        "    <tr>\n",
        "      <th>25%</th>\n",
        "      <td>     -0.116284</td>\n",
        "      <td>     -0.118107</td>\n",
        "      <td>     -0.134255</td>\n",
        "      <td>     -0.108787</td>\n",
        "      <td>     -0.136028</td>\n",
        "      <td>      0.000000</td>\n",
        "      <td>      0.000000</td>\n",
        "      <td>      0.000000</td>\n",
        "      <td>      0.000000</td>\n",
        "      <td>      0.000000</td>\n",
        "      <td>...</td>\n",
        "      <td>      0.000000</td>\n",
        "      <td>      0.000000</td>\n",
        "      <td>      0.000000</td>\n",
        "      <td>      0.000000</td>\n",
        "      <td>      0.000000</td>\n",
        "      <td>      0.000000</td>\n",
        "      <td>      0.000000</td>\n",
        "      <td>      0.000000</td>\n",
        "      <td>      0.000000</td>\n",
        "      <td>      0.000000</td>\n",
        "    </tr>\n",
        "    <tr>\n",
        "      <th>50%</th>\n",
        "      <td>      0.000000</td>\n",
        "      <td>      0.000000</td>\n",
        "      <td>      0.000000</td>\n",
        "      <td>      0.000000</td>\n",
        "      <td>      0.000000</td>\n",
        "      <td>      0.000000</td>\n",
        "      <td>      0.000000</td>\n",
        "      <td>      0.000000</td>\n",
        "      <td>      0.000000</td>\n",
        "      <td>      0.000000</td>\n",
        "      <td>...</td>\n",
        "      <td>      0.000000</td>\n",
        "      <td>      0.000000</td>\n",
        "      <td>      0.000000</td>\n",
        "      <td>      0.000000</td>\n",
        "      <td>      0.000000</td>\n",
        "      <td>      0.000000</td>\n",
        "      <td>      0.000000</td>\n",
        "      <td>      0.000000</td>\n",
        "      <td>      0.000000</td>\n",
        "      <td>      0.000000</td>\n",
        "    </tr>\n",
        "    <tr>\n",
        "      <th>75%</th>\n",
        "      <td>      0.108441</td>\n",
        "      <td>      0.108223</td>\n",
        "      <td>      0.135997</td>\n",
        "      <td>      0.079623</td>\n",
        "      <td>      0.108470</td>\n",
        "      <td>      0.000000</td>\n",
        "      <td>      0.000000</td>\n",
        "      <td>      0.000000</td>\n",
        "      <td>      0.000000</td>\n",
        "      <td>      0.000000</td>\n",
        "      <td>...</td>\n",
        "      <td>      0.000000</td>\n",
        "      <td>      0.000000</td>\n",
        "      <td>      0.000000</td>\n",
        "      <td>      0.000000</td>\n",
        "      <td>      0.000000</td>\n",
        "      <td>      0.000000</td>\n",
        "      <td>      0.000000</td>\n",
        "      <td>      0.000000</td>\n",
        "      <td>      0.000000</td>\n",
        "      <td>      0.000000</td>\n",
        "    </tr>\n",
        "    <tr>\n",
        "      <th>max</th>\n",
        "      <td>      0.743244</td>\n",
        "      <td>      0.781180</td>\n",
        "      <td>      0.777265</td>\n",
        "      <td>      0.841406</td>\n",
        "      <td>      0.393024</td>\n",
        "      <td>      0.896911</td>\n",
        "      <td>      0.847445</td>\n",
        "      <td>      0.800909</td>\n",
        "      <td>      0.636214</td>\n",
        "      <td>      0.984638</td>\n",
        "      <td>...</td>\n",
        "      <td>      0.723557</td>\n",
        "      <td>      0.758355</td>\n",
        "      <td>      0.738847</td>\n",
        "      <td>      0.642935</td>\n",
        "      <td>      0.495006</td>\n",
        "      <td>      0.767727</td>\n",
        "      <td>      0.659725</td>\n",
        "      <td>      0.731318</td>\n",
        "      <td>      0.895594</td>\n",
        "      <td>      0.872130</td>\n",
        "    </tr>\n",
        "  </tbody>\n",
        "</table>\n",
        "<p>8 rows \u00d7 31 columns</p>\n",
        "</div>"
       ],
       "metadata": {},
       "output_type": "pyout",
       "prompt_number": 853,
       "text": [
        "                  V1             V2             V3             V4  \\\n",
        "count  628437.000000  628437.000000  628437.000000  628437.000000   \n",
        "mean       -0.000540      -0.000349       0.000140       0.000180   \n",
        "std         0.268826       0.269727       0.278195       0.271774   \n",
        "min        -0.823122      -0.832645      -0.757585      -0.814802   \n",
        "25%        -0.116284      -0.118107      -0.134255      -0.108787   \n",
        "50%         0.000000       0.000000       0.000000       0.000000   \n",
        "75%         0.108441       0.108223       0.135997       0.079623   \n",
        "max         0.743244       0.781180       0.777265       0.841406   \n",
        "\n",
        "                  V5             V6             L1             L2  \\\n",
        "count  628437.000000  628437.000000  628437.000000  628437.000000   \n",
        "mean       -0.002086      -0.000361       0.000037      -0.000041   \n",
        "std         0.258598       0.168144       0.045938       0.047391   \n",
        "min        -0.693755      -1.039356      -0.699635      -0.986676   \n",
        "25%        -0.136028       0.000000       0.000000       0.000000   \n",
        "50%         0.000000       0.000000       0.000000       0.000000   \n",
        "75%         0.108470       0.000000       0.000000       0.000000   \n",
        "max         0.393024       0.896911       0.847445       0.800909   \n",
        "\n",
        "                  L3             L4      ...                  L16  \\\n",
        "count  628437.000000  628437.000000      ...        628437.000000   \n",
        "mean       -0.000036      -0.000044      ...            -0.000005   \n",
        "std         0.046243       0.077164      ...             0.025758   \n",
        "min        -0.803858      -1.063083      ...            -0.378839   \n",
        "25%         0.000000       0.000000      ...             0.000000   \n",
        "50%         0.000000       0.000000      ...             0.000000   \n",
        "75%         0.000000       0.000000      ...             0.000000   \n",
        "max         0.636214       0.984638      ...             0.723557   \n",
        "\n",
        "                 L17            L18            L19            L20  \\\n",
        "count  628437.000000  628437.000000  628437.000000  628437.000000   \n",
        "mean       -0.000001      -0.000319      -0.000006      -0.000033   \n",
        "std         0.003404       0.135656       0.015508       0.030905   \n",
        "min        -0.219519      -0.926135      -0.722979      -0.801997   \n",
        "25%         0.000000       0.000000       0.000000       0.000000   \n",
        "50%         0.000000       0.000000       0.000000       0.000000   \n",
        "75%         0.000000       0.000000       0.000000       0.000000   \n",
        "max         0.758355       0.738847       0.642935       0.495006   \n",
        "\n",
        "                 L21            L22            L23            L24  \\\n",
        "count  628437.000000  628437.000000  628437.000000  628437.000000   \n",
        "mean       -0.000000      -0.000027      -0.000011      -0.000003   \n",
        "std         0.047318       0.042632       0.031214       0.009020   \n",
        "min        -0.758326      -0.783260      -0.800160      -0.946023   \n",
        "25%         0.000000       0.000000       0.000000       0.000000   \n",
        "50%         0.000000       0.000000       0.000000       0.000000   \n",
        "75%         0.000000       0.000000       0.000000       0.000000   \n",
        "max         0.767727       0.659725       0.731318       0.895594   \n",
        "\n",
        "                 L25  \n",
        "count  628437.000000  \n",
        "mean       -0.000007  \n",
        "std         0.054558  \n",
        "min        -0.888026  \n",
        "25%         0.000000  \n",
        "50%         0.000000  \n",
        "75%         0.000000  \n",
        "max         0.872130  \n",
        "\n",
        "[8 rows x 31 columns]"
       ]
      }
     ],
     "prompt_number": 853
    },
    {
     "cell_type": "code",
     "collapsed": false,
     "input": [
      "plt.hist(df_norm.V6.values, bins=50);"
     ],
     "language": "python",
     "metadata": {},
     "outputs": [],
     "prompt_number": 854
    },
    {
     "cell_type": "code",
     "collapsed": false,
     "input": [
      "df = df_norm\n",
      "\n",
      "patient_combined = [np.array(df.ix[df_vitals['ID'] == ID, :]) for ID in df_labels['ID'].unique()]\n",
      "\n",
      "# split into living and dead\n",
      "patient_combined_dead = [patient_combined[ID-1] for ID in df_labels['ID']\n",
      "                                                      if df_labels.ix[ID - 1, 'LABEL'] == 1]\n",
      "patient_combined_living = [patient_combined[ID-1] for ID in df_labels['ID']\n",
      "                                                      if df_labels.ix[ID - 1, 'LABEL'] == 0]"
     ],
     "language": "python",
     "metadata": {},
     "outputs": [],
     "prompt_number": 855
    },
    {
     "cell_type": "code",
     "collapsed": false,
     "input": [
      "age_combined = np.array(df_age.AGE)"
     ],
     "language": "python",
     "metadata": {},
     "outputs": [],
     "prompt_number": 856
    },
    {
     "cell_type": "code",
     "collapsed": false,
     "input": [
      "patient_combined_living[0].shape"
     ],
     "language": "python",
     "metadata": {},
     "outputs": [
      {
       "metadata": {},
       "output_type": "pyout",
       "prompt_number": 857,
       "text": [
        "(1956, 31)"
       ]
      }
     ],
     "prompt_number": 857
    },
    {
     "cell_type": "code",
     "collapsed": false,
     "input": [
      "def get_n_windows(ts, n_windows, stats):\n",
      "    n_features = ts.shape[1]\n",
      "    l = np.zeros((n_windows, len(stats) * n_features))\n",
      "    \n",
      "    n = int(ts.shape[0] / n_windows)\n",
      "    for j in xrange(0, n_windows):\n",
      "        if (j==n_windows-1):\n",
      "            window = ts[j*n :, :] \n",
      "        else:\n",
      "            window = ts[j*n : (j+1)*n, :] \n",
      "    \n",
      "        for k in xrange(len(stats)):\n",
      "            f = stats[k]\n",
      "            l[j, k*n_features:(k+1)*n_features] = f(window, axis=0)\n",
      "    return l"
     ],
     "language": "python",
     "metadata": {},
     "outputs": [],
     "prompt_number": 858
    },
    {
     "cell_type": "code",
     "collapsed": false,
     "input": [
      "def get_windows_data(data, n_windows, stats):\n",
      "    window_stats = []\n",
      "    for i in xrange(len(data)):\n",
      "        ts = data[i]\n",
      "\n",
      "        if(ts.shape[0] < n_windows):\n",
      "            #window_stats.append(None)    # We want to keep 1-1 mapping with patients..\n",
      "            n = int(np.ceil(1.0 * n_windows / ts.shape[0]))\n",
      "            t = np.zeros((ts.shape[0] * n, ts.shape[1]))\n",
      "            for i in xrange(ts.shape[0]):\n",
      "                for k in xrange(n):\n",
      "                    t[n*i + k, :] = ts[i, :]\n",
      "            \n",
      "            ts = t\n",
      "\n",
      "        l = get_n_windows(ts, n_windows, stats)\n",
      "        window_stats.append(l)\n",
      "        \n",
      "    return window_stats"
     ],
     "language": "python",
     "metadata": {},
     "outputs": [],
     "prompt_number": 859
    },
    {
     "cell_type": "code",
     "collapsed": false,
     "input": [
      "### Given list of patient time series, give a matrix with one row for each patient containing all windows\n",
      "def get_rows_data(data, n_windows, stats):\n",
      "    data_windows = np.zeros((len(data), n_windows*data[0].shape[1]*len(stats)))\n",
      "    for i in xrange(len(data)):\n",
      "        ts = data[i]\n",
      "\n",
      "        if(ts.shape[0] < n_windows):\n",
      "            #window_stats.append(None)    # We want to keep 1-1 mapping with patients..\n",
      "            n = int(np.ceil(1.0 * n_windows / ts.shape[0]))\n",
      "            t = np.zeros((ts.shape[0] * n, ts.shape[1]))\n",
      "            for i in xrange(ts.shape[0]):\n",
      "                for k in xrange(n):\n",
      "                    t[n*i + k, :] = ts[i, :]\n",
      "            \n",
      "            ts = t\n",
      "            continue\n",
      "\n",
      "        l = get_n_windows(ts, n_windows, stats)\n",
      "        data_windows[i, :] = np.hstack(l)\n",
      "        \n",
      "    return data_windows"
     ],
     "language": "python",
     "metadata": {},
     "outputs": [],
     "prompt_number": 860
    },
    {
     "cell_type": "markdown",
     "metadata": {},
     "source": [
      "## For ONLINE prediction"
     ]
    },
    {
     "cell_type": "code",
     "collapsed": false,
     "input": [
      "### Get windows starting with zero upto end for the time series 'ts'\n",
      "def get_online_windows(ts):\n",
      "    p_windows = np.array([ts[:i+1, :] for i in xrange(ts.shape[0])])\n",
      "    return p_windows"
     ],
     "language": "python",
     "metadata": {},
     "outputs": [],
     "prompt_number": 861
    },
    {
     "cell_type": "code",
     "collapsed": false,
     "input": [
      "### Get stats of a given ts for all possible windows starting with 1 element\n",
      "def get_all_window_stats(ts, n_windows, stats):\n",
      "    p_windows = get_online_windows(ts)\n",
      "    p_all_window_stats = get_rows_data(p_windows, n_windows, stats)\n",
      "    return p_all_window_stats"
     ],
     "language": "python",
     "metadata": {},
     "outputs": [],
     "prompt_number": 862
    },
    {
     "cell_type": "code",
     "collapsed": false,
     "input": [
      "### Given a LIST of patient time series, give back a list of matrices\n",
      "def get_list_all_window_stats(data, n_windows, stats):\n",
      "    all_window_stats = []\n",
      "    for d in data:\n",
      "        all_window_stats.append(get_all_window_stats(d, n_windows, stats))\n",
      "    \n",
      "    return all_window_stats"
     ],
     "language": "python",
     "metadata": {},
     "outputs": [],
     "prompt_number": 863
    },
    {
     "cell_type": "markdown",
     "metadata": {},
     "source": [
      "#### For testing online ones!\n",
      "ts = patients_valid[0:2]\n",
      "ts[1].shape\n",
      "p_windows = get_online_windows(ts[1])\n",
      "p_windows[10].shape\n",
      "p_stats = get_all_window_stats(ts[1], n_windows, stats)\n",
      "p_stats.shape\n",
      "p_all = get_list_all_window_stats(ts, n_windows, stats)\n",
      "p_all[1].shape"
     ]
    },
    {
     "cell_type": "code",
     "collapsed": false,
     "input": [
      "#### Confusion!\n",
      "def get_ss(confusion):\n",
      "    tn = confusion[0, 0]  # label=0, pred=0\n",
      "    fp = confusion[0, 1]  # label=0, pred=1\n",
      "    \n",
      "    fn = confusion[1, 0]  # label=1, pred=0\n",
      "    tp = confusion[1, 1]  # label=1, pred=1\n",
      "    \n",
      "    sens = (1.0*tp/(tp+fn))\n",
      "    spec = (1.0*tn/(tn+fp))\n",
      "    \n",
      "    #print confusion\n",
      "    #print\n",
      "    #prittp, fp, fn, tn, sens, spec\n",
      "    #print 'Sensitiviy: ', sens, '\\nSpecificity: ', spec\n",
      "    return sens, spec"
     ],
     "language": "python",
     "metadata": {},
     "outputs": [],
     "prompt_number": 864
    },
    {
     "cell_type": "markdown",
     "metadata": {},
     "source": [
      "# Split Data!"
     ]
    },
    {
     "cell_type": "code",
     "collapsed": false,
     "input": [
      "def split_train_valid_test(data_combined, labels_combined, age_combined, split=[0.6, 0.2]):\n",
      "    \n",
      "    ind = np.arange(0, len(labels_combined))\n",
      "    np.random.shuffle(ind)\n",
      "    \n",
      "    N = len(ind)\n",
      "    N_train = int(split[0] * N)\n",
      "    N_valid = int((split[1]+split[0]) * N)\n",
      "    \n",
      "    ind_train = ind[:N_train]\n",
      "    ind_valid = ind[N_train:N_valid]\n",
      "    ind_test = ind[N_valid:]\n",
      "    \n",
      "    data_combined = np.array(data_combined)\n",
      "    labels_combined = np.array(labels_combined)\n",
      "    age_combined = np.array(age_combined)\n",
      "    \n",
      "    data_train = data_combined[ind_train]\n",
      "    labels_train = labels_combined[ind_train]\n",
      "    age_train = age_combined[ind_train]\n",
      "    \n",
      "    age_valid = age_combined[ind_valid]\n",
      "    labels_valid = labels_combined[ind_valid]\n",
      "    data_valid = data_combined[ind_valid]\n",
      "\n",
      "    age_test = age_combined[ind_test]\n",
      "    labels_test = labels_combined[ind_test]\n",
      "    data_test = data_combined[ind_test]\n",
      "    \n",
      "    return [data_train, labels_train, data_valid, labels_valid, data_test, labels_test,\n",
      "            age_train, age_valid, age_test, ind_train, ind_valid, ind_test]"
     ],
     "language": "python",
     "metadata": {},
     "outputs": [],
     "prompt_number": 865
    },
    {
     "cell_type": "markdown",
     "metadata": {},
     "source": [
      "## Single forest on all the data\n",
      "forest = RandomForestClassifier(n_estimators=10000, max_depth=None, oob_score=False, n_jobs=-1)\n",
      "forest.fit(data_train, labels_train)\n",
      "get_ss(confusion_matrix(labels_valid, forest.predict(data_valid)))\n",
      "get_ss(confusion_matrix(labels_train, forest.predict(data_train)))"
     ]
    },
    {
     "cell_type": "markdown",
     "metadata": {},
     "source": [
      "### Separate dead and alive in train and validation sets"
     ]
    },
    {
     "cell_type": "code",
     "collapsed": false,
     "input": [
      "def separate_living_dead(data, labels, age):\n",
      "    data_living = data[labels == 0]\n",
      "    data_dead = data[labels == 1]\n",
      "    age_living = age[labels == 0]\n",
      "    age_dead = age[labels == 1]\n",
      "    \n",
      "    return [data_living, data_dead, age_living, age_dead]"
     ],
     "language": "python",
     "metadata": {},
     "outputs": [],
     "prompt_number": 866
    },
    {
     "cell_type": "markdown",
     "metadata": {},
     "source": [
      "### Find number of dead and alive patients in train and validation sets"
     ]
    },
    {
     "cell_type": "code",
     "collapsed": false,
     "input": [
      "def get_sizes(data_living, data_dead):\n",
      "    n_dead = data_dead.shape[0]\n",
      "    n_living = data_living.shape[0]\n",
      "    n_combined = n_dead + n_living\n",
      "    \n",
      "    return n_dead, n_living, n_combined"
     ],
     "language": "python",
     "metadata": {},
     "outputs": [],
     "prompt_number": 867
    },
    {
     "cell_type": "markdown",
     "metadata": {},
     "source": [
      "# GET DATA!"
     ]
    },
    {
     "cell_type": "code",
     "collapsed": false,
     "input": [
      "def get_data(patient_combined, labels_combined, age_combined, n_windows, stats, split):\n",
      "    ### Generate windowed data\n",
      "    data_windows_combined = get_rows_data(patient_combined, n_windows, stats)\n",
      "    #data_windows_combined = np.hstack((data_windows_combined, age_combined))\n",
      "\n",
      "    print data_windows_combined.shape\n",
      "    ### split into train and validation sets, living and dead\n",
      "    [data_train, labels_train, data_valid, labels_valid, data_test, labels_test,\n",
      "     age_train, age_valid, age_test, ind_train, ind_valid, ind_test] = split_train_valid_test(data_windows_combined,\n",
      "                                                                         labels_combined, age_combined, split=split)\n",
      "    \n",
      "    print data_train.shape\n",
      "    [data_train_living, data_train_dead, age_train_living, age_train_dead] = separate_living_dead(data_train, labels_train,\n",
      "                                                                                                  age_train)\n",
      "    [data_valid_living, data_valid_dead, age_valid_living, age_valid_dead] = separate_living_dead(data_valid, labels_valid,\n",
      "                                                                                                  age_valid)\n",
      "    [data_test_living, data_test_dead, age_test_living, age_test_dead] = separate_living_dead(data_test, labels_test,\n",
      "                                                                                                  age_test)\n",
      "    labels_train = labels_train.reshape((labels_train.shape[0], 1))\n",
      "    labels_valid = labels_valid.reshape((labels_valid.shape[0], 1))\n",
      "    labels_test = labels_test.reshape((labels_test.shape[0], 1))\n",
      "    \n",
      "    print data_train.shape\n",
      "    n_train_dead, n_train_living, n_train_combined = get_sizes(data_train_living, data_train_dead)\n",
      "    n_valid_dead, n_valid_living, n_valid_combined = get_sizes(data_valid_living, data_valid_dead)\n",
      "    n_test_dead, n_test_living, n_test_combined = get_sizes(data_test_living, data_test_dead)\n",
      "    \n",
      "    print 'Train:', n_train_dead, n_train_living, labels_train.shape[0]\n",
      "    print 'Valid:', n_valid_dead, n_valid_living, labels_valid.shape[0]\n",
      "    print 'Test:', n_test_dead, n_test_living, labels_test.shape[0]\n",
      "\n",
      "    ### Split into balacned sets!\n",
      "    n_train_splits = int (n_train_living / n_train_dead)\n",
      "    train_split = int (n_train_living / n_train_splits)\n",
      "    print 'Train Splits', n_train_splits, train_split, n_train_dead + n_train_splits * train_split, n_train_combined\n",
      "    print data_train.shape\n",
      "    print data_train[1].shape\n",
      "    \n",
      "    return [data_train, labels_train, data_valid, labels_valid, data_test, labels_test,data_train_living,\n",
      "            data_train_dead, data_valid_living, data_valid_dead, data_test_living,\n",
      "            data_test_dead, train_split, age_train_living, age_train_dead, age_valid_living, age_valid_dead,\n",
      "            age_test_living, age_test_dead, ind_train, ind_valid, ind_test, n_train_splits, train_split]"
     ],
     "language": "python",
     "metadata": {},
     "outputs": [],
     "prompt_number": 938
    },
    {
     "cell_type": "markdown",
     "metadata": {},
     "source": [
      "# Classify!"
     ]
    },
    {
     "cell_type": "markdown",
     "metadata": {},
     "source": [
      "## Train balanced models!"
     ]
    },
    {
     "cell_type": "code",
     "collapsed": false,
     "input": [
      "def train_balanced(models, data_living, data_dead):\n",
      "    C_train = []\n",
      "    #y_valid = np.zeros((n_valid_combined, n_train_splits))\n",
      "    for i in xrange(n_train_splits):\n",
      "        # NO RANDOM SHUFFLE NOW!\n",
      "        data_bal = np.vstack((data_living[i * train_split: (i+1) * train_split, :],\n",
      "                              data_dead[:, :]) )\n",
      "        \n",
      "        label_bal = np.vstack((np.zeros((train_split, 1)),\n",
      "                               np.ones((data_dead.shape[0], 1))))\n",
      "\n",
      "        #print \n",
      "        models[i].fit(data_bal, label_bal[:, 0])\n",
      "        C_train.append(confusion_matrix(label_bal[:,], models[i].predict(data_bal)))\n",
      "        \n",
      "    return C_train"
     ],
     "language": "python",
     "metadata": {},
     "outputs": [],
     "prompt_number": 898
    },
    {
     "cell_type": "code",
     "collapsed": false,
     "input": [
      "### GIVES THE SCORES OF EACH MODEL ON THE DATA\n",
      "def score_models(models, data_valid, labels_valid):\n",
      "    C_valid = []\n",
      "    for i in xrange(n_train_splits):\n",
      "        y = models[i].predict(data_valid)\n",
      "        C_valid.append(confusion_matrix(labels_valid[:], y))\n",
      "        #get_ss(C_valid[i])\n",
      "    return C_valid    "
     ],
     "language": "python",
     "metadata": {},
     "outputs": [],
     "prompt_number": 880
    },
    {
     "cell_type": "markdown",
     "metadata": {},
     "source": [
      "## Train GLM:"
     ]
    },
    {
     "cell_type": "code",
     "collapsed": false,
     "input": [
      "def get_proba(models_bal, data):\n",
      "    # Returns negative log probability of dying / ALL\n",
      "    \n",
      "    probs = np.zeros((data.shape[0], len(models_bal)))\n",
      "        \n",
      "    probs = np.array([model.predict_proba(data)[:, 1] for model in models_bal]).T\n",
      "    probs = np.sort(probs)\n",
      "    return probs"
     ],
     "language": "python",
     "metadata": {},
     "outputs": [],
     "prompt_number": 881
    },
    {
     "cell_type": "markdown",
     "metadata": {},
     "source": [
      "def train_glm(models_bal, glm):\n",
      "   ##### find the probability estimates of each of the balanced models on the training set \n",
      "    \n",
      "    probs_train = get_proba(models_bal, data_train)\n",
      "    glm.fit(probs_train, labels_train)\n",
      "    \n",
      "    print 'Training data:'\n",
      "    get_ss(confusion_matrix(labels_train, glm.predict(probs_train)))\n",
      "    print 'Validation data:'\n",
      "    get_ss(confusion_matrix(labels_valid, glm.predict(get_proba(models_bal, data_valid))))"
     ]
    },
    {
     "cell_type": "markdown",
     "metadata": {},
     "source": [
      "### Train glm and find threshold for max sens given specificity > 0.99"
     ]
    },
    {
     "cell_type": "code",
     "collapsed": false,
     "input": [
      "def train_probit_reg(models, data, labels):\n",
      "    probs = get_proba(models, data)\n",
      "    pr = spreg.probit.Probit(y=labels, x=probs)\n",
      "    return pr"
     ],
     "language": "python",
     "metadata": {},
     "outputs": [],
     "prompt_number": 943
    },
    {
     "cell_type": "code",
     "collapsed": false,
     "input": [
      "## CHECK\n",
      "def get_pr_predictions(data, pr, theta_max, models):\n",
      "    y_pred = norm.cdf(np.dot(np.hstack((np.ones((data.shape[0], 1)), \n",
      "                                        get_proba(models, data)\n",
      "                                        )\n",
      "                                       ), pr.betas\n",
      "                             )\n",
      "                      ) > theta_max\n",
      "    return y_pred"
     ],
     "language": "python",
     "metadata": {},
     "outputs": [],
     "prompt_number": 948
    },
    {
     "cell_type": "code",
     "collapsed": false,
     "input": [
      "# given a probit reg, find theta that maximises the sens at 99% spec on (data, labels)\n",
      "def train_pr_max_sens(pr, models, data, labels, N=50):\n",
      "    sens = []\n",
      "    spec = []\n",
      "    theta_arr = []\n",
      "    for t in xrange(1, N):\n",
      "        theta = t*(1.0 / (N-1))\n",
      "        # FIND THE PREDICTIONS OF PR ON DATA\n",
      "        y = get_pr_predictions(data, pr, theta, models)\n",
      "        se, sp = get_ss(confusion_matrix(labels, y))\n",
      "        sens.append(se)\n",
      "        spec.append(sp)\n",
      "        theta_arr.append(theta)\n",
      "\n",
      "    sens = np.array(sens)\n",
      "    spec = np.array(spec)\n",
      "    # MAX SENS AT > 0.992 SPEC\n",
      "    max_ind = 0\n",
      "    for i in xrange(sens.shape[0]):\n",
      "        if(spec[i]<0.992):\n",
      "            continue\n",
      "        if(sens[max_ind] < sens[i]):\n",
      "            max_ind = i\n",
      "    #print sens, spec    \n",
      "    print max_ind\n",
      "    #print sens[max_ind], spec[max_ind]\n",
      "    return theta_arr[max_ind]"
     ],
     "language": "python",
     "metadata": {},
     "outputs": [],
     "prompt_number": 988
    },
    {
     "cell_type": "code",
     "collapsed": false,
     "input": [
      "## Train glm using training data, and then return the performance on the validation set!\n",
      "def score_with_glm(models, data_train, labels_train, data_train_living, data_train_dead, data_valid, labels_valid):\n",
      "    c_train = train_balanced(models, data_train_living, data_train_dead) # train models on subsets of the training data\n",
      "    print '1'\n",
      "    probit_reg = train_probit_reg(models, data_train, labels_train)      # Probit reg on all the training data\n",
      "    print '2'\n",
      "    theta_max = train_pr_max_sens(probit_reg, models,\n",
      "                                  data_valid, labels_valid)      # find Optimal theta ON THE VALIDATION SET\n",
      "    \n",
      "    print '3'\n",
      "    y_train = get_pr_predictions(data_train, probit_reg, theta_max, models)\n",
      "    y_valid = get_pr_predictions(data_valid, probit_reg, theta_max, models)\n",
      "    print '4'\n",
      "    y_test = get_pr_predictions(data_test, probit_reg, theta_max, models)\n",
      "    return [get_ss(confusion_matrix(labels_train, y_train)),\n",
      "            get_ss(confusion_matrix(labels_valid, y_valid)),\n",
      "            get_ss(confusion_matrix(labels_test, y_test))]"
     ],
     "language": "python",
     "metadata": {},
     "outputs": [],
     "prompt_number": 957
    },
    {
     "cell_type": "code",
     "collapsed": false,
     "input": [
      "data_combined = np.array(patient_combined)\n",
      "labels_combined = np.array(df_labels.LABEL)"
     ],
     "language": "python",
     "metadata": {},
     "outputs": [],
     "prompt_number": 950
    },
    {
     "cell_type": "code",
     "collapsed": false,
     "input": [
      "np.random.seed(111)\n",
      "\n",
      "### NOTE: If n<n_windows, ignored!\n",
      "n_windows = 3\n",
      "split = [0.6, 0.20, 0.20]\n",
      "#stats = [np.nanmean, np.nanmax , np.nanvar, np.nanmin, lambda (x axis:x.shape[0]]\n",
      "stats = [np.nanmean, np.nanmax , np.nanvar, np.nanmin, lambda x, axis:x.shape[0], lambda x, axis:x[x.shape[0]-1]]\n",
      "\n",
      "# Get the data from the patients\n",
      "[data_train, labels_train, data_valid, labels_valid, data_test, labels_test,data_train_living,\n",
      " data_train_dead, data_valid_living, data_valid_dead, data_test_living,\n",
      " data_test_dead, train_split, age_train_living, age_train_dead, age_valid_living, age_valid_dead,\n",
      " age_test_living, age_test_dead, ind_train, ind_valid, ind_test, n_train_splits, train_split] = get_data(patient_combined,\n",
      "                                                            labels_combined, age_combined, n_windows, stats, split)\n",
      "\n",
      "patients_train = data_combined[ind_train]\n",
      "patients_valid = data_combined[ind_valid]\n",
      "patients_test = data_combined[ind_test]"
     ],
     "language": "python",
     "metadata": {},
     "outputs": [
      {
       "output_type": "stream",
       "stream": "stdout",
       "text": [
        "(3594, 558)\n",
        "(2156, 558)\n",
        "(2156, 558)\n",
        "Train: 154 2002 2156\n",
        "Valid: 49 670 719\n",
        "Test: 42 677 719\n",
        "Train Splits 13 154 2156 2156\n",
        "(2156, 558)\n",
        "(558,)\n"
       ]
      }
     ],
     "prompt_number": 960
    },
    {
     "cell_type": "code",
     "collapsed": false,
     "input": [
      "forests = [RandomForestClassifier(n_estimators=10, class_weight=None, max_features=None,\n",
      "                                  n_jobs=-1, max_depth=None, random_state=14\n",
      "                                  ) for i in xrange(n_train_splits)]\n",
      "score_with_glm(forests, data_train, labels_train, data_train_living, data_train_dead, data_valid, labels_valid)"
     ],
     "language": "python",
     "metadata": {},
     "outputs": [
      {
       "output_type": "stream",
       "stream": "stdout",
       "text": [
        "1\n",
        "2"
       ]
      },
      {
       "output_type": "stream",
       "stream": "stdout",
       "text": [
        "\n",
        "0.734693877551"
       ]
      },
      {
       "output_type": "stream",
       "stream": "stdout",
       "text": [
        " 0.95223880597\n",
        "3\n",
        "4"
       ]
      },
      {
       "output_type": "stream",
       "stream": "stdout",
       "text": [
        "\n"
       ]
      },
      {
       "metadata": {},
       "output_type": "pyout",
       "prompt_number": 976,
       "text": [
        "[(1.0, 0.9905094905094906),\n",
        " (0.7346938775510204, 0.9522388059701492),\n",
        " (0.7380952380952381, 0.9615952732644018)]"
       ]
      }
     ],
     "prompt_number": 976
    },
    {
     "cell_type": "code",
     "collapsed": true,
     "input": [
      "#### standard\n",
      "svms = [svm.NuSVC(nu=0.50, kernel='poly', degree=2, gamma=10**(-1,7), coef0=0, probability=True)\n",
      "        for i in xrange(n_train_splits)]\n",
      "score_with_glm(svms, data_train, labels_train, data_train_living, data_train_dead, data_valid, labels_valid)"
     ],
     "language": "python",
     "metadata": {},
     "outputs": [
      {
       "ename": "KeyboardInterrupt",
       "evalue": "",
       "output_type": "pyerr",
       "traceback": [
        "\u001b[1;31m---------------------------------------------------------------------------\u001b[0m\n\u001b[1;31mKeyboardInterrupt\u001b[0m                         Traceback (most recent call last)",
        "\u001b[1;32m<ipython-input-964-dcfc6a8b36e4>\u001b[0m in \u001b[0;36m<module>\u001b[1;34m()\u001b[0m\n\u001b[0;32m      2\u001b[0m svms = [svm.NuSVC(nu=0.50, kernel='poly', degree=2, gamma=10**(-1), coef0=0, probability=True)\n\u001b[0;32m      3\u001b[0m         for i in xrange(n_train_splits)]\n\u001b[1;32m----> 4\u001b[1;33m \u001b[0mscore_with_glm\u001b[0m\u001b[1;33m(\u001b[0m\u001b[0msvms\u001b[0m\u001b[1;33m,\u001b[0m \u001b[0mdata_train\u001b[0m\u001b[1;33m,\u001b[0m \u001b[0mlabels_train\u001b[0m\u001b[1;33m,\u001b[0m \u001b[0mdata_train_living\u001b[0m\u001b[1;33m,\u001b[0m \u001b[0mdata_train_dead\u001b[0m\u001b[1;33m,\u001b[0m \u001b[0mdata_valid\u001b[0m\u001b[1;33m,\u001b[0m \u001b[0mlabels_valid\u001b[0m\u001b[1;33m)\u001b[0m\u001b[1;33m\u001b[0m\u001b[0m\n\u001b[0m",
        "\u001b[1;32m<ipython-input-957-6a6f266aa622>\u001b[0m in \u001b[0;36mscore_with_glm\u001b[1;34m(models, data_train, labels_train, data_train_living, data_train_dead, data_valid, labels_valid)\u001b[0m\n\u001b[0;32m      1\u001b[0m \u001b[1;31m## Train glm using training data, and then return the performance on the validation set!\u001b[0m\u001b[1;33m\u001b[0m\u001b[1;33m\u001b[0m\u001b[0m\n\u001b[0;32m      2\u001b[0m \u001b[1;32mdef\u001b[0m \u001b[0mscore_with_glm\u001b[0m\u001b[1;33m(\u001b[0m\u001b[0mmodels\u001b[0m\u001b[1;33m,\u001b[0m \u001b[0mdata_train\u001b[0m\u001b[1;33m,\u001b[0m \u001b[0mlabels_train\u001b[0m\u001b[1;33m,\u001b[0m \u001b[0mdata_train_living\u001b[0m\u001b[1;33m,\u001b[0m \u001b[0mdata_train_dead\u001b[0m\u001b[1;33m,\u001b[0m \u001b[0mdata_valid\u001b[0m\u001b[1;33m,\u001b[0m \u001b[0mlabels_valid\u001b[0m\u001b[1;33m)\u001b[0m\u001b[1;33m:\u001b[0m\u001b[1;33m\u001b[0m\u001b[0m\n\u001b[1;32m----> 3\u001b[1;33m     \u001b[0mc_train\u001b[0m \u001b[1;33m=\u001b[0m \u001b[0mtrain_balanced\u001b[0m\u001b[1;33m(\u001b[0m\u001b[0mmodels\u001b[0m\u001b[1;33m,\u001b[0m \u001b[0mdata_train_living\u001b[0m\u001b[1;33m,\u001b[0m \u001b[0mdata_train_dead\u001b[0m\u001b[1;33m)\u001b[0m \u001b[1;31m# train models on subsets of the training data\u001b[0m\u001b[1;33m\u001b[0m\u001b[0m\n\u001b[0m\u001b[0;32m      4\u001b[0m     \u001b[1;32mprint\u001b[0m \u001b[1;34m'1'\u001b[0m\u001b[1;33m\u001b[0m\u001b[0m\n\u001b[0;32m      5\u001b[0m     \u001b[0mprobit_reg\u001b[0m \u001b[1;33m=\u001b[0m \u001b[0mtrain_probit_reg\u001b[0m\u001b[1;33m(\u001b[0m\u001b[0mmodels\u001b[0m\u001b[1;33m,\u001b[0m \u001b[0mdata_train\u001b[0m\u001b[1;33m,\u001b[0m \u001b[0mlabels_train\u001b[0m\u001b[1;33m)\u001b[0m      \u001b[1;31m# Probit reg on all the training data\u001b[0m\u001b[1;33m\u001b[0m\u001b[0m\n",
        "\u001b[1;32m<ipython-input-898-ae6124c79180>\u001b[0m in \u001b[0;36mtrain_balanced\u001b[1;34m(models, data_living, data_dead)\u001b[0m\n\u001b[0;32m     11\u001b[0m \u001b[1;33m\u001b[0m\u001b[0m\n\u001b[0;32m     12\u001b[0m         \u001b[1;31m#print\u001b[0m\u001b[1;33m\u001b[0m\u001b[1;33m\u001b[0m\u001b[0m\n\u001b[1;32m---> 13\u001b[1;33m         \u001b[0mmodels\u001b[0m\u001b[1;33m[\u001b[0m\u001b[0mi\u001b[0m\u001b[1;33m]\u001b[0m\u001b[1;33m.\u001b[0m\u001b[0mfit\u001b[0m\u001b[1;33m(\u001b[0m\u001b[0mdata_bal\u001b[0m\u001b[1;33m,\u001b[0m \u001b[0mlabel_bal\u001b[0m\u001b[1;33m[\u001b[0m\u001b[1;33m:\u001b[0m\u001b[1;33m,\u001b[0m \u001b[1;36m0\u001b[0m\u001b[1;33m]\u001b[0m\u001b[1;33m)\u001b[0m\u001b[1;33m\u001b[0m\u001b[0m\n\u001b[0m\u001b[0;32m     14\u001b[0m         \u001b[0mC_train\u001b[0m\u001b[1;33m.\u001b[0m\u001b[0mappend\u001b[0m\u001b[1;33m(\u001b[0m\u001b[0mconfusion_matrix\u001b[0m\u001b[1;33m(\u001b[0m\u001b[0mlabel_bal\u001b[0m\u001b[1;33m[\u001b[0m\u001b[1;33m:\u001b[0m\u001b[1;33m,\u001b[0m\u001b[1;33m]\u001b[0m\u001b[1;33m,\u001b[0m \u001b[0mmodels\u001b[0m\u001b[1;33m[\u001b[0m\u001b[0mi\u001b[0m\u001b[1;33m]\u001b[0m\u001b[1;33m.\u001b[0m\u001b[0mpredict\u001b[0m\u001b[1;33m(\u001b[0m\u001b[0mdata_bal\u001b[0m\u001b[1;33m)\u001b[0m\u001b[1;33m)\u001b[0m\u001b[1;33m)\u001b[0m\u001b[1;33m\u001b[0m\u001b[0m\n\u001b[0;32m     15\u001b[0m \u001b[1;33m\u001b[0m\u001b[0m\n",
        "\u001b[1;32m/home/kcm/anaconda/lib/python2.7/site-packages/sklearn/svm/base.pyc\u001b[0m in \u001b[0;36mfit\u001b[1;34m(self, X, y, sample_weight)\u001b[0m\n\u001b[0;32m    176\u001b[0m \u001b[1;33m\u001b[0m\u001b[0m\n\u001b[0;32m    177\u001b[0m         \u001b[0mseed\u001b[0m \u001b[1;33m=\u001b[0m \u001b[0mrnd\u001b[0m\u001b[1;33m.\u001b[0m\u001b[0mrandint\u001b[0m\u001b[1;33m(\u001b[0m\u001b[0mnp\u001b[0m\u001b[1;33m.\u001b[0m\u001b[0miinfo\u001b[0m\u001b[1;33m(\u001b[0m\u001b[1;34m'i'\u001b[0m\u001b[1;33m)\u001b[0m\u001b[1;33m.\u001b[0m\u001b[0mmax\u001b[0m\u001b[1;33m)\u001b[0m\u001b[1;33m\u001b[0m\u001b[0m\n\u001b[1;32m--> 178\u001b[1;33m         \u001b[0mfit\u001b[0m\u001b[1;33m(\u001b[0m\u001b[0mX\u001b[0m\u001b[1;33m,\u001b[0m \u001b[0my\u001b[0m\u001b[1;33m,\u001b[0m \u001b[0msample_weight\u001b[0m\u001b[1;33m,\u001b[0m \u001b[0msolver_type\u001b[0m\u001b[1;33m,\u001b[0m \u001b[0mkernel\u001b[0m\u001b[1;33m,\u001b[0m \u001b[0mrandom_seed\u001b[0m\u001b[1;33m=\u001b[0m\u001b[0mseed\u001b[0m\u001b[1;33m)\u001b[0m\u001b[1;33m\u001b[0m\u001b[0m\n\u001b[0m\u001b[0;32m    179\u001b[0m         \u001b[1;31m# see comment on the other call to np.iinfo in this file\u001b[0m\u001b[1;33m\u001b[0m\u001b[1;33m\u001b[0m\u001b[0m\n\u001b[0;32m    180\u001b[0m \u001b[1;33m\u001b[0m\u001b[0m\n",
        "\u001b[1;32m/home/kcm/anaconda/lib/python2.7/site-packages/sklearn/svm/base.pyc\u001b[0m in \u001b[0;36m_dense_fit\u001b[1;34m(self, X, y, sample_weight, solver_type, kernel, random_seed)\u001b[0m\n\u001b[0;32m    234\u001b[0m                 \u001b[0mcache_size\u001b[0m\u001b[1;33m=\u001b[0m\u001b[0mself\u001b[0m\u001b[1;33m.\u001b[0m\u001b[0mcache_size\u001b[0m\u001b[1;33m,\u001b[0m \u001b[0mcoef0\u001b[0m\u001b[1;33m=\u001b[0m\u001b[0mself\u001b[0m\u001b[1;33m.\u001b[0m\u001b[0mcoef0\u001b[0m\u001b[1;33m,\u001b[0m\u001b[1;33m\u001b[0m\u001b[0m\n\u001b[0;32m    235\u001b[0m                 \u001b[0mgamma\u001b[0m\u001b[1;33m=\u001b[0m\u001b[0mself\u001b[0m\u001b[1;33m.\u001b[0m\u001b[0m_gamma\u001b[0m\u001b[1;33m,\u001b[0m \u001b[0mepsilon\u001b[0m\u001b[1;33m=\u001b[0m\u001b[0mself\u001b[0m\u001b[1;33m.\u001b[0m\u001b[0mepsilon\u001b[0m\u001b[1;33m,\u001b[0m\u001b[1;33m\u001b[0m\u001b[0m\n\u001b[1;32m--> 236\u001b[1;33m                 max_iter=self.max_iter, random_seed=random_seed)\n\u001b[0m\u001b[0;32m    237\u001b[0m \u001b[1;33m\u001b[0m\u001b[0m\n\u001b[0;32m    238\u001b[0m         \u001b[0mself\u001b[0m\u001b[1;33m.\u001b[0m\u001b[0m_warn_from_fit_status\u001b[0m\u001b[1;33m(\u001b[0m\u001b[1;33m)\u001b[0m\u001b[1;33m\u001b[0m\u001b[0m\n",
        "\u001b[1;31mKeyboardInterrupt\u001b[0m: "
       ]
      }
     ],
     "prompt_number": 964
    },
    {
     "cell_type": "markdown",
     "metadata": {},
     "source": [
      "## Feature selection!"
     ]
    },
    {
     "cell_type": "code",
     "collapsed": false,
     "input": [
      "#### Get col name, window, stats\n",
      "def get_col_stat_window(c):\n",
      "    i = c % (n_features)\n",
      "    f = col_labs[i]\n",
      "    w = int(c / (n_features * len(stats)))\n",
      "    s = stats[int((c % (n_features * len(stats))) / (n_features))].func_name\n",
      "    \n",
      "    return i, f, s, w"
     ],
     "language": "python",
     "metadata": {},
     "outputs": [],
     "prompt_number": 989
    },
    {
     "cell_type": "code",
     "collapsed": false,
     "input": [
      "def get_str(col):\n",
      "    return '-'.join([str(x) for x in get_col_stat_window(col)[1:-1]])"
     ],
     "language": "python",
     "metadata": {},
     "outputs": [],
     "prompt_number": 1003
    },
    {
     "cell_type": "markdown",
     "metadata": {},
     "source": [
      "#### Version with taking mean on the validation set performances\n",
      "###### Trains the models on the train set, and Returns mean sensitivity and specificity on the val set\n",
      "def train_and_score_cols(models, cols, data_train_living, data_train_dead, data_valid, labels_valid):\n",
      "    train_balanced(forests, data_train_living[:, cols], data_train_dead[:, cols]);\n",
      "    c_vals = score_models(forests, data_valid[:, cols], labels_valid)\n",
      "    \n",
      "    se = np.zeros((len(c_vals), 1))\n",
      "    sp = np.zeros((len(c_vals), 1))\n",
      "    for i,c in enumerate(c_vals):\n",
      "        se[i], sp[i] = get_ss(c)\n",
      "    se = np.mean(se)\n",
      "    sp = np.mean(sp)\n",
      "    #print se, sp\n",
      "    return se, sp"
     ]
    },
    {
     "cell_type": "code",
     "collapsed": false,
     "input": [
      "#### Version with prediction on the validation set\n",
      "##### Train classifier by finding the mean probabilities, and return sens and spec\n",
      "def train_and_score_cols(models, cols, data_train_living=data_train_living,\n",
      "                         data_train_dead=data_train_dead, data_valid=data_valid, labels_valid=labels_valid):\n",
      "    \n",
      "    train_balanced(forests, data_train_living[:, cols], data_train_dead[:, cols]);\n",
      "    \n",
      "    prob_sum = np.zeros((data_valid.shape[0], 2))\n",
      "    for m in models:\n",
      "        p = m.predict_proba(data_valid[:, cols])\n",
      "        prob_sum = prob_sum + p\n",
      "\n",
      "    #print prob_sum\n",
      "    y = np.array(prob_sum[:, 0]) < np.array(prob_sum[:, 1])\n",
      "    #print y\n",
      "    \n",
      "    se, sp = get_ss(confusion_matrix(labels_valid, y))\n",
      "    #print se, sp\n",
      "    return se, sp"
     ],
     "language": "python",
     "metadata": {},
     "outputs": [],
     "prompt_number": 1069
    },
    {
     "cell_type": "code",
     "collapsed": false,
     "input": [
      "### Get the column sensitivity and specificity scores\n",
      "def get_col_se_sp(models, data_train_living, data_train_dead, data_valid, labels_valid):\n",
      "    n = data_train_living.shape[1]\n",
      "    se = np.zeros((n,1))\n",
      "    sp = np.zeros((n,1))\n",
      "    \n",
      "    for i in xrange(n):\n",
      "        se[i], sp[i] = train_and_score_cols(models, [i], data_train_living, data_train_dead, data_valid, labels_valid)\n",
      "    return se, sp"
     ],
     "language": "python",
     "metadata": {},
     "outputs": [],
     "prompt_number": 1007
    },
    {
     "cell_type": "code",
     "collapsed": false,
     "input": [
      "## All feature+stats pairs, taken together to train the models\n",
      "def get_feature_stat_se_sp(models):\n",
      "    n = data_train_living.shape[1] / n_windows\n",
      "    se = np.zeros((n,1))\n",
      "    sp = np.zeros((n,1))\n",
      "    \n",
      "    for i in xrange(n):\n",
      "        cols = [i + j*n for j in xrange(n_windows)]\n",
      "        print cols\n",
      "        se[i], sp[i] = train_and_score_cols(models, [i], data_train_living, data_train_dead, data_valid, labels_valid)\n",
      "    return se, sp"
     ],
     "language": "python",
     "metadata": {},
     "outputs": [],
     "prompt_number": 1022
    },
    {
     "cell_type": "code",
     "collapsed": false,
     "input": [
      "## Given cols in first window, train for all windows of that col\n",
      "def train_score_col_windows(models, cols):\n",
      "    n = data_train_living.shape[1] / n_windows\n",
      "    cols_all_windows = np.zeros((1, len(cols)*n_windows))\n",
      "    \n",
      "    for i in xrange(0, n_windows):\n",
      "        cols_all_windows[0, i*len(cols):(i+1)*len(cols)] = [j + i*n for j in cols]\n",
      "        \n",
      "    cols_ =  np.array(cols_all_windows[0, :], dtype=int).tolist()\n",
      "    print cols_\n",
      "    se, sp = train_and_score_cols(models, cols_, data_train_living, data_train_dead, data_valid, labels_valid)\n",
      "    return se, sp"
     ],
     "language": "python",
     "metadata": {},
     "outputs": [],
     "prompt_number": 1071
    },
    {
     "cell_type": "code",
     "collapsed": false,
     "input": [
      "forests = [RandomForestClassifier(n_estimators=300, class_weight=None, max_features=None,\n",
      "                                  n_jobs=-1, max_depth=None, random_state=14\n",
      "                                  ) for i in xrange(n_train_splits)]"
     ],
     "language": "python",
     "metadata": {},
     "outputs": [],
     "prompt_number": 1009
    },
    {
     "cell_type": "code",
     "collapsed": false,
     "input": [
      "## Find the se and sp for all feature+stat pairs\n",
      "se_f, sp_f = get_feature_stat_se_sp(forests)"
     ],
     "language": "python",
     "metadata": {},
     "outputs": [
      {
       "output_type": "stream",
       "stream": "stdout",
       "text": [
        "[0, 186, 372]\n",
        "[1, 187, 373]"
       ]
      },
      {
       "output_type": "stream",
       "stream": "stdout",
       "text": [
        "\n",
        "[2, 188, 374]"
       ]
      },
      {
       "output_type": "stream",
       "stream": "stdout",
       "text": [
        "\n",
        "[3, 189, 375]"
       ]
      },
      {
       "output_type": "stream",
       "stream": "stdout",
       "text": [
        "\n",
        "[4, 190, 376]"
       ]
      },
      {
       "output_type": "stream",
       "stream": "stdout",
       "text": [
        "\n",
        "[5, 191, 377]"
       ]
      },
      {
       "output_type": "stream",
       "stream": "stdout",
       "text": [
        "\n",
        "[6, 192, 378]"
       ]
      },
      {
       "output_type": "stream",
       "stream": "stdout",
       "text": [
        "\n",
        "[7, 193, 379]"
       ]
      },
      {
       "output_type": "stream",
       "stream": "stdout",
       "text": [
        "\n",
        "[8, 194, 380]"
       ]
      },
      {
       "output_type": "stream",
       "stream": "stdout",
       "text": [
        "\n",
        "[9, 195, 381]"
       ]
      },
      {
       "output_type": "stream",
       "stream": "stdout",
       "text": [
        "\n",
        "[10, 196, 382]"
       ]
      },
      {
       "output_type": "stream",
       "stream": "stdout",
       "text": [
        "\n",
        "[11, 197, 383]"
       ]
      },
      {
       "output_type": "stream",
       "stream": "stdout",
       "text": [
        "\n",
        "[12, 198, 384]"
       ]
      },
      {
       "output_type": "stream",
       "stream": "stdout",
       "text": [
        "\n",
        "[13, 199, 385]"
       ]
      },
      {
       "output_type": "stream",
       "stream": "stdout",
       "text": [
        "\n",
        "[14, 200, 386]"
       ]
      },
      {
       "output_type": "stream",
       "stream": "stdout",
       "text": [
        "\n",
        "[15, 201, 387]"
       ]
      },
      {
       "output_type": "stream",
       "stream": "stdout",
       "text": [
        "\n",
        "[16, 202, 388]"
       ]
      },
      {
       "output_type": "stream",
       "stream": "stdout",
       "text": [
        "\n",
        "[17, 203, 389]"
       ]
      },
      {
       "output_type": "stream",
       "stream": "stdout",
       "text": [
        "\n",
        "[18, 204, 390]"
       ]
      },
      {
       "output_type": "stream",
       "stream": "stdout",
       "text": [
        "\n",
        "[19, 205, 391]"
       ]
      },
      {
       "output_type": "stream",
       "stream": "stdout",
       "text": [
        "\n",
        "[20, 206, 392]"
       ]
      },
      {
       "output_type": "stream",
       "stream": "stdout",
       "text": [
        "\n",
        "[21, 207, 393]"
       ]
      },
      {
       "output_type": "stream",
       "stream": "stdout",
       "text": [
        "\n",
        "[22, 208, 394]"
       ]
      },
      {
       "output_type": "stream",
       "stream": "stdout",
       "text": [
        "\n",
        "[23, 209, 395]"
       ]
      },
      {
       "output_type": "stream",
       "stream": "stdout",
       "text": [
        "\n",
        "[24, 210, 396]"
       ]
      },
      {
       "output_type": "stream",
       "stream": "stdout",
       "text": [
        "\n",
        "[25, 211, 397]"
       ]
      },
      {
       "output_type": "stream",
       "stream": "stdout",
       "text": [
        "\n",
        "[26, 212, 398]"
       ]
      },
      {
       "output_type": "stream",
       "stream": "stdout",
       "text": [
        "\n",
        "[27, 213, 399]"
       ]
      },
      {
       "output_type": "stream",
       "stream": "stdout",
       "text": [
        "\n",
        "[28, 214, 400]"
       ]
      },
      {
       "output_type": "stream",
       "stream": "stdout",
       "text": [
        "\n",
        "[29, 215, 401]"
       ]
      },
      {
       "output_type": "stream",
       "stream": "stdout",
       "text": [
        "\n",
        "[30, 216, 402]"
       ]
      },
      {
       "output_type": "stream",
       "stream": "stdout",
       "text": [
        "\n",
        "[31, 217, 403]"
       ]
      },
      {
       "output_type": "stream",
       "stream": "stdout",
       "text": [
        "\n",
        "[32, 218, 404]"
       ]
      },
      {
       "output_type": "stream",
       "stream": "stdout",
       "text": [
        "\n",
        "[33, 219, 405]"
       ]
      },
      {
       "output_type": "stream",
       "stream": "stdout",
       "text": [
        "\n",
        "[34, 220, 406]"
       ]
      },
      {
       "output_type": "stream",
       "stream": "stdout",
       "text": [
        "\n",
        "[35, 221, 407]"
       ]
      },
      {
       "output_type": "stream",
       "stream": "stdout",
       "text": [
        "\n",
        "[36, 222, 408]"
       ]
      },
      {
       "output_type": "stream",
       "stream": "stdout",
       "text": [
        "\n",
        "[37, 223, 409]"
       ]
      },
      {
       "output_type": "stream",
       "stream": "stdout",
       "text": [
        "\n",
        "[38, 224, 410]"
       ]
      },
      {
       "output_type": "stream",
       "stream": "stdout",
       "text": [
        "\n",
        "[39, 225, 411]"
       ]
      },
      {
       "output_type": "stream",
       "stream": "stdout",
       "text": [
        "\n",
        "[40, 226, 412]"
       ]
      },
      {
       "output_type": "stream",
       "stream": "stdout",
       "text": [
        "\n",
        "[41, 227, 413]"
       ]
      },
      {
       "output_type": "stream",
       "stream": "stdout",
       "text": [
        "\n",
        "[42, 228, 414]"
       ]
      },
      {
       "output_type": "stream",
       "stream": "stdout",
       "text": [
        "\n",
        "[43, 229, 415]"
       ]
      },
      {
       "output_type": "stream",
       "stream": "stdout",
       "text": [
        "\n",
        "[44, 230, 416]"
       ]
      },
      {
       "output_type": "stream",
       "stream": "stdout",
       "text": [
        "\n",
        "[45, 231, 417]"
       ]
      },
      {
       "output_type": "stream",
       "stream": "stdout",
       "text": [
        "\n",
        "[46, 232, 418]"
       ]
      },
      {
       "output_type": "stream",
       "stream": "stdout",
       "text": [
        "\n",
        "[47, 233, 419]"
       ]
      },
      {
       "output_type": "stream",
       "stream": "stdout",
       "text": [
        "\n",
        "[48, 234, 420]"
       ]
      },
      {
       "output_type": "stream",
       "stream": "stdout",
       "text": [
        "\n",
        "[49, 235, 421]"
       ]
      },
      {
       "output_type": "stream",
       "stream": "stdout",
       "text": [
        "\n",
        "[50, 236, 422]"
       ]
      },
      {
       "output_type": "stream",
       "stream": "stdout",
       "text": [
        "\n",
        "[51, 237, 423]"
       ]
      },
      {
       "output_type": "stream",
       "stream": "stdout",
       "text": [
        "\n",
        "[52, 238, 424]"
       ]
      },
      {
       "output_type": "stream",
       "stream": "stdout",
       "text": [
        "\n",
        "[53, 239, 425]"
       ]
      },
      {
       "output_type": "stream",
       "stream": "stdout",
       "text": [
        "\n",
        "[54, 240, 426]"
       ]
      },
      {
       "output_type": "stream",
       "stream": "stdout",
       "text": [
        "\n",
        "[55, 241, 427]"
       ]
      },
      {
       "output_type": "stream",
       "stream": "stdout",
       "text": [
        "\n",
        "[56, 242, 428]"
       ]
      },
      {
       "output_type": "stream",
       "stream": "stdout",
       "text": [
        "\n",
        "[57, 243, 429]"
       ]
      },
      {
       "output_type": "stream",
       "stream": "stdout",
       "text": [
        "\n",
        "[58, 244, 430]"
       ]
      },
      {
       "output_type": "stream",
       "stream": "stdout",
       "text": [
        "\n",
        "[59, 245, 431]"
       ]
      },
      {
       "output_type": "stream",
       "stream": "stdout",
       "text": [
        "\n",
        "[60, 246, 432]"
       ]
      },
      {
       "output_type": "stream",
       "stream": "stdout",
       "text": [
        "\n",
        "[61, 247, 433]"
       ]
      },
      {
       "output_type": "stream",
       "stream": "stdout",
       "text": [
        "\n",
        "[62, 248, 434]"
       ]
      },
      {
       "output_type": "stream",
       "stream": "stdout",
       "text": [
        "\n",
        "[63, 249, 435]"
       ]
      },
      {
       "output_type": "stream",
       "stream": "stdout",
       "text": [
        "\n",
        "[64, 250, 436]"
       ]
      },
      {
       "output_type": "stream",
       "stream": "stdout",
       "text": [
        "\n",
        "[65, 251, 437]"
       ]
      },
      {
       "output_type": "stream",
       "stream": "stdout",
       "text": [
        "\n",
        "[66, 252, 438]"
       ]
      },
      {
       "output_type": "stream",
       "stream": "stdout",
       "text": [
        "\n",
        "[67, 253, 439]"
       ]
      },
      {
       "output_type": "stream",
       "stream": "stdout",
       "text": [
        "\n",
        "[68, 254, 440]"
       ]
      },
      {
       "output_type": "stream",
       "stream": "stdout",
       "text": [
        "\n",
        "[69, 255, 441]"
       ]
      },
      {
       "output_type": "stream",
       "stream": "stdout",
       "text": [
        "\n",
        "[70, 256, 442]"
       ]
      },
      {
       "output_type": "stream",
       "stream": "stdout",
       "text": [
        "\n",
        "[71, 257, 443]"
       ]
      },
      {
       "output_type": "stream",
       "stream": "stdout",
       "text": [
        "\n",
        "[72, 258, 444]"
       ]
      },
      {
       "output_type": "stream",
       "stream": "stdout",
       "text": [
        "\n",
        "[73, 259, 445]"
       ]
      },
      {
       "output_type": "stream",
       "stream": "stdout",
       "text": [
        "\n",
        "[74, 260, 446]"
       ]
      },
      {
       "output_type": "stream",
       "stream": "stdout",
       "text": [
        "\n",
        "[75, 261, 447]"
       ]
      },
      {
       "output_type": "stream",
       "stream": "stdout",
       "text": [
        "\n",
        "[76, 262, 448]"
       ]
      },
      {
       "output_type": "stream",
       "stream": "stdout",
       "text": [
        "\n",
        "[77, 263, 449]"
       ]
      },
      {
       "output_type": "stream",
       "stream": "stdout",
       "text": [
        "\n",
        "[78, 264, 450]"
       ]
      },
      {
       "output_type": "stream",
       "stream": "stdout",
       "text": [
        "\n",
        "[79, 265, 451]"
       ]
      },
      {
       "output_type": "stream",
       "stream": "stdout",
       "text": [
        "\n",
        "[80, 266, 452]"
       ]
      },
      {
       "output_type": "stream",
       "stream": "stdout",
       "text": [
        "\n",
        "[81, 267, 453]"
       ]
      },
      {
       "output_type": "stream",
       "stream": "stdout",
       "text": [
        "\n",
        "[82, 268, 454]"
       ]
      },
      {
       "output_type": "stream",
       "stream": "stdout",
       "text": [
        "\n",
        "[83, 269, 455]"
       ]
      },
      {
       "output_type": "stream",
       "stream": "stdout",
       "text": [
        "\n",
        "[84, 270, 456]"
       ]
      },
      {
       "output_type": "stream",
       "stream": "stdout",
       "text": [
        "\n",
        "[85, 271, 457]"
       ]
      },
      {
       "output_type": "stream",
       "stream": "stdout",
       "text": [
        "\n",
        "[86, 272, 458]"
       ]
      },
      {
       "output_type": "stream",
       "stream": "stdout",
       "text": [
        "\n",
        "[87, 273, 459]"
       ]
      },
      {
       "output_type": "stream",
       "stream": "stdout",
       "text": [
        "\n",
        "[88, 274, 460]"
       ]
      },
      {
       "output_type": "stream",
       "stream": "stdout",
       "text": [
        "\n",
        "[89, 275, 461]"
       ]
      },
      {
       "output_type": "stream",
       "stream": "stdout",
       "text": [
        "\n",
        "[90, 276, 462]"
       ]
      },
      {
       "output_type": "stream",
       "stream": "stdout",
       "text": [
        "\n",
        "[91, 277, 463]"
       ]
      },
      {
       "output_type": "stream",
       "stream": "stdout",
       "text": [
        "\n",
        "[92, 278, 464]"
       ]
      },
      {
       "output_type": "stream",
       "stream": "stdout",
       "text": [
        "\n",
        "[93, 279, 465]"
       ]
      },
      {
       "output_type": "stream",
       "stream": "stdout",
       "text": [
        "\n",
        "[94, 280, 466]"
       ]
      },
      {
       "output_type": "stream",
       "stream": "stdout",
       "text": [
        "\n",
        "[95, 281, 467]"
       ]
      },
      {
       "output_type": "stream",
       "stream": "stdout",
       "text": [
        "\n",
        "[96, 282, 468]"
       ]
      },
      {
       "output_type": "stream",
       "stream": "stdout",
       "text": [
        "\n",
        "[97, 283, 469]"
       ]
      },
      {
       "output_type": "stream",
       "stream": "stdout",
       "text": [
        "\n",
        "[98, 284, 470]"
       ]
      },
      {
       "output_type": "stream",
       "stream": "stdout",
       "text": [
        "\n",
        "[99, 285, 471]"
       ]
      },
      {
       "output_type": "stream",
       "stream": "stdout",
       "text": [
        "\n",
        "[100, 286, 472]"
       ]
      },
      {
       "output_type": "stream",
       "stream": "stdout",
       "text": [
        "\n",
        "[101, 287, 473]"
       ]
      },
      {
       "output_type": "stream",
       "stream": "stdout",
       "text": [
        "\n",
        "[102, 288, 474]"
       ]
      },
      {
       "output_type": "stream",
       "stream": "stdout",
       "text": [
        "\n",
        "[103, 289, 475]"
       ]
      },
      {
       "output_type": "stream",
       "stream": "stdout",
       "text": [
        "\n",
        "[104, 290, 476]"
       ]
      },
      {
       "output_type": "stream",
       "stream": "stdout",
       "text": [
        "\n",
        "[105, 291, 477]"
       ]
      },
      {
       "output_type": "stream",
       "stream": "stdout",
       "text": [
        "\n",
        "[106, 292, 478]"
       ]
      },
      {
       "output_type": "stream",
       "stream": "stdout",
       "text": [
        "\n",
        "[107, 293, 479]"
       ]
      },
      {
       "output_type": "stream",
       "stream": "stdout",
       "text": [
        "\n",
        "[108, 294, 480]"
       ]
      },
      {
       "output_type": "stream",
       "stream": "stdout",
       "text": [
        "\n",
        "[109, 295, 481]"
       ]
      },
      {
       "output_type": "stream",
       "stream": "stdout",
       "text": [
        "\n",
        "[110, 296, 482]"
       ]
      },
      {
       "output_type": "stream",
       "stream": "stdout",
       "text": [
        "\n",
        "[111, 297, 483]"
       ]
      },
      {
       "output_type": "stream",
       "stream": "stdout",
       "text": [
        "\n",
        "[112, 298, 484]"
       ]
      },
      {
       "output_type": "stream",
       "stream": "stdout",
       "text": [
        "\n",
        "[113, 299, 485]"
       ]
      },
      {
       "output_type": "stream",
       "stream": "stdout",
       "text": [
        "\n",
        "[114, 300, 486]"
       ]
      },
      {
       "output_type": "stream",
       "stream": "stdout",
       "text": [
        "\n",
        "[115, 301, 487]"
       ]
      },
      {
       "output_type": "stream",
       "stream": "stdout",
       "text": [
        "\n",
        "[116, 302, 488]"
       ]
      },
      {
       "output_type": "stream",
       "stream": "stdout",
       "text": [
        "\n",
        "[117, 303, 489]"
       ]
      },
      {
       "output_type": "stream",
       "stream": "stdout",
       "text": [
        "\n",
        "[118, 304, 490]"
       ]
      },
      {
       "output_type": "stream",
       "stream": "stdout",
       "text": [
        "\n",
        "[119, 305, 491]"
       ]
      },
      {
       "output_type": "stream",
       "stream": "stdout",
       "text": [
        "\n",
        "[120, 306, 492]"
       ]
      },
      {
       "output_type": "stream",
       "stream": "stdout",
       "text": [
        "\n",
        "[121, 307, 493]"
       ]
      },
      {
       "output_type": "stream",
       "stream": "stdout",
       "text": [
        "\n",
        "[122, 308, 494]"
       ]
      },
      {
       "output_type": "stream",
       "stream": "stdout",
       "text": [
        "\n",
        "[123, 309, 495]"
       ]
      },
      {
       "output_type": "stream",
       "stream": "stdout",
       "text": [
        "\n",
        "[124, 310, 496]"
       ]
      },
      {
       "output_type": "stream",
       "stream": "stdout",
       "text": [
        "\n",
        "[125, 311, 497]"
       ]
      },
      {
       "output_type": "stream",
       "stream": "stdout",
       "text": [
        "\n",
        "[126, 312, 498]"
       ]
      },
      {
       "output_type": "stream",
       "stream": "stdout",
       "text": [
        "\n",
        "[127, 313, 499]"
       ]
      },
      {
       "output_type": "stream",
       "stream": "stdout",
       "text": [
        "\n",
        "[128, 314, 500]"
       ]
      },
      {
       "output_type": "stream",
       "stream": "stdout",
       "text": [
        "\n",
        "[129, 315, 501]"
       ]
      },
      {
       "output_type": "stream",
       "stream": "stdout",
       "text": [
        "\n",
        "[130, 316, 502]"
       ]
      },
      {
       "output_type": "stream",
       "stream": "stdout",
       "text": [
        "\n",
        "[131, 317, 503]"
       ]
      },
      {
       "output_type": "stream",
       "stream": "stdout",
       "text": [
        "\n",
        "[132, 318, 504]"
       ]
      },
      {
       "output_type": "stream",
       "stream": "stdout",
       "text": [
        "\n",
        "[133, 319, 505]"
       ]
      },
      {
       "output_type": "stream",
       "stream": "stdout",
       "text": [
        "\n",
        "[134, 320, 506]"
       ]
      },
      {
       "output_type": "stream",
       "stream": "stdout",
       "text": [
        "\n",
        "[135, 321, 507]"
       ]
      },
      {
       "output_type": "stream",
       "stream": "stdout",
       "text": [
        "\n",
        "[136, 322, 508]"
       ]
      },
      {
       "output_type": "stream",
       "stream": "stdout",
       "text": [
        "\n",
        "[137, 323, 509]"
       ]
      },
      {
       "output_type": "stream",
       "stream": "stdout",
       "text": [
        "\n",
        "[138, 324, 510]"
       ]
      },
      {
       "output_type": "stream",
       "stream": "stdout",
       "text": [
        "\n",
        "[139, 325, 511]"
       ]
      },
      {
       "output_type": "stream",
       "stream": "stdout",
       "text": [
        "\n",
        "[140, 326, 512]"
       ]
      },
      {
       "output_type": "stream",
       "stream": "stdout",
       "text": [
        "\n",
        "[141, 327, 513]"
       ]
      },
      {
       "output_type": "stream",
       "stream": "stdout",
       "text": [
        "\n",
        "[142, 328, 514]"
       ]
      },
      {
       "output_type": "stream",
       "stream": "stdout",
       "text": [
        "\n",
        "[143, 329, 515]"
       ]
      },
      {
       "output_type": "stream",
       "stream": "stdout",
       "text": [
        "\n",
        "[144, 330, 516]"
       ]
      },
      {
       "output_type": "stream",
       "stream": "stdout",
       "text": [
        "\n",
        "[145, 331, 517]"
       ]
      },
      {
       "output_type": "stream",
       "stream": "stdout",
       "text": [
        "\n",
        "[146, 332, 518]"
       ]
      },
      {
       "output_type": "stream",
       "stream": "stdout",
       "text": [
        "\n",
        "[147, 333, 519]"
       ]
      },
      {
       "output_type": "stream",
       "stream": "stdout",
       "text": [
        "\n",
        "[148, 334, 520]"
       ]
      },
      {
       "output_type": "stream",
       "stream": "stdout",
       "text": [
        "\n",
        "[149, 335, 521]"
       ]
      },
      {
       "output_type": "stream",
       "stream": "stdout",
       "text": [
        "\n",
        "[150, 336, 522]"
       ]
      },
      {
       "output_type": "stream",
       "stream": "stdout",
       "text": [
        "\n",
        "[151, 337, 523]"
       ]
      },
      {
       "output_type": "stream",
       "stream": "stdout",
       "text": [
        "\n",
        "[152, 338, 524]"
       ]
      },
      {
       "output_type": "stream",
       "stream": "stdout",
       "text": [
        "\n",
        "[153, 339, 525]"
       ]
      },
      {
       "output_type": "stream",
       "stream": "stdout",
       "text": [
        "\n",
        "[154, 340, 526]"
       ]
      },
      {
       "output_type": "stream",
       "stream": "stdout",
       "text": [
        "\n",
        "[155, 341, 527]"
       ]
      },
      {
       "output_type": "stream",
       "stream": "stdout",
       "text": [
        "\n",
        "[156, 342, 528]"
       ]
      },
      {
       "output_type": "stream",
       "stream": "stdout",
       "text": [
        "\n",
        "[157, 343, 529]"
       ]
      },
      {
       "output_type": "stream",
       "stream": "stdout",
       "text": [
        "\n",
        "[158, 344, 530]"
       ]
      },
      {
       "output_type": "stream",
       "stream": "stdout",
       "text": [
        "\n",
        "[159, 345, 531]"
       ]
      },
      {
       "output_type": "stream",
       "stream": "stdout",
       "text": [
        "\n",
        "[160, 346, 532]"
       ]
      },
      {
       "output_type": "stream",
       "stream": "stdout",
       "text": [
        "\n",
        "[161, 347, 533]"
       ]
      },
      {
       "output_type": "stream",
       "stream": "stdout",
       "text": [
        "\n",
        "[162, 348, 534]"
       ]
      },
      {
       "output_type": "stream",
       "stream": "stdout",
       "text": [
        "\n",
        "[163, 349, 535]"
       ]
      },
      {
       "output_type": "stream",
       "stream": "stdout",
       "text": [
        "\n",
        "[164, 350, 536]"
       ]
      },
      {
       "output_type": "stream",
       "stream": "stdout",
       "text": [
        "\n",
        "[165, 351, 537]"
       ]
      },
      {
       "output_type": "stream",
       "stream": "stdout",
       "text": [
        "\n",
        "[166, 352, 538]"
       ]
      },
      {
       "output_type": "stream",
       "stream": "stdout",
       "text": [
        "\n",
        "[167, 353, 539]"
       ]
      },
      {
       "output_type": "stream",
       "stream": "stdout",
       "text": [
        "\n",
        "[168, 354, 540]"
       ]
      },
      {
       "output_type": "stream",
       "stream": "stdout",
       "text": [
        "\n",
        "[169, 355, 541]"
       ]
      },
      {
       "output_type": "stream",
       "stream": "stdout",
       "text": [
        "\n",
        "[170, 356, 542]"
       ]
      },
      {
       "output_type": "stream",
       "stream": "stdout",
       "text": [
        "\n",
        "[171, 357, 543]"
       ]
      },
      {
       "output_type": "stream",
       "stream": "stdout",
       "text": [
        "\n",
        "[172, 358, 544]"
       ]
      },
      {
       "output_type": "stream",
       "stream": "stdout",
       "text": [
        "\n",
        "[173, 359, 545]"
       ]
      },
      {
       "output_type": "stream",
       "stream": "stdout",
       "text": [
        "\n",
        "[174, 360, 546]"
       ]
      },
      {
       "output_type": "stream",
       "stream": "stdout",
       "text": [
        "\n",
        "[175, 361, 547]"
       ]
      },
      {
       "output_type": "stream",
       "stream": "stdout",
       "text": [
        "\n",
        "[176, 362, 548]"
       ]
      },
      {
       "output_type": "stream",
       "stream": "stdout",
       "text": [
        "\n",
        "[177, 363, 549]"
       ]
      },
      {
       "output_type": "stream",
       "stream": "stdout",
       "text": [
        "\n",
        "[178, 364, 550]"
       ]
      },
      {
       "output_type": "stream",
       "stream": "stdout",
       "text": [
        "\n",
        "[179, 365, 551]"
       ]
      },
      {
       "output_type": "stream",
       "stream": "stdout",
       "text": [
        "\n",
        "[180, 366, 552]"
       ]
      },
      {
       "output_type": "stream",
       "stream": "stdout",
       "text": [
        "\n",
        "[181, 367, 553]"
       ]
      },
      {
       "output_type": "stream",
       "stream": "stdout",
       "text": [
        "\n",
        "[182, 368, 554]"
       ]
      },
      {
       "output_type": "stream",
       "stream": "stdout",
       "text": [
        "\n",
        "[183, 369, 555]"
       ]
      },
      {
       "output_type": "stream",
       "stream": "stdout",
       "text": [
        "\n",
        "[184, 370, 556]"
       ]
      },
      {
       "output_type": "stream",
       "stream": "stdout",
       "text": [
        "\n",
        "[185, 371, 557]"
       ]
      },
      {
       "output_type": "stream",
       "stream": "stdout",
       "text": [
        "\n"
       ]
      }
     ],
     "prompt_number": 1076
    },
    {
     "cell_type": "markdown",
     "metadata": {},
     "source": [
      "## Find the se and sp for all feature+stat pairs\n",
      "se_s, sp_s = get_feature_stat_se_sp(svms)"
     ]
    },
    {
     "cell_type": "code",
     "collapsed": false,
     "input": [
      "out = np.hstack((np.arange(se_f.shape[0]).reshape((se_f.shape[0], 1)), se_f, sp_f, np.abs(sp_f - se_f)))\n",
      "cols = [get_str(i) for i in np.array(out[:, 0], dtype=int)]"
     ],
     "language": "python",
     "metadata": {},
     "outputs": [],
     "prompt_number": 1135
    },
    {
     "cell_type": "code",
     "collapsed": false,
     "input": [
      "df_feat = pd.DataFrame(data=out, columns=['ind', 'sens', 'spec', 'diff'])\n",
      "df_feat['name'] = cols"
     ],
     "language": "python",
     "metadata": {},
     "outputs": [],
     "prompt_number": 1136
    },
    {
     "cell_type": "code",
     "collapsed": false,
     "input": [
      "#################################################################"
     ],
     "language": "python",
     "metadata": {},
     "outputs": [],
     "prompt_number": 1086
    },
    {
     "cell_type": "markdown",
     "metadata": {},
     "source": [
      "### Features selected:\n",
      "- HDL Cholesterol - 91\n",
      "\n",
      "\n",
      "### Current scheme: ignore those features that lead to biased sens / spec\n",
      "- 18"
     ]
    },
    {
     "cell_type": "code",
     "collapsed": false,
     "input": [
      "n = df_feat.ind.count()"
     ],
     "language": "python",
     "metadata": {},
     "outputs": [],
     "prompt_number": 1155
    },
    {
     "cell_type": "code",
     "collapsed": false,
     "input": [
      "train_score_col_windows(forests, [i for i in xrange() if i not in ind])"
     ],
     "language": "python",
     "metadata": {},
     "outputs": [
      {
       "output_type": "stream",
       "stream": "stdout",
       "text": [
        "[0, 1, 2, 3, 4, 5, 7, 8, 9, 10, 11, 12, 13, 14, 15, 16, 186, 187, 188, 189, 190, 191, 193, 194, 195, 196, 197, 198, 199, 200, 201, 202, 372, 373, 374, 375, 376, 377, 379, 380, 381, 382, 383, 384, 385, 386, 387, 388]\n"
       ]
      },
      {
       "metadata": {},
       "output_type": "pyout",
       "prompt_number": 1154,
       "text": [
        "(0.8571428571428571, 0.8686567164179104)"
       ]
      }
     ],
     "prompt_number": 1154
    },
    {
     "cell_type": "code",
     "collapsed": false,
     "input": [
      "ind = df_feat[df_feat.ix[:, 'diff'] > 0.2].ind"
     ],
     "language": "python",
     "metadata": {},
     "outputs": [],
     "prompt_number": 1153
    },
    {
     "cell_type": "code",
     "collapsed": false,
     "input": [
      "df_feat.sort(columns=['sens', 'spec'], ascending=False)   # Sensitivity, sp\n",
      "df_feat.sort(columns=['diff', 'spec'], ascending=False)   # Diff, sp\n",
      "df_feat.sort(columns=[ 'spec', 'sens'], ascending=False)   # Specifity, se\n",
      "df_feat"
     ],
     "language": "python",
     "metadata": {},
     "outputs": [
      {
       "html": [
        "<div style=\"max-height:1000px;max-width:1500px;overflow:auto;\">\n",
        "<table border=\"1\" class=\"dataframe\">\n",
        "  <thead>\n",
        "    <tr style=\"text-align: right;\">\n",
        "      <th></th>\n",
        "      <th>ind</th>\n",
        "      <th>sens</th>\n",
        "      <th>spec</th>\n",
        "      <th>diff</th>\n",
        "      <th>name</th>\n",
        "    </tr>\n",
        "  </thead>\n",
        "  <tbody>\n",
        "    <tr>\n",
        "      <th>0  </th>\n",
        "      <td>   0</td>\n",
        "      <td> 0.571429</td>\n",
        "      <td> 0.491045</td>\n",
        "      <td> 0.080384</td>\n",
        "      <td>           Systolic Blood Pressure in mmHg-nanmean</td>\n",
        "    </tr>\n",
        "    <tr>\n",
        "      <th>1  </th>\n",
        "      <td>   1</td>\n",
        "      <td> 0.469388</td>\n",
        "      <td> 0.507463</td>\n",
        "      <td> 0.038075</td>\n",
        "      <td>          Diastolic Blood Pressure in mmHg-nanmean</td>\n",
        "    </tr>\n",
        "    <tr>\n",
        "      <th>2  </th>\n",
        "      <td>   2</td>\n",
        "      <td> 0.591837</td>\n",
        "      <td> 0.546269</td>\n",
        "      <td> 0.045568</td>\n",
        "      <td>                         Heart Rate in bpm-nanmean</td>\n",
        "    </tr>\n",
        "    <tr>\n",
        "      <th>3  </th>\n",
        "      <td>   3</td>\n",
        "      <td> 0.612245</td>\n",
        "      <td> 0.552239</td>\n",
        "      <td> 0.060006</td>\n",
        "      <td>                   Respiration Rate in bpm-nanmean</td>\n",
        "    </tr>\n",
        "    <tr>\n",
        "      <th>4  </th>\n",
        "      <td>   4</td>\n",
        "      <td> 0.489796</td>\n",
        "      <td> 0.500000</td>\n",
        "      <td> 0.010204</td>\n",
        "      <td>                    Oxygen Saturation in %-nanmean</td>\n",
        "    </tr>\n",
        "    <tr>\n",
        "      <th>5  </th>\n",
        "      <td>   5</td>\n",
        "      <td> 0.510204</td>\n",
        "      <td> 0.438806</td>\n",
        "      <td> 0.071398</td>\n",
        "      <td>                    Temperature in Celsius-nanmean</td>\n",
        "    </tr>\n",
        "    <tr>\n",
        "      <th>6  </th>\n",
        "      <td>   6</td>\n",
        "      <td> 0.448980</td>\n",
        "      <td> 0.691045</td>\n",
        "      <td> 0.242065</td>\n",
        "      <td>                   Arterial blood PH in ph-nanmean</td>\n",
        "    </tr>\n",
        "    <tr>\n",
        "      <th>7  </th>\n",
        "      <td>   7</td>\n",
        "      <td> 0.612245</td>\n",
        "      <td> 0.697015</td>\n",
        "      <td> 0.084770</td>\n",
        "      <td> Partial Pressure of Carbon dioxide (PaCO2) in ...</td>\n",
        "    </tr>\n",
        "    <tr>\n",
        "      <th>8  </th>\n",
        "      <td>   8</td>\n",
        "      <td> 0.530612</td>\n",
        "      <td> 0.674627</td>\n",
        "      <td> 0.144015</td>\n",
        "      <td> Partial Pressure of Oxygen (PaO2) in mmHg-nanmean</td>\n",
        "    </tr>\n",
        "    <tr>\n",
        "      <th>9  </th>\n",
        "      <td>   9</td>\n",
        "      <td> 0.591837</td>\n",
        "      <td> 0.525373</td>\n",
        "      <td> 0.066464</td>\n",
        "      <td>                          Sodium in mmol/L-nanmean</td>\n",
        "    </tr>\n",
        "    <tr>\n",
        "      <th>10 </th>\n",
        "      <td>  10</td>\n",
        "      <td> 0.489796</td>\n",
        "      <td> 0.526866</td>\n",
        "      <td> 0.037070</td>\n",
        "      <td>                       Potassium in mmol/L-nanmean</td>\n",
        "    </tr>\n",
        "    <tr>\n",
        "      <th>11 </th>\n",
        "      <td>  11</td>\n",
        "      <td> 0.551020</td>\n",
        "      <td> 0.667164</td>\n",
        "      <td> 0.116144</td>\n",
        "      <td>                     Bicarbonate in mmol/L-nanmean</td>\n",
        "    </tr>\n",
        "    <tr>\n",
        "      <th>12 </th>\n",
        "      <td>  12</td>\n",
        "      <td> 0.489796</td>\n",
        "      <td> 0.550746</td>\n",
        "      <td> 0.060950</td>\n",
        "      <td>              Blood Urea Nitrogen in mg/dL-nanmean</td>\n",
        "    </tr>\n",
        "    <tr>\n",
        "      <th>13 </th>\n",
        "      <td>  13</td>\n",
        "      <td> 0.612245</td>\n",
        "      <td> 0.555224</td>\n",
        "      <td> 0.057021</td>\n",
        "      <td>                 Serum Creatinine in mg/dL-nanmean</td>\n",
        "    </tr>\n",
        "    <tr>\n",
        "      <th>14 </th>\n",
        "      <td>  14</td>\n",
        "      <td> 0.551020</td>\n",
        "      <td> 0.564179</td>\n",
        "      <td> 0.013159</td>\n",
        "      <td>                     WBC Count in x 103/\u00b5L-nanmean</td>\n",
        "    </tr>\n",
        "    <tr>\n",
        "      <th>15 </th>\n",
        "      <td>  15</td>\n",
        "      <td> 0.448980</td>\n",
        "      <td> 0.528358</td>\n",
        "      <td> 0.079379</td>\n",
        "      <td>                              Hematocrit %-nanmean</td>\n",
        "    </tr>\n",
        "    <tr>\n",
        "      <th>16 </th>\n",
        "      <td>  16</td>\n",
        "      <td> 0.428571</td>\n",
        "      <td> 0.558209</td>\n",
        "      <td> 0.129638</td>\n",
        "      <td>                Platelet Count in x 103/\u00b5L-nanmean</td>\n",
        "    </tr>\n",
        "    <tr>\n",
        "      <th>17 </th>\n",
        "      <td>  17</td>\n",
        "      <td> 0.510204</td>\n",
        "      <td> 0.592537</td>\n",
        "      <td> 0.082333</td>\n",
        "      <td>                        Bilirubin in mg/dL-nanmean</td>\n",
        "    </tr>\n",
        "    <tr>\n",
        "      <th>18 </th>\n",
        "      <td>  18</td>\n",
        "      <td> 1.000000</td>\n",
        "      <td> 0.005970</td>\n",
        "      <td> 0.994030</td>\n",
        "      <td>                        Urine Output in ml-nanmean</td>\n",
        "    </tr>\n",
        "    <tr>\n",
        "      <th>19 </th>\n",
        "      <td>  19</td>\n",
        "      <td> 0.959184</td>\n",
        "      <td> 0.135821</td>\n",
        "      <td> 0.823363</td>\n",
        "      <td>                  LDL Cholesterol in mg/dL-nanmean</td>\n",
        "    </tr>\n",
        "    <tr>\n",
        "      <th>20 </th>\n",
        "      <td>  20</td>\n",
        "      <td> 0.387755</td>\n",
        "      <td> 0.867164</td>\n",
        "      <td> 0.479409</td>\n",
        "      <td>                     Lactic Acid in mmol/L-nanmean</td>\n",
        "    </tr>\n",
        "    <tr>\n",
        "      <th>21 </th>\n",
        "      <td>  21</td>\n",
        "      <td> 0.428571</td>\n",
        "      <td> 0.711940</td>\n",
        "      <td> 0.283369</td>\n",
        "      <td>                       Troponin I in ng/ml-nanmean</td>\n",
        "    </tr>\n",
        "    <tr>\n",
        "      <th>22 </th>\n",
        "      <td>  22</td>\n",
        "      <td> 0.020408</td>\n",
        "      <td> 0.988060</td>\n",
        "      <td> 0.967652</td>\n",
        "      <td>                       Troponin T in ng/ml-nanmean</td>\n",
        "    </tr>\n",
        "    <tr>\n",
        "      <th>23 </th>\n",
        "      <td>  23</td>\n",
        "      <td> 0.510204</td>\n",
        "      <td> 0.547761</td>\n",
        "      <td> 0.037557</td>\n",
        "      <td>             Random Blood Glucose in mg/dL-nanmean</td>\n",
        "    </tr>\n",
        "    <tr>\n",
        "      <th>24 </th>\n",
        "      <td>  24</td>\n",
        "      <td> 0.918367</td>\n",
        "      <td> 0.073134</td>\n",
        "      <td> 0.845233</td>\n",
        "      <td>            Fasting Blood Glucose in mg/dL-nanmean</td>\n",
        "    </tr>\n",
        "    <tr>\n",
        "      <th>25 </th>\n",
        "      <td>  25</td>\n",
        "      <td> 0.448980</td>\n",
        "      <td> 0.820896</td>\n",
        "      <td> 0.371916</td>\n",
        "      <td>   Fraction of Inspired Oxygen (FiO2) in %-nanmean</td>\n",
        "    </tr>\n",
        "    <tr>\n",
        "      <th>26 </th>\n",
        "      <td>  26</td>\n",
        "      <td> 0.510204</td>\n",
        "      <td> 0.637313</td>\n",
        "      <td> 0.127109</td>\n",
        "      <td>                           Albumin in g/dl-nanmean</td>\n",
        "    </tr>\n",
        "    <tr>\n",
        "      <th>27 </th>\n",
        "      <td>  27</td>\n",
        "      <td> 0.428571</td>\n",
        "      <td> 0.613433</td>\n",
        "      <td> 0.184861</td>\n",
        "      <td>              Alkaline Phosphatase in IU/L-nanmean</td>\n",
        "    </tr>\n",
        "    <tr>\n",
        "      <th>28 </th>\n",
        "      <td>  28</td>\n",
        "      <td> 0.306122</td>\n",
        "      <td> 0.761194</td>\n",
        "      <td> 0.455072</td>\n",
        "      <td>                           Alanine in IU/L-nanmean</td>\n",
        "    </tr>\n",
        "    <tr>\n",
        "      <th>29 </th>\n",
        "      <td>  29</td>\n",
        "      <td> 1.000000</td>\n",
        "      <td> 0.052239</td>\n",
        "      <td> 0.947761</td>\n",
        "      <td>                  HDL Cholesterol in mg/dL-nanmean</td>\n",
        "    </tr>\n",
        "    <tr>\n",
        "      <th>...</th>\n",
        "      <td>...</td>\n",
        "      <td>...</td>\n",
        "      <td>...</td>\n",
        "      <td>...</td>\n",
        "      <td>...</td>\n",
        "    </tr>\n",
        "    <tr>\n",
        "      <th>156</th>\n",
        "      <td> 156</td>\n",
        "      <td> 0.755102</td>\n",
        "      <td> 0.294030</td>\n",
        "      <td> 0.461072</td>\n",
        "      <td>         Diastolic Blood Pressure in mmHg-&lt;lambda&gt;</td>\n",
        "    </tr>\n",
        "    <tr>\n",
        "      <th>157</th>\n",
        "      <td> 157</td>\n",
        "      <td> 0.551020</td>\n",
        "      <td> 0.634328</td>\n",
        "      <td> 0.083308</td>\n",
        "      <td>                        Heart Rate in bpm-&lt;lambda&gt;</td>\n",
        "    </tr>\n",
        "    <tr>\n",
        "      <th>158</th>\n",
        "      <td> 158</td>\n",
        "      <td> 0.591837</td>\n",
        "      <td> 0.464179</td>\n",
        "      <td> 0.127658</td>\n",
        "      <td>                  Respiration Rate in bpm-&lt;lambda&gt;</td>\n",
        "    </tr>\n",
        "    <tr>\n",
        "      <th>159</th>\n",
        "      <td> 159</td>\n",
        "      <td> 0.551020</td>\n",
        "      <td> 0.377612</td>\n",
        "      <td> 0.173408</td>\n",
        "      <td>                   Oxygen Saturation in %-&lt;lambda&gt;</td>\n",
        "    </tr>\n",
        "    <tr>\n",
        "      <th>160</th>\n",
        "      <td> 160</td>\n",
        "      <td> 0.897959</td>\n",
        "      <td> 0.152239</td>\n",
        "      <td> 0.745720</td>\n",
        "      <td>                   Temperature in Celsius-&lt;lambda&gt;</td>\n",
        "    </tr>\n",
        "    <tr>\n",
        "      <th>161</th>\n",
        "      <td> 161</td>\n",
        "      <td> 0.020408</td>\n",
        "      <td> 0.988060</td>\n",
        "      <td> 0.967652</td>\n",
        "      <td>                  Arterial blood PH in ph-&lt;lambda&gt;</td>\n",
        "    </tr>\n",
        "    <tr>\n",
        "      <th>162</th>\n",
        "      <td> 162</td>\n",
        "      <td> 0.040816</td>\n",
        "      <td> 0.974627</td>\n",
        "      <td> 0.933811</td>\n",
        "      <td> Partial Pressure of Carbon dioxide (PaCO2) in ...</td>\n",
        "    </tr>\n",
        "    <tr>\n",
        "      <th>163</th>\n",
        "      <td> 163</td>\n",
        "      <td> 0.081633</td>\n",
        "      <td> 0.976119</td>\n",
        "      <td> 0.894487</td>\n",
        "      <td> Partial Pressure of Oxygen (PaO2) in mmHg-&lt;lam...</td>\n",
        "    </tr>\n",
        "    <tr>\n",
        "      <th>164</th>\n",
        "      <td> 164</td>\n",
        "      <td> 0.979592</td>\n",
        "      <td> 0.058209</td>\n",
        "      <td> 0.921383</td>\n",
        "      <td>                         Sodium in mmol/L-&lt;lambda&gt;</td>\n",
        "    </tr>\n",
        "    <tr>\n",
        "      <th>165</th>\n",
        "      <td> 165</td>\n",
        "      <td> 1.000000</td>\n",
        "      <td> 0.061194</td>\n",
        "      <td> 0.938806</td>\n",
        "      <td>                      Potassium in mmol/L-&lt;lambda&gt;</td>\n",
        "    </tr>\n",
        "    <tr>\n",
        "      <th>166</th>\n",
        "      <td> 166</td>\n",
        "      <td> 0.081633</td>\n",
        "      <td> 0.976119</td>\n",
        "      <td> 0.894487</td>\n",
        "      <td>                    Bicarbonate in mmol/L-&lt;lambda&gt;</td>\n",
        "    </tr>\n",
        "    <tr>\n",
        "      <th>167</th>\n",
        "      <td> 167</td>\n",
        "      <td> 1.000000</td>\n",
        "      <td> 0.056716</td>\n",
        "      <td> 0.943284</td>\n",
        "      <td>             Blood Urea Nitrogen in mg/dL-&lt;lambda&gt;</td>\n",
        "    </tr>\n",
        "    <tr>\n",
        "      <th>168</th>\n",
        "      <td> 168</td>\n",
        "      <td> 1.000000</td>\n",
        "      <td> 0.056716</td>\n",
        "      <td> 0.943284</td>\n",
        "      <td>                Serum Creatinine in mg/dL-&lt;lambda&gt;</td>\n",
        "    </tr>\n",
        "    <tr>\n",
        "      <th>169</th>\n",
        "      <td> 169</td>\n",
        "      <td> 1.000000</td>\n",
        "      <td> 0.040299</td>\n",
        "      <td> 0.959701</td>\n",
        "      <td>                    WBC Count in x 103/\u00b5L-&lt;lambda&gt;</td>\n",
        "    </tr>\n",
        "    <tr>\n",
        "      <th>170</th>\n",
        "      <td> 170</td>\n",
        "      <td> 1.000000</td>\n",
        "      <td> 0.047761</td>\n",
        "      <td> 0.952239</td>\n",
        "      <td>                             Hematocrit %-&lt;lambda&gt;</td>\n",
        "    </tr>\n",
        "    <tr>\n",
        "      <th>171</th>\n",
        "      <td> 171</td>\n",
        "      <td> 1.000000</td>\n",
        "      <td> 0.041791</td>\n",
        "      <td> 0.958209</td>\n",
        "      <td>               Platelet Count in x 103/\u00b5L-&lt;lambda&gt;</td>\n",
        "    </tr>\n",
        "    <tr>\n",
        "      <th>172</th>\n",
        "      <td> 172</td>\n",
        "      <td> 1.000000</td>\n",
        "      <td> 0.022388</td>\n",
        "      <td> 0.977612</td>\n",
        "      <td>                       Bilirubin in mg/dL-&lt;lambda&gt;</td>\n",
        "    </tr>\n",
        "    <tr>\n",
        "      <th>173</th>\n",
        "      <td> 173</td>\n",
        "      <td> 0.000000</td>\n",
        "      <td> 1.000000</td>\n",
        "      <td> 1.000000</td>\n",
        "      <td>                       Urine Output in ml-&lt;lambda&gt;</td>\n",
        "    </tr>\n",
        "    <tr>\n",
        "      <th>174</th>\n",
        "      <td> 174</td>\n",
        "      <td> 1.000000</td>\n",
        "      <td> 0.005970</td>\n",
        "      <td> 0.994030</td>\n",
        "      <td>                 LDL Cholesterol in mg/dL-&lt;lambda&gt;</td>\n",
        "    </tr>\n",
        "    <tr>\n",
        "      <th>175</th>\n",
        "      <td> 175</td>\n",
        "      <td> 1.000000</td>\n",
        "      <td> 0.001493</td>\n",
        "      <td> 0.998507</td>\n",
        "      <td>                    Lactic Acid in mmol/L-&lt;lambda&gt;</td>\n",
        "    </tr>\n",
        "    <tr>\n",
        "      <th>176</th>\n",
        "      <td> 176</td>\n",
        "      <td> 0.020408</td>\n",
        "      <td> 0.986567</td>\n",
        "      <td> 0.966159</td>\n",
        "      <td>                      Troponin I in ng/ml-&lt;lambda&gt;</td>\n",
        "    </tr>\n",
        "    <tr>\n",
        "      <th>177</th>\n",
        "      <td> 177</td>\n",
        "      <td> 0.000000</td>\n",
        "      <td> 1.000000</td>\n",
        "      <td> 1.000000</td>\n",
        "      <td>                      Troponin T in ng/ml-&lt;lambda&gt;</td>\n",
        "    </tr>\n",
        "    <tr>\n",
        "      <th>178</th>\n",
        "      <td> 178</td>\n",
        "      <td> 0.979592</td>\n",
        "      <td> 0.122388</td>\n",
        "      <td> 0.857204</td>\n",
        "      <td>            Random Blood Glucose in mg/dL-&lt;lambda&gt;</td>\n",
        "    </tr>\n",
        "    <tr>\n",
        "      <th>179</th>\n",
        "      <td> 179</td>\n",
        "      <td> 1.000000</td>\n",
        "      <td> 0.022388</td>\n",
        "      <td> 0.977612</td>\n",
        "      <td>           Fasting Blood Glucose in mg/dL-&lt;lambda&gt;</td>\n",
        "    </tr>\n",
        "    <tr>\n",
        "      <th>180</th>\n",
        "      <td> 180</td>\n",
        "      <td> 0.020408</td>\n",
        "      <td> 0.991045</td>\n",
        "      <td> 0.970637</td>\n",
        "      <td>  Fraction of Inspired Oxygen (FiO2) in %-&lt;lambda&gt;</td>\n",
        "    </tr>\n",
        "    <tr>\n",
        "      <th>181</th>\n",
        "      <td> 181</td>\n",
        "      <td> 1.000000</td>\n",
        "      <td> 0.032836</td>\n",
        "      <td> 0.967164</td>\n",
        "      <td>                          Albumin in g/dl-&lt;lambda&gt;</td>\n",
        "    </tr>\n",
        "    <tr>\n",
        "      <th>182</th>\n",
        "      <td> 182</td>\n",
        "      <td> 1.000000</td>\n",
        "      <td> 0.017910</td>\n",
        "      <td> 0.982090</td>\n",
        "      <td>             Alkaline Phosphatase in IU/L-&lt;lambda&gt;</td>\n",
        "    </tr>\n",
        "    <tr>\n",
        "      <th>183</th>\n",
        "      <td> 183</td>\n",
        "      <td> 1.000000</td>\n",
        "      <td> 0.007463</td>\n",
        "      <td> 0.992537</td>\n",
        "      <td>                          Alanine in IU/L-&lt;lambda&gt;</td>\n",
        "    </tr>\n",
        "    <tr>\n",
        "      <th>184</th>\n",
        "      <td> 184</td>\n",
        "      <td> 1.000000</td>\n",
        "      <td> 0.004478</td>\n",
        "      <td> 0.995522</td>\n",
        "      <td>                 HDL Cholesterol in mg/dL-&lt;lambda&gt;</td>\n",
        "    </tr>\n",
        "    <tr>\n",
        "      <th>185</th>\n",
        "      <td> 185</td>\n",
        "      <td> 1.000000</td>\n",
        "      <td> 0.022388</td>\n",
        "      <td> 0.977612</td>\n",
        "      <td>                       Magnesium in mg/dL-&lt;lambda&gt;</td>\n",
        "    </tr>\n",
        "  </tbody>\n",
        "</table>\n",
        "<p>186 rows \u00d7 5 columns</p>\n",
        "</div>"
       ],
       "metadata": {},
       "output_type": "pyout",
       "prompt_number": 1137,
       "text": [
        "     ind      sens      spec      diff  \\\n",
        "0      0  0.571429  0.491045  0.080384   \n",
        "1      1  0.469388  0.507463  0.038075   \n",
        "2      2  0.591837  0.546269  0.045568   \n",
        "3      3  0.612245  0.552239  0.060006   \n",
        "4      4  0.489796  0.500000  0.010204   \n",
        "5      5  0.510204  0.438806  0.071398   \n",
        "6      6  0.448980  0.691045  0.242065   \n",
        "7      7  0.612245  0.697015  0.084770   \n",
        "8      8  0.530612  0.674627  0.144015   \n",
        "9      9  0.591837  0.525373  0.066464   \n",
        "10    10  0.489796  0.526866  0.037070   \n",
        "11    11  0.551020  0.667164  0.116144   \n",
        "12    12  0.489796  0.550746  0.060950   \n",
        "13    13  0.612245  0.555224  0.057021   \n",
        "14    14  0.551020  0.564179  0.013159   \n",
        "15    15  0.448980  0.528358  0.079379   \n",
        "16    16  0.428571  0.558209  0.129638   \n",
        "17    17  0.510204  0.592537  0.082333   \n",
        "18    18  1.000000  0.005970  0.994030   \n",
        "19    19  0.959184  0.135821  0.823363   \n",
        "20    20  0.387755  0.867164  0.479409   \n",
        "21    21  0.428571  0.711940  0.283369   \n",
        "22    22  0.020408  0.988060  0.967652   \n",
        "23    23  0.510204  0.547761  0.037557   \n",
        "24    24  0.918367  0.073134  0.845233   \n",
        "25    25  0.448980  0.820896  0.371916   \n",
        "26    26  0.510204  0.637313  0.127109   \n",
        "27    27  0.428571  0.613433  0.184861   \n",
        "28    28  0.306122  0.761194  0.455072   \n",
        "29    29  1.000000  0.052239  0.947761   \n",
        "..   ...       ...       ...       ...   \n",
        "156  156  0.755102  0.294030  0.461072   \n",
        "157  157  0.551020  0.634328  0.083308   \n",
        "158  158  0.591837  0.464179  0.127658   \n",
        "159  159  0.551020  0.377612  0.173408   \n",
        "160  160  0.897959  0.152239  0.745720   \n",
        "161  161  0.020408  0.988060  0.967652   \n",
        "162  162  0.040816  0.974627  0.933811   \n",
        "163  163  0.081633  0.976119  0.894487   \n",
        "164  164  0.979592  0.058209  0.921383   \n",
        "165  165  1.000000  0.061194  0.938806   \n",
        "166  166  0.081633  0.976119  0.894487   \n",
        "167  167  1.000000  0.056716  0.943284   \n",
        "168  168  1.000000  0.056716  0.943284   \n",
        "169  169  1.000000  0.040299  0.959701   \n",
        "170  170  1.000000  0.047761  0.952239   \n",
        "171  171  1.000000  0.041791  0.958209   \n",
        "172  172  1.000000  0.022388  0.977612   \n",
        "173  173  0.000000  1.000000  1.000000   \n",
        "174  174  1.000000  0.005970  0.994030   \n",
        "175  175  1.000000  0.001493  0.998507   \n",
        "176  176  0.020408  0.986567  0.966159   \n",
        "177  177  0.000000  1.000000  1.000000   \n",
        "178  178  0.979592  0.122388  0.857204   \n",
        "179  179  1.000000  0.022388  0.977612   \n",
        "180  180  0.020408  0.991045  0.970637   \n",
        "181  181  1.000000  0.032836  0.967164   \n",
        "182  182  1.000000  0.017910  0.982090   \n",
        "183  183  1.000000  0.007463  0.992537   \n",
        "184  184  1.000000  0.004478  0.995522   \n",
        "185  185  1.000000  0.022388  0.977612   \n",
        "\n",
        "                                                  name  \n",
        "0              Systolic Blood Pressure in mmHg-nanmean  \n",
        "1             Diastolic Blood Pressure in mmHg-nanmean  \n",
        "2                            Heart Rate in bpm-nanmean  \n",
        "3                      Respiration Rate in bpm-nanmean  \n",
        "4                       Oxygen Saturation in %-nanmean  \n",
        "5                       Temperature in Celsius-nanmean  \n",
        "6                      Arterial blood PH in ph-nanmean  \n",
        "7    Partial Pressure of Carbon dioxide (PaCO2) in ...  \n",
        "8    Partial Pressure of Oxygen (PaO2) in mmHg-nanmean  \n",
        "9                             Sodium in mmol/L-nanmean  \n",
        "10                         Potassium in mmol/L-nanmean  \n",
        "11                       Bicarbonate in mmol/L-nanmean  \n",
        "12                Blood Urea Nitrogen in mg/dL-nanmean  \n",
        "13                   Serum Creatinine in mg/dL-nanmean  \n",
        "14                       WBC Count in x 103/\u00b5L-nanmean  \n",
        "15                                Hematocrit %-nanmean  \n",
        "16                  Platelet Count in x 103/\u00b5L-nanmean  \n",
        "17                          Bilirubin in mg/dL-nanmean  \n",
        "18                          Urine Output in ml-nanmean  \n",
        "19                    LDL Cholesterol in mg/dL-nanmean  \n",
        "20                       Lactic Acid in mmol/L-nanmean  \n",
        "21                         Troponin I in ng/ml-nanmean  \n",
        "22                         Troponin T in ng/ml-nanmean  \n",
        "23               Random Blood Glucose in mg/dL-nanmean  \n",
        "24              Fasting Blood Glucose in mg/dL-nanmean  \n",
        "25     Fraction of Inspired Oxygen (FiO2) in %-nanmean  \n",
        "26                             Albumin in g/dl-nanmean  \n",
        "27                Alkaline Phosphatase in IU/L-nanmean  \n",
        "28                             Alanine in IU/L-nanmean  \n",
        "29                    HDL Cholesterol in mg/dL-nanmean  \n",
        "..                                                 ...  \n",
        "156          Diastolic Blood Pressure in mmHg-<lambda>  \n",
        "157                         Heart Rate in bpm-<lambda>  \n",
        "158                   Respiration Rate in bpm-<lambda>  \n",
        "159                    Oxygen Saturation in %-<lambda>  \n",
        "160                    Temperature in Celsius-<lambda>  \n",
        "161                   Arterial blood PH in ph-<lambda>  \n",
        "162  Partial Pressure of Carbon dioxide (PaCO2) in ...  \n",
        "163  Partial Pressure of Oxygen (PaO2) in mmHg-<lam...  \n",
        "164                          Sodium in mmol/L-<lambda>  \n",
        "165                       Potassium in mmol/L-<lambda>  \n",
        "166                     Bicarbonate in mmol/L-<lambda>  \n",
        "167              Blood Urea Nitrogen in mg/dL-<lambda>  \n",
        "168                 Serum Creatinine in mg/dL-<lambda>  \n",
        "169                     WBC Count in x 103/\u00b5L-<lambda>  \n",
        "170                              Hematocrit %-<lambda>  \n",
        "171                Platelet Count in x 103/\u00b5L-<lambda>  \n",
        "172                        Bilirubin in mg/dL-<lambda>  \n",
        "173                        Urine Output in ml-<lambda>  \n",
        "174                  LDL Cholesterol in mg/dL-<lambda>  \n",
        "175                     Lactic Acid in mmol/L-<lambda>  \n",
        "176                       Troponin I in ng/ml-<lambda>  \n",
        "177                       Troponin T in ng/ml-<lambda>  \n",
        "178             Random Blood Glucose in mg/dL-<lambda>  \n",
        "179            Fasting Blood Glucose in mg/dL-<lambda>  \n",
        "180   Fraction of Inspired Oxygen (FiO2) in %-<lambda>  \n",
        "181                           Albumin in g/dl-<lambda>  \n",
        "182              Alkaline Phosphatase in IU/L-<lambda>  \n",
        "183                           Alanine in IU/L-<lambda>  \n",
        "184                  HDL Cholesterol in mg/dL-<lambda>  \n",
        "185                        Magnesium in mg/dL-<lambda>  \n",
        "\n",
        "[186 rows x 5 columns]"
       ]
      }
     ],
     "prompt_number": 1137
    },
    {
     "cell_type": "code",
     "collapsed": false,
     "input": [
      "get_cols_stat_se_sp(forests, [29, ])"
     ],
     "language": "python",
     "metadata": {},
     "outputs": [
      {
       "output_type": "stream",
       "stream": "stdout",
       "text": [
        "[29, 24]\n"
       ]
      },
      {
       "metadata": {},
       "output_type": "pyout",
       "prompt_number": 800,
       "text": [
        "(0.96703296703296704, 0.10953300761277128)"
       ]
      }
     ],
     "prompt_number": 800
    },
    {
     "cell_type": "code",
     "collapsed": false,
     "input": [],
     "language": "python",
     "metadata": {},
     "outputs": []
    },
    {
     "cell_type": "markdown",
     "metadata": {},
     "source": [
      "### Dhruv's features!\n",
      "- las sys\n",
      "- llas dias\n",
      "\n",
      "- mean oxyge\n",
      "- max lac\n",
      "- max hr\n",
      "- sum bicarb\n",
      "- sum resp rate"
     ]
    },
    {
     "cell_type": "markdown",
     "metadata": {},
     "source": [
      "# GO ONLINE!"
     ]
    },
    {
     "cell_type": "code",
     "collapsed": false,
     "input": [
      "### Takes list of patient time series, and creates windows starting at zero, and then gives seq of predictions\n",
      "def get_pred_seqs(data, n_windows, stats):\n",
      "    data_all_windows = get_list_all_window_stats(data, n_windows, stats)"
     ],
     "language": "python",
     "metadata": {},
     "outputs": [],
     "prompt_number": 57
    },
    {
     "cell_type": "code",
     "collapsed": false,
     "input": [
      "def get_patient_pred_seq(patient_all_windows, pr, theta_max, models):\n",
      "    probs = get_proba(models, patient_all_windows)\n",
      "    y_pred = get_pr_predictions(patient_all_windows, pr, theta_max, models)\n",
      "    return y_pred"
     ],
     "language": "python",
     "metadata": {},
     "outputs": [],
     "prompt_number": 58
    },
    {
     "cell_type": "markdown",
     "metadata": {},
     "source": [
      "#### predict y using seqs\n",
      "y_ts_valid = np.zeros((n_valid_combined, 1))\n",
      "for i in np.arange(n_valid_combined):\n",
      "    #if labels_valid[i] == 0:\n",
      "    #    continue\n",
      "    #print i\n",
      "    y_pred = get_patient_pred_seq(data_all_windows_valid[i], pr, theta_max_forest, forests)\n",
      "    if np.sum(y_pred)>0:\n",
      "        y_ts_valid[i] = 1"
     ]
    },
    {
     "cell_type": "code",
     "collapsed": false,
     "input": [
      "data_all_windows_valid = get_list_all_window_stats(patients_valid, n_windows, stats)\n",
      "print data_all_windows_valid[1].shape, len(data_all_windows_valid), patients_valid.shape"
     ],
     "language": "python",
     "metadata": {},
     "outputs": [
      {
       "output_type": "stream",
       "stream": "stdout",
       "text": [
        "(289, 465) 719 (719,)\n"
       ]
      }
     ],
     "prompt_number": 60
    },
    {
     "cell_type": "code",
     "collapsed": false,
     "input": [
      "data_all_windows_stacked = np.vstack(data_all_windows_valid)\n",
      "ind_all_windows_stacked = np.vstack([np.ones((x.shape[0], 1)) * i for i, x in enumerate(data_all_windows_valid) ])"
     ],
     "language": "python",
     "metadata": {},
     "outputs": [],
     "prompt_number": 61
    },
    {
     "cell_type": "code",
     "collapsed": false,
     "input": [
      "print ind_all_windows_stacked.shape, data_all_windows_stacked.shape\n",
      "print sum(ind_all_windows_stacked==50), data_all_windows_valid[50].shape"
     ],
     "language": "python",
     "metadata": {},
     "outputs": [
      {
       "output_type": "stream",
       "stream": "stdout",
       "text": [
        "(120758, 1) (120758, 465)\n",
        "[233]"
       ]
      },
      {
       "output_type": "stream",
       "stream": "stdout",
       "text": [
        " (233, 465)\n"
       ]
      }
     ],
     "prompt_number": 69
    },
    {
     "cell_type": "code",
     "collapsed": false,
     "input": [
      "y_pred_stacked = get_patient_pred_seq(data_all_windows_stacked, probit_reg, theta_max_forest, forests)"
     ],
     "language": "python",
     "metadata": {},
     "outputs": [],
     "prompt_number": 71
    },
    {
     "cell_type": "code",
     "collapsed": false,
     "input": [
      "y_pred = np.array([np.sum(y_pred_stacked[ind_all_windows_stacked == i])>0.25*np.sum(ind_all_windows_stacked==i) for i in xrange(n_valid_combined)])"
     ],
     "language": "python",
     "metadata": {},
     "outputs": [],
     "prompt_number": 91
    },
    {
     "cell_type": "code",
     "collapsed": false,
     "input": [
      "patients_valid[28].shape"
     ],
     "language": "python",
     "metadata": {},
     "outputs": [
      {
       "metadata": {},
       "output_type": "pyout",
       "prompt_number": 92,
       "text": [
        "(459, 31)"
       ]
      }
     ],
     "prompt_number": 92
    },
    {
     "cell_type": "code",
     "collapsed": false,
     "input": [
      "y_pred_stacked[ind_all_windows_stacked == 500]"
     ],
     "language": "python",
     "metadata": {},
     "outputs": [
      {
       "metadata": {},
       "output_type": "pyout",
       "prompt_number": 93,
       "text": [
        "array([ True,  True,  True,  True, False, False, False, False, False,\n",
        "       False, False, False, False, False,  True, False, False, False,\n",
        "       False, False, False, False, False, False, False, False, False,\n",
        "       False, False, False, False, False, False, False, False, False,\n",
        "       False, False, False, False, False, False, False, False, False,\n",
        "       False, False, False, False, False, False, False, False, False,\n",
        "       False, False, False, False, False, False, False, False, False,\n",
        "       False, False, False, False, False, False, False, False, False,\n",
        "       False, False, False, False, False, False, False, False, False,\n",
        "       False, False, False, False, False, False, False, False, False,\n",
        "       False, False, False, False, False, False, False, False, False,\n",
        "       False, False, False, False, False, False, False, False, False,\n",
        "       False, False, False, False, False, False, False, False, False,\n",
        "       False, False,  True,  True, False,  True,  True,  True,  True,\n",
        "        True,  True,  True,  True,  True,  True,  True,  True,  True,\n",
        "        True,  True,  True,  True, False, False, False, False, False,\n",
        "       False, False, False, False, False, False, False, False, False,\n",
        "       False, False, False, False, False, False, False, False, False,\n",
        "       False, False, False, False, False, False, False, False, False,\n",
        "       False, False, False, False, False, False, False, False, False,\n",
        "       False, False, False, False, False, False, False, False, False,\n",
        "       False, False, False, False, False, False, False, False, False], dtype=bool)"
       ]
      }
     ],
     "prompt_number": 93
    },
    {
     "cell_type": "code",
     "collapsed": false,
     "input": [
      "y_pred.shape"
     ],
     "language": "python",
     "metadata": {},
     "outputs": [
      {
       "metadata": {},
       "output_type": "pyout",
       "prompt_number": 94,
       "text": [
        "(719,)"
       ]
      }
     ],
     "prompt_number": 94
    },
    {
     "cell_type": "code",
     "collapsed": false,
     "input": [
      "y_pred"
     ],
     "language": "python",
     "metadata": {},
     "outputs": []
    },
    {
     "cell_type": "code",
     "collapsed": false,
     "input": [
      "get_ss(confusion_matrix(labels_valid, y_pred))"
     ],
     "language": "python",
     "metadata": {},
     "outputs": [
      {
       "metadata": {},
       "output_type": "pyout",
       "prompt_number": 96,
       "text": [
        "(0.9047619047619048, 0.6735598227474151)"
       ]
      }
     ],
     "prompt_number": 96
    },
    {
     "cell_type": "markdown",
     "metadata": {},
     "source": [
      "# Things that did not work"
     ]
    },
    {
     "cell_type": "markdown",
     "metadata": {},
     "source": [
      "#### Weird svms combination\n",
      "svms = [svm.NuSVC(nu=0.10, kernel='poly', degree=2, gamma=10**(-1.7), coef0=100, probability=True),\n",
      "        svm.NuSVC(nu=0.10, kernel='poly', degree=2, gamma=10**(-1.7), coef0=100, probability=True),\n",
      "        svm.NuSVC(nu=0.10, kernel='poly', degree=2, gamma=10**(-1.7), coef0=100, probability=True),\n",
      "        svm.NuSVC(nu=0.10, kernel='poly', degree=2, gamma=10**(-1.7), coef0=100, probability=True),\n",
      "        svm.NuSVC(nu=0.10, kernel='poly', degree=2, gamma=10**(-1.7), coef0=100, probability=True),\n",
      "        svm.NuSVC(nu=0.10, kernel='poly', degree=2, gamma=10**(-1.7), coef0=100, probability=True),\n",
      "        svm.NuSVC(nu=0.10, kernel='poly', degree=2, gamma=10**(-1.7), coef0=100, probability=True),\n",
      "        svm.NuSVC(nu=0.5, kernel='poly', degree=2, gamma=10**(-1.7), coef0=100, probability=True),\n",
      "        svm.NuSVC(nu=0.9, kernel='poly', degree=2, gamma=10**(-1.7), coef0=100, probability=True),\n",
      "        svm.NuSVC(nu=0.8, kernel='poly', degree=2, gamma=10**(-1.7), coef0=100, probability=True),\n",
      "        svm.NuSVC(nu=0.8, kernel='poly', degree=2, gamma=10**(-1.7), coef0=100, probability=True),\n",
      "        svm.NuSVC(nu=0.8, kernel='poly', degree=2, gamma=10**(-1.7), coef0=100, probability=True)\n",
      "        ]\n",
      "c_train, c_valid = train_balanced(svms)\n",
      "probit_reg_svm, theta_max_svm = train_pr_max_sens(svms, data_train, labels_train)\n",
      "\n",
      "svms = [svm.NuSVC(nu=0.52, kernel='poly', degree=2, gamma=10**(-1.7), coef0=1, probability=True),\n",
      "        svm.NuSVC(nu=0.52, kernel='poly', degree=2, gamma=10**(-1.3), coef0=1, probability=True),\n",
      "        svm.NuSVC(nu=0.40, kernel='poly', degree=2, gamma=10**(-1.1), coef0=1, probability=True),\n",
      "        svm.NuSVC(nu=0.50, kernel='poly', degree=2, gamma=10**(-0.9), coef0=1, probability=True),\n",
      "        svm.NuSVC(nu=0.56, kernel='poly', degree=2, gamma=10**(-0.7), coef0=1, probability=True),\n",
      "        svm.NuSVC(nu=0.62, kernel='poly', degree=2, gamma=10**(-2), coef0=1, probability=True),\n",
      "        svm.NuSVC(nu=0.62, kernel='poly', degree=2, gamma=10**(-2), coef0=1, probability=True),\n",
      "        svm.NuSVC(nu=0.44, kernel='poly', degree=2, gamma=10**(-0.1), coef0=1, probability=True),\n",
      "        svm.NuSVC(nu=0.90, kernel='poly', degree=2, gamma=10**(-0.1), coef0=1, probability=True),\n",
      "        svm.NuSVC(nu=0.45, kernel='poly', degree=2, gamma=10**(-1.4), coef0=1, probability=True),\n",
      "        svm.NuSVC(nu=0.60, kernel='poly', degree=2, gamma=10**(-1.7), coef0=1, probability=True),\n",
      "        svm.NuSVC(nu=0.90, kernel='poly', degree=2, gamma=10**(-1.1), coef0=1, probability=True),\n",
      "        svm.NuSVC(nu=0.51, kernel='poly', degree=2, gamma=10**(-1.7), coef0=1, probability=True)\n",
      "        ]"
     ]
    }
   ],
   "metadata": {}
  }
 ]
}