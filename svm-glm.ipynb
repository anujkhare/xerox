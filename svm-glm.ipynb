{
 "metadata": {
  "name": "",
  "signature": "sha256:22ac739a6ee420524cc3ba2e5f989e3a6c29c52f2bb8f0a404a4e275a27f02d6"
 },
 "nbformat": 3,
 "nbformat_minor": 0,
 "worksheets": [
  {
   "cells": [
    {
     "cell_type": "code",
     "collapsed": false,
     "input": [
      "%reset"
     ],
     "language": "python",
     "metadata": {},
     "outputs": [
      {
       "name": "stdout",
       "output_type": "stream",
       "stream": "stdout",
       "text": [
        "Once deleted, variables cannot be recovered. Proceed (y/[n])? y\n"
       ]
      }
     ],
     "prompt_number": 837
    },
    {
     "cell_type": "code",
     "collapsed": false,
     "input": [
      "import pysal\n",
      "from pysal import *\n",
      "from sklearn.ensemble import RandomForestClassifier\n",
      "from sklearn import svm\n",
      "from sklearn.metrics import confusion_matrix\n",
      "from math import *\n",
      "from scipy.stats import *\n",
      "import re\n",
      "import pandas\n",
      "import numpy as np\n",
      "import pandas as pd\n",
      "from pandas import Series, DataFrame\n",
      "import matplotlib.pyplot as plt\n",
      "from scipy.stats import norm\n",
      "from sklearn.linear_model import *"
     ],
     "language": "python",
     "metadata": {},
     "outputs": [],
     "prompt_number": 847
    },
    {
     "cell_type": "code",
     "collapsed": false,
     "input": [
      "df_age = pd.read_csv('data_train/id_age_train.csv')\n",
      "df_labels = pd.read_csv('data_train/id_label_train.csv')\n",
      "df_vitals = pd.read_csv('data_train/id_time_vitals_train.csv')\n",
      "df_labs = pd.read_csv('data_train/id_time_labs_train.csv')"
     ],
     "language": "python",
     "metadata": {},
     "outputs": [],
     "prompt_number": 841
    },
    {
     "cell_type": "markdown",
     "metadata": {},
     "source": [
      "### Normalize following the procedure in the paper\n",
      "\n",
      "#### Find the xL, xU, w1, w2, w3 vars"
     ]
    },
    {
     "cell_type": "code",
     "collapsed": false,
     "input": [
      "df_combined = df_vitals.drop('ICU', axis=1).copy()"
     ],
     "language": "python",
     "metadata": {},
     "outputs": [],
     "prompt_number": 842
    },
    {
     "cell_type": "code",
     "collapsed": false,
     "input": [
      "df_combined = df_combined.join(df_labs.drop(['ID', 'TIME'], axis=1))\n",
      "df_combined.drop(['ID', 'TIME'], axis=1, inplace=True)"
     ],
     "language": "python",
     "metadata": {},
     "outputs": [],
     "prompt_number": 843
    },
    {
     "cell_type": "code",
     "collapsed": false,
     "input": [
      "n_features = 31"
     ],
     "language": "python",
     "metadata": {},
     "outputs": [],
     "prompt_number": 844
    },
    {
     "cell_type": "markdown",
     "metadata": {},
     "source": [
      "### Process the entire data using this process"
     ]
    },
    {
     "cell_type": "code",
     "collapsed": false,
     "input": [
      "# transform one element given range and W\n",
      "def norm_transform(x, x_range, W):\n",
      "    if(x<x_range[0]):\n",
      "        x=x_range[0]\n",
      "    if(x>x_range[1]):\n",
      "        x=x_range[1]\n",
      "        \n",
      "    return np.dot(W,\n",
      "                  [1, x, log(1+x)])"
     ],
     "language": "python",
     "metadata": {},
     "outputs": [],
     "prompt_number": 849
    },
    {
     "cell_type": "code",
     "collapsed": false,
     "input": [
      "x_range = np.zeros((n_features, 2))\n",
      "W = np.zeros((n_features, 3))\n",
      "for i in xrange(n_features):\n",
      "#for i in xrange(1):\n",
      "    vals = df_combined.ix[df_combined.ix[:, i].notnull(), i]\n",
      "    vals = np.sort(vals)\n",
      "\n",
      "    # find the quantiles\n",
      "    N = vals.shape[0]\n",
      "    q = np.array([(j-0.5)/N for j in xrange(N)])\n",
      "    \n",
      "    i_l = np.min(np.arange(q.shape[0])[q>0.01])\n",
      "    i_u = np.max(np.arange(q.shape[0])[q<0.99])\n",
      "    \n",
      "    x_range[i, 0] = vals[i_l]\n",
      "    x_range[i, 1] = vals[i_u]\n",
      "\n",
      "    vals = vals[i_l: i_u+1]\n",
      "    q=norm.ppf(q[i_l: i_u+1]) / 3\n",
      "\n",
      "    X = np.ones((vals.shape[0], 3))\n",
      "    X[:, 1] = vals\n",
      "    X[:, 2] = np.log(1 + vals)\n",
      "\n",
      "    W[i, :] = np.dot(np.linalg.pinv(np.dot(X.T, X)),\n",
      "                     np.dot(X.T, q)\n",
      "                     )\n",
      "print x_range[0], W[0], norm_transform(100, x_range[0], W[0])"
     ],
     "language": "python",
     "metadata": {},
     "outputs": [
      {
       "output_type": "stream",
       "stream": "stdout",
       "text": [
        "[  77.  184.] [-9.50483 -0.00169  2.02252] -0.339251822373\n"
       ]
      }
     ],
     "prompt_number": 848
    },
    {
     "cell_type": "code",
     "collapsed": false,
     "input": [
      "df_norm = df_combined.copy()"
     ],
     "language": "python",
     "metadata": {},
     "outputs": [],
     "prompt_number": 850
    },
    {
     "cell_type": "code",
     "collapsed": false,
     "input": [
      "for i in xrange(n_features):\n",
      "    df_norm.ix[:, i] = df_norm.ix[:, i].apply(lambda x:norm_transform(x, x_range[i], W[i]))"
     ],
     "language": "python",
     "metadata": {},
     "outputs": [],
     "prompt_number": 851
    },
    {
     "cell_type": "code",
     "collapsed": false,
     "input": [
      "df_norm[df_norm.isnull()] = 0"
     ],
     "language": "python",
     "metadata": {},
     "outputs": [],
     "prompt_number": 852
    },
    {
     "cell_type": "code",
     "collapsed": false,
     "input": [
      "df_norm.describe()"
     ],
     "language": "python",
     "metadata": {},
     "outputs": [
      {
       "html": [
        "<div style=\"max-height:1000px;max-width:1500px;overflow:auto;\">\n",
        "<table border=\"1\" class=\"dataframe\">\n",
        "  <thead>\n",
        "    <tr style=\"text-align: right;\">\n",
        "      <th></th>\n",
        "      <th>V1</th>\n",
        "      <th>V2</th>\n",
        "      <th>V3</th>\n",
        "      <th>V4</th>\n",
        "      <th>V5</th>\n",
        "      <th>V6</th>\n",
        "      <th>L1</th>\n",
        "      <th>L2</th>\n",
        "      <th>L3</th>\n",
        "      <th>L4</th>\n",
        "      <th>...</th>\n",
        "      <th>L16</th>\n",
        "      <th>L17</th>\n",
        "      <th>L18</th>\n",
        "      <th>L19</th>\n",
        "      <th>L20</th>\n",
        "      <th>L21</th>\n",
        "      <th>L22</th>\n",
        "      <th>L23</th>\n",
        "      <th>L24</th>\n",
        "      <th>L25</th>\n",
        "    </tr>\n",
        "  </thead>\n",
        "  <tbody>\n",
        "    <tr>\n",
        "      <th>count</th>\n",
        "      <td> 628437.000000</td>\n",
        "      <td> 628437.000000</td>\n",
        "      <td> 628437.000000</td>\n",
        "      <td> 628437.000000</td>\n",
        "      <td> 628437.000000</td>\n",
        "      <td> 628437.000000</td>\n",
        "      <td> 628437.000000</td>\n",
        "      <td> 628437.000000</td>\n",
        "      <td> 628437.000000</td>\n",
        "      <td> 628437.000000</td>\n",
        "      <td>...</td>\n",
        "      <td> 628437.000000</td>\n",
        "      <td> 628437.000000</td>\n",
        "      <td> 628437.000000</td>\n",
        "      <td> 628437.000000</td>\n",
        "      <td> 628437.000000</td>\n",
        "      <td> 628437.000000</td>\n",
        "      <td> 628437.000000</td>\n",
        "      <td> 628437.000000</td>\n",
        "      <td> 628437.000000</td>\n",
        "      <td> 628437.000000</td>\n",
        "    </tr>\n",
        "    <tr>\n",
        "      <th>mean</th>\n",
        "      <td>     -0.000540</td>\n",
        "      <td>     -0.000349</td>\n",
        "      <td>      0.000140</td>\n",
        "      <td>      0.000180</td>\n",
        "      <td>     -0.002086</td>\n",
        "      <td>     -0.000361</td>\n",
        "      <td>      0.000037</td>\n",
        "      <td>     -0.000041</td>\n",
        "      <td>     -0.000036</td>\n",
        "      <td>     -0.000044</td>\n",
        "      <td>...</td>\n",
        "      <td>     -0.000005</td>\n",
        "      <td>     -0.000001</td>\n",
        "      <td>     -0.000319</td>\n",
        "      <td>     -0.000006</td>\n",
        "      <td>     -0.000033</td>\n",
        "      <td>     -0.000000</td>\n",
        "      <td>     -0.000027</td>\n",
        "      <td>     -0.000011</td>\n",
        "      <td>     -0.000003</td>\n",
        "      <td>     -0.000007</td>\n",
        "    </tr>\n",
        "    <tr>\n",
        "      <th>std</th>\n",
        "      <td>      0.268826</td>\n",
        "      <td>      0.269727</td>\n",
        "      <td>      0.278195</td>\n",
        "      <td>      0.271774</td>\n",
        "      <td>      0.258598</td>\n",
        "      <td>      0.168144</td>\n",
        "      <td>      0.045938</td>\n",
        "      <td>      0.047391</td>\n",
        "      <td>      0.046243</td>\n",
        "      <td>      0.077164</td>\n",
        "      <td>...</td>\n",
        "      <td>      0.025758</td>\n",
        "      <td>      0.003404</td>\n",
        "      <td>      0.135656</td>\n",
        "      <td>      0.015508</td>\n",
        "      <td>      0.030905</td>\n",
        "      <td>      0.047318</td>\n",
        "      <td>      0.042632</td>\n",
        "      <td>      0.031214</td>\n",
        "      <td>      0.009020</td>\n",
        "      <td>      0.054558</td>\n",
        "    </tr>\n",
        "    <tr>\n",
        "      <th>min</th>\n",
        "      <td>     -0.823122</td>\n",
        "      <td>     -0.832645</td>\n",
        "      <td>     -0.757585</td>\n",
        "      <td>     -0.814802</td>\n",
        "      <td>     -0.693755</td>\n",
        "      <td>     -1.039356</td>\n",
        "      <td>     -0.699635</td>\n",
        "      <td>     -0.986676</td>\n",
        "      <td>     -0.803858</td>\n",
        "      <td>     -1.063083</td>\n",
        "      <td>...</td>\n",
        "      <td>     -0.378839</td>\n",
        "      <td>     -0.219519</td>\n",
        "      <td>     -0.926135</td>\n",
        "      <td>     -0.722979</td>\n",
        "      <td>     -0.801997</td>\n",
        "      <td>     -0.758326</td>\n",
        "      <td>     -0.783260</td>\n",
        "      <td>     -0.800160</td>\n",
        "      <td>     -0.946023</td>\n",
        "      <td>     -0.888026</td>\n",
        "    </tr>\n",
        "    <tr>\n",
        "      <th>25%</th>\n",
        "      <td>     -0.116284</td>\n",
        "      <td>     -0.118107</td>\n",
        "      <td>     -0.134255</td>\n",
        "      <td>     -0.108787</td>\n",
        "      <td>     -0.136028</td>\n",
        "      <td>      0.000000</td>\n",
        "      <td>      0.000000</td>\n",
        "      <td>      0.000000</td>\n",
        "      <td>      0.000000</td>\n",
        "      <td>      0.000000</td>\n",
        "      <td>...</td>\n",
        "      <td>      0.000000</td>\n",
        "      <td>      0.000000</td>\n",
        "      <td>      0.000000</td>\n",
        "      <td>      0.000000</td>\n",
        "      <td>      0.000000</td>\n",
        "      <td>      0.000000</td>\n",
        "      <td>      0.000000</td>\n",
        "      <td>      0.000000</td>\n",
        "      <td>      0.000000</td>\n",
        "      <td>      0.000000</td>\n",
        "    </tr>\n",
        "    <tr>\n",
        "      <th>50%</th>\n",
        "      <td>      0.000000</td>\n",
        "      <td>      0.000000</td>\n",
        "      <td>      0.000000</td>\n",
        "      <td>      0.000000</td>\n",
        "      <td>      0.000000</td>\n",
        "      <td>      0.000000</td>\n",
        "      <td>      0.000000</td>\n",
        "      <td>      0.000000</td>\n",
        "      <td>      0.000000</td>\n",
        "      <td>      0.000000</td>\n",
        "      <td>...</td>\n",
        "      <td>      0.000000</td>\n",
        "      <td>      0.000000</td>\n",
        "      <td>      0.000000</td>\n",
        "      <td>      0.000000</td>\n",
        "      <td>      0.000000</td>\n",
        "      <td>      0.000000</td>\n",
        "      <td>      0.000000</td>\n",
        "      <td>      0.000000</td>\n",
        "      <td>      0.000000</td>\n",
        "      <td>      0.000000</td>\n",
        "    </tr>\n",
        "    <tr>\n",
        "      <th>75%</th>\n",
        "      <td>      0.108441</td>\n",
        "      <td>      0.108223</td>\n",
        "      <td>      0.135997</td>\n",
        "      <td>      0.079623</td>\n",
        "      <td>      0.108470</td>\n",
        "      <td>      0.000000</td>\n",
        "      <td>      0.000000</td>\n",
        "      <td>      0.000000</td>\n",
        "      <td>      0.000000</td>\n",
        "      <td>      0.000000</td>\n",
        "      <td>...</td>\n",
        "      <td>      0.000000</td>\n",
        "      <td>      0.000000</td>\n",
        "      <td>      0.000000</td>\n",
        "      <td>      0.000000</td>\n",
        "      <td>      0.000000</td>\n",
        "      <td>      0.000000</td>\n",
        "      <td>      0.000000</td>\n",
        "      <td>      0.000000</td>\n",
        "      <td>      0.000000</td>\n",
        "      <td>      0.000000</td>\n",
        "    </tr>\n",
        "    <tr>\n",
        "      <th>max</th>\n",
        "      <td>      0.743244</td>\n",
        "      <td>      0.781180</td>\n",
        "      <td>      0.777265</td>\n",
        "      <td>      0.841406</td>\n",
        "      <td>      0.393024</td>\n",
        "      <td>      0.896911</td>\n",
        "      <td>      0.847445</td>\n",
        "      <td>      0.800909</td>\n",
        "      <td>      0.636214</td>\n",
        "      <td>      0.984638</td>\n",
        "      <td>...</td>\n",
        "      <td>      0.723557</td>\n",
        "      <td>      0.758355</td>\n",
        "      <td>      0.738847</td>\n",
        "      <td>      0.642935</td>\n",
        "      <td>      0.495006</td>\n",
        "      <td>      0.767727</td>\n",
        "      <td>      0.659725</td>\n",
        "      <td>      0.731318</td>\n",
        "      <td>      0.895594</td>\n",
        "      <td>      0.872130</td>\n",
        "    </tr>\n",
        "  </tbody>\n",
        "</table>\n",
        "<p>8 rows \u00d7 31 columns</p>\n",
        "</div>"
       ],
       "metadata": {},
       "output_type": "pyout",
       "prompt_number": 853,
       "text": [
        "                  V1             V2             V3             V4  \\\n",
        "count  628437.000000  628437.000000  628437.000000  628437.000000   \n",
        "mean       -0.000540      -0.000349       0.000140       0.000180   \n",
        "std         0.268826       0.269727       0.278195       0.271774   \n",
        "min        -0.823122      -0.832645      -0.757585      -0.814802   \n",
        "25%        -0.116284      -0.118107      -0.134255      -0.108787   \n",
        "50%         0.000000       0.000000       0.000000       0.000000   \n",
        "75%         0.108441       0.108223       0.135997       0.079623   \n",
        "max         0.743244       0.781180       0.777265       0.841406   \n",
        "\n",
        "                  V5             V6             L1             L2  \\\n",
        "count  628437.000000  628437.000000  628437.000000  628437.000000   \n",
        "mean       -0.002086      -0.000361       0.000037      -0.000041   \n",
        "std         0.258598       0.168144       0.045938       0.047391   \n",
        "min        -0.693755      -1.039356      -0.699635      -0.986676   \n",
        "25%        -0.136028       0.000000       0.000000       0.000000   \n",
        "50%         0.000000       0.000000       0.000000       0.000000   \n",
        "75%         0.108470       0.000000       0.000000       0.000000   \n",
        "max         0.393024       0.896911       0.847445       0.800909   \n",
        "\n",
        "                  L3             L4      ...                  L16  \\\n",
        "count  628437.000000  628437.000000      ...        628437.000000   \n",
        "mean       -0.000036      -0.000044      ...            -0.000005   \n",
        "std         0.046243       0.077164      ...             0.025758   \n",
        "min        -0.803858      -1.063083      ...            -0.378839   \n",
        "25%         0.000000       0.000000      ...             0.000000   \n",
        "50%         0.000000       0.000000      ...             0.000000   \n",
        "75%         0.000000       0.000000      ...             0.000000   \n",
        "max         0.636214       0.984638      ...             0.723557   \n",
        "\n",
        "                 L17            L18            L19            L20  \\\n",
        "count  628437.000000  628437.000000  628437.000000  628437.000000   \n",
        "mean       -0.000001      -0.000319      -0.000006      -0.000033   \n",
        "std         0.003404       0.135656       0.015508       0.030905   \n",
        "min        -0.219519      -0.926135      -0.722979      -0.801997   \n",
        "25%         0.000000       0.000000       0.000000       0.000000   \n",
        "50%         0.000000       0.000000       0.000000       0.000000   \n",
        "75%         0.000000       0.000000       0.000000       0.000000   \n",
        "max         0.758355       0.738847       0.642935       0.495006   \n",
        "\n",
        "                 L21            L22            L23            L24  \\\n",
        "count  628437.000000  628437.000000  628437.000000  628437.000000   \n",
        "mean       -0.000000      -0.000027      -0.000011      -0.000003   \n",
        "std         0.047318       0.042632       0.031214       0.009020   \n",
        "min        -0.758326      -0.783260      -0.800160      -0.946023   \n",
        "25%         0.000000       0.000000       0.000000       0.000000   \n",
        "50%         0.000000       0.000000       0.000000       0.000000   \n",
        "75%         0.000000       0.000000       0.000000       0.000000   \n",
        "max         0.767727       0.659725       0.731318       0.895594   \n",
        "\n",
        "                 L25  \n",
        "count  628437.000000  \n",
        "mean       -0.000007  \n",
        "std         0.054558  \n",
        "min        -0.888026  \n",
        "25%         0.000000  \n",
        "50%         0.000000  \n",
        "75%         0.000000  \n",
        "max         0.872130  \n",
        "\n",
        "[8 rows x 31 columns]"
       ]
      }
     ],
     "prompt_number": 853
    },
    {
     "cell_type": "code",
     "collapsed": false,
     "input": [
      "plt.hist(df_norm.V6.values, bins=50);"
     ],
     "language": "python",
     "metadata": {},
     "outputs": [],
     "prompt_number": 854
    },
    {
     "cell_type": "code",
     "collapsed": false,
     "input": [
      "df = df_norm\n",
      "\n",
      "patient_combined = [np.array(df.ix[df_vitals['ID'] == ID, :]) for ID in df_labels['ID'].unique()]\n",
      "\n",
      "# split into living and dead\n",
      "patient_combined_dead = [patient_combined[ID-1] for ID in df_labels['ID']\n",
      "                                                      if df_labels.ix[ID - 1, 'LABEL'] == 1]\n",
      "patient_combined_living = [patient_combined[ID-1] for ID in df_labels['ID']\n",
      "                                                      if df_labels.ix[ID - 1, 'LABEL'] == 0]"
     ],
     "language": "python",
     "metadata": {},
     "outputs": [],
     "prompt_number": 855
    },
    {
     "cell_type": "code",
     "collapsed": false,
     "input": [
      "age_combined = np.array(df_age.AGE)"
     ],
     "language": "python",
     "metadata": {},
     "outputs": [],
     "prompt_number": 856
    },
    {
     "cell_type": "code",
     "collapsed": false,
     "input": [
      "patient_combined_living[0].shape"
     ],
     "language": "python",
     "metadata": {},
     "outputs": [
      {
       "metadata": {},
       "output_type": "pyout",
       "prompt_number": 857,
       "text": [
        "(1956, 31)"
       ]
      }
     ],
     "prompt_number": 857
    },
    {
     "cell_type": "code",
     "collapsed": false,
     "input": [
      "def get_n_windows(ts, n_windows, stats):\n",
      "    n_features = ts.shape[1]\n",
      "    l = np.zeros((n_windows, len(stats) * n_features))\n",
      "    \n",
      "    n = int(ts.shape[0] / n_windows)\n",
      "    for j in xrange(0, n_windows):\n",
      "        if (j==n_windows-1):\n",
      "            window = ts[j*n :, :] \n",
      "        else:\n",
      "            window = ts[j*n : (j+1)*n, :] \n",
      "    \n",
      "        for k in xrange(len(stats)):\n",
      "            f = stats[k]\n",
      "            l[j, k*n_features:(k+1)*n_features] = f(window, axis=0)\n",
      "    return l"
     ],
     "language": "python",
     "metadata": {},
     "outputs": [],
     "prompt_number": 858
    },
    {
     "cell_type": "code",
     "collapsed": false,
     "input": [
      "def get_windows_data(data, n_windows, stats):\n",
      "    window_stats = []\n",
      "    for i in xrange(len(data)):\n",
      "        ts = data[i]\n",
      "\n",
      "        if(ts.shape[0] < n_windows):\n",
      "            #window_stats.append(None)    # We want to keep 1-1 mapping with patients..\n",
      "            n = int(np.ceil(1.0 * n_windows / ts.shape[0]))\n",
      "            t = np.zeros((ts.shape[0] * n, ts.shape[1]))\n",
      "            for i in xrange(ts.shape[0]):\n",
      "                for k in xrange(n):\n",
      "                    t[n*i + k, :] = ts[i, :]\n",
      "            \n",
      "            ts = t\n",
      "\n",
      "        l = get_n_windows(ts, n_windows, stats)\n",
      "        window_stats.append(l)\n",
      "        \n",
      "    return window_stats"
     ],
     "language": "python",
     "metadata": {},
     "outputs": [],
     "prompt_number": 859
    },
    {
     "cell_type": "code",
     "collapsed": false,
     "input": [
      "### Given list of patient time series, give a matrix with one row for each patient containing all windows\n",
      "def get_rows_data(data, n_windows, stats):\n",
      "    data_windows = np.zeros((len(data), n_windows*data[0].shape[1]*len(stats)))\n",
      "    for i in xrange(len(data)):\n",
      "        ts = data[i]\n",
      "\n",
      "        if(ts.shape[0] < n_windows):\n",
      "            #window_stats.append(None)    # We want to keep 1-1 mapping with patients..\n",
      "            n = int(np.ceil(1.0 * n_windows / ts.shape[0]))\n",
      "            t = np.zeros((ts.shape[0] * n, ts.shape[1]))\n",
      "            for i in xrange(ts.shape[0]):\n",
      "                for k in xrange(n):\n",
      "                    t[n*i + k, :] = ts[i, :]\n",
      "            \n",
      "            ts = t\n",
      "            continue\n",
      "\n",
      "        l = get_n_windows(ts, n_windows, stats)\n",
      "        data_windows[i, :] = np.hstack(l)\n",
      "        \n",
      "    return data_windows"
     ],
     "language": "python",
     "metadata": {},
     "outputs": [],
     "prompt_number": 860
    },
    {
     "cell_type": "markdown",
     "metadata": {},
     "source": [
      "## For ONLINE prediction"
     ]
    },
    {
     "cell_type": "code",
     "collapsed": false,
     "input": [
      "### Get windows starting with zero upto end for the time series 'ts'\n",
      "def get_online_windows(ts):\n",
      "    p_windows = np.array([ts[:i+1, :] for i in xrange(ts.shape[0])])\n",
      "    return p_windows"
     ],
     "language": "python",
     "metadata": {},
     "outputs": [],
     "prompt_number": 861
    },
    {
     "cell_type": "code",
     "collapsed": false,
     "input": [
      "### Get stats of a given ts for all possible windows starting with 1 element\n",
      "def get_all_window_stats(ts, n_windows, stats):\n",
      "    p_windows = get_online_windows(ts)\n",
      "    p_all_window_stats = get_rows_data(p_windows, n_windows, stats)\n",
      "    return p_all_window_stats"
     ],
     "language": "python",
     "metadata": {},
     "outputs": [],
     "prompt_number": 862
    },
    {
     "cell_type": "code",
     "collapsed": false,
     "input": [
      "### Given a LIST of patient time series, give back a list of matrices\n",
      "def get_list_all_window_stats(data, n_windows, stats):\n",
      "    all_window_stats = []\n",
      "    for d in data:\n",
      "        all_window_stats.append(get_all_window_stats(d, n_windows, stats))\n",
      "    \n",
      "    return all_window_stats"
     ],
     "language": "python",
     "metadata": {},
     "outputs": [],
     "prompt_number": 863
    },
    {
     "cell_type": "markdown",
     "metadata": {},
     "source": [
      "#### For testing online ones!\n",
      "ts = patients_valid[0:2]\n",
      "ts[1].shape\n",
      "p_windows = get_online_windows(ts[1])\n",
      "p_windows[10].shape\n",
      "p_stats = get_all_window_stats(ts[1], n_windows, stats)\n",
      "p_stats.shape\n",
      "p_all = get_list_all_window_stats(ts, n_windows, stats)\n",
      "p_all[1].shape"
     ]
    },
    {
     "cell_type": "code",
     "collapsed": false,
     "input": [
      "#### Confusion!\n",
      "def get_ss(confusion):\n",
      "    tn = confusion[0, 0]  # label=0, pred=0\n",
      "    fp = confusion[0, 1]  # label=0, pred=1\n",
      "    \n",
      "    fn = confusion[1, 0]  # label=1, pred=0\n",
      "    tp = confusion[1, 1]  # label=1, pred=1\n",
      "    \n",
      "    sens = (1.0*tp/(tp+fn))\n",
      "    spec = (1.0*tn/(tn+fp))\n",
      "    \n",
      "    #print confusion\n",
      "    #print\n",
      "    #prittp, fp, fn, tn, sens, spec\n",
      "    #print 'Sensitiviy: ', sens, '\\nSpecificity: ', spec\n",
      "    return sens, spec"
     ],
     "language": "python",
     "metadata": {},
     "outputs": [],
     "prompt_number": 864
    },
    {
     "cell_type": "markdown",
     "metadata": {},
     "source": [
      "# Split Data!"
     ]
    },
    {
     "cell_type": "code",
     "collapsed": false,
     "input": [
      "def split_train_valid_test(data_combined, labels_combined, age_combined, split=[0.6, 0.2]):\n",
      "    \n",
      "    ind = np.arange(0, len(labels_combined))\n",
      "    np.random.shuffle(ind)\n",
      "    \n",
      "    N = len(ind)\n",
      "    N_train = int(split[0] * N)\n",
      "    N_valid = int((split[1]+split[0]) * N)\n",
      "    \n",
      "    ind_train = ind[:N_train]\n",
      "    ind_valid = ind[N_train:N_valid]\n",
      "    ind_test = ind[N_valid:]\n",
      "    \n",
      "    data_combined = np.array(data_combined)\n",
      "    labels_combined = np.array(labels_combined)\n",
      "    age_combined = np.array(age_combined)\n",
      "    \n",
      "    data_train = data_combined[ind_train]\n",
      "    labels_train = labels_combined[ind_train]\n",
      "    age_train = age_combined[ind_train]\n",
      "    \n",
      "    age_valid = age_combined[ind_valid]\n",
      "    labels_valid = labels_combined[ind_valid]\n",
      "    data_valid = data_combined[ind_valid]\n",
      "\n",
      "    age_test = age_combined[ind_test]\n",
      "    labels_test = labels_combined[ind_test]\n",
      "    data_test = data_combined[ind_test]\n",
      "    \n",
      "    return [data_train, labels_train, data_valid, labels_valid, data_test, labels_test,\n",
      "            age_train, age_valid, age_test, ind_train, ind_valid, ind_test]"
     ],
     "language": "python",
     "metadata": {},
     "outputs": [],
     "prompt_number": 865
    },
    {
     "cell_type": "markdown",
     "metadata": {},
     "source": [
      "## Single forest on all the data\n",
      "forest = RandomForestClassifier(n_estimators=10000, max_depth=None, oob_score=False, n_jobs=-1)\n",
      "forest.fit(data_train, labels_train)\n",
      "get_ss(confusion_matrix(labels_valid, forest.predict(data_valid)))\n",
      "get_ss(confusion_matrix(labels_train, forest.predict(data_train)))"
     ]
    },
    {
     "cell_type": "markdown",
     "metadata": {},
     "source": [
      "### Separate dead and alive in train and validation sets"
     ]
    },
    {
     "cell_type": "code",
     "collapsed": false,
     "input": [
      "def separate_living_dead(data, labels, age):\n",
      "    data_living = data[labels == 0]\n",
      "    data_dead = data[labels == 1]\n",
      "    age_living = age[labels == 0]\n",
      "    age_dead = age[labels == 1]\n",
      "    \n",
      "    return [data_living, data_dead, age_living, age_dead]"
     ],
     "language": "python",
     "metadata": {},
     "outputs": [],
     "prompt_number": 866
    },
    {
     "cell_type": "markdown",
     "metadata": {},
     "source": [
      "### Find number of dead and alive patients in train and validation sets"
     ]
    },
    {
     "cell_type": "code",
     "collapsed": false,
     "input": [
      "def get_sizes(data_living, data_dead):\n",
      "    n_dead = data_dead.shape[0]\n",
      "    n_living = data_living.shape[0]\n",
      "    n_combined = n_dead + n_living\n",
      "    \n",
      "    return n_dead, n_living, n_combined"
     ],
     "language": "python",
     "metadata": {},
     "outputs": [],
     "prompt_number": 867
    },
    {
     "cell_type": "markdown",
     "metadata": {},
     "source": [
      "# GET DATA!"
     ]
    },
    {
     "cell_type": "code",
     "collapsed": false,
     "input": [
      "def get_data(patient_combined, labels_combined, age_combined, n_windows, stats, split):\n",
      "    ### Generate windowed data\n",
      "    data_windows_combined = get_rows_data(patient_combined, n_windows, stats)\n",
      "    #data_windows_combined = np.hstack((data_windows_combined, age_combined))\n",
      "\n",
      "    print data_windows_combined.shape\n",
      "    ### split into train and validation sets, living and dead\n",
      "    [data_train, labels_train, data_valid, labels_valid, data_test, labels_test,\n",
      "     age_train, age_valid, age_test, ind_train, ind_valid, ind_test] = split_train_valid_test(data_windows_combined,\n",
      "                                                                         labels_combined, age_combined, split=split)\n",
      "    \n",
      "    print data_train.shape\n",
      "    [data_train_living, data_train_dead, age_train_living, age_train_dead] = separate_living_dead(data_train, labels_train,\n",
      "                                                                                                  age_train)\n",
      "    [data_valid_living, data_valid_dead, age_valid_living, age_valid_dead] = separate_living_dead(data_valid, labels_valid,\n",
      "                                                                                                  age_valid)\n",
      "    [data_test_living, data_test_dead, age_test_living, age_test_dead] = separate_living_dead(data_test, labels_test,\n",
      "                                                                                                  age_test)\n",
      "    print data_train.shape\n",
      "    n_train_dead, n_train_living, n_train_combined = get_sizes(data_train_living, data_train_dead)\n",
      "    n_valid_dead, n_valid_living, n_valid_combined = get_sizes(data_valid_living, data_valid_dead)\n",
      "    n_test_dead, n_test_living, n_test_combined = get_sizes(data_test_living, data_test_dead)\n",
      "    \n",
      "    print 'Train:', n_train_dead, n_train_living, labels_train.shape[0]\n",
      "    print 'Valid:', n_valid_dead, n_valid_living, labels_valid.shape[0]\n",
      "    print 'Test:', n_test_dead, n_test_living, labels_test.shape[0]\n",
      "\n",
      "    ### Split into balacned sets!\n",
      "    n_train_splits = int (n_train_living / n_train_dead)\n",
      "    train_split = int (n_train_living / n_train_splits)\n",
      "    print 'Train Splits', n_train_splits, train_split, n_train_dead + n_train_splits * train_split, n_train_combined\n",
      "    print data_train.shape\n",
      "    print data_train[1].shape\n",
      "    \n",
      "    return [data_train, labels_train, data_valid, labels_valid, data_test, labels_test,data_train_living,\n",
      "            data_train_dead, data_valid_living, data_valid_dead, data_test_living,\n",
      "            data_test_dead, train_split, age_train_living, age_train_dead, age_valid_living, age_valid_dead,\n",
      "            age_test_living, age_test_dead, ind_train, ind_valid, ind_test, n_train_splits, train_split]"
     ],
     "language": "python",
     "metadata": {},
     "outputs": [],
     "prompt_number": 893
    },
    {
     "cell_type": "markdown",
     "metadata": {},
     "source": [
      "# Classify!"
     ]
    },
    {
     "cell_type": "markdown",
     "metadata": {},
     "source": [
      "## Train balanced models!"
     ]
    },
    {
     "cell_type": "code",
     "collapsed": false,
     "input": [
      "def train_balanced(models, data_living, data_dead):\n",
      "    C_train = []\n",
      "    #y_valid = np.zeros((n_valid_combined, n_train_splits))\n",
      "    for i in xrange(n_train_splits):\n",
      "        # NO RANDOM SHUFFLE NOW!\n",
      "        data_bal = np.vstack((data_living[i * train_split: (i+1) * train_split, :],\n",
      "                              data_dead[:, :]) )\n",
      "        \n",
      "        label_bal = np.vstack((np.zeros((train_split, 1)),\n",
      "                               np.ones((data_dead.shape[0], 1))))\n",
      "\n",
      "        #print \n",
      "        models[i].fit(data_bal, label_bal[:, 0])\n",
      "        C_train.append(confusion_matrix(label_bal[:,], models[i].predict(data_bal)))\n",
      "        \n",
      "    return C_train"
     ],
     "language": "python",
     "metadata": {},
     "outputs": [],
     "prompt_number": 898
    },
    {
     "cell_type": "code",
     "collapsed": false,
     "input": [
      "def score_models(models, data_valid, labels_valid):\n",
      "    C_valid = []\n",
      "    for i in xrange(n_train_splits):\n",
      "        y = models[i].predict(data_valid)\n",
      "        C_valid.append(confusion_matrix(labels_valid[:], y))\n",
      "        #get_ss(C_valid[i])\n",
      "    return C_valid    "
     ],
     "language": "python",
     "metadata": {},
     "outputs": [],
     "prompt_number": 880
    },
    {
     "cell_type": "code",
     "collapsed": false,
     "input": [
      "def get_proba(models_bal, data):\n",
      "    # Returns negative log probability of dying / ALL\n",
      "    \n",
      "    probs = np.zeros((data.shape[0], len(models_bal)))\n",
      "        \n",
      "    probs = np.array([model.predict_proba(data)[:, 1] for model in models_bal]).T\n",
      "    probs = np.sort(probs)\n",
      "    return probs"
     ],
     "language": "python",
     "metadata": {},
     "outputs": [],
     "prompt_number": 881
    },
    {
     "cell_type": "code",
     "collapsed": false,
     "input": [
      "def train_glm(models_bal, glm):\n",
      "   # find the probability estimates of each of the balanced models on the training set \n",
      "    \n",
      "    probs_train = get_proba(models_bal, data_train)\n",
      "    glm.fit(probs_train, labels_train)\n",
      "    \n",
      "    print 'Training data:'\n",
      "    get_ss(confusion_matrix(labels_train, glm.predict(probs_train)))\n",
      "    print 'Validation data:'\n",
      "    get_ss(confusion_matrix(labels_valid, glm.predict(get_proba(models_bal, data_valid))))"
     ],
     "language": "python",
     "metadata": {},
     "outputs": [],
     "prompt_number": 882
    },
    {
     "cell_type": "code",
     "collapsed": false,
     "input": [
      "def train_pr_max_sens(models, data, labels):\n",
      "    probs = get_proba(models, data)\n",
      "    pr = spreg.probit.Probit(y=labels, x=probs)\n",
      "    N = 100\n",
      "    sens = []\n",
      "    spec = []\n",
      "    theta_arr = []\n",
      "    for t in xrange(1, N):\n",
      "        theta = t*(1.0 / (N-1))\n",
      "        y = pr.predy > theta\n",
      "        #print 'theta:', theta\n",
      "        se, sp = get_ss(confusion_matrix(labels, y))\n",
      "        sens.append(se)\n",
      "        spec.append(sp)\n",
      "        theta_arr.append(theta)\n",
      "        #print se, sp\n",
      "\n",
      "    sens = np.array(sens)\n",
      "    spec = np.array(spec)\n",
      "    max_ind = np.argmax(spec>0.99)\n",
      "    print sens[max_ind], spec[max_ind]\n",
      "    return pr, theta_arr[max_ind]"
     ],
     "language": "python",
     "metadata": {},
     "outputs": [],
     "prompt_number": 883
    },
    {
     "cell_type": "code",
     "collapsed": false,
     "input": [
      "def get_pr_predictions(data, pr, theta_max, models):\n",
      "    y_pred = norm.cdf(np.dot(np.hstack((np.ones((data.shape[0], 1)), \n",
      "                                        get_proba(models, data)\n",
      "                                        )\n",
      "                                       ), pr.betas\n",
      "                             )\n",
      "                      ) > theta_max\n",
      "    return y_pred"
     ],
     "language": "python",
     "metadata": {},
     "outputs": [],
     "prompt_number": 884
    },
    {
     "cell_type": "code",
     "collapsed": false,
     "input": [
      "def score_with_glm(models, data_train, labels_train, data_train_living, data_train_dead, data_valid, labels_valid):\n",
      "    c_train = train_balanced(models, data_train_living, data_train_dead)\n",
      "    probit_reg, theta_max = train_pr_max_sens(models, data_train, labels_train)\n",
      "    y_pred = get_pr_predictions(data_valid, probit_reg, theta_max, models)\n",
      "    return get_ss(confusion_matrix(labels_valid, y_pred))"
     ],
     "language": "python",
     "metadata": {},
     "outputs": [],
     "prompt_number": 895
    },
    {
     "cell_type": "code",
     "collapsed": false,
     "input": [
      "data_combined = np.array(patient_combined)\n",
      "labels_combined = np.array(df_labels.LABEL)"
     ],
     "language": "python",
     "metadata": {},
     "outputs": [],
     "prompt_number": 885
    },
    {
     "cell_type": "code",
     "collapsed": false,
     "input": [
      "np.random.seed(111)\n",
      "\n",
      "### NOTE: If n<n_windows, ignored!\n",
      "n_windows = 1\n",
      "#stats = [np.nanmean, np.nanmin, np.nanmax]\n",
      "split = [0.7, 0.15, 0.15]\n",
      "stats = [np.nanmean, np.nanmax , np.nanvar, np.nanmin] #, lambda x, axis:x.shape[0]]\n",
      "\n",
      "# Get the data from the patients\n",
      "[data_train, labels_train, data_valid, labels_valid, data_test, labels_test,data_train_living,\n",
      " data_train_dead, data_valid_living, data_valid_dead, data_test_living,\n",
      " data_test_dead, train_split, age_train_living, age_train_dead, age_valid_living, age_valid_dead,\n",
      " age_test_living, age_test_dead, ind_train, ind_valid, ind_test, n_train_splits, train_split] = get_data(patient_combined,\n",
      "                                                            labels_combined, age_combined, n_windows, stats, split)\n",
      "\n",
      "labels_valid = np.reshape(labels_valid, (labels_valid.shape[0], 1))\n",
      "labels_train = np.reshape(labels_train, (labels_train.shape[0], 1))\n",
      "labels_test = np.reshape(labels_test, (labels_test.shape[0], 1))\n",
      "\n",
      "patients_train = data_combined[ind_train]\n",
      "patients_valid = data_combined[ind_valid]"
     ],
     "language": "python",
     "metadata": {},
     "outputs": [
      {
       "output_type": "stream",
       "stream": "stdout",
       "text": [
        "(3594, 124)\n",
        "(2515, 124)\n",
        "(2515, 124)\n",
        "Train: 181 2334 2515\n",
        "Valid: 36 503 539\n",
        "Test: 28 512 540\n",
        "Train Splits 12 194 2509 2515\n",
        "(2515, 124)\n",
        "(124,)\n"
       ]
      }
     ],
     "prompt_number": 894
    },
    {
     "cell_type": "code",
     "collapsed": false,
     "input": [
      "forests = [RandomForestClassifier(n_estimators=300, class_weight=None, max_features=None,\n",
      "                                  n_jobs=-1, max_depth=None, random_state=14\n",
      "                                  ) for i in xrange(n_train_splits)]"
     ],
     "language": "python",
     "metadata": {},
     "outputs": [],
     "prompt_number": 896
    },
    {
     "cell_type": "code",
     "collapsed": false,
     "input": [
      "score_with_glm(forests, data_train, labels_train, data_train_living, data_train_dead, data_valid, labels_valid)"
     ],
     "language": "python",
     "metadata": {},
     "outputs": [
      {
       "output_type": "stream",
       "stream": "stdout",
       "text": [
        "\n",
        "\n"
       ]
      },
      {
       "output_type": "stream",
       "stream": "stdout",
       "text": [
        "\n",
        "\n"
       ]
      },
      {
       "output_type": "stream",
       "stream": "stdout",
       "text": [
        "\n",
        "\n"
       ]
      },
      {
       "output_type": "stream",
       "stream": "stdout",
       "text": [
        "\n",
        "\n"
       ]
      },
      {
       "output_type": "stream",
       "stream": "stdout",
       "text": [
        "\n",
        "\n"
       ]
      },
      {
       "output_type": "stream",
       "stream": "stdout",
       "text": [
        "\n",
        "\n"
       ]
      },
      {
       "output_type": "stream",
       "stream": "stdout",
       "text": [
        "1.0 1.0\n"
       ]
      },
      {
       "metadata": {},
       "output_type": "pyout",
       "prompt_number": 897,
       "text": [
        "(0.7222222222222222, 0.9184890656063618)"
       ]
      }
     ],
     "prompt_number": 897
    },
    {
     "cell_type": "markdown",
     "metadata": {},
     "source": [
      "#### Weird svms combination\n",
      "svms = [svm.NuSVC(nu=0.10, kernel='poly', degree=2, gamma=10**(-1.7), coef0=100, probability=True),\n",
      "        svm.NuSVC(nu=0.10, kernel='poly', degree=2, gamma=10**(-1.7), coef0=100, probability=True),\n",
      "        svm.NuSVC(nu=0.10, kernel='poly', degree=2, gamma=10**(-1.7), coef0=100, probability=True),\n",
      "        svm.NuSVC(nu=0.10, kernel='poly', degree=2, gamma=10**(-1.7), coef0=100, probability=True),\n",
      "        svm.NuSVC(nu=0.10, kernel='poly', degree=2, gamma=10**(-1.7), coef0=100, probability=True),\n",
      "        svm.NuSVC(nu=0.10, kernel='poly', degree=2, gamma=10**(-1.7), coef0=100, probability=True),\n",
      "        svm.NuSVC(nu=0.10, kernel='poly', degree=2, gamma=10**(-1.7), coef0=100, probability=True),\n",
      "        svm.NuSVC(nu=0.5, kernel='poly', degree=2, gamma=10**(-1.7), coef0=100, probability=True),\n",
      "        svm.NuSVC(nu=0.9, kernel='poly', degree=2, gamma=10**(-1.7), coef0=100, probability=True),\n",
      "        svm.NuSVC(nu=0.8, kernel='poly', degree=2, gamma=10**(-1.7), coef0=100, probability=True),\n",
      "        svm.NuSVC(nu=0.8, kernel='poly', degree=2, gamma=10**(-1.7), coef0=100, probability=True),\n",
      "        svm.NuSVC(nu=0.8, kernel='poly', degree=2, gamma=10**(-1.7), coef0=100, probability=True)\n",
      "        ]\n",
      "c_train, c_valid = train_balanced(svms)\n",
      "probit_reg_svm, theta_max_svm = train_pr_max_sens(svms, data_train, labels_train)"
     ]
    },
    {
     "cell_type": "code",
     "collapsed": false,
     "input": [
      "svms = [svm.NuSVC(nu=0.52, kernel='poly', degree=2, gamma=10**(-1.7), coef0=1, probability=True),\n",
      "        svm.NuSVC(nu=0.52, kernel='poly', degree=2, gamma=10**(-1.3), coef0=1, probability=True),\n",
      "        svm.NuSVC(nu=0.40, kernel='poly', degree=2, gamma=10**(-1.1), coef0=1, probability=True),\n",
      "        svm.NuSVC(nu=0.50, kernel='poly', degree=2, gamma=10**(-0.9), coef0=1, probability=True),\n",
      "        svm.NuSVC(nu=0.56, kernel='poly', degree=2, gamma=10**(-0.7), coef0=1, probability=True),\n",
      "        svm.NuSVC(nu=0.62, kernel='poly', degree=2, gamma=10**(-2), coef0=1, probability=True),\n",
      "        svm.NuSVC(nu=0.62, kernel='poly', degree=2, gamma=10**(-2), coef0=1, probability=True),\n",
      "        svm.NuSVC(nu=0.44, kernel='poly', degree=2, gamma=10**(-0.1), coef0=1, probability=True),\n",
      "        svm.NuSVC(nu=0.90, kernel='poly', degree=2, gamma=10**(-0.1), coef0=1, probability=True),\n",
      "        svm.NuSVC(nu=0.45, kernel='poly', degree=2, gamma=10**(-1.4), coef0=1, probability=True),\n",
      "        svm.NuSVC(nu=0.60, kernel='poly', degree=2, gamma=10**(-1.7), coef0=1, probability=True),\n",
      "        svm.NuSVC(nu=0.90, kernel='poly', degree=2, gamma=10**(-1.1), coef0=1, probability=True),\n",
      "        svm.NuSVC(nu=0.51, kernel='poly', degree=2, gamma=10**(-1.7), coef0=1, probability=True)\n",
      "        ]"
     ],
     "language": "python",
     "metadata": {},
     "outputs": [],
     "prompt_number": 620
    },
    {
     "cell_type": "code",
     "collapsed": false,
     "input": [
      "#### standard\n",
      "svms = [svm.NuSVC(nu=0.50, kernel='poly', degree=2, gamma=10**(-1), coef0=0, probability=True)\n",
      "        for i in xrange(n_train_splits)]"
     ],
     "language": "python",
     "metadata": {},
     "outputs": [],
     "prompt_number": 613
    },
    {
     "cell_type": "code",
     "collapsed": false,
     "input": [
      "score_with_glm(svms, data_train, labels_train, data_train_living, data_train_dead, data_valid, labels_valid)"
     ],
     "language": "python",
     "metadata": {},
     "outputs": [
      {
       "output_type": "stream",
       "stream": "stdout",
       "text": [
        "0.5960591133 0.990269461078\n"
       ]
      },
      {
       "metadata": {},
       "output_type": "pyout",
       "prompt_number": 621,
       "text": [
        "(0.5238095238095238, 0.9970457902511078)"
       ]
      }
     ],
     "prompt_number": 621
    },
    {
     "cell_type": "markdown",
     "metadata": {},
     "source": [
      "0.809523809524 0.991137370753, 14\n",
      "DecisionTreeClassifier(class_weight=None, criterion='gini', max_depth=None,\n",
      "            max_features='auto', max_leaf_nodes=None, min_samples_leaf=1,\n",
      "            min_samples_split=2, min_weight_fraction_leaf=0.0,\n",
      "            random_state=1276417875, splitter='best')"
     ]
    },
    {
     "cell_type": "markdown",
     "metadata": {},
     "source": [
      "#### Mixture of models!\n",
      "mix_m =[svm.NuSVC(nu=0.52, kernel='poly', degree=2, gamma=10**(-1.7), coef0=1, probability=True),\n",
      "        #svm.NuSVC(nu=0.52, kernel='poly', degree=2, gamma=10**(-1.3), coef0=1, probability=True),\n",
      "        svm.NuSVC(nu=0.52, kernel='poly', degree=2, gamma=10**(-1.1), coef0=1, probability=True),\n",
      "        #svm.NuSVC(nu=0.50, kernel='poly', degree=2, gamma=10**(-0.9), coef0=1, probability=True),\n",
      "        svm.NuSVC(nu=0.56, kernel='poly', degree=2, gamma=10**(-0.7), coef0=1, probability=True),\n",
      "        svm.NuSVC(nu=0.62, kernel='poly', degree=2, gamma=10**(-1), coef0=1, probability=True),\n",
      "        #svm.NuSVC(nu=0.62, kernel='poly', degree=2, gamma=10**(-1), coef0=1, probability=True),\n",
      "        #svm.NuSVC(nu=0.44, kernel='poly', degree=2, gamma=10**(-0.1), coef0=1, probability=True),\n",
      "        svm.NuSVC(nu=0.90, kernel='poly', degree=2, gamma=10**(-1), coef0=1, probability=True),\n",
      "        svm.NuSVC(nu=0.59, kernel='poly', degree=2, gamma=10**(-2), coef0=1, probability=True),\n",
      "        svm.NuSVC(nu=0.72, kernel='poly', degree=2, gamma=10**(-1.7), coef0=1, probability=True),\n",
      "        svm.NuSVC(nu=0.84, kernel='poly', degree=2, gamma=10**(-1.7), coef0=1, probability=True),\n",
      "        #svm.NuSVC(nu=0.51, kernel='poly', degree=2, gamma=10**(-1.7), coef0=1, probability=True),\n",
      "        RandomForestClassifier(n_estimators=300, class_weight=None, max_features=20,\n",
      "                                  n_jobs=-1, max_depth=None, random_state=14),\n",
      "        RandomForestClassifier(n_estimators=300, class_weight=None, max_features=20,\n",
      "                                  n_jobs=-1, max_depth=None, random_state=14),\n",
      "        RandomForestClassifier(n_estimators=300, class_weight=None, max_features=20,\n",
      "                                  n_jobs=-1, max_depth=None, random_state=14),\n",
      "        RandomForestClassifier(n_estimators=300, class_weight=None, max_features=20,\n",
      "                                  n_jobs=-1, max_depth=None, random_state=14),\n",
      "        RandomForestClassifier(n_estimators=300, class_weight=None, max_features=20,\n",
      "                                  n_jobs=-1, max_depth=None, random_state=14)\n",
      "        ]\n",
      "\n",
      "score_with_glm(mix_m, data_train, labels_train, data_train_living, data_train_dead, data_valid, labels_valid)"
     ]
    },
    {
     "cell_type": "code",
     "collapsed": false,
     "input": [
      "forests = [RandomForestClassifier(n_estimators=50, class_weight=None, max_features=None,\n",
      "                                  n_jobs=-1, max_depth=None, random_state=14\n",
      "                                  ) for i in xrange(n_train_splits)]"
     ],
     "language": "python",
     "metadata": {},
     "outputs": [],
     "prompt_number": 794
    },
    {
     "cell_type": "code",
     "collapsed": false,
     "input": [
      "def train_and_score_cols(models, cols, data_train_living, data_train_dead, data_valid, labels_valid):\n",
      "    train_balanced(forests, data_train_living[:, cols], data_train_dead[:, cols]);\n",
      "    c_vals = score_models(forests, data_valid[:, cols], labels_valid)\n",
      "    #print c_vals\n",
      "    #print \n",
      "    \n",
      "    se = np.zeros((len(c_vals), 1))\n",
      "    sp = np.zeros((len(c_vals), 1))\n",
      "    for i,c in enumerate(c_vals):\n",
      "        se[i], sp[i] = get_ss(c)\n",
      "    se = np.mean(se)\n",
      "    sp = np.mean(sp)\n",
      "    #print se, sp\n",
      "    return se, sp"
     ],
     "language": "python",
     "metadata": {},
     "outputs": [],
     "prompt_number": 557
    },
    {
     "cell_type": "code",
     "collapsed": false,
     "input": [
      "def get_col_se_sp(models, data_train_living, data_train_dead, data_valid, labels_valid):\n",
      "    n = data_train_living.shape[1]\n",
      "    se = np.zeros((n,1))\n",
      "    sp = np.zeros((n,1))\n",
      "    \n",
      "    for i in xrange(n):\n",
      "        se[i], sp[i] = train_and_score_cols(models, [i], data_train_living, data_train_dead, data_valid, labels_valid)\n",
      "    return se, sp"
     ],
     "language": "python",
     "metadata": {},
     "outputs": [],
     "prompt_number": 522
    },
    {
     "cell_type": "code",
     "collapsed": false,
     "input": [
      "## A feature+stat for all windows\n",
      "def get_feature_stat_se_sp(models, data_train_living, data_train_dead, data_valid, labels_valid):\n",
      "    n = data_train_living.shape[1] / n_windows\n",
      "    se = np.zeros((n,1))\n",
      "    sp = np.zeros((n,1))\n",
      "    \n",
      "    for i in xrange(n):\n",
      "        cols = [i + j*n for j in xrange(n_windows)]\n",
      "        print cols\n",
      "        se[i], sp[i] = train_and_score_cols(models, [i], data_train_living, data_train_dead, data_valid, labels_valid)\n",
      "    return se, sp"
     ],
     "language": "python",
     "metadata": {},
     "outputs": [],
     "prompt_number": 570
    },
    {
     "cell_type": "code",
     "collapsed": false,
     "input": [
      "#### Get col name, window, stats\n",
      "def get_col_stat_window(c):\n",
      "    i = c % (n_features)\n",
      "    f = col_labs[i]\n",
      "    w = int(c / (n_features * len(stats)))\n",
      "    s = stats[int((c % (n_features * len(stats))) / (n_features))].func_name\n",
      "    \n",
      "    return i, f, s, w"
     ],
     "language": "python",
     "metadata": {},
     "outputs": [],
     "prompt_number": 638
    },
    {
     "cell_type": "code",
     "collapsed": false,
     "input": [
      "def get_str(col):\n",
      "    return '-'.join([str(x) for x in get_col_stat_window(col)[1:-1]])"
     ],
     "language": "python",
     "metadata": {},
     "outputs": [],
     "prompt_number": 669
    },
    {
     "cell_type": "code",
     "collapsed": false,
     "input": [
      "## A feature+stat for all windows FOR GIVEN COLS\n",
      "def get_feature_stat_se_sp(models, cols):\n",
      "    cols_all_windows = [cols[0] + j* for j in xrange(n_windows)]\n",
      "    print cols\n",
      "    se, sp = train_and_score_cols(models, [i], data_train_living, data_train_dead, data_valid, labels_valid)\n",
      "    return se, sp"
     ],
     "language": "python",
     "metadata": {},
     "outputs": [],
     "prompt_number": 570
    },
    {
     "cell_type": "code",
     "collapsed": false,
     "input": [
      "## A feature+stat for all windows\n",
      "def get_cols_stat_se_sp(models, cols):\n",
      "    n = data_train_living.shape[1] / n_windows\n",
      "    cols_all_windows = np.zeros((1, len(cols)*n_windows))\n",
      "    \n",
      "    for i in xrange(0, n_windows):\n",
      "        cols_all_windows[0, i*len(cols):(i+1)*len(cols)] = [j + i*n for j in cols]\n",
      "        \n",
      "    cols_ =  np.array(cols_all_windows[0, :], dtype=int).tolist()\n",
      "    print cols_\n",
      "    se, sp = train_and_score_cols(models, cols_, data_train_living, data_train_dead, data_train, labels_train)\n",
      "    return se, sp"
     ],
     "language": "python",
     "metadata": {},
     "outputs": [],
     "prompt_number": 801
    },
    {
     "cell_type": "code",
     "collapsed": false,
     "input": [
      "se_f, sp_f = get_feature_stat_se_sp(forests, data_train_living, data_train_dead, data_valid, labels_valid)"
     ],
     "language": "python",
     "metadata": {},
     "outputs": [
      {
       "output_type": "stream",
       "stream": "stdout",
       "text": [
        "[0, 124, 248]\n",
        "[1, 125, 249]"
       ]
      },
      {
       "output_type": "stream",
       "stream": "stdout",
       "text": [
        "\n",
        "[2, 126, 250]"
       ]
      },
      {
       "output_type": "stream",
       "stream": "stdout",
       "text": [
        "\n",
        "[3, 127, 251]"
       ]
      },
      {
       "output_type": "stream",
       "stream": "stdout",
       "text": [
        "\n",
        "[4, 128, 252]"
       ]
      },
      {
       "output_type": "stream",
       "stream": "stdout",
       "text": [
        "\n",
        "[5, 129, 253]"
       ]
      },
      {
       "output_type": "stream",
       "stream": "stdout",
       "text": [
        "\n",
        "[6, 130, 254]"
       ]
      },
      {
       "output_type": "stream",
       "stream": "stdout",
       "text": [
        "\n",
        "[7, 131, 255]"
       ]
      },
      {
       "output_type": "stream",
       "stream": "stdout",
       "text": [
        "\n",
        "[8, 132, 256]"
       ]
      },
      {
       "output_type": "stream",
       "stream": "stdout",
       "text": [
        "\n",
        "[9, 133, 257]"
       ]
      },
      {
       "output_type": "stream",
       "stream": "stdout",
       "text": [
        "\n",
        "[10, 134, 258]"
       ]
      },
      {
       "output_type": "stream",
       "stream": "stdout",
       "text": [
        "\n",
        "[11, 135, 259]"
       ]
      },
      {
       "output_type": "stream",
       "stream": "stdout",
       "text": [
        "\n",
        "[12, 136, 260]"
       ]
      },
      {
       "output_type": "stream",
       "stream": "stdout",
       "text": [
        "\n",
        "[13, 137, 261]"
       ]
      },
      {
       "output_type": "stream",
       "stream": "stdout",
       "text": [
        "\n",
        "[14, 138, 262]"
       ]
      },
      {
       "output_type": "stream",
       "stream": "stdout",
       "text": [
        "\n",
        "[15, 139, 263]"
       ]
      },
      {
       "output_type": "stream",
       "stream": "stdout",
       "text": [
        "\n",
        "[16, 140, 264]"
       ]
      },
      {
       "output_type": "stream",
       "stream": "stdout",
       "text": [
        "\n",
        "[17, 141, 265]"
       ]
      },
      {
       "output_type": "stream",
       "stream": "stdout",
       "text": [
        "\n",
        "[18, 142, 266]"
       ]
      },
      {
       "output_type": "stream",
       "stream": "stdout",
       "text": [
        "\n",
        "[19, 143, 267]"
       ]
      },
      {
       "output_type": "stream",
       "stream": "stdout",
       "text": [
        "\n",
        "[20, 144, 268]"
       ]
      },
      {
       "output_type": "stream",
       "stream": "stdout",
       "text": [
        "\n",
        "[21, 145, 269]"
       ]
      },
      {
       "output_type": "stream",
       "stream": "stdout",
       "text": [
        "\n",
        "[22, 146, 270]"
       ]
      },
      {
       "output_type": "stream",
       "stream": "stdout",
       "text": [
        "\n",
        "[23, 147, 271]"
       ]
      },
      {
       "output_type": "stream",
       "stream": "stdout",
       "text": [
        "\n",
        "[24, 148, 272]"
       ]
      },
      {
       "output_type": "stream",
       "stream": "stdout",
       "text": [
        "\n",
        "[25, 149, 273]"
       ]
      },
      {
       "output_type": "stream",
       "stream": "stdout",
       "text": [
        "\n",
        "[26, 150, 274]"
       ]
      },
      {
       "output_type": "stream",
       "stream": "stdout",
       "text": [
        "\n",
        "[27, 151, 275]"
       ]
      },
      {
       "output_type": "stream",
       "stream": "stdout",
       "text": [
        "\n",
        "[28, 152, 276]"
       ]
      },
      {
       "output_type": "stream",
       "stream": "stdout",
       "text": [
        "\n",
        "[29, 153, 277]"
       ]
      },
      {
       "output_type": "stream",
       "stream": "stdout",
       "text": [
        "\n",
        "[30, 154, 278]"
       ]
      },
      {
       "output_type": "stream",
       "stream": "stdout",
       "text": [
        "\n",
        "[31, 155, 279]"
       ]
      },
      {
       "output_type": "stream",
       "stream": "stdout",
       "text": [
        "\n",
        "[32, 156, 280]"
       ]
      },
      {
       "output_type": "stream",
       "stream": "stdout",
       "text": [
        "\n",
        "[33, 157, 281]"
       ]
      },
      {
       "output_type": "stream",
       "stream": "stdout",
       "text": [
        "\n",
        "[34, 158, 282]"
       ]
      },
      {
       "output_type": "stream",
       "stream": "stdout",
       "text": [
        "\n",
        "[35, 159, 283]"
       ]
      },
      {
       "output_type": "stream",
       "stream": "stdout",
       "text": [
        "\n",
        "[36, 160, 284]"
       ]
      },
      {
       "output_type": "stream",
       "stream": "stdout",
       "text": [
        "\n",
        "[37, 161, 285]"
       ]
      },
      {
       "output_type": "stream",
       "stream": "stdout",
       "text": [
        "\n",
        "[38, 162, 286]"
       ]
      },
      {
       "output_type": "stream",
       "stream": "stdout",
       "text": [
        "\n",
        "[39, 163, 287]"
       ]
      },
      {
       "output_type": "stream",
       "stream": "stdout",
       "text": [
        "\n",
        "[40, 164, 288]"
       ]
      },
      {
       "output_type": "stream",
       "stream": "stdout",
       "text": [
        "\n",
        "[41, 165, 289]"
       ]
      },
      {
       "output_type": "stream",
       "stream": "stdout",
       "text": [
        "\n",
        "[42, 166, 290]"
       ]
      },
      {
       "output_type": "stream",
       "stream": "stdout",
       "text": [
        "\n",
        "[43, 167, 291]"
       ]
      },
      {
       "output_type": "stream",
       "stream": "stdout",
       "text": [
        "\n",
        "[44, 168, 292]"
       ]
      },
      {
       "output_type": "stream",
       "stream": "stdout",
       "text": [
        "\n",
        "[45, 169, 293]"
       ]
      },
      {
       "output_type": "stream",
       "stream": "stdout",
       "text": [
        "\n",
        "[46, 170, 294]"
       ]
      },
      {
       "output_type": "stream",
       "stream": "stdout",
       "text": [
        "\n",
        "[47, 171, 295]"
       ]
      },
      {
       "output_type": "stream",
       "stream": "stdout",
       "text": [
        "\n",
        "[48, 172, 296]"
       ]
      },
      {
       "output_type": "stream",
       "stream": "stdout",
       "text": [
        "\n",
        "[49, 173, 297]"
       ]
      },
      {
       "output_type": "stream",
       "stream": "stdout",
       "text": [
        "\n",
        "[50, 174, 298]"
       ]
      },
      {
       "output_type": "stream",
       "stream": "stdout",
       "text": [
        "\n",
        "[51, 175, 299]"
       ]
      },
      {
       "output_type": "stream",
       "stream": "stdout",
       "text": [
        "\n",
        "[52, 176, 300]"
       ]
      },
      {
       "output_type": "stream",
       "stream": "stdout",
       "text": [
        "\n",
        "[53, 177, 301]"
       ]
      },
      {
       "output_type": "stream",
       "stream": "stdout",
       "text": [
        "\n",
        "[54, 178, 302]"
       ]
      },
      {
       "output_type": "stream",
       "stream": "stdout",
       "text": [
        "\n",
        "[55, 179, 303]"
       ]
      },
      {
       "output_type": "stream",
       "stream": "stdout",
       "text": [
        "\n",
        "[56, 180, 304]"
       ]
      },
      {
       "output_type": "stream",
       "stream": "stdout",
       "text": [
        "\n",
        "[57, 181, 305]"
       ]
      },
      {
       "output_type": "stream",
       "stream": "stdout",
       "text": [
        "\n",
        "[58, 182, 306]"
       ]
      },
      {
       "output_type": "stream",
       "stream": "stdout",
       "text": [
        "\n",
        "[59, 183, 307]"
       ]
      },
      {
       "output_type": "stream",
       "stream": "stdout",
       "text": [
        "\n",
        "[60, 184, 308]"
       ]
      },
      {
       "output_type": "stream",
       "stream": "stdout",
       "text": [
        "\n",
        "[61, 185, 309]"
       ]
      },
      {
       "output_type": "stream",
       "stream": "stdout",
       "text": [
        "\n",
        "[62, 186, 310]"
       ]
      },
      {
       "output_type": "stream",
       "stream": "stdout",
       "text": [
        "\n",
        "[63, 187, 311]"
       ]
      },
      {
       "output_type": "stream",
       "stream": "stdout",
       "text": [
        "\n",
        "[64, 188, 312]"
       ]
      },
      {
       "output_type": "stream",
       "stream": "stdout",
       "text": [
        "\n",
        "[65, 189, 313]"
       ]
      },
      {
       "output_type": "stream",
       "stream": "stdout",
       "text": [
        "\n",
        "[66, 190, 314]"
       ]
      },
      {
       "output_type": "stream",
       "stream": "stdout",
       "text": [
        "\n",
        "[67, 191, 315]"
       ]
      },
      {
       "output_type": "stream",
       "stream": "stdout",
       "text": [
        "\n",
        "[68, 192, 316]"
       ]
      },
      {
       "output_type": "stream",
       "stream": "stdout",
       "text": [
        "\n",
        "[69, 193, 317]"
       ]
      },
      {
       "output_type": "stream",
       "stream": "stdout",
       "text": [
        "\n",
        "[70, 194, 318]"
       ]
      },
      {
       "output_type": "stream",
       "stream": "stdout",
       "text": [
        "\n",
        "[71, 195, 319]"
       ]
      },
      {
       "output_type": "stream",
       "stream": "stdout",
       "text": [
        "\n",
        "[72, 196, 320]"
       ]
      },
      {
       "output_type": "stream",
       "stream": "stdout",
       "text": [
        "\n",
        "[73, 197, 321]"
       ]
      },
      {
       "output_type": "stream",
       "stream": "stdout",
       "text": [
        "\n",
        "[74, 198, 322]"
       ]
      },
      {
       "output_type": "stream",
       "stream": "stdout",
       "text": [
        "\n",
        "[75, 199, 323]"
       ]
      },
      {
       "output_type": "stream",
       "stream": "stdout",
       "text": [
        "\n",
        "[76, 200, 324]"
       ]
      },
      {
       "output_type": "stream",
       "stream": "stdout",
       "text": [
        "\n",
        "[77, 201, 325]"
       ]
      },
      {
       "output_type": "stream",
       "stream": "stdout",
       "text": [
        "\n",
        "[78, 202, 326]"
       ]
      },
      {
       "output_type": "stream",
       "stream": "stdout",
       "text": [
        "\n",
        "[79, 203, 327]"
       ]
      },
      {
       "output_type": "stream",
       "stream": "stdout",
       "text": [
        "\n",
        "[80, 204, 328]"
       ]
      },
      {
       "output_type": "stream",
       "stream": "stdout",
       "text": [
        "\n",
        "[81, 205, 329]"
       ]
      },
      {
       "output_type": "stream",
       "stream": "stdout",
       "text": [
        "\n",
        "[82, 206, 330]"
       ]
      },
      {
       "output_type": "stream",
       "stream": "stdout",
       "text": [
        "\n",
        "[83, 207, 331]"
       ]
      },
      {
       "output_type": "stream",
       "stream": "stdout",
       "text": [
        "\n",
        "[84, 208, 332]"
       ]
      },
      {
       "output_type": "stream",
       "stream": "stdout",
       "text": [
        "\n",
        "[85, 209, 333]"
       ]
      },
      {
       "output_type": "stream",
       "stream": "stdout",
       "text": [
        "\n",
        "[86, 210, 334]"
       ]
      },
      {
       "output_type": "stream",
       "stream": "stdout",
       "text": [
        "\n",
        "[87, 211, 335]"
       ]
      },
      {
       "output_type": "stream",
       "stream": "stdout",
       "text": [
        "\n",
        "[88, 212, 336]"
       ]
      },
      {
       "output_type": "stream",
       "stream": "stdout",
       "text": [
        "\n",
        "[89, 213, 337]"
       ]
      },
      {
       "output_type": "stream",
       "stream": "stdout",
       "text": [
        "\n",
        "[90, 214, 338]"
       ]
      },
      {
       "output_type": "stream",
       "stream": "stdout",
       "text": [
        "\n",
        "[91, 215, 339]"
       ]
      },
      {
       "output_type": "stream",
       "stream": "stdout",
       "text": [
        "\n",
        "[92, 216, 340]"
       ]
      },
      {
       "output_type": "stream",
       "stream": "stdout",
       "text": [
        "\n",
        "[93, 217, 341]"
       ]
      },
      {
       "output_type": "stream",
       "stream": "stdout",
       "text": [
        "\n",
        "[94, 218, 342]"
       ]
      },
      {
       "output_type": "stream",
       "stream": "stdout",
       "text": [
        "\n",
        "[95, 219, 343]"
       ]
      },
      {
       "output_type": "stream",
       "stream": "stdout",
       "text": [
        "\n",
        "[96, 220, 344]"
       ]
      },
      {
       "output_type": "stream",
       "stream": "stdout",
       "text": [
        "\n",
        "[97, 221, 345]"
       ]
      },
      {
       "output_type": "stream",
       "stream": "stdout",
       "text": [
        "\n",
        "[98, 222, 346]"
       ]
      },
      {
       "output_type": "stream",
       "stream": "stdout",
       "text": [
        "\n",
        "[99, 223, 347]"
       ]
      },
      {
       "output_type": "stream",
       "stream": "stdout",
       "text": [
        "\n",
        "[100, 224, 348]"
       ]
      },
      {
       "output_type": "stream",
       "stream": "stdout",
       "text": [
        "\n",
        "[101, 225, 349]"
       ]
      },
      {
       "output_type": "stream",
       "stream": "stdout",
       "text": [
        "\n",
        "[102, 226, 350]"
       ]
      },
      {
       "output_type": "stream",
       "stream": "stdout",
       "text": [
        "\n",
        "[103, 227, 351]"
       ]
      },
      {
       "output_type": "stream",
       "stream": "stdout",
       "text": [
        "\n",
        "[104, 228, 352]"
       ]
      },
      {
       "output_type": "stream",
       "stream": "stdout",
       "text": [
        "\n",
        "[105, 229, 353]"
       ]
      },
      {
       "output_type": "stream",
       "stream": "stdout",
       "text": [
        "\n",
        "[106, 230, 354]"
       ]
      },
      {
       "output_type": "stream",
       "stream": "stdout",
       "text": [
        "\n",
        "[107, 231, 355]"
       ]
      },
      {
       "output_type": "stream",
       "stream": "stdout",
       "text": [
        "\n",
        "[108, 232, 356]"
       ]
      },
      {
       "output_type": "stream",
       "stream": "stdout",
       "text": [
        "\n",
        "[109, 233, 357]"
       ]
      },
      {
       "output_type": "stream",
       "stream": "stdout",
       "text": [
        "\n",
        "[110, 234, 358]"
       ]
      },
      {
       "output_type": "stream",
       "stream": "stdout",
       "text": [
        "\n",
        "[111, 235, 359]"
       ]
      },
      {
       "output_type": "stream",
       "stream": "stdout",
       "text": [
        "\n",
        "[112, 236, 360]"
       ]
      },
      {
       "output_type": "stream",
       "stream": "stdout",
       "text": [
        "\n",
        "[113, 237, 361]"
       ]
      },
      {
       "output_type": "stream",
       "stream": "stdout",
       "text": [
        "\n",
        "[114, 238, 362]"
       ]
      },
      {
       "output_type": "stream",
       "stream": "stdout",
       "text": [
        "\n",
        "[115, 239, 363]"
       ]
      },
      {
       "output_type": "stream",
       "stream": "stdout",
       "text": [
        "\n",
        "[116, 240, 364]"
       ]
      },
      {
       "output_type": "stream",
       "stream": "stdout",
       "text": [
        "\n",
        "[117, 241, 365]"
       ]
      },
      {
       "output_type": "stream",
       "stream": "stdout",
       "text": [
        "\n",
        "[118, 242, 366]"
       ]
      },
      {
       "output_type": "stream",
       "stream": "stdout",
       "text": [
        "\n",
        "[119, 243, 367]"
       ]
      },
      {
       "output_type": "stream",
       "stream": "stdout",
       "text": [
        "\n",
        "[120, 244, 368]"
       ]
      },
      {
       "output_type": "stream",
       "stream": "stdout",
       "text": [
        "\n",
        "[121, 245, 369]"
       ]
      },
      {
       "output_type": "stream",
       "stream": "stdout",
       "text": [
        "\n",
        "[122, 246, 370]"
       ]
      },
      {
       "output_type": "stream",
       "stream": "stdout",
       "text": [
        "\n",
        "[123, 247, 371]"
       ]
      },
      {
       "output_type": "stream",
       "stream": "stdout",
       "text": [
        "\n"
       ]
      }
     ],
     "prompt_number": 574
    },
    {
     "cell_type": "code",
     "collapsed": true,
     "input": [
      "se_s, sp_s = get_feature_stat_se_sp(svms, data_train_living, data_train_dead, data_valid, labget_feature_stat_se_spd)"
     ],
     "language": "python",
     "metadata": {},
     "outputs": [
      {
       "output_type": "stream",
       "stream": "stdout",
       "text": [
        "[0, 124, 248]\n",
        "[1, 125, 249]"
       ]
      },
      {
       "output_type": "stream",
       "stream": "stdout",
       "text": [
        "\n"
       ]
      },
      {
       "ename": "KeyboardInterrupt",
       "evalue": "",
       "output_type": "pyerr",
       "traceback": [
        "\u001b[1;31m---------------------------------------------------------------------------\u001b[0m\n\u001b[1;31mKeyboardInterrupt\u001b[0m                         Traceback (most recent call last)",
        "\u001b[1;32m<ipython-input-575-083a9429a3d1>\u001b[0m in \u001b[0;36m<module>\u001b[1;34m()\u001b[0m\n\u001b[1;32m----> 1\u001b[1;33m \u001b[0mse_s\u001b[0m\u001b[1;33m,\u001b[0m \u001b[0msp_s\u001b[0m \u001b[1;33m=\u001b[0m \u001b[0mget_feature_stat_se_sp\u001b[0m\u001b[1;33m(\u001b[0m\u001b[0msvms\u001b[0m\u001b[1;33m,\u001b[0m \u001b[0mdata_train_living\u001b[0m\u001b[1;33m,\u001b[0m \u001b[0mdata_train_dead\u001b[0m\u001b[1;33m,\u001b[0m \u001b[0mdata_valid\u001b[0m\u001b[1;33m,\u001b[0m \u001b[0mlabels_valid\u001b[0m\u001b[1;33m)\u001b[0m\u001b[1;33m\u001b[0m\u001b[0m\n\u001b[0m",
        "\u001b[1;32m<ipython-input-570-a2e502e413dc>\u001b[0m in \u001b[0;36mget_feature_stat_se_sp\u001b[1;34m(models, data_train_living, data_train_dead, data_valid, labels_valid)\u001b[0m\n\u001b[0;32m      8\u001b[0m         \u001b[0mcols\u001b[0m \u001b[1;33m=\u001b[0m \u001b[1;33m[\u001b[0m\u001b[0mi\u001b[0m \u001b[1;33m+\u001b[0m \u001b[0mj\u001b[0m\u001b[1;33m*\u001b[0m\u001b[0mn\u001b[0m \u001b[1;32mfor\u001b[0m \u001b[0mj\u001b[0m \u001b[1;32min\u001b[0m \u001b[0mxrange\u001b[0m\u001b[1;33m(\u001b[0m\u001b[0mn_windows\u001b[0m\u001b[1;33m)\u001b[0m\u001b[1;33m]\u001b[0m\u001b[1;33m\u001b[0m\u001b[0m\n\u001b[0;32m      9\u001b[0m         \u001b[1;32mprint\u001b[0m \u001b[0mcols\u001b[0m\u001b[1;33m\u001b[0m\u001b[0m\n\u001b[1;32m---> 10\u001b[1;33m         \u001b[0mse\u001b[0m\u001b[1;33m[\u001b[0m\u001b[0mi\u001b[0m\u001b[1;33m]\u001b[0m\u001b[1;33m,\u001b[0m \u001b[0msp\u001b[0m\u001b[1;33m[\u001b[0m\u001b[0mi\u001b[0m\u001b[1;33m]\u001b[0m \u001b[1;33m=\u001b[0m \u001b[0mtrain_and_score_cols\u001b[0m\u001b[1;33m(\u001b[0m\u001b[0mmodels\u001b[0m\u001b[1;33m,\u001b[0m \u001b[1;33m[\u001b[0m\u001b[0mi\u001b[0m\u001b[1;33m]\u001b[0m\u001b[1;33m,\u001b[0m \u001b[0mdata_train_living\u001b[0m\u001b[1;33m,\u001b[0m \u001b[0mdata_train_dead\u001b[0m\u001b[1;33m,\u001b[0m \u001b[0mdata_valid\u001b[0m\u001b[1;33m,\u001b[0m \u001b[0mlabels_valid\u001b[0m\u001b[1;33m)\u001b[0m\u001b[1;33m\u001b[0m\u001b[0m\n\u001b[0m\u001b[0;32m     11\u001b[0m     \u001b[1;32mreturn\u001b[0m \u001b[0mse\u001b[0m\u001b[1;33m,\u001b[0m \u001b[0msp\u001b[0m\u001b[1;33m\u001b[0m\u001b[0m\n",
        "\u001b[1;32m<ipython-input-557-23ea351029ea>\u001b[0m in \u001b[0;36mtrain_and_score_cols\u001b[1;34m(models, cols, data_train_living, data_train_dead, data_valid, labels_valid)\u001b[0m\n\u001b[0;32m      1\u001b[0m \u001b[1;32mdef\u001b[0m \u001b[0mtrain_and_score_cols\u001b[0m\u001b[1;33m(\u001b[0m\u001b[0mmodels\u001b[0m\u001b[1;33m,\u001b[0m \u001b[0mcols\u001b[0m\u001b[1;33m,\u001b[0m \u001b[0mdata_train_living\u001b[0m\u001b[1;33m,\u001b[0m \u001b[0mdata_train_dead\u001b[0m\u001b[1;33m,\u001b[0m \u001b[0mdata_valid\u001b[0m\u001b[1;33m,\u001b[0m \u001b[0mlabels_valid\u001b[0m\u001b[1;33m)\u001b[0m\u001b[1;33m:\u001b[0m\u001b[1;33m\u001b[0m\u001b[0m\n\u001b[1;32m----> 2\u001b[1;33m     \u001b[0mtrain_balanced\u001b[0m\u001b[1;33m(\u001b[0m\u001b[0mforests\u001b[0m\u001b[1;33m,\u001b[0m \u001b[0mdata_train_living\u001b[0m\u001b[1;33m[\u001b[0m\u001b[1;33m:\u001b[0m\u001b[1;33m,\u001b[0m \u001b[0mcols\u001b[0m\u001b[1;33m]\u001b[0m\u001b[1;33m,\u001b[0m \u001b[0mdata_train_dead\u001b[0m\u001b[1;33m[\u001b[0m\u001b[1;33m:\u001b[0m\u001b[1;33m,\u001b[0m \u001b[0mcols\u001b[0m\u001b[1;33m]\u001b[0m\u001b[1;33m)\u001b[0m\u001b[1;33m;\u001b[0m\u001b[1;33m\u001b[0m\u001b[0m\n\u001b[0m\u001b[0;32m      3\u001b[0m     \u001b[0mc_vals\u001b[0m \u001b[1;33m=\u001b[0m \u001b[0mscore_models\u001b[0m\u001b[1;33m(\u001b[0m\u001b[0mforests\u001b[0m\u001b[1;33m,\u001b[0m \u001b[0mdata_valid\u001b[0m\u001b[1;33m[\u001b[0m\u001b[1;33m:\u001b[0m\u001b[1;33m,\u001b[0m \u001b[0mcols\u001b[0m\u001b[1;33m]\u001b[0m\u001b[1;33m,\u001b[0m \u001b[0mlabels_valid\u001b[0m\u001b[1;33m)\u001b[0m\u001b[1;33m\u001b[0m\u001b[0m\n\u001b[0;32m      4\u001b[0m     \u001b[1;31m#print c_vals\u001b[0m\u001b[1;33m\u001b[0m\u001b[1;33m\u001b[0m\u001b[0m\n\u001b[0;32m      5\u001b[0m     \u001b[1;31m#print\u001b[0m\u001b[1;33m\u001b[0m\u001b[1;33m\u001b[0m\u001b[0m\n",
        "\u001b[1;32m<ipython-input-489-e31febd0eeb5>\u001b[0m in \u001b[0;36mtrain_balanced\u001b[1;34m(models, data_living, data_dead)\u001b[0m\n\u001b[0;32m     11\u001b[0m \u001b[1;33m\u001b[0m\u001b[0m\n\u001b[0;32m     12\u001b[0m         \u001b[0mmodels\u001b[0m\u001b[1;33m[\u001b[0m\u001b[0mi\u001b[0m\u001b[1;33m]\u001b[0m\u001b[1;33m.\u001b[0m\u001b[0mfit\u001b[0m\u001b[1;33m(\u001b[0m\u001b[0mdata_bal\u001b[0m\u001b[1;33m,\u001b[0m \u001b[0mlabel_bal\u001b[0m\u001b[1;33m[\u001b[0m\u001b[1;33m:\u001b[0m\u001b[1;33m,\u001b[0m \u001b[1;36m0\u001b[0m\u001b[1;33m]\u001b[0m\u001b[1;33m)\u001b[0m\u001b[1;33m\u001b[0m\u001b[0m\n\u001b[1;32m---> 13\u001b[1;33m         \u001b[0mC_train\u001b[0m\u001b[1;33m.\u001b[0m\u001b[0mappend\u001b[0m\u001b[1;33m(\u001b[0m\u001b[0mconfusion_matrix\u001b[0m\u001b[1;33m(\u001b[0m\u001b[0mlabel_bal\u001b[0m\u001b[1;33m[\u001b[0m\u001b[1;33m:\u001b[0m\u001b[1;33m,\u001b[0m\u001b[1;33m]\u001b[0m\u001b[1;33m,\u001b[0m \u001b[0mmodels\u001b[0m\u001b[1;33m[\u001b[0m\u001b[0mi\u001b[0m\u001b[1;33m]\u001b[0m\u001b[1;33m.\u001b[0m\u001b[0mpredict\u001b[0m\u001b[1;33m(\u001b[0m\u001b[0mdata_bal\u001b[0m\u001b[1;33m)\u001b[0m\u001b[1;33m)\u001b[0m\u001b[1;33m)\u001b[0m\u001b[1;33m\u001b[0m\u001b[0m\n\u001b[0m\u001b[0;32m     14\u001b[0m \u001b[1;33m\u001b[0m\u001b[0m\n\u001b[0;32m     15\u001b[0m     \u001b[1;32mreturn\u001b[0m \u001b[0mC_train\u001b[0m\u001b[1;33m\u001b[0m\u001b[0m\n",
        "\u001b[1;32m/home/kcm/anaconda/lib/python2.7/site-packages/sklearn/ensemble/forest.pyc\u001b[0m in \u001b[0;36mpredict\u001b[1;34m(self, X)\u001b[0m\n\u001b[0;32m    460\u001b[0m         \u001b[1;31m# for 1d.\u001b[0m\u001b[1;33m\u001b[0m\u001b[1;33m\u001b[0m\u001b[0m\n\u001b[0;32m    461\u001b[0m         \u001b[0mX\u001b[0m \u001b[1;33m=\u001b[0m \u001b[0mcheck_array\u001b[0m\u001b[1;33m(\u001b[0m\u001b[0mX\u001b[0m\u001b[1;33m,\u001b[0m \u001b[0mensure_2d\u001b[0m\u001b[1;33m=\u001b[0m\u001b[0mFalse\u001b[0m\u001b[1;33m,\u001b[0m \u001b[0maccept_sparse\u001b[0m\u001b[1;33m=\u001b[0m\u001b[1;34m\"csr\"\u001b[0m\u001b[1;33m)\u001b[0m\u001b[1;33m\u001b[0m\u001b[0m\n\u001b[1;32m--> 462\u001b[1;33m         \u001b[0mproba\u001b[0m \u001b[1;33m=\u001b[0m \u001b[0mself\u001b[0m\u001b[1;33m.\u001b[0m\u001b[0mpredict_proba\u001b[0m\u001b[1;33m(\u001b[0m\u001b[0mX\u001b[0m\u001b[1;33m)\u001b[0m\u001b[1;33m\u001b[0m\u001b[0m\n\u001b[0m\u001b[0;32m    463\u001b[0m \u001b[1;33m\u001b[0m\u001b[0m\n\u001b[0;32m    464\u001b[0m         \u001b[1;32mif\u001b[0m \u001b[0mself\u001b[0m\u001b[1;33m.\u001b[0m\u001b[0mn_outputs_\u001b[0m \u001b[1;33m==\u001b[0m \u001b[1;36m1\u001b[0m\u001b[1;33m:\u001b[0m\u001b[1;33m\u001b[0m\u001b[0m\n",
        "\u001b[1;32m/home/kcm/anaconda/lib/python2.7/site-packages/sklearn/ensemble/forest.pyc\u001b[0m in \u001b[0;36mpredict_proba\u001b[1;34m(self, X)\u001b[0m\n\u001b[0;32m    511\u001b[0m                              \u001b[0mbackend\u001b[0m\u001b[1;33m=\u001b[0m\u001b[1;34m\"threading\"\u001b[0m\u001b[1;33m)\u001b[0m\u001b[1;33m(\u001b[0m\u001b[1;33m\u001b[0m\u001b[0m\n\u001b[0;32m    512\u001b[0m             \u001b[0mdelayed\u001b[0m\u001b[1;33m(\u001b[0m\u001b[0m_parallel_helper\u001b[0m\u001b[1;33m)\u001b[0m\u001b[1;33m(\u001b[0m\u001b[0me\u001b[0m\u001b[1;33m,\u001b[0m \u001b[1;34m'predict_proba'\u001b[0m\u001b[1;33m,\u001b[0m \u001b[0mX\u001b[0m\u001b[1;33m,\u001b[0m \u001b[0mcheck_input\u001b[0m\u001b[1;33m=\u001b[0m\u001b[0mFalse\u001b[0m\u001b[1;33m)\u001b[0m\u001b[1;33m\u001b[0m\u001b[0m\n\u001b[1;32m--> 513\u001b[1;33m             for e in self.estimators_)\n\u001b[0m\u001b[0;32m    514\u001b[0m \u001b[1;33m\u001b[0m\u001b[0m\n\u001b[0;32m    515\u001b[0m         \u001b[1;31m# Reduce\u001b[0m\u001b[1;33m\u001b[0m\u001b[1;33m\u001b[0m\u001b[0m\n",
        "\u001b[1;32m/home/kcm/anaconda/lib/python2.7/site-packages/sklearn/externals/joblib/parallel.pyc\u001b[0m in \u001b[0;36m__call__\u001b[1;34m(self, iterable)\u001b[0m\n\u001b[0;32m    676\u001b[0m             \u001b[1;32mif\u001b[0m \u001b[0mn_jobs\u001b[0m \u001b[1;33m>\u001b[0m \u001b[1;36m1\u001b[0m\u001b[1;33m:\u001b[0m\u001b[1;33m\u001b[0m\u001b[0m\n\u001b[0;32m    677\u001b[0m                 \u001b[0mself\u001b[0m\u001b[1;33m.\u001b[0m\u001b[0m_pool\u001b[0m\u001b[1;33m.\u001b[0m\u001b[0mclose\u001b[0m\u001b[1;33m(\u001b[0m\u001b[1;33m)\u001b[0m\u001b[1;33m\u001b[0m\u001b[0m\n\u001b[1;32m--> 678\u001b[1;33m                 \u001b[0mself\u001b[0m\u001b[1;33m.\u001b[0m\u001b[0m_pool\u001b[0m\u001b[1;33m.\u001b[0m\u001b[0mterminate\u001b[0m\u001b[1;33m(\u001b[0m\u001b[1;33m)\u001b[0m  \u001b[1;31m# terminate does a join()\u001b[0m\u001b[1;33m\u001b[0m\u001b[0m\n\u001b[0m\u001b[0;32m    679\u001b[0m                 \u001b[1;32mif\u001b[0m \u001b[0mself\u001b[0m\u001b[1;33m.\u001b[0m\u001b[0mbackend\u001b[0m \u001b[1;33m==\u001b[0m \u001b[1;34m'multiprocessing'\u001b[0m\u001b[1;33m:\u001b[0m\u001b[1;33m\u001b[0m\u001b[0m\n\u001b[0;32m    680\u001b[0m                     \u001b[0mos\u001b[0m\u001b[1;33m.\u001b[0m\u001b[0menviron\u001b[0m\u001b[1;33m.\u001b[0m\u001b[0mpop\u001b[0m\u001b[1;33m(\u001b[0m\u001b[0mJOBLIB_SPAWNED_PROCESS\u001b[0m\u001b[1;33m,\u001b[0m \u001b[1;36m0\u001b[0m\u001b[1;33m)\u001b[0m\u001b[1;33m\u001b[0m\u001b[0m\n",
        "\u001b[1;32m/home/kcm/anaconda/lib/python2.7/multiprocessing/pool.pyc\u001b[0m in \u001b[0;36mterminate\u001b[1;34m(self)\u001b[0m\n\u001b[0;32m    463\u001b[0m         \u001b[0mself\u001b[0m\u001b[1;33m.\u001b[0m\u001b[0m_state\u001b[0m \u001b[1;33m=\u001b[0m \u001b[0mTERMINATE\u001b[0m\u001b[1;33m\u001b[0m\u001b[0m\n\u001b[0;32m    464\u001b[0m         \u001b[0mself\u001b[0m\u001b[1;33m.\u001b[0m\u001b[0m_worker_handler\u001b[0m\u001b[1;33m.\u001b[0m\u001b[0m_state\u001b[0m \u001b[1;33m=\u001b[0m \u001b[0mTERMINATE\u001b[0m\u001b[1;33m\u001b[0m\u001b[0m\n\u001b[1;32m--> 465\u001b[1;33m         \u001b[0mself\u001b[0m\u001b[1;33m.\u001b[0m\u001b[0m_terminate\u001b[0m\u001b[1;33m(\u001b[0m\u001b[1;33m)\u001b[0m\u001b[1;33m\u001b[0m\u001b[0m\n\u001b[0m\u001b[0;32m    466\u001b[0m \u001b[1;33m\u001b[0m\u001b[0m\n\u001b[0;32m    467\u001b[0m     \u001b[1;32mdef\u001b[0m \u001b[0mjoin\u001b[0m\u001b[1;33m(\u001b[0m\u001b[0mself\u001b[0m\u001b[1;33m)\u001b[0m\u001b[1;33m:\u001b[0m\u001b[1;33m\u001b[0m\u001b[0m\n",
        "\u001b[1;32m/home/kcm/anaconda/lib/python2.7/multiprocessing/util.pyc\u001b[0m in \u001b[0;36m__call__\u001b[1;34m(self, wr)\u001b[0m\n\u001b[0;32m    205\u001b[0m                 sub_debug('finalizer calling %s with args %s and kwargs %s',\n\u001b[0;32m    206\u001b[0m                           self._callback, self._args, self._kwargs)\n\u001b[1;32m--> 207\u001b[1;33m                 \u001b[0mres\u001b[0m \u001b[1;33m=\u001b[0m \u001b[0mself\u001b[0m\u001b[1;33m.\u001b[0m\u001b[0m_callback\u001b[0m\u001b[1;33m(\u001b[0m\u001b[1;33m*\u001b[0m\u001b[0mself\u001b[0m\u001b[1;33m.\u001b[0m\u001b[0m_args\u001b[0m\u001b[1;33m,\u001b[0m \u001b[1;33m**\u001b[0m\u001b[0mself\u001b[0m\u001b[1;33m.\u001b[0m\u001b[0m_kwargs\u001b[0m\u001b[1;33m)\u001b[0m\u001b[1;33m\u001b[0m\u001b[0m\n\u001b[0m\u001b[0;32m    208\u001b[0m             \u001b[0mself\u001b[0m\u001b[1;33m.\u001b[0m\u001b[0m_weakref\u001b[0m \u001b[1;33m=\u001b[0m \u001b[0mself\u001b[0m\u001b[1;33m.\u001b[0m\u001b[0m_callback\u001b[0m \u001b[1;33m=\u001b[0m \u001b[0mself\u001b[0m\u001b[1;33m.\u001b[0m\u001b[0m_args\u001b[0m \u001b[1;33m=\u001b[0m\u001b[0;31m \u001b[0m\u001b[0;31m\\\u001b[0m\u001b[1;33m\u001b[0m\u001b[0m\n\u001b[0;32m    209\u001b[0m                             \u001b[0mself\u001b[0m\u001b[1;33m.\u001b[0m\u001b[0m_kwargs\u001b[0m \u001b[1;33m=\u001b[0m \u001b[0mself\u001b[0m\u001b[1;33m.\u001b[0m\u001b[0m_key\u001b[0m \u001b[1;33m=\u001b[0m \u001b[0mNone\u001b[0m\u001b[1;33m\u001b[0m\u001b[0m\n",
        "\u001b[1;32m/home/kcm/anaconda/lib/python2.7/multiprocessing/pool.pyc\u001b[0m in \u001b[0;36m_terminate_pool\u001b[1;34m(cls, taskqueue, inqueue, outqueue, pool, worker_handler, task_handler, result_handler, cache)\u001b[0m\n\u001b[0;32m    504\u001b[0m         \u001b[0mdebug\u001b[0m\u001b[1;33m(\u001b[0m\u001b[1;34m'joining worker handler'\u001b[0m\u001b[1;33m)\u001b[0m\u001b[1;33m\u001b[0m\u001b[0m\n\u001b[0;32m    505\u001b[0m         \u001b[1;32mif\u001b[0m \u001b[0mthreading\u001b[0m\u001b[1;33m.\u001b[0m\u001b[0mcurrent_thread\u001b[0m\u001b[1;33m(\u001b[0m\u001b[1;33m)\u001b[0m \u001b[1;32mis\u001b[0m \u001b[1;32mnot\u001b[0m \u001b[0mworker_handler\u001b[0m\u001b[1;33m:\u001b[0m\u001b[1;33m\u001b[0m\u001b[0m\n\u001b[1;32m--> 506\u001b[1;33m             \u001b[0mworker_handler\u001b[0m\u001b[1;33m.\u001b[0m\u001b[0mjoin\u001b[0m\u001b[1;33m(\u001b[0m\u001b[1;36m1e100\u001b[0m\u001b[1;33m)\u001b[0m\u001b[1;33m\u001b[0m\u001b[0m\n\u001b[0m\u001b[0;32m    507\u001b[0m \u001b[1;33m\u001b[0m\u001b[0m\n\u001b[0;32m    508\u001b[0m         \u001b[1;31m# Terminate workers which haven't already finished.\u001b[0m\u001b[1;33m\u001b[0m\u001b[1;33m\u001b[0m\u001b[0m\n",
        "\u001b[1;32m/home/kcm/anaconda/lib/python2.7/threading.pyc\u001b[0m in \u001b[0;36mjoin\u001b[1;34m(self, timeout)\u001b[0m\n\u001b[0;32m    958\u001b[0m                             \u001b[0mself\u001b[0m\u001b[1;33m.\u001b[0m\u001b[0m_note\u001b[0m\u001b[1;33m(\u001b[0m\u001b[1;34m\"%s.join(): timed out\"\u001b[0m\u001b[1;33m,\u001b[0m \u001b[0mself\u001b[0m\u001b[1;33m)\u001b[0m\u001b[1;33m\u001b[0m\u001b[0m\n\u001b[0;32m    959\u001b[0m                         \u001b[1;32mbreak\u001b[0m\u001b[1;33m\u001b[0m\u001b[0m\n\u001b[1;32m--> 960\u001b[1;33m                     \u001b[0mself\u001b[0m\u001b[1;33m.\u001b[0m\u001b[0m__block\u001b[0m\u001b[1;33m.\u001b[0m\u001b[0mwait\u001b[0m\u001b[1;33m(\u001b[0m\u001b[0mdelay\u001b[0m\u001b[1;33m)\u001b[0m\u001b[1;33m\u001b[0m\u001b[0m\n\u001b[0m\u001b[0;32m    961\u001b[0m                 \u001b[1;32melse\u001b[0m\u001b[1;33m:\u001b[0m\u001b[1;33m\u001b[0m\u001b[0m\n\u001b[0;32m    962\u001b[0m                     \u001b[1;32mif\u001b[0m \u001b[0m__debug__\u001b[0m\u001b[1;33m:\u001b[0m\u001b[1;33m\u001b[0m\u001b[0m\n",
        "\u001b[1;32m/home/kcm/anaconda/lib/python2.7/threading.pyc\u001b[0m in \u001b[0;36mwait\u001b[1;34m(self, timeout)\u001b[0m\n\u001b[0;32m    357\u001b[0m                         \u001b[1;32mbreak\u001b[0m\u001b[1;33m\u001b[0m\u001b[0m\n\u001b[0;32m    358\u001b[0m                     \u001b[0mdelay\u001b[0m \u001b[1;33m=\u001b[0m \u001b[0mmin\u001b[0m\u001b[1;33m(\u001b[0m\u001b[0mdelay\u001b[0m \u001b[1;33m*\u001b[0m \u001b[1;36m2\u001b[0m\u001b[1;33m,\u001b[0m \u001b[0mremaining\u001b[0m\u001b[1;33m,\u001b[0m \u001b[1;36m.05\u001b[0m\u001b[1;33m)\u001b[0m\u001b[1;33m\u001b[0m\u001b[0m\n\u001b[1;32m--> 359\u001b[1;33m                     \u001b[0m_sleep\u001b[0m\u001b[1;33m(\u001b[0m\u001b[0mdelay\u001b[0m\u001b[1;33m)\u001b[0m\u001b[1;33m\u001b[0m\u001b[0m\n\u001b[0m\u001b[0;32m    360\u001b[0m                 \u001b[1;32mif\u001b[0m \u001b[1;32mnot\u001b[0m \u001b[0mgotit\u001b[0m\u001b[1;33m:\u001b[0m\u001b[1;33m\u001b[0m\u001b[0m\n\u001b[0;32m    361\u001b[0m                     \u001b[1;32mif\u001b[0m \u001b[0m__debug__\u001b[0m\u001b[1;33m:\u001b[0m\u001b[1;33m\u001b[0m\u001b[0m\n",
        "\u001b[1;31mKeyboardInterrupt\u001b[0m: "
       ]
      }
     ],
     "prompt_number": 575
    },
    {
     "cell_type": "code",
     "collapsed": false,
     "input": [
      "np.set_printoptions(precision=5, suppress=True)"
     ],
     "language": "python",
     "metadata": {},
     "outputs": [],
     "prompt_number": 630
    },
    {
     "cell_type": "code",
     "collapsed": false,
     "input": [],
     "language": "python",
     "metadata": {},
     "outputs": []
    },
    {
     "cell_type": "code",
     "collapsed": false,
     "input": [
      "out = np.hstack((np.arange(se_f.shape[0]).reshape((se_f.shape[0], 1)), se_f, 1-sp_f, np.abs(1-sp_f - se_f)))\n",
      "max_diff_ind = np.argsort(out[:, 2])[::-1]\n",
      "cols = [get_str(i) for i in np.array(out[:, 0], dtype=int)]"
     ],
     "language": "python",
     "metadata": {},
     "outputs": [],
     "prompt_number": 652
    },
    {
     "cell_type": "code",
     "collapsed": false,
     "input": [
      "pretty_out = np.hstack((np.array(cols).reshape((out.shape[0], 1)), out))"
     ],
     "language": "python",
     "metadata": {},
     "outputs": [],
     "prompt_number": 683
    },
    {
     "cell_type": "code",
     "collapsed": false,
     "input": [
      "for c in pretty_out[max_diff_ind]:\n",
      "    print c[0], '\\t', c[1], '\\t', c[2], '\\t', c[3], '\\t', c[4]"
     ],
     "language": "python",
     "metadata": {},
     "outputs": [
      {
       "output_type": "stream",
       "stream": "stdout",
       "text": [
        "Fasting Blood Glucose in mg/dL-nanmean \t24.0 \t0.979853479853 \t0.965344847176 \t0.014508632677\n",
        "Fasting Blood Glucose in mg/dL-nanvar \t86.0 \t0.978021978022 \t0.964549483013 \t0.0134724950087\n",
        "HDL Cholesterol in mg/dL-nanmean \t29.0 \t1.0 \t0.942847403704 \t0.0571525962959\n",
        "HDL Cholesterol in mg/dL-nanvar \t91.0 \t1.0 \t0.941483922282 \t0.0585160777184\n",
        "LDL Cholesterol in mg/dL-nanmean \t19.0 \t0.873626373626 \t0.863197363936 \t0.0104290096905\n",
        "LDL Cholesterol in mg/dL-nanvar \t81.0 \t0.822344322344 \t0.858197932053 \t0.0358536097089\n",
        "LDL Cholesterol in mg/dL-nanmax \t50.0 \t0.904761904762 \t0.855130098852 \t0.0496318059095\n",
        "Fasting Blood Glucose in mg/dL-nanmax \t55.0 \t0.835164835165 \t0.826724235882 \t0.00844059928255\n",
        "Fasting Blood Glucose in mg/dL-nanmin \t117.0 \t0.846153846154 \t0.824338143393 \t0.021815702761\n",
        "HDL Cholesterol in mg/dL-nanmin \t122.0 \t0.769230769231 \t0.751164640382 \t0.018066128849\n",
        "Oxygen Saturation in %-nanmax \t35.0 \t0.760073260073 \t0.733439381888 \t0.0266338781848\n",
        "Platelet Count in x 103/\u00b5L-nanmax \t47.0 \t0.673992673993 \t0.704579025111 \t0.0305863511181\n",
        "WBC Count in x 103/\u00b5L-nanmin \t107.0 \t0.732600732601 \t0.684922167935 \t0.0476785646653\n",
        "Serum Creatinine in mg/dL-nanmin \t106.0 \t0.631868131868 \t0.666856039086 \t0.0349879072183\n",
        "Albumin in g/dl-nanmax \t57.0 \t0.606227106227 \t0.640040904443 \t0.0338137982156\n",
        "Alkaline Phosphatase in IU/L-nanmin \t120.0 \t0.653846153846 \t0.612430405636 \t0.0414157482104\n",
        "Blood Urea Nitrogen in mg/dL-nanmin \t105.0 \t0.652014652015 \t0.60481763436 \t0.0471970176549\n",
        "HDL Cholesterol in mg/dL-nanmax \t60.0 \t0.615384615385 \t0.6042495171 \t0.0111350982843\n",
        "Bilirubin in mg/dL-nanmin \t110.0 \t0.644688644689 \t0.59095557323 \t0.0537330714583\n",
        "Systolic Blood Pressure in mmHg-nanmax \t31.0 \t0.52380952381 \t0.587774116578 \t0.0639645927681\n",
        "Hematocrit %-nanmax \t46.0 \t0.371794871795 \t0.503579138734 \t0.131784266939\n",
        "Diastolic Blood Pressure in mmHg-nanmax \t32.0 \t0.452380952381 \t0.499602317918 \t0.0472213655375\n",
        "Heart Rate in bpm-nanmin \t95.0 \t0.604395604396 \t0.493125781161 \t0.111269823234\n",
        "Diastolic Blood Pressure in mmHg-nanmean \t1.0 \t0.509157509158 \t0.48880808999 \t0.0203494191677\n",
        "Respiration Rate in bpm-nanvar \t65.0 \t0.478021978022 \t0.485626633337 \t0.00760465531514\n",
        "Oxygen Saturation in %-nanmean \t4.0 \t0.509157509158 \t0.481877059425 \t0.0272804497324\n",
        "Systolic Blood Pressure in mmHg-nanmean \t0.0 \t0.52380952381 \t0.478809226224 \t0.0450002975852\n",
        "Diastolic Blood Pressure in mmHg-nanvar \t63.0 \t0.532967032967 \t0.47733212135 \t0.0556349116172\n",
        "Sodium in mmol/L-nanmin \t102.0 \t0.485347985348 \t0.472559936371 \t0.0127880489771\n",
        "Temperature in Celsius-nanmean \t5.0 \t0.575091575092 \t0.471423701852 \t0.10366787324\n",
        "Temperature in Celsius-nanvar \t67.0 \t0.56043956044 \t0.468469492103 \t0.0919700683364\n",
        "Respiration Rate in bpm-nanmin \t96.0 \t0.492673992674 \t0.457107146915 \t0.0355668457589\n",
        "Hematocrit %-nanvar \t77.0 \t0.443223443223 \t0.454721054426 \t0.0114976112022\n",
        "LDL Cholesterol in mg/dL-nanmin \t112.0 \t0.479853479853 \t0.452675832292 \t0.0271776475617\n",
        "Heart Rate in bpm-nanvar \t64.0 \t0.468864468864 \t0.449948869447 \t0.0189155994178\n",
        "Respiration Rate in bpm-nanmean \t3.0 \t0.584249084249 \t0.446199295535 \t0.138049788714\n",
        "Sodium in mmol/L-nanvar \t71.0 \t0.461538461538 \t0.443926826497 \t0.0176116350415\n",
        "Sodium in mmol/L-nanmean \t9.0 \t0.532967032967 \t0.440631746392 \t0.0923352865746\n",
        "Heart Rate in bpm-nanmean \t2.0 \t0.543956043956 \t0.439722758777 \t0.104233285179\n",
        "Oxygen Saturation in %-nanvar \t66.0 \t0.527472527473 \t0.439722758777 \t0.0877497686951\n",
        "Random Blood Glucose in mg/dL-nanmean \t23.0 \t0.468864468864 \t0.43926826497 \t0.0295962038946\n",
        "Potassium in mmol/L-nanmin \t103.0 \t0.461538461538 \t0.438927394614 \t0.0226110669242\n",
        "Random Blood Glucose in mg/dL-nanmin \t116.0 \t0.576923076923 \t0.438813771162 \t0.138109305761\n",
        "Hematocrit %-nanmean \t15.0 \t0.474358974359 \t0.438018406999 \t0.0363405673598\n",
        "Serum Creatinine in mg/dL-nanvar \t75.0 \t0.456043956044 \t0.437563913192 \t0.0184800428523\n",
        "Systolic Blood Pressure in mmHg-nanvar \t62.0 \t0.565934065934 \t0.436200431769 \t0.129733634165\n",
        "Potassium in mmol/L-nanvar \t72.0 \t0.554945054945 \t0.436200431769 \t0.118744623176\n",
        "Random Blood Glucose in mg/dL-nanvar \t85.0 \t0.481684981685 \t0.432905351665 \t0.0487796300204\n",
        "Platelet Count in x 103/\u00b5L-nanvar \t78.0 \t0.52380952381 \t0.430519259175 \t0.0932902646344\n",
        "WBC Count in x 103/\u00b5L-nanvar \t76.0 \t0.461538461538 \t0.428587660493 \t0.0329508010453\n",
        "Potassium in mmol/L-nanmean \t10.0 \t0.465201465201 \t0.428474037041 \t0.0367274281602\n",
        "WBC Count in x 103/\u00b5L-nanmean \t14.0 \t0.549450549451 \t0.426769685263 \t0.122680864188\n",
        "Blood Urea Nitrogen in mg/dL-nanmean \t12.0 \t0.503663003663 \t0.418361549824 \t0.0853014538391\n",
        "Platelet Count in x 103/\u00b5L-nanmean \t16.0 \t0.46336996337 \t0.418247926372 \t0.045122036998\n",
        "Serum Creatinine in mg/dL-nanmean \t13.0 \t0.479853479853 \t0.414725599364 \t0.0651278804898\n",
        "Blood Urea Nitrogen in mg/dL-nanvar \t74.0 \t0.558608058608 \t0.412225883422 \t0.146382175186\n",
        "Temperature in Celsius-nanmin \t98.0 \t0.432234432234 \t0.405294852858 \t0.0269395793768\n",
        "Albumin in g/dl-nanvar \t88.0 \t0.481684981685 \t0.400749914782 \t0.0809350669026\n",
        "Systolic Blood Pressure in mmHg-nanmin \t93.0 \t0.518315018315 \t0.395409612544 \t0.122905405771\n",
        "Respiration Rate in bpm-nanmax \t34.0 \t0.584249084249 \t0.383592773548 \t0.200656310701\n",
        "Alkaline Phosphatase in IU/L-nanvar \t89.0 \t0.413919413919 \t0.381774798318 \t0.032144615601\n",
        "Bilirubin in mg/dL-nanvar \t79.0 \t0.456043956044 \t0.373253039427 \t0.0827909166166\n",
        "Bilirubin in mg/dL-nanmean \t17.0 \t0.443223443223 \t0.368708101352 \t0.0745153418713\n",
        "Alkaline Phosphatase in IU/L-nanmean \t27.0 \t0.47619047619 \t0.362572434951 \t0.11361804124\n",
        "Heart Rate in bpm-nanmax \t33.0 \t0.529304029304 \t0.361663447336 \t0.167640581968\n",
        "Diastolic Blood Pressure in mmHg-nanmin \t94.0 \t0.553113553114 \t0.359277354846 \t0.193836198268\n",
        "Albumin in g/dl-nanmean \t26.0 \t0.531135531136 \t0.353823429156 \t0.17731210198\n",
        "Potassium in mmol/L-nanmax \t41.0 \t0.505494505495 \t0.338597886604 \t0.166896618891\n",
        "Random Blood Glucose in mg/dL-nanmax \t54.0 \t0.450549450549 \t0.334507442336 \t0.116042008213\n",
        "Arterial blood PH in ph-nanvar \t68.0 \t0.430402930403 \t0.319168276332 \t0.111234654071\n",
        "Sodium in mmol/L-nanmax \t40.0 \t0.331501831502 \t0.316100443131 \t0.0154013883704\n",
        "Temperature in Celsius-nanmax \t36.0 \t0.461538461538 \t0.316100443131 \t0.145438018407\n",
        "Arterial blood PH in ph-nanmean \t6.0 \t0.434065934066 \t0.314509714805 \t0.119556219261\n",
        "Partial Pressure of Oxygen (PaO2) in mmHg-nanmean \t8.0 \t0.448717948718 \t0.312918986479 \t0.135798962239\n",
        "Bicarbonate in mmol/L-nanvar \t73.0 \t0.401098901099 \t0.309510282922 \t0.0915886181765\n",
        "Partial Pressure of Carbon dioxide (PaCO2) in mmHg-nanmean \t7.0 \t0.437728937729 \t0.308374048404 \t0.129354889325\n",
        "Partial Pressure of Oxygen (PaO2) in mmHg-nanvar \t70.0 \t0.410256410256 \t0.308260424952 \t0.101995985305\n",
        "Partial Pressure of Carbon dioxide (PaCO2) in mmHg-nanvar \t69.0 \t0.512820512821 \t0.306101579366 \t0.206718933455\n",
        "Blood Urea Nitrogen in mg/dL-nanmax \t43.0 \t0.459706959707 \t0.304851721395 \t0.154855238312\n",
        "Serum Creatinine in mg/dL-nanmax \t44.0 \t0.445054945055 \t0.30269287581 \t0.142362069245\n",
        "Bicarbonate in mmol/L-nanmean \t11.0 \t0.461538461538 \t0.301897511646 \t0.159640949892\n",
        "WBC Count in x 103/\u00b5L-nanmax \t45.0 \t0.437728937729 \t0.297920690831 \t0.139808246898\n",
        "Oxygen Saturation in %-nanmin \t97.0 \t0.494505494505 \t0.275196000454 \t0.219309494051\n",
        "Magnesium in mg/dL-nanmean \t30.0 \t0.355311355311 \t0.269855698216 \t0.0854556570952\n",
        "Magnesium in mg/dL-nanvar \t92.0 \t0.358974358974 \t0.264174525622 \t0.0947998333523\n",
        "Platelet Count in x 103/\u00b5L-nanmin \t109.0 \t0.371794871795 \t0.251789569367 \t0.120005302428\n",
        "Bicarbonate in mmol/L-nanmax \t42.0 \t0.283882783883 \t0.251448699011 \t0.0324340848713\n",
        "Partial Pressure of Oxygen (PaO2) in mmHg-nanmax \t39.0 \t0.380952380952 \t0.24894898307 \t0.132003397882\n",
        "Partial Pressure of Carbon dioxide (PaCO2) in mmHg-nanmin \t100.0 \t0.342490842491 \t0.238836495853 \t0.103654346638\n",
        "Arterial blood PH in ph-nanmin \t99.0 \t0.351648351648 \t0.237018520623 \t0.114629831026\n",
        "Alanine in IU/L-nanvar \t90.0 \t0.344322344322 \t0.23201908874 \t0.112303255582\n",
        "Bicarbonate in mmol/L-nanmin \t104.0 \t0.452380952381 \t0.230655607317 \t0.221725345064\n",
        "Magnesium in mg/dL-nanmax \t61.0 \t0.371794871795 \t0.227928644472 \t0.143866227323\n",
        "Magnesium in mg/dL-nanmin \t123.0 \t0.368131868132 \t0.226678786502 \t0.14145308163\n",
        "Troponin I in ng/ml-nanmean \t21.0 \t0.384615384615 \t0.226110669242 \t0.158504715373\n",
        "Fraction of Inspired Oxygen (FiO2) in %-nanvar \t87.0 \t0.357142857143 \t0.22474718782 \t0.132395669323\n",
        "Alanine in IU/L-nanmean \t28.0 \t0.35347985348 \t0.221906601523 \t0.131573251957\n",
        "Partial Pressure of Oxygen (PaO2) in mmHg-nanmin \t101.0 \t0.318681318681 \t0.213043972276 \t0.105637346405\n",
        "Alkaline Phosphatase in IU/L-nanmax \t58.0 \t0.335164835165 \t0.209521645268 \t0.125643189897\n",
        "Partial Pressure of Carbon dioxide (PaCO2) in mmHg-nanmax \t38.0 \t0.326007326007 \t0.208953528008 \t0.117053797999\n",
        "Arterial blood PH in ph-nanmax \t37.0 \t0.300366300366 \t0.194977843427 \t0.105388456939\n",
        "Bilirubin in mg/dL-nanmax \t48.0 \t0.252747252747 \t0.191796386774 \t0.060950865973\n",
        "Troponin I in ng/ml-nanvar \t83.0 \t0.397435897436 \t0.182592887172 \t0.214843010264\n",
        "Hematocrit %-nanmin \t108.0 \t0.29304029304 \t0.180547665038 \t0.112492628002\n",
        "Troponin I in ng/ml-nanmin \t114.0 \t0.355311355311 \t0.179979547779 \t0.175331807533\n",
        "Fraction of Inspired Oxygen (FiO2) in %-nanmean \t25.0 \t0.344322344322 \t0.178502442904 \t0.165819901418\n",
        "Fraction of Inspired Oxygen (FiO2) in %-nanmax \t56.0 \t0.401098901099 \t0.160209067151 \t0.240889833947\n",
        "Alanine in IU/L-nanmin \t121.0 \t0.163003663004 \t0.154868764913 \t0.00813489809058\n",
        "Fraction of Inspired Oxygen (FiO2) in %-nanmin \t118.0 \t0.164835164835 \t0.154300647654 \t0.0105345171815\n",
        "Albumin in g/dl-nanmin \t119.0 \t0.412087912088 \t0.15043745029 \t0.261650461798\n",
        "Lactic Acid in mmol/L-nanvar \t82.0 \t0.236263736264 \t0.147369617089 \t0.0888941191748\n",
        "Troponin I in ng/ml-nanmax \t52.0 \t0.208791208791 \t0.127940006817 \t0.0808512019738\n",
        "Lactic Acid in mmol/L-nanmean \t20.0 \t0.311355311355 \t0.12384956255 \t0.187505748806\n",
        "Alanine in IU/L-nanmax \t59.0 \t0.344322344322 \t0.0994205203954 \t0.244901823927\n",
        "Lactic Acid in mmol/L-nanmax \t51.0 \t0.28021978022 \t0.0795364163163 \t0.200683363903\n",
        "Lactic Acid in mmol/L-nanmin \t113.0 \t0.102564102564 \t0.0786274287013 \t0.0239366738628\n",
        "Troponin T in ng/ml-nanvar \t84.0 \t0.0 \t0.0093171230542 \t0.0093171230542\n",
        "Troponin T in ng/ml-nanmean \t22.0 \t0.0 \t0.00840813543915 \t0.00840813543915\n",
        "Troponin T in ng/ml-nanmin \t115.0 \t0.0 \t0.00772639472787 \t0.00772639472787\n",
        "Troponin T in ng/ml-nanmax \t53.0 \t0.0 \t0.00284058629701 \t0.00284058629701\n",
        "Urine Output in ml-nanmin \t111.0 \t0.0 \t0.0 \t0.0\n",
        "Urine Output in ml-nanmax \t49.0 \t0.0 \t0.0 \t0.0\n",
        "Urine Output in ml-nanvar \t80.0 \t0.0 \t0.0 \t0.0\n",
        "Urine Output in ml-nanmean \t18.0 \t0.0 \t0.0 \t0.0\n"
       ]
      }
     ],
     "prompt_number": 688
    },
    {
     "cell_type": "code",
     "collapsed": false,
     "input": [
      "get_cols_stat_se_sp(forests, [29, ])"
     ],
     "language": "python",
     "metadata": {},
     "outputs": [
      {
       "output_type": "stream",
       "stream": "stdout",
       "text": [
        "[29, 24]\n"
       ]
      },
      {
       "metadata": {},
       "output_type": "pyout",
       "prompt_number": 800,
       "text": [
        "(0.96703296703296704, 0.10953300761277128)"
       ]
      }
     ],
     "prompt_number": 800
    },
    {
     "cell_type": "code",
     "collapsed": false,
     "input": [
      "col_labs =[\n",
      "\"Systolic Blood Pressure in mmHg\",\n",
      "\"Diastolic Blood Pressure in mmHg\", \n",
      "\"Heart Rate in bpm\", \n",
      "\"Respiration Rate in bpm\",\n",
      "\"Oxygen Saturation in %\",\n",
      "\"Temperature in Celsius\",\n",
      "\"Arterial blood PH in ph\",\n",
      "\"Partial Pressure of Carbon dioxide (PaCO2) in mmHg\",\n",
      "\"Partial Pressure of Oxygen (PaO2) in mmHg\",\n",
      "\"Sodium in mmol/L\",\n",
      "\"Potassium in mmol/L\",\n",
      "\"Bicarbonate in mmol/L\",\n",
      "\"Blood Urea Nitrogen in mg/dL\",\n",
      "\"Serum Creatinine in mg/dL\",\n",
      "\"WBC Count in x 103/\u00b5L\",\n",
      "\"Hematocrit %\",\n",
      "\"Platelet Count in x 103/\u00b5L\",\n",
      "\"Bilirubin in mg/dL\",\n",
      "\"Urine Output in ml\",\n",
      "\"LDL Cholesterol in mg/dL\",\n",
      "\"Lactic Acid in mmol/L\",\n",
      "\"Troponin I in ng/ml\",\n",
      "\"Troponin T in ng/ml\",\n",
      "\"Random Blood Glucose in mg/dL\",\n",
      "\"Fasting Blood Glucose in mg/dL\",\n",
      "\"Fraction of Inspired Oxygen (FiO2) in %\",\n",
      "\"Albumin in g/dl\",\n",
      "\"Alkaline Phosphatase in IU/L\",\n",
      "\"Alanine in IU/L\",\n",
      "\"HDL Cholesterol in mg/dL\",\n",
      "\"Magnesium in mg/dL\"]"
     ],
     "language": "python",
     "metadata": {},
     "outputs": [],
     "prompt_number": 410
    },
    {
     "cell_type": "markdown",
     "metadata": {},
     "source": [
      "# GO ONLINE!"
     ]
    },
    {
     "cell_type": "code",
     "collapsed": false,
     "input": [
      "### Takes list of patient time series, and creates windows starting at zero, and then gives seq of predictions\n",
      "def get_pred_seqs(data, n_windows, stats):\n",
      "    data_all_windows = get_list_all_window_stats(data, n_windows, stats)"
     ],
     "language": "python",
     "metadata": {},
     "outputs": [],
     "prompt_number": 57
    },
    {
     "cell_type": "code",
     "collapsed": false,
     "input": [
      "def get_patient_pred_seq(patient_all_windows, pr, theta_max, models):\n",
      "    probs = get_proba(models, patient_all_windows)\n",
      "    y_pred = get_pr_predictions(patient_all_windows, pr, theta_max, models)\n",
      "    return y_pred"
     ],
     "language": "python",
     "metadata": {},
     "outputs": [],
     "prompt_number": 58
    },
    {
     "cell_type": "markdown",
     "metadata": {},
     "source": [
      "#### predict y using seqs\n",
      "y_ts_valid = np.zeros((n_valid_combined, 1))\n",
      "for i in np.arange(n_valid_combined):\n",
      "    #if labels_valid[i] == 0:\n",
      "    #    continue\n",
      "    #print i\n",
      "    y_pred = get_patient_pred_seq(data_all_windows_valid[i], pr, theta_max_forest, forests)\n",
      "    if np.sum(y_pred)>0:\n",
      "        y_ts_valid[i] = 1"
     ]
    },
    {
     "cell_type": "code",
     "collapsed": false,
     "input": [
      "data_all_windows_valid = get_list_all_window_stats(patients_valid, n_windows, stats)\n",
      "print data_all_windows_valid[1].shape, len(data_all_windows_valid), patients_valid.shape"
     ],
     "language": "python",
     "metadata": {},
     "outputs": [
      {
       "output_type": "stream",
       "stream": "stdout",
       "text": [
        "(289, 465) 719 (719,)\n"
       ]
      }
     ],
     "prompt_number": 60
    },
    {
     "cell_type": "code",
     "collapsed": false,
     "input": [
      "data_all_windows_stacked = np.vstack(data_all_windows_valid)\n",
      "ind_all_windows_stacked = np.vstack([np.ones((x.shape[0], 1)) * i for i, x in enumerate(data_all_windows_valid) ])"
     ],
     "language": "python",
     "metadata": {},
     "outputs": [],
     "prompt_number": 61
    },
    {
     "cell_type": "code",
     "collapsed": false,
     "input": [
      "print ind_all_windows_stacked.shape, data_all_windows_stacked.shape\n",
      "print sum(ind_all_windows_stacked==50), data_all_windows_valid[50].shape"
     ],
     "language": "python",
     "metadata": {},
     "outputs": [
      {
       "output_type": "stream",
       "stream": "stdout",
       "text": [
        "(120758, 1) (120758, 465)\n",
        "[233]"
       ]
      },
      {
       "output_type": "stream",
       "stream": "stdout",
       "text": [
        " (233, 465)\n"
       ]
      }
     ],
     "prompt_number": 69
    },
    {
     "cell_type": "code",
     "collapsed": false,
     "input": [
      "y_pred_stacked = get_patient_pred_seq(data_all_windows_stacked, probit_reg, theta_max_forest, forests)"
     ],
     "language": "python",
     "metadata": {},
     "outputs": [],
     "prompt_number": 71
    },
    {
     "cell_type": "code",
     "collapsed": false,
     "input": [
      "y_pred = np.array([np.sum(y_pred_stacked[ind_all_windows_stacked == i])>0.25*np.sum(ind_all_windows_stacked==i) for i in xrange(n_valid_combined)])"
     ],
     "language": "python",
     "metadata": {},
     "outputs": [],
     "prompt_number": 91
    },
    {
     "cell_type": "code",
     "collapsed": false,
     "input": [
      "patients_valid[28].shape"
     ],
     "language": "python",
     "metadata": {},
     "outputs": [
      {
       "metadata": {},
       "output_type": "pyout",
       "prompt_number": 92,
       "text": [
        "(459, 31)"
       ]
      }
     ],
     "prompt_number": 92
    },
    {
     "cell_type": "code",
     "collapsed": false,
     "input": [
      "y_pred_stacked[ind_all_windows_stacked == 500]"
     ],
     "language": "python",
     "metadata": {},
     "outputs": [
      {
       "metadata": {},
       "output_type": "pyout",
       "prompt_number": 93,
       "text": [
        "array([ True,  True,  True,  True, False, False, False, False, False,\n",
        "       False, False, False, False, False,  True, False, False, False,\n",
        "       False, False, False, False, False, False, False, False, False,\n",
        "       False, False, False, False, False, False, False, False, False,\n",
        "       False, False, False, False, False, False, False, False, False,\n",
        "       False, False, False, False, False, False, False, False, False,\n",
        "       False, False, False, False, False, False, False, False, False,\n",
        "       False, False, False, False, False, False, False, False, False,\n",
        "       False, False, False, False, False, False, False, False, False,\n",
        "       False, False, False, False, False, False, False, False, False,\n",
        "       False, False, False, False, False, False, False, False, False,\n",
        "       False, False, False, False, False, False, False, False, False,\n",
        "       False, False, False, False, False, False, False, False, False,\n",
        "       False, False,  True,  True, False,  True,  True,  True,  True,\n",
        "        True,  True,  True,  True,  True,  True,  True,  True,  True,\n",
        "        True,  True,  True,  True, False, False, False, False, False,\n",
        "       False, False, False, False, False, False, False, False, False,\n",
        "       False, False, False, False, False, False, False, False, False,\n",
        "       False, False, False, False, False, False, False, False, False,\n",
        "       False, False, False, False, False, False, False, False, False,\n",
        "       False, False, False, False, False, False, False, False, False,\n",
        "       False, False, False, False, False, False, False, False, False], dtype=bool)"
       ]
      }
     ],
     "prompt_number": 93
    },
    {
     "cell_type": "code",
     "collapsed": false,
     "input": [
      "y_pred.shape"
     ],
     "language": "python",
     "metadata": {},
     "outputs": [
      {
       "metadata": {},
       "output_type": "pyout",
       "prompt_number": 94,
       "text": [
        "(719,)"
       ]
      }
     ],
     "prompt_number": 94
    },
    {
     "cell_type": "code",
     "collapsed": false,
     "input": [
      "y_pred"
     ],
     "language": "python",
     "metadata": {},
     "outputs": [
      {
       "metadata": {},
       "output_type": "pyout",
       "prompt_number": 95,
       "text": [
        "array([False,  True, False,  True, False,  True, False, False,  True,\n",
        "       False,  True, False,  True,  True, False, False, False, False,\n",
        "       False, False, False, False, False, False,  True, False, False,\n",
        "       False,  True, False, False, False,  True,  True,  True,  True,\n",
        "       False, False, False, False, False, False, False, False, False,\n",
        "        True,  True, False,  True, False, False, False, False, False,\n",
        "       False, False,  True, False, False, False,  True, False, False,\n",
        "       False,  True, False, False, False,  True, False,  True,  True,\n",
        "       False, False, False, False, False, False,  True, False, False,\n",
        "       False, False, False, False, False, False,  True, False, False,\n",
        "       False,  True, False, False, False,  True,  True,  True, False,\n",
        "       False,  True,  True,  True,  True, False, False, False,  True,\n",
        "       False,  True,  True, False, False,  True, False, False,  True,\n",
        "        True, False, False,  True,  True, False, False,  True, False,\n",
        "       False,  True, False, False, False, False, False, False, False,\n",
        "       False, False, False,  True, False, False, False, False, False,\n",
        "        True, False,  True, False, False, False, False, False,  True,\n",
        "        True,  True,  True, False,  True, False,  True, False,  True,\n",
        "       False, False, False,  True,  True,  True, False, False, False,\n",
        "       False,  True, False, False,  True, False, False, False, False,\n",
        "       False, False,  True, False,  True, False, False, False, False,\n",
        "       False,  True,  True, False, False, False, False, False, False,\n",
        "        True,  True,  True, False, False,  True, False, False,  True,\n",
        "       False, False,  True,  True, False, False,  True, False,  True,\n",
        "       False, False, False,  True, False, False, False, False, False,\n",
        "       False, False, False,  True,  True, False,  True,  True,  True,\n",
        "       False, False,  True,  True,  True, False, False, False, False,\n",
        "        True, False, False,  True, False,  True,  True, False,  True,\n",
        "        True,  True,  True,  True, False, False, False, False, False,\n",
        "       False, False,  True, False, False, False, False, False, False,\n",
        "        True,  True,  True, False, False,  True,  True, False, False,\n",
        "       False,  True,  True, False, False, False, False, False, False,\n",
        "       False,  True,  True, False, False,  True,  True, False, False,\n",
        "        True,  True,  True, False, False, False,  True, False, False,\n",
        "        True, False,  True, False,  True, False,  True,  True, False,\n",
        "       False, False, False, False, False, False, False,  True, False,\n",
        "       False, False,  True, False, False, False,  True, False,  True,\n",
        "       False, False, False, False,  True, False, False, False, False,\n",
        "        True, False,  True,  True, False, False, False,  True,  True,\n",
        "       False, False, False,  True,  True, False,  True,  True,  True,\n",
        "       False, False,  True,  True,  True, False, False, False, False,\n",
        "       False,  True,  True,  True, False, False, False,  True, False,\n",
        "        True,  True,  True,  True, False, False,  True, False, False,\n",
        "       False,  True, False, False, False,  True, False, False, False,\n",
        "       False, False,  True, False, False,  True,  True,  True,  True,\n",
        "       False,  True, False,  True,  True, False, False, False, False,\n",
        "       False,  True, False, False, False, False,  True, False, False,\n",
        "        True, False, False, False, False, False, False, False, False,\n",
        "        True, False,  True,  True,  True, False,  True,  True, False,\n",
        "       False, False,  True, False,  True, False, False, False, False,\n",
        "       False, False,  True,  True,  True, False, False, False, False,\n",
        "       False, False, False, False, False, False, False, False, False,\n",
        "        True, False, False, False,  True, False, False, False,  True,\n",
        "        True,  True, False,  True, False,  True,  True,  True, False,\n",
        "        True, False, False,  True, False,  True,  True,  True,  True,\n",
        "        True, False, False, False,  True, False,  True,  True,  True,\n",
        "       False, False, False, False, False, False, False,  True,  True,\n",
        "       False,  True, False, False, False,  True, False, False,  True,\n",
        "       False, False,  True, False,  True, False, False,  True,  True,\n",
        "       False, False,  True, False, False, False,  True, False, False,\n",
        "       False,  True,  True, False, False,  True,  True,  True,  True,\n",
        "       False, False,  True,  True, False, False, False, False,  True,\n",
        "        True,  True, False,  True,  True, False, False, False,  True,\n",
        "       False,  True,  True, False, False, False, False, False, False,\n",
        "        True,  True, False, False, False, False, False, False,  True,\n",
        "       False, False,  True, False, False, False, False, False, False,\n",
        "       False,  True, False, False,  True,  True, False,  True, False,\n",
        "        True, False, False,  True, False, False, False, False, False,\n",
        "       False, False,  True, False,  True,  True, False, False, False,\n",
        "       False, False, False, False, False,  True,  True, False,  True,\n",
        "        True, False, False, False,  True, False, False, False,  True,\n",
        "        True, False,  True, False, False,  True,  True, False, False,\n",
        "       False, False, False, False, False, False,  True,  True,  True,\n",
        "        True,  True, False, False, False, False, False, False,  True,\n",
        "        True, False,  True, False, False, False, False,  True,  True,\n",
        "       False, False, False,  True,  True,  True,  True, False, False,\n",
        "        True, False,  True,  True, False, False,  True, False,  True,\n",
        "       False, False,  True, False, False,  True,  True, False, False,\n",
        "        True, False, False,  True,  True, False, False,  True, False,\n",
        "       False, False, False,  True,  True, False,  True, False], dtype=bool)"
       ]
      }
     ],
     "prompt_number": 95
    },
    {
     "cell_type": "code",
     "collapsed": false,
     "input": [
      "get_ss(confusion_matrix(labels_valid, y_pred))"
     ],
     "language": "python",
     "metadata": {},
     "outputs": [
      {
       "metadata": {},
       "output_type": "pyout",
       "prompt_number": 96,
       "text": [
        "(0.9047619047619048, 0.6735598227474151)"
       ]
      }
     ],
     "prompt_number": 96
    }
   ],
   "metadata": {}
  }
 ]
}