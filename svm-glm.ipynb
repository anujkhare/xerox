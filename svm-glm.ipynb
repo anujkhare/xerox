{
 "metadata": {
  "name": "",
  "signature": "sha256:676fed3638733a96b16e54152d1c34a5a824fe6110a8b473b2ae3e0c4add4bd3"
 },
 "nbformat": 3,
 "nbformat_minor": 0,
 "worksheets": [
  {
   "cells": [
    {
     "cell_type": "code",
     "collapsed": true,
     "input": [
      "%vimception"
     ],
     "language": "python",
     "metadata": {},
     "outputs": [
      {
       "javascript": [
        "\n",
        "var cmd = IPython.keyboard_manager.command_shortcuts;\n",
        "var edit = IPython.keyboard_manager.edit_shortcuts;\n",
        "var def_cmd = IPython.default_command_shortcuts;\n",
        "var def_edit = IPython.default_edit_shortcuts;\n",
        "\n",
        "// get the code mirror editor of a curently selected cell\n",
        "function C() { return IPython.notebook.get_selected_cell().code_mirror; };\n",
        "\n",
        "// Change the mode of all current and future CodeMirror instances\n",
        "// Emacs users can use this function as just to('emacs') so long as they've\n",
        "// required/loaded emacs.js from CodeMirror\n",
        "function to(mode) {\n",
        "    var mode = mode || 'vim'\n",
        "    // first let's apply vim mode to all current cells\n",
        "    function to_mode(c) { return c.code_mirror.setOption('keyMap', mode);};\n",
        "    IPython.notebook.get_cells().map(to_mode);\n",
        "    // apply the mode to future cells created\n",
        "    IPython.Cell.options_default.cm_config.keyMap = mode;\n",
        "}\n",
        "\n",
        "function getCSS(path) {\n",
        "    $('<link/>', {\n",
        "       rel: 'stylesheet',\n",
        "       type: 'text/css',\n",
        "       href: path,\n",
        "    }).appendTo('head');\n",
        "}\n",
        "\n",
        "// I messed around with trying to get requireJS going here, but gave up and\n",
        "// just using this answer from SO \n",
        "// http://stackoverflow.com/questions/11803215/how-to-include-multiple-js-files-using-jquery-getscript-method\n",
        "\n",
        "var p = \"/static/components/codemirror/addon/\";\n",
        "\n",
        "$.when(\n",
        "// Grab the CodeMirror vim keymap\n",
        "$.getScript(p + \"../keymap/vim.js\"),\n",
        "// also make search work via /\n",
        "$.getScript(p + \"search/search.js\"),\n",
        "$.getScript(p + \"search/searchcursor.js\"),\n",
        "\n",
        "// TODO: hook-up gq to perform a harwrap\n",
        "$.getScript(p + \"wrap/hardwrap.js\"),\n",
        "$.getScript(p + \"selection/active-line.js\"),\n",
        "\n",
        "$.getScript(p + \"display/fullscreen.js\"),\n",
        "getCSS(p + \"display/fullscreen.css\"),\n",
        "getCSS(p + \"dialog/dialog.css\"),\n",
        "$.getScript(p + \"dialog/dialog.js\"),\n",
        "\n",
        "\n",
        "    $.Deferred(function( deferred ){\n",
        "        $( deferred.resolve );\n",
        "    })\n",
        ").then(function success(){\n",
        "\n",
        "console.log('Great success');\n",
        "\n",
        "IPython.CodeCell.options_default.cm_config.foldGutter = true;\n",
        "IPython.CodeCell.options_default.cm_config.gutters =  [\"CodeMirror-linenumbers\", \"CodeMirror-foldgutter\"];\n",
        "\n",
        "IPython.Cell.prototype.at_top = function () {\n",
        "        var cm = this.code_mirror;\n",
        "        var cursor = cm.getCursor();\n",
        "        if (cursor.line === 0) {\n",
        "            return true;\n",
        "        }\n",
        "        return false;\n",
        "    };\n",
        "\n",
        "\n",
        "IPython.Cell.prototype.at_bottom = function () {\n",
        "    var cm = this.code_mirror;\n",
        "    var cursor = cm.getCursor();\n",
        "    if (cursor.line === (cm.lineCount()-1)) {\n",
        "        return true;\n",
        "    }\n",
        "    return false;\n",
        "};\n",
        "// on all code mirror instances on this page, apply the function f\n",
        "function all_cm(f) {\n",
        "    // apply f to every code mirror instance. f takes one parameter\n",
        "    IPython.notebook.get_cells().map(function (c) { f(c.code_mirror); } );\n",
        "}\n",
        "\n",
        "\n",
        "to('vim');\n",
        "function vim_up(event) {\n",
        "    var cell = IPython.notebook.get_selected_cell();\n",
        "    if (cell && cell.at_top() && cell.code_mirror.options.keyMap === 'vim') {\n",
        "        console.log('inside the business logic k');\n",
        "        event.preventDefault();\n",
        "        IPython.notebook.command_mode()\n",
        "        IPython.notebook.select_prev();\n",
        "        IPython.notebook.edit_mode();\n",
        "        return false;\n",
        "    };\n",
        "}\n",
        "\n",
        "function vim_down(event) {\n",
        "            var cell = IPython.notebook.get_selected_cell();\n",
        "            if (cell && cell.at_bottom() && cell.code_mirror.options.keyMap === 'vim') {\n",
        "                event.preventDefault();\n",
        "                IPython.notebook.command_mode()\n",
        "                IPython.notebook.select_next();\n",
        "                IPython.notebook.edit_mode();\n",
        "                return false;\n",
        "            };\n",
        "        }\n",
        "\n",
        "var m = '(vim) '\n",
        "var edit_shortcuts = {\n",
        "    'k' : {\n",
        "        help    : m + 'up a line, even across cells',\n",
        "        help_index : 'AA',\n",
        "        handler : vim_up\n",
        "    },\n",
        "    'j' : {\n",
        "        help    : m + 'down a line, even across cells',\n",
        "        help_index : 'AA',\n",
        "        handler : vim_down\n",
        "    },\n",
        "\n",
        "};\n",
        "\n",
        "var command_shortcuts = {\n",
        "    'c' :  {\n",
        "        help    : m + def_cmd['y'].help,\n",
        "        help_index : 'AA',\n",
        "        handler : def_cmd['y'].handler\n",
        "    }\n",
        "\n",
        "\n",
        "};\n",
        "\n",
        "edit.add_shortcuts(edit_shortcuts);\n",
        "cmd.add_shortcuts(command_shortcuts);\n",
        "//edit.add_shortcuts('k', def_edit['up'].handler);\n",
        "//edit.add_shortcut('j', def_edit['down'].handler);\n",
        "\n",
        "// N.B. This code looks fairly simple, but it took me forever to \n",
        "// figure out how to do this, \n",
        "// \n",
        "// there's a problem here, Ctrl-[ is already handled by CodeMirror by the time we \n",
        "// (IPython.keyboard_manager) get it CodeMirror issues signals on mode change, \n",
        "// so we have to hook into that to get Ctrl-[\n",
        "edit.remove_shortcut('Ctrl-[');\n",
        "edit.remove_shortcut('Esc');\n",
        "\n",
        "CodeMirror.commands.leaveInsertOrEdit = function (cm) {\n",
        "    if ( cm.state.vim.insertMode ) {\n",
        "        // do magic here to get out of insert mode\n",
        "        CodeMirror.keyMap['vim-insert']['Esc'](cm);\n",
        "    } else {\n",
        "        IPython.notebook.command_mode();\n",
        "        IPython.notebook.focus_cell();\n",
        "    }\n",
        "};\n",
        "        \n",
        "//C().options.extraKeys['Ctrl-['] = 'leaveInsertOrEdit';\n",
        "all_cm( function (cm) {\n",
        "    cm.options.extraKeys['Ctrl-['] = 'leaveInsertOrEdit';\n",
        "    cm.options.extraKeys['Esc'] = 'leaveInsertOrEdit';\n",
        "    if ( CodeMirror.defaults.extraKeys === null ) { \n",
        "        CodeMirror.defaults.extraKeys = {};\n",
        "    }\n",
        "    // TODO: make this change permanent\n",
        "    // this part seems to be ignore when adding a new cell\n",
        "    // - alternative solution would be to listen for NewCell events and rerun the CM function on it\n",
        "    // - it could also be the case that when we instatiate CodeMirror, we somehow leave out CM.defaults.extraKeys\n",
        "    IPython.CodeCell.options_default.cm_config.extraKeys['Ctrl-['] = 'leaveInsertOrEdit';\n",
        "    IPython.TextCell.options_default.cm_config.extraKeys['Ctrl-['] = 'leaveInsertOrEdit';\n",
        "    IPython.CodeCell.options_default.cm_config.extraKeys['Esc'] = 'leaveInsertOrEdit';\n",
        "    IPython.TextCell.options_default.cm_config.extraKeys['Esc'] = 'leaveInsertOrEdit';\n",
        "})\n",
        "\n",
        "// On blur, make sure we go back to command mode for CodeMirror (in case user clicked away)\n",
        "// TODO: Make this permanent - how to get CodeMirror to do this for new cells created after\n",
        "all_cm( function (cm) {\n",
        "    cm.on('blur', function(cm) {\n",
        "        // TODO: I wish I understood a better way to do this, but fake pressing Escape work\n",
        "        CodeMirror.keyMap['vim-insert']['Esc'](cm);\n",
        "        CodeMirror.keyMap['vim']['Esc'](cm);\n",
        "        cm.setOption('styleActiveLine', false);\n",
        "        if (cm.getOption(\"fullScreen\")) {\n",
        "            cm.setOption('fullScreen', false); \n",
        "            // fullScreen the newly selected code mirror (doesn't work)\n",
        "            //setTimeout(100, function() {\n",
        "            //    console.log(IPython.notebook.get_selected_cell().code_mirror);\n",
        "            //    IPython.notebook.get_selected_cell().code_mirror.setOption('fullScreen', true); \n",
        "            //});\n",
        "        }\n",
        "    });\n",
        "    cm.on('focus', function(cm) {\n",
        "        cm.setOption('styleActiveLine', true);\n",
        "    });\n",
        "});\n",
        "\n",
        "// 'i' by default interrupts the kernel (what Ctrl-C does at the terminal)\n",
        "cmd.remove_shortcut('i');\n",
        "cmd.add_shortcut('i', def_cmd.enter);\n",
        "\n",
        "// not quite what we want - 'i' requires a double-tap\n",
        "// add documentation for this.\n",
        "cmd.add_shortcut('ctrl-c', function(e) { IPython.notebook.kernel.interrupt(); return false});\n",
        "\n",
        "\n",
        "function focus_last(e) {\n",
        "    var cells = IPython.notebook.get_cells();\n",
        "    cells[cells.length-1].focus_cell();\n",
        "};\n",
        "\n",
        "function focus_first(e) {\n",
        "    var cells = IPython.notebook.get_cells();\n",
        "    cells[0].focus_cell();\n",
        "};\n",
        "\n",
        "function combo_tap(combo, action) {\n",
        "    var that = this;\n",
        "    var timeout;\n",
        "    function f() {\n",
        "        console.log('f called once');\n",
        "        \n",
        "        // redo this so that when an action is performed, we restore the original combo\n",
        "        cmd.add_shortcut(combo[1], \n",
        "                function() { console.log(\"doing action\", combo); reset(); action(); timeout.clear();} );\n",
        "        timeout = setTimeout(function () {\n",
        "            console.log('resetting f');\n",
        "            reset();\n",
        "            //cmd.add_shortcut(combo[0], reset)\n",
        "        }, 800);\n",
        "    }\n",
        "    function reset(e) {\n",
        "        //cmd.remove_shortcut(combo[0]);\n",
        "        console.log('reset called');\n",
        "        //if (timeout) {\n",
        "        //    console.log('resetting aborted');\n",
        "        //    clearTimeout(timeout);\n",
        "        //    timeout = null;\n",
        "        //}\n",
        "        //that(combo, action); \n",
        "        cmd.add_shortcut(combo[0], f);\n",
        "    }\n",
        "    console.log(\"combo tap for\", combo);\n",
        "    \n",
        "    reset();\n",
        "};\n",
        "cmd.add_shortcut('shift-g', focus_last);\n",
        "combo_tap('gg', focus_first);\n",
        "\n",
        "// XXX: the way combo tap is currently implemented, this won't work\n",
        "// need a more generic mechanism for combo-taps with common prefixes\n",
        "// combo_tap('gq', f();\n",
        "//cmd.remove_shortcut('d');\n",
        "// cut\n",
        "combo_tap('dd', def_cmd['x'].handler);\n",
        "\n",
        "// copy\n",
        "combo_tap('yy', def_cmd['c'].handler);\n",
        "\n",
        "// paste\n",
        "cmd.add_shortcut('p', def_cmd['v']);\n",
        "\n",
        "// undo\n",
        "cmd.add_shortcut('u', def_cmd['z']);\n",
        "\n",
        "// Join (merge down with cell below)\n",
        "cmd.add_shortcut('shift-j', def_cmd['shift-m'])\n",
        "\n",
        "//edit.add_shortcut('k', def_edit['up'].handler);\n",
        "//[edit.add_shortcut('j', def_edit['down'].handler);\n",
        "\n",
        "CodeMirror.prototype.save = function() { \n",
        "    IPython.notebook.save_checkpoint()\n",
        "}\n",
        "\n",
        "function focus_last(e) {\n",
        "    var cells = IPython.notebook.get_cells();\n",
        "    cells[cells.length-1].focus_cell();\n",
        "};\n",
        "\n",
        "function focus_first(e) {\n",
        "    console.log('focus first called');\n",
        "    var cells = IPython.notebook.get_cells();\n",
        "    cells[0].focus_cell();\n",
        "};\n",
        "\n",
        "\n",
        "cmd.add_shortcut('shift-g', focus_last);\n",
        "combo_tap('gg', focus_first);\n",
        "\n",
        "// get rid of the default Ctrl-W binding\n",
        "// this only works for Firefox\n",
        "$(document).ready(function() {\n",
        "\t$(this).bind('keypress', function(e) {\n",
        "\t\tvar key = (e.keyCode ? e.keyCode : e.charCode);\n",
        "\t\tif (key == '119' && e.ctrlKey) {\n",
        "\t\t\treturn false;\n",
        "\t\t}\n",
        "\t});\n",
        "});\n",
        "\n",
        "window.addEventListener(\"beforeunload\", function( event ) {\n",
        "    var press = jQuery.Event(\"keypress\");\n",
        "    press.ctrlKey = false;\n",
        "    press.which = 27; // escape\n",
        "    $(document).trigger(press);\n",
        "    event.returnValue = \"\\nXXXXXXXXXXXXXXXXXXXXXXXXXXXXXXXXXXXXXXXXXXXXXX\";\n",
        "    event.returnValue +=\"\\nX  Chrome sucks at captruring Ctrl-W, sorry  X\";\n",
        "    event.returnValue += \"\\nXXXXXXXXXXXXXXXXXXXXXXXXXXXXXXXXXXXXXXXXXXXXXX\";\n",
        "});\n",
        "\n",
        "// update the keyboard shortcuts\n",
        "IPython.quick_help = new IPython.QuickHelp();\n",
        "\n",
        "//IPython.CodeCell.options_default.cm_config.styleActiveLine = true;\n",
        "\n",
        "all_cm( function (cm) {\n",
        "    cm.setOption('foldGutter', true);\n",
        "    cm.setOption('gutters',  [\"CodeMirror-linenumbers\", \"CodeMirror-foldgutter\"]);\n",
        "    cm.options.extraKeys[\"Ctrl-F\"] = function(cm){ cm.foldCode(cm.getCursor()); };\n",
        "    var wrapOptions = {column: 78, killTrailingSpace: true, wrapOn: /\\s\\S|[^\\.\\d]/ };\n",
        "    // XXX: add a hardwrap-range to this as well\n",
        "    cm.options.extraKeys[\"F2\"] =  function(cm) { cm.wrapParagraph(cm.getCursor(), wrapOptions); };\n",
        "    //cm.options.extraKeys[\"[\"] =  function(cm) { cm.setOption(\"fullScreen\", !cm.getOption(\"fullScreen\"))};\n",
        "    IPython.CodeCell.options_default.cm_config.extraKeys['Ctrl-F'] = function(cm){ cm.foldCode(cm.getCursor()); };\n",
        "    IPython.TextCell.options_default.cm_config.extraKeys['Ctrl-F'] = function(cm){ cm.foldCode(cm.getCursor()); };\n",
        "\n",
        "    // todo - do this for new cells as well\n",
        "    // support this a :only? turn off full screen on blur\n",
        "    cm.options.extraKeys[\"F11\"] =  function(cm) { cm.setOption(\"fullScreen\", !cm.getOption(\"fullScreen\"))};\n",
        "    cm.options.extraKeys[\"Ctrl-A\"] =  function(cm) {\n",
        "          if (cm.getOption(\"fullScreen\")) cm.setOption(\"fullScreen\", false);\n",
        "        };\n",
        "    //all_cm( function (cm) {\n",
        "});\n",
        "\n",
        "//setTimeout(function() {IPython.notebook.get_selected_cell().set_input_prompt('vim');}, 200)\n",
        "\n",
        "$(\"#ipython_notebook\").find('img').remove('#vim');\n",
        "$(\"#ipython_notebook\").append('<img id=\"vim\" src=\"http://www.vim.org/images/vim_on_fire.gif\"'\n",
        "        // XXX: add it to the distribution\n",
        "        // /static/custom/vim_on_fire.gif\" \n",
        "    + ' style=\"'\n",
        "    + 'position: absolute; left: 51px; top: -10px; height: initial;\">')\n",
        "$(\"#vim\").click( function () {$(this).hide()});\n",
        "\n",
        "\n",
        "// XXX: Autowrapping is kind of broken - you can write a line that will have\n",
        "// its last word (if it's 1 or 2 characters just go back and forth between the\n",
        "// current and the next lines)\n",
        "//all_cm(function (cm) {\n",
        "//    var wait, options = {column: 78, killTrailingSpace: true, wrapOn: /\\s\\S|[^\\.\\d]/};\n",
        "//    cm.on(\"change\", function(cm, change) {\n",
        "//      clearTimeout(wait);\n",
        "//      wait = setTimeout(function() {\n",
        "//        console.log(cm.wrapParagraphsInRange(change.from, CodeMirror.changeEnd(change), options));\n",
        "//      }, 300);\n",
        "//    });\n",
        "//});\n",
        "\n",
        "}, function  failure() { \n",
        "    alert('le sucks, something went wrong');\n",
        "\n",
        "});\n",
        "\n",
        "\n",
        "// at_top  and at_bottom methods for ipython-vimception\n",
        "    /**\n",
        "     * @method at_top\n",
        "     * @return {Boolean}\n",
        "     */\n",
        "    Cell.prototype.at_top = function () {\n",
        "        var cm = this.code_mirror;\n",
        "        var cursor = cm.getCursor();\n",
        "        if (cursor.line === 0 && cm.findPosV(cursor, -1, 'line').hitSide) {\n",
        "            return true;\n",
        "        } else {\n",
        "            return false;\n",
        "        }\n",
        "    };\n",
        "\n",
        "    /**\n",
        "     * @method at_bottom\n",
        "     * @return {Boolean}\n",
        "     * */\n",
        "    Cell.prototype.at_bottom = function () {\n",
        "        var cm = this.code_mirror;\n",
        "        var cursor = cm.getCursor();\n",
        "        if (cursor.line === (cm.lineCount()-1) && cm.findPosV(cursor, 1, 'line').hitSide) {\n",
        "            return true;\n",
        "        } else {\n",
        "            return false;\n",
        "        }\n",
        "    };\n"
       ],
       "metadata": {},
       "output_type": "display_data",
       "text": [
        "<IPython.core.display.Javascript at 0x7f476415d090>"
       ]
      },
      {
       "javascript": [
        "\n",
        "var cmd = IPython.keyboard_manager.command_shortcuts;\n",
        "var edit = IPython.keyboard_manager.edit_shortcuts;\n",
        "var def_cmd = IPython.default_command_shortcuts;\n",
        "var def_edit = IPython.default_edit_shortcuts;\n",
        "\n",
        "// get the code mirror editor of a curently selected cell\n",
        "function C() { return IPython.notebook.get_selected_cell().code_mirror; };\n",
        "\n",
        "// Change the mode of all current and future CodeMirror instances\n",
        "// Emacs users can use this function as just to('emacs') so long as they've\n",
        "// required/loaded emacs.js from CodeMirror\n",
        "function to(mode) {\n",
        "    var mode = mode || 'vim'\n",
        "    // first let's apply vim mode to all current cells\n",
        "    function to_mode(c) { return c.code_mirror.setOption('keyMap', mode);};\n",
        "    IPython.notebook.get_cells().map(to_mode);\n",
        "    // apply the mode to future cells created\n",
        "    IPython.Cell.options_default.cm_config.keyMap = mode;\n",
        "}\n",
        "\n",
        "function getCSS(path) {\n",
        "    $('<link/>', {\n",
        "       rel: 'stylesheet',\n",
        "       type: 'text/css',\n",
        "       href: path,\n",
        "    }).appendTo('head');\n",
        "}\n",
        "\n",
        "// I messed around with trying to get requireJS going here, but gave up and\n",
        "// just using this answer from SO \n",
        "// http://stackoverflow.com/questions/11803215/how-to-include-multiple-js-files-using-jquery-getscript-method\n",
        "\n",
        "var p = \"/static/components/codemirror/addon/\";\n",
        "\n",
        "$.when(\n",
        "// Grab the CodeMirror vim keymap\n",
        "$.getScript(p + \"../keymap/vim.js\"),\n",
        "// also make search work via /\n",
        "$.getScript(p + \"search/search.js\"),\n",
        "$.getScript(p + \"search/searchcursor.js\"),\n",
        "\n",
        "// TODO: hook-up gq to perform a harwrap\n",
        "$.getScript(p + \"wrap/hardwrap.js\"),\n",
        "$.getScript(p + \"selection/active-line.js\"),\n",
        "\n",
        "$.getScript(p + \"display/fullscreen.js\"),\n",
        "getCSS(p + \"display/fullscreen.css\"),\n",
        "getCSS(p + \"dialog/dialog.css\"),\n",
        "$.getScript(p + \"dialog/dialog.js\"),\n",
        "\n",
        "\n",
        "    $.Deferred(function( deferred ){\n",
        "        $( deferred.resolve );\n",
        "    })\n",
        ").then(function success(){\n",
        "\n",
        "console.log('Great success');\n",
        "\n",
        "IPython.CodeCell.options_default.cm_config.foldGutter = true;\n",
        "IPython.CodeCell.options_default.cm_config.gutters =  [\"CodeMirror-linenumbers\", \"CodeMirror-foldgutter\"];\n",
        "\n",
        "IPython.Cell.prototype.at_top = function () {\n",
        "        var cm = this.code_mirror;\n",
        "        var cursor = cm.getCursor();\n",
        "        if (cursor.line === 0) {\n",
        "            return true;\n",
        "        }\n",
        "        return false;\n",
        "    };\n",
        "\n",
        "\n",
        "IPython.Cell.prototype.at_bottom = function () {\n",
        "    var cm = this.code_mirror;\n",
        "    var cursor = cm.getCursor();\n",
        "    if (cursor.line === (cm.lineCount()-1)) {\n",
        "        return true;\n",
        "    }\n",
        "    return false;\n",
        "};\n",
        "// on all code mirror instances on this page, apply the function f\n",
        "function all_cm(f) {\n",
        "    // apply f to every code mirror instance. f takes one parameter\n",
        "    IPython.notebook.get_cells().map(function (c) { f(c.code_mirror); } );\n",
        "}\n",
        "\n",
        "\n",
        "to('vim');\n",
        "function vim_up(event) {\n",
        "    var cell = IPython.notebook.get_selected_cell();\n",
        "    if (cell && cell.at_top() && cell.code_mirror.options.keyMap === 'vim') {\n",
        "        console.log('inside the business logic k');\n",
        "        event.preventDefault();\n",
        "        IPython.notebook.command_mode()\n",
        "        IPython.notebook.select_prev();\n",
        "        IPython.notebook.edit_mode();\n",
        "        return false;\n",
        "    };\n",
        "}\n",
        "\n",
        "function vim_down(event) {\n",
        "            var cell = IPython.notebook.get_selected_cell();\n",
        "            if (cell && cell.at_bottom() && cell.code_mirror.options.keyMap === 'vim') {\n",
        "                event.preventDefault();\n",
        "                IPython.notebook.command_mode()\n",
        "                IPython.notebook.select_next();\n",
        "                IPython.notebook.edit_mode();\n",
        "                return false;\n",
        "            };\n",
        "        }\n",
        "\n",
        "var m = '(vim) '\n",
        "var edit_shortcuts = {\n",
        "    'k' : {\n",
        "        help    : m + 'up a line, even across cells',\n",
        "        help_index : 'AA',\n",
        "        handler : vim_up\n",
        "    },\n",
        "    'j' : {\n",
        "        help    : m + 'down a line, even across cells',\n",
        "        help_index : 'AA',\n",
        "        handler : vim_down\n",
        "    },\n",
        "\n",
        "};\n",
        "\n",
        "var command_shortcuts = {\n",
        "    'c' :  {\n",
        "        help    : m + def_cmd['y'].help,\n",
        "        help_index : 'AA',\n",
        "        handler : def_cmd['y'].handler\n",
        "    }\n",
        "\n",
        "\n",
        "};\n",
        "\n",
        "edit.add_shortcuts(edit_shortcuts);\n",
        "cmd.add_shortcuts(command_shortcuts);\n",
        "//edit.add_shortcuts('k', def_edit['up'].handler);\n",
        "//edit.add_shortcut('j', def_edit['down'].handler);\n",
        "\n",
        "// N.B. This code looks fairly simple, but it took me forever to \n",
        "// figure out how to do this, \n",
        "// \n",
        "// there's a problem here, Ctrl-[ is already handled by CodeMirror by the time we \n",
        "// (IPython.keyboard_manager) get it CodeMirror issues signals on mode change, \n",
        "// so we have to hook into that to get Ctrl-[\n",
        "edit.remove_shortcut('Ctrl-[');\n",
        "edit.remove_shortcut('Esc');\n",
        "\n",
        "CodeMirror.commands.leaveInsertOrEdit = function (cm) {\n",
        "    if ( cm.state.vim.insertMode ) {\n",
        "        // do magic here to get out of insert mode\n",
        "        CodeMirror.keyMap['vim-insert']['Esc'](cm);\n",
        "    } else {\n",
        "        IPython.notebook.command_mode();\n",
        "        IPython.notebook.focus_cell();\n",
        "    }\n",
        "};\n",
        "        \n",
        "//C().options.extraKeys['Ctrl-['] = 'leaveInsertOrEdit';\n",
        "all_cm( function (cm) {\n",
        "    cm.options.extraKeys['Ctrl-['] = 'leaveInsertOrEdit';\n",
        "    cm.options.extraKeys['Esc'] = 'leaveInsertOrEdit';\n",
        "    if ( CodeMirror.defaults.extraKeys === null ) { \n",
        "        CodeMirror.defaults.extraKeys = {};\n",
        "    }\n",
        "    // TODO: make this change permanent\n",
        "    // this part seems to be ignore when adding a new cell\n",
        "    // - alternative solution would be to listen for NewCell events and rerun the CM function on it\n",
        "    // - it could also be the case that when we instatiate CodeMirror, we somehow leave out CM.defaults.extraKeys\n",
        "    IPython.CodeCell.options_default.cm_config.extraKeys['Ctrl-['] = 'leaveInsertOrEdit';\n",
        "    IPython.TextCell.options_default.cm_config.extraKeys['Ctrl-['] = 'leaveInsertOrEdit';\n",
        "    IPython.CodeCell.options_default.cm_config.extraKeys['Esc'] = 'leaveInsertOrEdit';\n",
        "    IPython.TextCell.options_default.cm_config.extraKeys['Esc'] = 'leaveInsertOrEdit';\n",
        "})\n",
        "\n",
        "// On blur, make sure we go back to command mode for CodeMirror (in case user clicked away)\n",
        "// TODO: Make this permanent - how to get CodeMirror to do this for new cells created after\n",
        "all_cm( function (cm) {\n",
        "    cm.on('blur', function(cm) {\n",
        "        // TODO: I wish I understood a better way to do this, but fake pressing Escape work\n",
        "        CodeMirror.keyMap['vim-insert']['Esc'](cm);\n",
        "        CodeMirror.keyMap['vim']['Esc'](cm);\n",
        "        cm.setOption('styleActiveLine', false);\n",
        "        if (cm.getOption(\"fullScreen\")) {\n",
        "            cm.setOption('fullScreen', false); \n",
        "            // fullScreen the newly selected code mirror (doesn't work)\n",
        "            //setTimeout(100, function() {\n",
        "            //    console.log(IPython.notebook.get_selected_cell().code_mirror);\n",
        "            //    IPython.notebook.get_selected_cell().code_mirror.setOption('fullScreen', true); \n",
        "            //});\n",
        "        }\n",
        "    });\n",
        "    cm.on('focus', function(cm) {\n",
        "        cm.setOption('styleActiveLine', true);\n",
        "    });\n",
        "});\n",
        "\n",
        "// 'i' by default interrupts the kernel (what Ctrl-C does at the terminal)\n",
        "cmd.remove_shortcut('i');\n",
        "cmd.add_shortcut('i', def_cmd.enter);\n",
        "\n",
        "// not quite what we want - 'i' requires a double-tap\n",
        "// add documentation for this.\n",
        "cmd.add_shortcut('ctrl-c', function(e) { IPython.notebook.kernel.interrupt(); return false});\n",
        "\n",
        "\n",
        "function focus_last(e) {\n",
        "    var cells = IPython.notebook.get_cells();\n",
        "    cells[cells.length-1].focus_cell();\n",
        "};\n",
        "\n",
        "function focus_first(e) {\n",
        "    var cells = IPython.notebook.get_cells();\n",
        "    cells[0].focus_cell();\n",
        "};\n",
        "\n",
        "function combo_tap(combo, action) {\n",
        "    var that = this;\n",
        "    var timeout;\n",
        "    function f() {\n",
        "        console.log('f called once');\n",
        "        \n",
        "        // redo this so that when an action is performed, we restore the original combo\n",
        "        cmd.add_shortcut(combo[1], \n",
        "                function() { console.log(\"doing action\", combo); reset(); action(); timeout.clear();} );\n",
        "        timeout = setTimeout(function () {\n",
        "            console.log('resetting f');\n",
        "            reset();\n",
        "            //cmd.add_shortcut(combo[0], reset)\n",
        "        }, 800);\n",
        "    }\n",
        "    function reset(e) {\n",
        "        //cmd.remove_shortcut(combo[0]);\n",
        "        console.log('reset called');\n",
        "        //if (timeout) {\n",
        "        //    console.log('resetting aborted');\n",
        "        //    clearTimeout(timeout);\n",
        "        //    timeout = null;\n",
        "        //}\n",
        "        //that(combo, action); \n",
        "        cmd.add_shortcut(combo[0], f);\n",
        "    }\n",
        "    console.log(\"combo tap for\", combo);\n",
        "    \n",
        "    reset();\n",
        "};\n",
        "cmd.add_shortcut('shift-g', focus_last);\n",
        "combo_tap('gg', focus_first);\n",
        "\n",
        "// XXX: the way combo tap is currently implemented, this won't work\n",
        "// need a more generic mechanism for combo-taps with common prefixes\n",
        "// combo_tap('gq', f();\n",
        "//cmd.remove_shortcut('d');\n",
        "// cut\n",
        "combo_tap('dd', def_cmd['x'].handler);\n",
        "\n",
        "// copy\n",
        "combo_tap('yy', def_cmd['c'].handler);\n",
        "\n",
        "// paste\n",
        "cmd.add_shortcut('p', def_cmd['v']);\n",
        "\n",
        "// undo\n",
        "cmd.add_shortcut('u', def_cmd['z']);\n",
        "\n",
        "// Join (merge down with cell below)\n",
        "cmd.add_shortcut('shift-j', def_cmd['shift-m'])\n",
        "\n",
        "//edit.add_shortcut('k', def_edit['up'].handler);\n",
        "//[edit.add_shortcut('j', def_edit['down'].handler);\n",
        "\n",
        "CodeMirror.prototype.save = function() { \n",
        "    IPython.notebook.save_checkpoint()\n",
        "}\n",
        "\n",
        "function focus_last(e) {\n",
        "    var cells = IPython.notebook.get_cells();\n",
        "    cells[cells.length-1].focus_cell();\n",
        "};\n",
        "\n",
        "function focus_first(e) {\n",
        "    console.log('focus first called');\n",
        "    var cells = IPython.notebook.get_cells();\n",
        "    cells[0].focus_cell();\n",
        "};\n",
        "\n",
        "\n",
        "cmd.add_shortcut('shift-g', focus_last);\n",
        "combo_tap('gg', focus_first);\n",
        "\n",
        "// get rid of the default Ctrl-W binding\n",
        "// this only works for Firefox\n",
        "$(document).ready(function() {\n",
        "\t$(this).bind('keypress', function(e) {\n",
        "\t\tvar key = (e.keyCode ? e.keyCode : e.charCode);\n",
        "\t\tif (key == '119' && e.ctrlKey) {\n",
        "\t\t\treturn false;\n",
        "\t\t}\n",
        "\t});\n",
        "});\n",
        "\n",
        "window.addEventListener(\"beforeunload\", function( event ) {\n",
        "    var press = jQuery.Event(\"keypress\");\n",
        "    press.ctrlKey = false;\n",
        "    press.which = 27; // escape\n",
        "    $(document).trigger(press);\n",
        "    event.returnValue = \"\\nXXXXXXXXXXXXXXXXXXXXXXXXXXXXXXXXXXXXXXXXXXXXXX\";\n",
        "    event.returnValue +=\"\\nX  Chrome sucks at captruring Ctrl-W, sorry  X\";\n",
        "    event.returnValue += \"\\nXXXXXXXXXXXXXXXXXXXXXXXXXXXXXXXXXXXXXXXXXXXXXX\";\n",
        "});\n",
        "\n",
        "// update the keyboard shortcuts\n",
        "IPython.quick_help = new IPython.QuickHelp();\n",
        "\n",
        "//IPython.CodeCell.options_default.cm_config.styleActiveLine = true;\n",
        "\n",
        "all_cm( function (cm) {\n",
        "    cm.setOption('foldGutter', true);\n",
        "    cm.setOption('gutters',  [\"CodeMirror-linenumbers\", \"CodeMirror-foldgutter\"]);\n",
        "    cm.options.extraKeys[\"Ctrl-F\"] = function(cm){ cm.foldCode(cm.getCursor()); };\n",
        "    var wrapOptions = {column: 78, killTrailingSpace: true, wrapOn: /\\s\\S|[^\\.\\d]/ };\n",
        "    // XXX: add a hardwrap-range to this as well\n",
        "    cm.options.extraKeys[\"F2\"] =  function(cm) { cm.wrapParagraph(cm.getCursor(), wrapOptions); };\n",
        "    //cm.options.extraKeys[\"[\"] =  function(cm) { cm.setOption(\"fullScreen\", !cm.getOption(\"fullScreen\"))};\n",
        "    IPython.CodeCell.options_default.cm_config.extraKeys['Ctrl-F'] = function(cm){ cm.foldCode(cm.getCursor()); };\n",
        "    IPython.TextCell.options_default.cm_config.extraKeys['Ctrl-F'] = function(cm){ cm.foldCode(cm.getCursor()); };\n",
        "\n",
        "    // todo - do this for new cells as well\n",
        "    // support this a :only? turn off full screen on blur\n",
        "    cm.options.extraKeys[\"F11\"] =  function(cm) { cm.setOption(\"fullScreen\", !cm.getOption(\"fullScreen\"))};\n",
        "    cm.options.extraKeys[\"Ctrl-A\"] =  function(cm) {\n",
        "          if (cm.getOption(\"fullScreen\")) cm.setOption(\"fullScreen\", false);\n",
        "        };\n",
        "    //all_cm( function (cm) {\n",
        "});\n",
        "\n",
        "//setTimeout(function() {IPython.notebook.get_selected_cell().set_input_prompt('vim');}, 200)\n",
        "\n",
        "$(\"#ipython_notebook\").find('img').remove('#vim');\n",
        "$(\"#ipython_notebook\").append('<img id=\"vim\" src=\"http://www.vim.org/images/vim_on_fire.gif\"'\n",
        "        // XXX: add it to the distribution\n",
        "        // /static/custom/vim_on_fire.gif\" \n",
        "    + ' style=\"'\n",
        "    + 'position: absolute; left: 51px; top: -10px; height: initial;\">')\n",
        "$(\"#vim\").click( function () {$(this).hide()});\n",
        "\n",
        "\n",
        "// XXX: Autowrapping is kind of broken - you can write a line that will have\n",
        "// its last word (if it's 1 or 2 characters just go back and forth between the\n",
        "// current and the next lines)\n",
        "//all_cm(function (cm) {\n",
        "//    var wait, options = {column: 78, killTrailingSpace: true, wrapOn: /\\s\\S|[^\\.\\d]/};\n",
        "//    cm.on(\"change\", function(cm, change) {\n",
        "//      clearTimeout(wait);\n",
        "//      wait = setTimeout(function() {\n",
        "//        console.log(cm.wrapParagraphsInRange(change.from, CodeMirror.changeEnd(change), options));\n",
        "//      }, 300);\n",
        "//    });\n",
        "//});\n",
        "\n",
        "}, function  failure() { \n",
        "    alert('le sucks, something went wrong');\n",
        "\n",
        "});\n",
        "\n",
        "\n",
        "// at_top  and at_bottom methods for ipython-vimception\n",
        "    /**\n",
        "     * @method at_top\n",
        "     * @return {Boolean}\n",
        "     */\n",
        "    Cell.prototype.at_top = function () {\n",
        "        var cm = this.code_mirror;\n",
        "        var cursor = cm.getCursor();\n",
        "        if (cursor.line === 0 && cm.findPosV(cursor, -1, 'line').hitSide) {\n",
        "            return true;\n",
        "        } else {\n",
        "            return false;\n",
        "        }\n",
        "    };\n",
        "\n",
        "    /**\n",
        "     * @method at_bottom\n",
        "     * @return {Boolean}\n",
        "     * */\n",
        "    Cell.prototype.at_bottom = function () {\n",
        "        var cm = this.code_mirror;\n",
        "        var cursor = cm.getCursor();\n",
        "        if (cursor.line === (cm.lineCount()-1) && cm.findPosV(cursor, 1, 'line').hitSide) {\n",
        "            return true;\n",
        "        } else {\n",
        "            return false;\n",
        "        }\n",
        "    };\n"
       ],
       "metadata": {},
       "output_type": "display_data",
       "text": [
        "<IPython.core.display.Javascript at 0x7f476415d0d0>"
       ]
      },
      {
       "javascript": [
        "\n",
        "var cmd = IPython.keyboard_manager.command_shortcuts;\n",
        "var edit = IPython.keyboard_manager.edit_shortcuts;\n",
        "var def_cmd = IPython.default_command_shortcuts;\n",
        "var def_edit = IPython.default_edit_shortcuts;\n",
        "\n",
        "// get the code mirror editor of a curently selected cell\n",
        "function C() { return IPython.notebook.get_selected_cell().code_mirror; };\n",
        "\n",
        "// Change the mode of all current and future CodeMirror instances\n",
        "// Emacs users can use this function as just to('emacs') so long as they've\n",
        "// required/loaded emacs.js from CodeMirror\n",
        "function to(mode) {\n",
        "    var mode = mode || 'vim'\n",
        "    // first let's apply vim mode to all current cells\n",
        "    function to_mode(c) { return c.code_mirror.setOption('keyMap', mode);};\n",
        "    IPython.notebook.get_cells().map(to_mode);\n",
        "    // apply the mode to future cells created\n",
        "    IPython.Cell.options_default.cm_config.keyMap = mode;\n",
        "}\n",
        "\n",
        "function getCSS(path) {\n",
        "    $('<link/>', {\n",
        "       rel: 'stylesheet',\n",
        "       type: 'text/css',\n",
        "       href: path,\n",
        "    }).appendTo('head');\n",
        "}\n",
        "\n",
        "// I messed around with trying to get requireJS going here, but gave up and\n",
        "// just using this answer from SO \n",
        "// http://stackoverflow.com/questions/11803215/how-to-include-multiple-js-files-using-jquery-getscript-method\n",
        "\n",
        "var p = \"/static/components/codemirror/addon/\";\n",
        "\n",
        "$.when(\n",
        "// Grab the CodeMirror vim keymap\n",
        "$.getScript(p + \"../keymap/vim.js\"),\n",
        "// also make search work via /\n",
        "$.getScript(p + \"search/search.js\"),\n",
        "$.getScript(p + \"search/searchcursor.js\"),\n",
        "\n",
        "// TODO: hook-up gq to perform a harwrap\n",
        "$.getScript(p + \"wrap/hardwrap.js\"),\n",
        "$.getScript(p + \"selection/active-line.js\"),\n",
        "\n",
        "$.getScript(p + \"display/fullscreen.js\"),\n",
        "getCSS(p + \"display/fullscreen.css\"),\n",
        "getCSS(p + \"dialog/dialog.css\"),\n",
        "$.getScript(p + \"dialog/dialog.js\"),\n",
        "\n",
        "\n",
        "    $.Deferred(function( deferred ){\n",
        "        $( deferred.resolve );\n",
        "    })\n",
        ").then(function success(){\n",
        "\n",
        "console.log('Great success');\n",
        "\n",
        "IPython.CodeCell.options_default.cm_config.foldGutter = true;\n",
        "IPython.CodeCell.options_default.cm_config.gutters =  [\"CodeMirror-linenumbers\", \"CodeMirror-foldgutter\"];\n",
        "\n",
        "IPython.Cell.prototype.at_top = function () {\n",
        "        var cm = this.code_mirror;\n",
        "        var cursor = cm.getCursor();\n",
        "        if (cursor.line === 0) {\n",
        "            return true;\n",
        "        }\n",
        "        return false;\n",
        "    };\n",
        "\n",
        "\n",
        "IPython.Cell.prototype.at_bottom = function () {\n",
        "    var cm = this.code_mirror;\n",
        "    var cursor = cm.getCursor();\n",
        "    if (cursor.line === (cm.lineCount()-1)) {\n",
        "        return true;\n",
        "    }\n",
        "    return false;\n",
        "};\n",
        "// on all code mirror instances on this page, apply the function f\n",
        "function all_cm(f) {\n",
        "    // apply f to every code mirror instance. f takes one parameter\n",
        "    IPython.notebook.get_cells().map(function (c) { f(c.code_mirror); } );\n",
        "}\n",
        "\n",
        "\n",
        "to('vim');\n",
        "function vim_up(event) {\n",
        "    var cell = IPython.notebook.get_selected_cell();\n",
        "    if (cell && cell.at_top() && cell.code_mirror.options.keyMap === 'vim') {\n",
        "        console.log('inside the business logic k');\n",
        "        event.preventDefault();\n",
        "        IPython.notebook.command_mode()\n",
        "        IPython.notebook.select_prev();\n",
        "        IPython.notebook.edit_mode();\n",
        "        return false;\n",
        "    };\n",
        "}\n",
        "\n",
        "function vim_down(event) {\n",
        "            var cell = IPython.notebook.get_selected_cell();\n",
        "            if (cell && cell.at_bottom() && cell.code_mirror.options.keyMap === 'vim') {\n",
        "                event.preventDefault();\n",
        "                IPython.notebook.command_mode()\n",
        "                IPython.notebook.select_next();\n",
        "                IPython.notebook.edit_mode();\n",
        "                return false;\n",
        "            };\n",
        "        }\n",
        "\n",
        "var m = '(vim) '\n",
        "var edit_shortcuts = {\n",
        "    'k' : {\n",
        "        help    : m + 'up a line, even across cells',\n",
        "        help_index : 'AA',\n",
        "        handler : vim_up\n",
        "    },\n",
        "    'j' : {\n",
        "        help    : m + 'down a line, even across cells',\n",
        "        help_index : 'AA',\n",
        "        handler : vim_down\n",
        "    },\n",
        "\n",
        "};\n",
        "\n",
        "var command_shortcuts = {\n",
        "    'c' :  {\n",
        "        help    : m + def_cmd['y'].help,\n",
        "        help_index : 'AA',\n",
        "        handler : def_cmd['y'].handler\n",
        "    }\n",
        "\n",
        "\n",
        "};\n",
        "\n",
        "edit.add_shortcuts(edit_shortcuts);\n",
        "cmd.add_shortcuts(command_shortcuts);\n",
        "//edit.add_shortcuts('k', def_edit['up'].handler);\n",
        "//edit.add_shortcut('j', def_edit['down'].handler);\n",
        "\n",
        "// N.B. This code looks fairly simple, but it took me forever to \n",
        "// figure out how to do this, \n",
        "// \n",
        "// there's a problem here, Ctrl-[ is already handled by CodeMirror by the time we \n",
        "// (IPython.keyboard_manager) get it CodeMirror issues signals on mode change, \n",
        "// so we have to hook into that to get Ctrl-[\n",
        "edit.remove_shortcut('Ctrl-[');\n",
        "edit.remove_shortcut('Esc');\n",
        "\n",
        "CodeMirror.commands.leaveInsertOrEdit = function (cm) {\n",
        "    if ( cm.state.vim.insertMode ) {\n",
        "        // do magic here to get out of insert mode\n",
        "        CodeMirror.keyMap['vim-insert']['Esc'](cm);\n",
        "    } else {\n",
        "        IPython.notebook.command_mode();\n",
        "        IPython.notebook.focus_cell();\n",
        "    }\n",
        "};\n",
        "        \n",
        "//C().options.extraKeys['Ctrl-['] = 'leaveInsertOrEdit';\n",
        "all_cm( function (cm) {\n",
        "    cm.options.extraKeys['Ctrl-['] = 'leaveInsertOrEdit';\n",
        "    cm.options.extraKeys['Esc'] = 'leaveInsertOrEdit';\n",
        "    if ( CodeMirror.defaults.extraKeys === null ) { \n",
        "        CodeMirror.defaults.extraKeys = {};\n",
        "    }\n",
        "    // TODO: make this change permanent\n",
        "    // this part seems to be ignore when adding a new cell\n",
        "    // - alternative solution would be to listen for NewCell events and rerun the CM function on it\n",
        "    // - it could also be the case that when we instatiate CodeMirror, we somehow leave out CM.defaults.extraKeys\n",
        "    IPython.CodeCell.options_default.cm_config.extraKeys['Ctrl-['] = 'leaveInsertOrEdit';\n",
        "    IPython.TextCell.options_default.cm_config.extraKeys['Ctrl-['] = 'leaveInsertOrEdit';\n",
        "    IPython.CodeCell.options_default.cm_config.extraKeys['Esc'] = 'leaveInsertOrEdit';\n",
        "    IPython.TextCell.options_default.cm_config.extraKeys['Esc'] = 'leaveInsertOrEdit';\n",
        "})\n",
        "\n",
        "// On blur, make sure we go back to command mode for CodeMirror (in case user clicked away)\n",
        "// TODO: Make this permanent - how to get CodeMirror to do this for new cells created after\n",
        "all_cm( function (cm) {\n",
        "    cm.on('blur', function(cm) {\n",
        "        // TODO: I wish I understood a better way to do this, but fake pressing Escape work\n",
        "        CodeMirror.keyMap['vim-insert']['Esc'](cm);\n",
        "        CodeMirror.keyMap['vim']['Esc'](cm);\n",
        "        cm.setOption('styleActiveLine', false);\n",
        "        if (cm.getOption(\"fullScreen\")) {\n",
        "            cm.setOption('fullScreen', false); \n",
        "            // fullScreen the newly selected code mirror (doesn't work)\n",
        "            //setTimeout(100, function() {\n",
        "            //    console.log(IPython.notebook.get_selected_cell().code_mirror);\n",
        "            //    IPython.notebook.get_selected_cell().code_mirror.setOption('fullScreen', true); \n",
        "            //});\n",
        "        }\n",
        "    });\n",
        "    cm.on('focus', function(cm) {\n",
        "        cm.setOption('styleActiveLine', true);\n",
        "    });\n",
        "});\n",
        "\n",
        "// 'i' by default interrupts the kernel (what Ctrl-C does at the terminal)\n",
        "cmd.remove_shortcut('i');\n",
        "cmd.add_shortcut('i', def_cmd.enter);\n",
        "\n",
        "// not quite what we want - 'i' requires a double-tap\n",
        "// add documentation for this.\n",
        "cmd.add_shortcut('ctrl-c', function(e) { IPython.notebook.kernel.interrupt(); return false});\n",
        "\n",
        "\n",
        "function focus_last(e) {\n",
        "    var cells = IPython.notebook.get_cells();\n",
        "    cells[cells.length-1].focus_cell();\n",
        "};\n",
        "\n",
        "function focus_first(e) {\n",
        "    var cells = IPython.notebook.get_cells();\n",
        "    cells[0].focus_cell();\n",
        "};\n",
        "\n",
        "function combo_tap(combo, action) {\n",
        "    var that = this;\n",
        "    var timeout;\n",
        "    function f() {\n",
        "        console.log('f called once');\n",
        "        \n",
        "        // redo this so that when an action is performed, we restore the original combo\n",
        "        cmd.add_shortcut(combo[1], \n",
        "                function() { console.log(\"doing action\", combo); reset(); action(); timeout.clear();} );\n",
        "        timeout = setTimeout(function () {\n",
        "            console.log('resetting f');\n",
        "            reset();\n",
        "            //cmd.add_shortcut(combo[0], reset)\n",
        "        }, 800);\n",
        "    }\n",
        "    function reset(e) {\n",
        "        //cmd.remove_shortcut(combo[0]);\n",
        "        console.log('reset called');\n",
        "        //if (timeout) {\n",
        "        //    console.log('resetting aborted');\n",
        "        //    clearTimeout(timeout);\n",
        "        //    timeout = null;\n",
        "        //}\n",
        "        //that(combo, action); \n",
        "        cmd.add_shortcut(combo[0], f);\n",
        "    }\n",
        "    console.log(\"combo tap for\", combo);\n",
        "    \n",
        "    reset();\n",
        "};\n",
        "cmd.add_shortcut('shift-g', focus_last);\n",
        "combo_tap('gg', focus_first);\n",
        "\n",
        "// XXX: the way combo tap is currently implemented, this won't work\n",
        "// need a more generic mechanism for combo-taps with common prefixes\n",
        "// combo_tap('gq', f();\n",
        "//cmd.remove_shortcut('d');\n",
        "// cut\n",
        "combo_tap('dd', def_cmd['x'].handler);\n",
        "\n",
        "// copy\n",
        "combo_tap('yy', def_cmd['c'].handler);\n",
        "\n",
        "// paste\n",
        "cmd.add_shortcut('p', def_cmd['v']);\n",
        "\n",
        "// undo\n",
        "cmd.add_shortcut('u', def_cmd['z']);\n",
        "\n",
        "// Join (merge down with cell below)\n",
        "cmd.add_shortcut('shift-j', def_cmd['shift-m'])\n",
        "\n",
        "//edit.add_shortcut('k', def_edit['up'].handler);\n",
        "//[edit.add_shortcut('j', def_edit['down'].handler);\n",
        "\n",
        "CodeMirror.prototype.save = function() { \n",
        "    IPython.notebook.save_checkpoint()\n",
        "}\n",
        "\n",
        "function focus_last(e) {\n",
        "    var cells = IPython.notebook.get_cells();\n",
        "    cells[cells.length-1].focus_cell();\n",
        "};\n",
        "\n",
        "function focus_first(e) {\n",
        "    console.log('focus first called');\n",
        "    var cells = IPython.notebook.get_cells();\n",
        "    cells[0].focus_cell();\n",
        "};\n",
        "\n",
        "\n",
        "cmd.add_shortcut('shift-g', focus_last);\n",
        "combo_tap('gg', focus_first);\n",
        "\n",
        "// get rid of the default Ctrl-W binding\n",
        "// this only works for Firefox\n",
        "$(document).ready(function() {\n",
        "\t$(this).bind('keypress', function(e) {\n",
        "\t\tvar key = (e.keyCode ? e.keyCode : e.charCode);\n",
        "\t\tif (key == '119' && e.ctrlKey) {\n",
        "\t\t\treturn false;\n",
        "\t\t}\n",
        "\t});\n",
        "});\n",
        "\n",
        "window.addEventListener(\"beforeunload\", function( event ) {\n",
        "    var press = jQuery.Event(\"keypress\");\n",
        "    press.ctrlKey = false;\n",
        "    press.which = 27; // escape\n",
        "    $(document).trigger(press);\n",
        "    event.returnValue = \"\\nXXXXXXXXXXXXXXXXXXXXXXXXXXXXXXXXXXXXXXXXXXXXXX\";\n",
        "    event.returnValue +=\"\\nX  Chrome sucks at captruring Ctrl-W, sorry  X\";\n",
        "    event.returnValue += \"\\nXXXXXXXXXXXXXXXXXXXXXXXXXXXXXXXXXXXXXXXXXXXXXX\";\n",
        "});\n",
        "\n",
        "// update the keyboard shortcuts\n",
        "IPython.quick_help = new IPython.QuickHelp();\n",
        "\n",
        "//IPython.CodeCell.options_default.cm_config.styleActiveLine = true;\n",
        "\n",
        "all_cm( function (cm) {\n",
        "    cm.setOption('foldGutter', true);\n",
        "    cm.setOption('gutters',  [\"CodeMirror-linenumbers\", \"CodeMirror-foldgutter\"]);\n",
        "    cm.options.extraKeys[\"Ctrl-F\"] = function(cm){ cm.foldCode(cm.getCursor()); };\n",
        "    var wrapOptions = {column: 78, killTrailingSpace: true, wrapOn: /\\s\\S|[^\\.\\d]/ };\n",
        "    // XXX: add a hardwrap-range to this as well\n",
        "    cm.options.extraKeys[\"F2\"] =  function(cm) { cm.wrapParagraph(cm.getCursor(), wrapOptions); };\n",
        "    //cm.options.extraKeys[\"[\"] =  function(cm) { cm.setOption(\"fullScreen\", !cm.getOption(\"fullScreen\"))};\n",
        "    IPython.CodeCell.options_default.cm_config.extraKeys['Ctrl-F'] = function(cm){ cm.foldCode(cm.getCursor()); };\n",
        "    IPython.TextCell.options_default.cm_config.extraKeys['Ctrl-F'] = function(cm){ cm.foldCode(cm.getCursor()); };\n",
        "\n",
        "    // todo - do this for new cells as well\n",
        "    // support this a :only? turn off full screen on blur\n",
        "    cm.options.extraKeys[\"F11\"] =  function(cm) { cm.setOption(\"fullScreen\", !cm.getOption(\"fullScreen\"))};\n",
        "    cm.options.extraKeys[\"Ctrl-A\"] =  function(cm) {\n",
        "          if (cm.getOption(\"fullScreen\")) cm.setOption(\"fullScreen\", false);\n",
        "        };\n",
        "    //all_cm( function (cm) {\n",
        "});\n",
        "\n",
        "//setTimeout(function() {IPython.notebook.get_selected_cell().set_input_prompt('vim');}, 200)\n",
        "\n",
        "$(\"#ipython_notebook\").find('img').remove('#vim');\n",
        "$(\"#ipython_notebook\").append('<img id=\"vim\" src=\"http://www.vim.org/images/vim_on_fire.gif\"'\n",
        "        // XXX: add it to the distribution\n",
        "        // /static/custom/vim_on_fire.gif\" \n",
        "    + ' style=\"'\n",
        "    + 'position: absolute; left: 51px; top: -10px; height: initial;\">')\n",
        "$(\"#vim\").click( function () {$(this).hide()});\n",
        "\n",
        "\n",
        "// XXX: Autowrapping is kind of broken - you can write a line that will have\n",
        "// its last word (if it's 1 or 2 characters just go back and forth between the\n",
        "// current and the next lines)\n",
        "//all_cm(function (cm) {\n",
        "//    var wait, options = {column: 78, killTrailingSpace: true, wrapOn: /\\s\\S|[^\\.\\d]/};\n",
        "//    cm.on(\"change\", function(cm, change) {\n",
        "//      clearTimeout(wait);\n",
        "//      wait = setTimeout(function() {\n",
        "//        console.log(cm.wrapParagraphsInRange(change.from, CodeMirror.changeEnd(change), options));\n",
        "//      }, 300);\n",
        "//    });\n",
        "//});\n",
        "\n",
        "}, function  failure() { \n",
        "    alert('le sucks, something went wrong');\n",
        "\n",
        "});\n",
        "\n",
        "\n",
        "// at_top  and at_bottom methods for ipython-vimception\n",
        "    /**\n",
        "     * @method at_top\n",
        "     * @return {Boolean}\n",
        "     */\n",
        "    Cell.prototype.at_top = function () {\n",
        "        var cm = this.code_mirror;\n",
        "        var cursor = cm.getCursor();\n",
        "        if (cursor.line === 0 && cm.findPosV(cursor, -1, 'line').hitSide) {\n",
        "            return true;\n",
        "        } else {\n",
        "            return false;\n",
        "        }\n",
        "    };\n",
        "\n",
        "    /**\n",
        "     * @method at_bottom\n",
        "     * @return {Boolean}\n",
        "     * */\n",
        "    Cell.prototype.at_bottom = function () {\n",
        "        var cm = this.code_mirror;\n",
        "        var cursor = cm.getCursor();\n",
        "        if (cursor.line === (cm.lineCount()-1) && cm.findPosV(cursor, 1, 'line').hitSide) {\n",
        "            return true;\n",
        "        } else {\n",
        "            return false;\n",
        "        }\n",
        "    };\n"
       ],
       "metadata": {},
       "output_type": "display_data",
       "text": [
        "<IPython.core.display.Javascript at 0x7f4764153e10>"
       ]
      },
      {
       "javascript": [
        "\n",
        "var cmd = IPython.keyboard_manager.command_shortcuts;\n",
        "var edit = IPython.keyboard_manager.edit_shortcuts;\n",
        "var def_cmd = IPython.default_command_shortcuts;\n",
        "var def_edit = IPython.default_edit_shortcuts;\n",
        "\n",
        "// get the code mirror editor of a curently selected cell\n",
        "function C() { return IPython.notebook.get_selected_cell().code_mirror; };\n",
        "\n",
        "// Change the mode of all current and future CodeMirror instances\n",
        "// Emacs users can use this function as just to('emacs') so long as they've\n",
        "// required/loaded emacs.js from CodeMirror\n",
        "function to(mode) {\n",
        "    var mode = mode || 'vim'\n",
        "    // first let's apply vim mode to all current cells\n",
        "    function to_mode(c) { return c.code_mirror.setOption('keyMap', mode);};\n",
        "    IPython.notebook.get_cells().map(to_mode);\n",
        "    // apply the mode to future cells created\n",
        "    IPython.Cell.options_default.cm_config.keyMap = mode;\n",
        "}\n",
        "\n",
        "function getCSS(path) {\n",
        "    $('<link/>', {\n",
        "       rel: 'stylesheet',\n",
        "       type: 'text/css',\n",
        "       href: path,\n",
        "    }).appendTo('head');\n",
        "}\n",
        "\n",
        "// I messed around with trying to get requireJS going here, but gave up and\n",
        "// just using this answer from SO \n",
        "// http://stackoverflow.com/questions/11803215/how-to-include-multiple-js-files-using-jquery-getscript-method\n",
        "\n",
        "var p = \"/static/components/codemirror/addon/\";\n",
        "\n",
        "$.when(\n",
        "// Grab the CodeMirror vim keymap\n",
        "$.getScript(p + \"../keymap/vim.js\"),\n",
        "// also make search work via /\n",
        "$.getScript(p + \"search/search.js\"),\n",
        "$.getScript(p + \"search/searchcursor.js\"),\n",
        "\n",
        "// TODO: hook-up gq to perform a harwrap\n",
        "$.getScript(p + \"wrap/hardwrap.js\"),\n",
        "$.getScript(p + \"selection/active-line.js\"),\n",
        "\n",
        "$.getScript(p + \"display/fullscreen.js\"),\n",
        "getCSS(p + \"display/fullscreen.css\"),\n",
        "getCSS(p + \"dialog/dialog.css\"),\n",
        "$.getScript(p + \"dialog/dialog.js\"),\n",
        "\n",
        "\n",
        "    $.Deferred(function( deferred ){\n",
        "        $( deferred.resolve );\n",
        "    })\n",
        ").then(function success(){\n",
        "\n",
        "console.log('Great success');\n",
        "\n",
        "IPython.CodeCell.options_default.cm_config.foldGutter = true;\n",
        "IPython.CodeCell.options_default.cm_config.gutters =  [\"CodeMirror-linenumbers\", \"CodeMirror-foldgutter\"];\n",
        "\n",
        "IPython.Cell.prototype.at_top = function () {\n",
        "        var cm = this.code_mirror;\n",
        "        var cursor = cm.getCursor();\n",
        "        if (cursor.line === 0) {\n",
        "            return true;\n",
        "        }\n",
        "        return false;\n",
        "    };\n",
        "\n",
        "\n",
        "IPython.Cell.prototype.at_bottom = function () {\n",
        "    var cm = this.code_mirror;\n",
        "    var cursor = cm.getCursor();\n",
        "    if (cursor.line === (cm.lineCount()-1)) {\n",
        "        return true;\n",
        "    }\n",
        "    return false;\n",
        "};\n",
        "// on all code mirror instances on this page, apply the function f\n",
        "function all_cm(f) {\n",
        "    // apply f to every code mirror instance. f takes one parameter\n",
        "    IPython.notebook.get_cells().map(function (c) { f(c.code_mirror); } );\n",
        "}\n",
        "\n",
        "\n",
        "to('vim');\n",
        "function vim_up(event) {\n",
        "    var cell = IPython.notebook.get_selected_cell();\n",
        "    if (cell && cell.at_top() && cell.code_mirror.options.keyMap === 'vim') {\n",
        "        console.log('inside the business logic k');\n",
        "        event.preventDefault();\n",
        "        IPython.notebook.command_mode()\n",
        "        IPython.notebook.select_prev();\n",
        "        IPython.notebook.edit_mode();\n",
        "        return false;\n",
        "    };\n",
        "}\n",
        "\n",
        "function vim_down(event) {\n",
        "            var cell = IPython.notebook.get_selected_cell();\n",
        "            if (cell && cell.at_bottom() && cell.code_mirror.options.keyMap === 'vim') {\n",
        "                event.preventDefault();\n",
        "                IPython.notebook.command_mode()\n",
        "                IPython.notebook.select_next();\n",
        "                IPython.notebook.edit_mode();\n",
        "                return false;\n",
        "            };\n",
        "        }\n",
        "\n",
        "var m = '(vim) '\n",
        "var edit_shortcuts = {\n",
        "    'k' : {\n",
        "        help    : m + 'up a line, even across cells',\n",
        "        help_index : 'AA',\n",
        "        handler : vim_up\n",
        "    },\n",
        "    'j' : {\n",
        "        help    : m + 'down a line, even across cells',\n",
        "        help_index : 'AA',\n",
        "        handler : vim_down\n",
        "    },\n",
        "\n",
        "};\n",
        "\n",
        "var command_shortcuts = {\n",
        "    'c' :  {\n",
        "        help    : m + def_cmd['y'].help,\n",
        "        help_index : 'AA',\n",
        "        handler : def_cmd['y'].handler\n",
        "    }\n",
        "\n",
        "\n",
        "};\n",
        "\n",
        "edit.add_shortcuts(edit_shortcuts);\n",
        "cmd.add_shortcuts(command_shortcuts);\n",
        "//edit.add_shortcuts('k', def_edit['up'].handler);\n",
        "//edit.add_shortcut('j', def_edit['down'].handler);\n",
        "\n",
        "// N.B. This code looks fairly simple, but it took me forever to \n",
        "// figure out how to do this, \n",
        "// \n",
        "// there's a problem here, Ctrl-[ is already handled by CodeMirror by the time we \n",
        "// (IPython.keyboard_manager) get it CodeMirror issues signals on mode change, \n",
        "// so we have to hook into that to get Ctrl-[\n",
        "edit.remove_shortcut('Ctrl-[');\n",
        "edit.remove_shortcut('Esc');\n",
        "\n",
        "CodeMirror.commands.leaveInsertOrEdit = function (cm) {\n",
        "    if ( cm.state.vim.insertMode ) {\n",
        "        // do magic here to get out of insert mode\n",
        "        CodeMirror.keyMap['vim-insert']['Esc'](cm);\n",
        "    } else {\n",
        "        IPython.notebook.command_mode();\n",
        "        IPython.notebook.focus_cell();\n",
        "    }\n",
        "};\n",
        "        \n",
        "//C().options.extraKeys['Ctrl-['] = 'leaveInsertOrEdit';\n",
        "all_cm( function (cm) {\n",
        "    cm.options.extraKeys['Ctrl-['] = 'leaveInsertOrEdit';\n",
        "    cm.options.extraKeys['Esc'] = 'leaveInsertOrEdit';\n",
        "    if ( CodeMirror.defaults.extraKeys === null ) { \n",
        "        CodeMirror.defaults.extraKeys = {};\n",
        "    }\n",
        "    // TODO: make this change permanent\n",
        "    // this part seems to be ignore when adding a new cell\n",
        "    // - alternative solution would be to listen for NewCell events and rerun the CM function on it\n",
        "    // - it could also be the case that when we instatiate CodeMirror, we somehow leave out CM.defaults.extraKeys\n",
        "    IPython.CodeCell.options_default.cm_config.extraKeys['Ctrl-['] = 'leaveInsertOrEdit';\n",
        "    IPython.TextCell.options_default.cm_config.extraKeys['Ctrl-['] = 'leaveInsertOrEdit';\n",
        "    IPython.CodeCell.options_default.cm_config.extraKeys['Esc'] = 'leaveInsertOrEdit';\n",
        "    IPython.TextCell.options_default.cm_config.extraKeys['Esc'] = 'leaveInsertOrEdit';\n",
        "})\n",
        "\n",
        "// On blur, make sure we go back to command mode for CodeMirror (in case user clicked away)\n",
        "// TODO: Make this permanent - how to get CodeMirror to do this for new cells created after\n",
        "all_cm( function (cm) {\n",
        "    cm.on('blur', function(cm) {\n",
        "        // TODO: I wish I understood a better way to do this, but fake pressing Escape work\n",
        "        CodeMirror.keyMap['vim-insert']['Esc'](cm);\n",
        "        CodeMirror.keyMap['vim']['Esc'](cm);\n",
        "        cm.setOption('styleActiveLine', false);\n",
        "        if (cm.getOption(\"fullScreen\")) {\n",
        "            cm.setOption('fullScreen', false); \n",
        "            // fullScreen the newly selected code mirror (doesn't work)\n",
        "            //setTimeout(100, function() {\n",
        "            //    console.log(IPython.notebook.get_selected_cell().code_mirror);\n",
        "            //    IPython.notebook.get_selected_cell().code_mirror.setOption('fullScreen', true); \n",
        "            //});\n",
        "        }\n",
        "    });\n",
        "    cm.on('focus', function(cm) {\n",
        "        cm.setOption('styleActiveLine', true);\n",
        "    });\n",
        "});\n",
        "\n",
        "// 'i' by default interrupts the kernel (what Ctrl-C does at the terminal)\n",
        "cmd.remove_shortcut('i');\n",
        "cmd.add_shortcut('i', def_cmd.enter);\n",
        "\n",
        "// not quite what we want - 'i' requires a double-tap\n",
        "// add documentation for this.\n",
        "cmd.add_shortcut('ctrl-c', function(e) { IPython.notebook.kernel.interrupt(); return false});\n",
        "\n",
        "\n",
        "function focus_last(e) {\n",
        "    var cells = IPython.notebook.get_cells();\n",
        "    cells[cells.length-1].focus_cell();\n",
        "};\n",
        "\n",
        "function focus_first(e) {\n",
        "    var cells = IPython.notebook.get_cells();\n",
        "    cells[0].focus_cell();\n",
        "};\n",
        "\n",
        "function combo_tap(combo, action) {\n",
        "    var that = this;\n",
        "    var timeout;\n",
        "    function f() {\n",
        "        console.log('f called once');\n",
        "        \n",
        "        // redo this so that when an action is performed, we restore the original combo\n",
        "        cmd.add_shortcut(combo[1], \n",
        "                function() { console.log(\"doing action\", combo); reset(); action(); timeout.clear();} );\n",
        "        timeout = setTimeout(function () {\n",
        "            console.log('resetting f');\n",
        "            reset();\n",
        "            //cmd.add_shortcut(combo[0], reset)\n",
        "        }, 800);\n",
        "    }\n",
        "    function reset(e) {\n",
        "        //cmd.remove_shortcut(combo[0]);\n",
        "        console.log('reset called');\n",
        "        //if (timeout) {\n",
        "        //    console.log('resetting aborted');\n",
        "        //    clearTimeout(timeout);\n",
        "        //    timeout = null;\n",
        "        //}\n",
        "        //that(combo, action); \n",
        "        cmd.add_shortcut(combo[0], f);\n",
        "    }\n",
        "    console.log(\"combo tap for\", combo);\n",
        "    \n",
        "    reset();\n",
        "};\n",
        "cmd.add_shortcut('shift-g', focus_last);\n",
        "combo_tap('gg', focus_first);\n",
        "\n",
        "// XXX: the way combo tap is currently implemented, this won't work\n",
        "// need a more generic mechanism for combo-taps with common prefixes\n",
        "// combo_tap('gq', f();\n",
        "//cmd.remove_shortcut('d');\n",
        "// cut\n",
        "combo_tap('dd', def_cmd['x'].handler);\n",
        "\n",
        "// copy\n",
        "combo_tap('yy', def_cmd['c'].handler);\n",
        "\n",
        "// paste\n",
        "cmd.add_shortcut('p', def_cmd['v']);\n",
        "\n",
        "// undo\n",
        "cmd.add_shortcut('u', def_cmd['z']);\n",
        "\n",
        "// Join (merge down with cell below)\n",
        "cmd.add_shortcut('shift-j', def_cmd['shift-m'])\n",
        "\n",
        "//edit.add_shortcut('k', def_edit['up'].handler);\n",
        "//[edit.add_shortcut('j', def_edit['down'].handler);\n",
        "\n",
        "CodeMirror.prototype.save = function() { \n",
        "    IPython.notebook.save_checkpoint()\n",
        "}\n",
        "\n",
        "function focus_last(e) {\n",
        "    var cells = IPython.notebook.get_cells();\n",
        "    cells[cells.length-1].focus_cell();\n",
        "};\n",
        "\n",
        "function focus_first(e) {\n",
        "    console.log('focus first called');\n",
        "    var cells = IPython.notebook.get_cells();\n",
        "    cells[0].focus_cell();\n",
        "};\n",
        "\n",
        "\n",
        "cmd.add_shortcut('shift-g', focus_last);\n",
        "combo_tap('gg', focus_first);\n",
        "\n",
        "// get rid of the default Ctrl-W binding\n",
        "// this only works for Firefox\n",
        "$(document).ready(function() {\n",
        "\t$(this).bind('keypress', function(e) {\n",
        "\t\tvar key = (e.keyCode ? e.keyCode : e.charCode);\n",
        "\t\tif (key == '119' && e.ctrlKey) {\n",
        "\t\t\treturn false;\n",
        "\t\t}\n",
        "\t});\n",
        "});\n",
        "\n",
        "window.addEventListener(\"beforeunload\", function( event ) {\n",
        "    var press = jQuery.Event(\"keypress\");\n",
        "    press.ctrlKey = false;\n",
        "    press.which = 27; // escape\n",
        "    $(document).trigger(press);\n",
        "    event.returnValue = \"\\nXXXXXXXXXXXXXXXXXXXXXXXXXXXXXXXXXXXXXXXXXXXXXX\";\n",
        "    event.returnValue +=\"\\nX  Chrome sucks at captruring Ctrl-W, sorry  X\";\n",
        "    event.returnValue += \"\\nXXXXXXXXXXXXXXXXXXXXXXXXXXXXXXXXXXXXXXXXXXXXXX\";\n",
        "});\n",
        "\n",
        "// update the keyboard shortcuts\n",
        "IPython.quick_help = new IPython.QuickHelp();\n",
        "\n",
        "//IPython.CodeCell.options_default.cm_config.styleActiveLine = true;\n",
        "\n",
        "all_cm( function (cm) {\n",
        "    cm.setOption('foldGutter', true);\n",
        "    cm.setOption('gutters',  [\"CodeMirror-linenumbers\", \"CodeMirror-foldgutter\"]);\n",
        "    cm.options.extraKeys[\"Ctrl-F\"] = function(cm){ cm.foldCode(cm.getCursor()); };\n",
        "    var wrapOptions = {column: 78, killTrailingSpace: true, wrapOn: /\\s\\S|[^\\.\\d]/ };\n",
        "    // XXX: add a hardwrap-range to this as well\n",
        "    cm.options.extraKeys[\"F2\"] =  function(cm) { cm.wrapParagraph(cm.getCursor(), wrapOptions); };\n",
        "    //cm.options.extraKeys[\"[\"] =  function(cm) { cm.setOption(\"fullScreen\", !cm.getOption(\"fullScreen\"))};\n",
        "    IPython.CodeCell.options_default.cm_config.extraKeys['Ctrl-F'] = function(cm){ cm.foldCode(cm.getCursor()); };\n",
        "    IPython.TextCell.options_default.cm_config.extraKeys['Ctrl-F'] = function(cm){ cm.foldCode(cm.getCursor()); };\n",
        "\n",
        "    // todo - do this for new cells as well\n",
        "    // support this a :only? turn off full screen on blur\n",
        "    cm.options.extraKeys[\"F11\"] =  function(cm) { cm.setOption(\"fullScreen\", !cm.getOption(\"fullScreen\"))};\n",
        "    cm.options.extraKeys[\"Ctrl-A\"] =  function(cm) {\n",
        "          if (cm.getOption(\"fullScreen\")) cm.setOption(\"fullScreen\", false);\n",
        "        };\n",
        "    //all_cm( function (cm) {\n",
        "});\n",
        "\n",
        "//setTimeout(function() {IPython.notebook.get_selected_cell().set_input_prompt('vim');}, 200)\n",
        "\n",
        "$(\"#ipython_notebook\").find('img').remove('#vim');\n",
        "$(\"#ipython_notebook\").append('<img id=\"vim\" src=\"http://www.vim.org/images/vim_on_fire.gif\"'\n",
        "        // XXX: add it to the distribution\n",
        "        // /static/custom/vim_on_fire.gif\" \n",
        "    + ' style=\"'\n",
        "    + 'position: absolute; left: 51px; top: -10px; height: initial;\">')\n",
        "$(\"#vim\").click( function () {$(this).hide()});\n",
        "\n",
        "\n",
        "// XXX: Autowrapping is kind of broken - you can write a line that will have\n",
        "// its last word (if it's 1 or 2 characters just go back and forth between the\n",
        "// current and the next lines)\n",
        "//all_cm(function (cm) {\n",
        "//    var wait, options = {column: 78, killTrailingSpace: true, wrapOn: /\\s\\S|[^\\.\\d]/};\n",
        "//    cm.on(\"change\", function(cm, change) {\n",
        "//      clearTimeout(wait);\n",
        "//      wait = setTimeout(function() {\n",
        "//        console.log(cm.wrapParagraphsInRange(change.from, CodeMirror.changeEnd(change), options));\n",
        "//      }, 300);\n",
        "//    });\n",
        "//});\n",
        "\n",
        "}, function  failure() { \n",
        "    alert('le sucks, something went wrong');\n",
        "\n",
        "});\n",
        "\n",
        "\n",
        "// at_top  and at_bottom methods for ipython-vimception\n",
        "    /**\n",
        "     * @method at_top\n",
        "     * @return {Boolean}\n",
        "     */\n",
        "    Cell.prototype.at_top = function () {\n",
        "        var cm = this.code_mirror;\n",
        "        var cursor = cm.getCursor();\n",
        "        if (cursor.line === 0 && cm.findPosV(cursor, -1, 'line').hitSide) {\n",
        "            return true;\n",
        "        } else {\n",
        "            return false;\n",
        "        }\n",
        "    };\n",
        "\n",
        "    /**\n",
        "     * @method at_bottom\n",
        "     * @return {Boolean}\n",
        "     * */\n",
        "    Cell.prototype.at_bottom = function () {\n",
        "        var cm = this.code_mirror;\n",
        "        var cursor = cm.getCursor();\n",
        "        if (cursor.line === (cm.lineCount()-1) && cm.findPosV(cursor, 1, 'line').hitSide) {\n",
        "            return true;\n",
        "        } else {\n",
        "            return false;\n",
        "        }\n",
        "    };\n"
       ],
       "metadata": {},
       "output_type": "display_data",
       "text": [
        "<IPython.core.display.Javascript at 0x7f4764191390>"
       ]
      },
      {
       "javascript": [
        "\n",
        "var cmd = IPython.keyboard_manager.command_shortcuts;\n",
        "var edit = IPython.keyboard_manager.edit_shortcuts;\n",
        "var def_cmd = IPython.default_command_shortcuts;\n",
        "var def_edit = IPython.default_edit_shortcuts;\n",
        "\n",
        "// get the code mirror editor of a curently selected cell\n",
        "function C() { return IPython.notebook.get_selected_cell().code_mirror; };\n",
        "\n",
        "// Change the mode of all current and future CodeMirror instances\n",
        "// Emacs users can use this function as just to('emacs') so long as they've\n",
        "// required/loaded emacs.js from CodeMirror\n",
        "function to(mode) {\n",
        "    var mode = mode || 'vim'\n",
        "    // first let's apply vim mode to all current cells\n",
        "    function to_mode(c) { return c.code_mirror.setOption('keyMap', mode);};\n",
        "    IPython.notebook.get_cells().map(to_mode);\n",
        "    // apply the mode to future cells created\n",
        "    IPython.Cell.options_default.cm_config.keyMap = mode;\n",
        "}\n",
        "\n",
        "function getCSS(path) {\n",
        "    $('<link/>', {\n",
        "       rel: 'stylesheet',\n",
        "       type: 'text/css',\n",
        "       href: path,\n",
        "    }).appendTo('head');\n",
        "}\n",
        "\n",
        "// I messed around with trying to get requireJS going here, but gave up and\n",
        "// just using this answer from SO \n",
        "// http://stackoverflow.com/questions/11803215/how-to-include-multiple-js-files-using-jquery-getscript-method\n",
        "\n",
        "var p = \"/static/components/codemirror/addon/\";\n",
        "\n",
        "$.when(\n",
        "// Grab the CodeMirror vim keymap\n",
        "$.getScript(p + \"../keymap/vim.js\"),\n",
        "// also make search work via /\n",
        "$.getScript(p + \"search/search.js\"),\n",
        "$.getScript(p + \"search/searchcursor.js\"),\n",
        "\n",
        "// TODO: hook-up gq to perform a harwrap\n",
        "$.getScript(p + \"wrap/hardwrap.js\"),\n",
        "$.getScript(p + \"selection/active-line.js\"),\n",
        "\n",
        "$.getScript(p + \"display/fullscreen.js\"),\n",
        "getCSS(p + \"display/fullscreen.css\"),\n",
        "getCSS(p + \"dialog/dialog.css\"),\n",
        "$.getScript(p + \"dialog/dialog.js\"),\n",
        "\n",
        "\n",
        "    $.Deferred(function( deferred ){\n",
        "        $( deferred.resolve );\n",
        "    })\n",
        ").then(function success(){\n",
        "\n",
        "console.log('Great success');\n",
        "\n",
        "IPython.CodeCell.options_default.cm_config.foldGutter = true;\n",
        "IPython.CodeCell.options_default.cm_config.gutters =  [\"CodeMirror-linenumbers\", \"CodeMirror-foldgutter\"];\n",
        "\n",
        "IPython.Cell.prototype.at_top = function () {\n",
        "        var cm = this.code_mirror;\n",
        "        var cursor = cm.getCursor();\n",
        "        if (cursor.line === 0) {\n",
        "            return true;\n",
        "        }\n",
        "        return false;\n",
        "    };\n",
        "\n",
        "\n",
        "IPython.Cell.prototype.at_bottom = function () {\n",
        "    var cm = this.code_mirror;\n",
        "    var cursor = cm.getCursor();\n",
        "    if (cursor.line === (cm.lineCount()-1)) {\n",
        "        return true;\n",
        "    }\n",
        "    return false;\n",
        "};\n",
        "// on all code mirror instances on this page, apply the function f\n",
        "function all_cm(f) {\n",
        "    // apply f to every code mirror instance. f takes one parameter\n",
        "    IPython.notebook.get_cells().map(function (c) { f(c.code_mirror); } );\n",
        "}\n",
        "\n",
        "\n",
        "to('vim');\n",
        "function vim_up(event) {\n",
        "    var cell = IPython.notebook.get_selected_cell();\n",
        "    if (cell && cell.at_top() && cell.code_mirror.options.keyMap === 'vim') {\n",
        "        console.log('inside the business logic k');\n",
        "        event.preventDefault();\n",
        "        IPython.notebook.command_mode()\n",
        "        IPython.notebook.select_prev();\n",
        "        IPython.notebook.edit_mode();\n",
        "        return false;\n",
        "    };\n",
        "}\n",
        "\n",
        "function vim_down(event) {\n",
        "            var cell = IPython.notebook.get_selected_cell();\n",
        "            if (cell && cell.at_bottom() && cell.code_mirror.options.keyMap === 'vim') {\n",
        "                event.preventDefault();\n",
        "                IPython.notebook.command_mode()\n",
        "                IPython.notebook.select_next();\n",
        "                IPython.notebook.edit_mode();\n",
        "                return false;\n",
        "            };\n",
        "        }\n",
        "\n",
        "var m = '(vim) '\n",
        "var edit_shortcuts = {\n",
        "    'k' : {\n",
        "        help    : m + 'up a line, even across cells',\n",
        "        help_index : 'AA',\n",
        "        handler : vim_up\n",
        "    },\n",
        "    'j' : {\n",
        "        help    : m + 'down a line, even across cells',\n",
        "        help_index : 'AA',\n",
        "        handler : vim_down\n",
        "    },\n",
        "\n",
        "};\n",
        "\n",
        "var command_shortcuts = {\n",
        "    'c' :  {\n",
        "        help    : m + def_cmd['y'].help,\n",
        "        help_index : 'AA',\n",
        "        handler : def_cmd['y'].handler\n",
        "    }\n",
        "\n",
        "\n",
        "};\n",
        "\n",
        "edit.add_shortcuts(edit_shortcuts);\n",
        "cmd.add_shortcuts(command_shortcuts);\n",
        "//edit.add_shortcuts('k', def_edit['up'].handler);\n",
        "//edit.add_shortcut('j', def_edit['down'].handler);\n",
        "\n",
        "// N.B. This code looks fairly simple, but it took me forever to \n",
        "// figure out how to do this, \n",
        "// \n",
        "// there's a problem here, Ctrl-[ is already handled by CodeMirror by the time we \n",
        "// (IPython.keyboard_manager) get it CodeMirror issues signals on mode change, \n",
        "// so we have to hook into that to get Ctrl-[\n",
        "edit.remove_shortcut('Ctrl-[');\n",
        "edit.remove_shortcut('Esc');\n",
        "\n",
        "CodeMirror.commands.leaveInsertOrEdit = function (cm) {\n",
        "    if ( cm.state.vim.insertMode ) {\n",
        "        // do magic here to get out of insert mode\n",
        "        CodeMirror.keyMap['vim-insert']['Esc'](cm);\n",
        "    } else {\n",
        "        IPython.notebook.command_mode();\n",
        "        IPython.notebook.focus_cell();\n",
        "    }\n",
        "};\n",
        "        \n",
        "//C().options.extraKeys['Ctrl-['] = 'leaveInsertOrEdit';\n",
        "all_cm( function (cm) {\n",
        "    cm.options.extraKeys['Ctrl-['] = 'leaveInsertOrEdit';\n",
        "    cm.options.extraKeys['Esc'] = 'leaveInsertOrEdit';\n",
        "    if ( CodeMirror.defaults.extraKeys === null ) { \n",
        "        CodeMirror.defaults.extraKeys = {};\n",
        "    }\n",
        "    // TODO: make this change permanent\n",
        "    // this part seems to be ignore when adding a new cell\n",
        "    // - alternative solution would be to listen for NewCell events and rerun the CM function on it\n",
        "    // - it could also be the case that when we instatiate CodeMirror, we somehow leave out CM.defaults.extraKeys\n",
        "    IPython.CodeCell.options_default.cm_config.extraKeys['Ctrl-['] = 'leaveInsertOrEdit';\n",
        "    IPython.TextCell.options_default.cm_config.extraKeys['Ctrl-['] = 'leaveInsertOrEdit';\n",
        "    IPython.CodeCell.options_default.cm_config.extraKeys['Esc'] = 'leaveInsertOrEdit';\n",
        "    IPython.TextCell.options_default.cm_config.extraKeys['Esc'] = 'leaveInsertOrEdit';\n",
        "})\n",
        "\n",
        "// On blur, make sure we go back to command mode for CodeMirror (in case user clicked away)\n",
        "// TODO: Make this permanent - how to get CodeMirror to do this for new cells created after\n",
        "all_cm( function (cm) {\n",
        "    cm.on('blur', function(cm) {\n",
        "        // TODO: I wish I understood a better way to do this, but fake pressing Escape work\n",
        "        CodeMirror.keyMap['vim-insert']['Esc'](cm);\n",
        "        CodeMirror.keyMap['vim']['Esc'](cm);\n",
        "        cm.setOption('styleActiveLine', false);\n",
        "        if (cm.getOption(\"fullScreen\")) {\n",
        "            cm.setOption('fullScreen', false); \n",
        "            // fullScreen the newly selected code mirror (doesn't work)\n",
        "            //setTimeout(100, function() {\n",
        "            //    console.log(IPython.notebook.get_selected_cell().code_mirror);\n",
        "            //    IPython.notebook.get_selected_cell().code_mirror.setOption('fullScreen', true); \n",
        "            //});\n",
        "        }\n",
        "    });\n",
        "    cm.on('focus', function(cm) {\n",
        "        cm.setOption('styleActiveLine', true);\n",
        "    });\n",
        "});\n",
        "\n",
        "// 'i' by default interrupts the kernel (what Ctrl-C does at the terminal)\n",
        "cmd.remove_shortcut('i');\n",
        "cmd.add_shortcut('i', def_cmd.enter);\n",
        "\n",
        "// not quite what we want - 'i' requires a double-tap\n",
        "// add documentation for this.\n",
        "cmd.add_shortcut('ctrl-c', function(e) { IPython.notebook.kernel.interrupt(); return false});\n",
        "\n",
        "\n",
        "function focus_last(e) {\n",
        "    var cells = IPython.notebook.get_cells();\n",
        "    cells[cells.length-1].focus_cell();\n",
        "};\n",
        "\n",
        "function focus_first(e) {\n",
        "    var cells = IPython.notebook.get_cells();\n",
        "    cells[0].focus_cell();\n",
        "};\n",
        "\n",
        "function combo_tap(combo, action) {\n",
        "    var that = this;\n",
        "    var timeout;\n",
        "    function f() {\n",
        "        console.log('f called once');\n",
        "        \n",
        "        // redo this so that when an action is performed, we restore the original combo\n",
        "        cmd.add_shortcut(combo[1], \n",
        "                function() { console.log(\"doing action\", combo); reset(); action(); timeout.clear();} );\n",
        "        timeout = setTimeout(function () {\n",
        "            console.log('resetting f');\n",
        "            reset();\n",
        "            //cmd.add_shortcut(combo[0], reset)\n",
        "        }, 800);\n",
        "    }\n",
        "    function reset(e) {\n",
        "        //cmd.remove_shortcut(combo[0]);\n",
        "        console.log('reset called');\n",
        "        //if (timeout) {\n",
        "        //    console.log('resetting aborted');\n",
        "        //    clearTimeout(timeout);\n",
        "        //    timeout = null;\n",
        "        //}\n",
        "        //that(combo, action); \n",
        "        cmd.add_shortcut(combo[0], f);\n",
        "    }\n",
        "    console.log(\"combo tap for\", combo);\n",
        "    \n",
        "    reset();\n",
        "};\n",
        "cmd.add_shortcut('shift-g', focus_last);\n",
        "combo_tap('gg', focus_first);\n",
        "\n",
        "// XXX: the way combo tap is currently implemented, this won't work\n",
        "// need a more generic mechanism for combo-taps with common prefixes\n",
        "// combo_tap('gq', f();\n",
        "//cmd.remove_shortcut('d');\n",
        "// cut\n",
        "combo_tap('dd', def_cmd['x'].handler);\n",
        "\n",
        "// copy\n",
        "combo_tap('yy', def_cmd['c'].handler);\n",
        "\n",
        "// paste\n",
        "cmd.add_shortcut('p', def_cmd['v']);\n",
        "\n",
        "// undo\n",
        "cmd.add_shortcut('u', def_cmd['z']);\n",
        "\n",
        "// Join (merge down with cell below)\n",
        "cmd.add_shortcut('shift-j', def_cmd['shift-m'])\n",
        "\n",
        "//edit.add_shortcut('k', def_edit['up'].handler);\n",
        "//[edit.add_shortcut('j', def_edit['down'].handler);\n",
        "\n",
        "CodeMirror.prototype.save = function() { \n",
        "    IPython.notebook.save_checkpoint()\n",
        "}\n",
        "\n",
        "function focus_last(e) {\n",
        "    var cells = IPython.notebook.get_cells();\n",
        "    cells[cells.length-1].focus_cell();\n",
        "};\n",
        "\n",
        "function focus_first(e) {\n",
        "    console.log('focus first called');\n",
        "    var cells = IPython.notebook.get_cells();\n",
        "    cells[0].focus_cell();\n",
        "};\n",
        "\n",
        "\n",
        "cmd.add_shortcut('shift-g', focus_last);\n",
        "combo_tap('gg', focus_first);\n",
        "\n",
        "// get rid of the default Ctrl-W binding\n",
        "// this only works for Firefox\n",
        "$(document).ready(function() {\n",
        "\t$(this).bind('keypress', function(e) {\n",
        "\t\tvar key = (e.keyCode ? e.keyCode : e.charCode);\n",
        "\t\tif (key == '119' && e.ctrlKey) {\n",
        "\t\t\treturn false;\n",
        "\t\t}\n",
        "\t});\n",
        "});\n",
        "\n",
        "window.addEventListener(\"beforeunload\", function( event ) {\n",
        "    var press = jQuery.Event(\"keypress\");\n",
        "    press.ctrlKey = false;\n",
        "    press.which = 27; // escape\n",
        "    $(document).trigger(press);\n",
        "    event.returnValue = \"\\nXXXXXXXXXXXXXXXXXXXXXXXXXXXXXXXXXXXXXXXXXXXXXX\";\n",
        "    event.returnValue +=\"\\nX  Chrome sucks at captruring Ctrl-W, sorry  X\";\n",
        "    event.returnValue += \"\\nXXXXXXXXXXXXXXXXXXXXXXXXXXXXXXXXXXXXXXXXXXXXXX\";\n",
        "});\n",
        "\n",
        "// update the keyboard shortcuts\n",
        "IPython.quick_help = new IPython.QuickHelp();\n",
        "\n",
        "//IPython.CodeCell.options_default.cm_config.styleActiveLine = true;\n",
        "\n",
        "all_cm( function (cm) {\n",
        "    cm.setOption('foldGutter', true);\n",
        "    cm.setOption('gutters',  [\"CodeMirror-linenumbers\", \"CodeMirror-foldgutter\"]);\n",
        "    cm.options.extraKeys[\"Ctrl-F\"] = function(cm){ cm.foldCode(cm.getCursor()); };\n",
        "    var wrapOptions = {column: 78, killTrailingSpace: true, wrapOn: /\\s\\S|[^\\.\\d]/ };\n",
        "    // XXX: add a hardwrap-range to this as well\n",
        "    cm.options.extraKeys[\"F2\"] =  function(cm) { cm.wrapParagraph(cm.getCursor(), wrapOptions); };\n",
        "    //cm.options.extraKeys[\"[\"] =  function(cm) { cm.setOption(\"fullScreen\", !cm.getOption(\"fullScreen\"))};\n",
        "    IPython.CodeCell.options_default.cm_config.extraKeys['Ctrl-F'] = function(cm){ cm.foldCode(cm.getCursor()); };\n",
        "    IPython.TextCell.options_default.cm_config.extraKeys['Ctrl-F'] = function(cm){ cm.foldCode(cm.getCursor()); };\n",
        "\n",
        "    // todo - do this for new cells as well\n",
        "    // support this a :only? turn off full screen on blur\n",
        "    cm.options.extraKeys[\"F11\"] =  function(cm) { cm.setOption(\"fullScreen\", !cm.getOption(\"fullScreen\"))};\n",
        "    cm.options.extraKeys[\"Ctrl-A\"] =  function(cm) {\n",
        "          if (cm.getOption(\"fullScreen\")) cm.setOption(\"fullScreen\", false);\n",
        "        };\n",
        "    //all_cm( function (cm) {\n",
        "});\n",
        "\n",
        "//setTimeout(function() {IPython.notebook.get_selected_cell().set_input_prompt('vim');}, 200)\n",
        "\n",
        "$(\"#ipython_notebook\").find('img').remove('#vim');\n",
        "$(\"#ipython_notebook\").append('<img id=\"vim\" src=\"http://www.vim.org/images/vim_on_fire.gif\"'\n",
        "        // XXX: add it to the distribution\n",
        "        // /static/custom/vim_on_fire.gif\" \n",
        "    + ' style=\"'\n",
        "    + 'position: absolute; left: 51px; top: -10px; height: initial;\">')\n",
        "$(\"#vim\").click( function () {$(this).hide()});\n",
        "\n",
        "\n",
        "// XXX: Autowrapping is kind of broken - you can write a line that will have\n",
        "// its last word (if it's 1 or 2 characters just go back and forth between the\n",
        "// current and the next lines)\n",
        "//all_cm(function (cm) {\n",
        "//    var wait, options = {column: 78, killTrailingSpace: true, wrapOn: /\\s\\S|[^\\.\\d]/};\n",
        "//    cm.on(\"change\", function(cm, change) {\n",
        "//      clearTimeout(wait);\n",
        "//      wait = setTimeout(function() {\n",
        "//        console.log(cm.wrapParagraphsInRange(change.from, CodeMirror.changeEnd(change), options));\n",
        "//      }, 300);\n",
        "//    });\n",
        "//});\n",
        "\n",
        "}, function  failure() { \n",
        "    alert('le sucks, something went wrong');\n",
        "\n",
        "});\n",
        "\n",
        "\n",
        "// at_top  and at_bottom methods for ipython-vimception\n",
        "    /**\n",
        "     * @method at_top\n",
        "     * @return {Boolean}\n",
        "     */\n",
        "    Cell.prototype.at_top = function () {\n",
        "        var cm = this.code_mirror;\n",
        "        var cursor = cm.getCursor();\n",
        "        if (cursor.line === 0 && cm.findPosV(cursor, -1, 'line').hitSide) {\n",
        "            return true;\n",
        "        } else {\n",
        "            return false;\n",
        "        }\n",
        "    };\n",
        "\n",
        "    /**\n",
        "     * @method at_bottom\n",
        "     * @return {Boolean}\n",
        "     * */\n",
        "    Cell.prototype.at_bottom = function () {\n",
        "        var cm = this.code_mirror;\n",
        "        var cursor = cm.getCursor();\n",
        "        if (cursor.line === (cm.lineCount()-1) && cm.findPosV(cursor, 1, 'line').hitSide) {\n",
        "            return true;\n",
        "        } else {\n",
        "            return false;\n",
        "        }\n",
        "    };\n"
       ],
       "metadata": {},
       "output_type": "display_data",
       "text": [
        "<IPython.core.display.Javascript at 0x7f4764191cd0>"
       ]
      },
      {
       "javascript": [
        "\n",
        "var cmd = IPython.keyboard_manager.command_shortcuts;\n",
        "var edit = IPython.keyboard_manager.edit_shortcuts;\n",
        "var def_cmd = IPython.default_command_shortcuts;\n",
        "var def_edit = IPython.default_edit_shortcuts;\n",
        "\n",
        "// get the code mirror editor of a curently selected cell\n",
        "function C() { return IPython.notebook.get_selected_cell().code_mirror; };\n",
        "\n",
        "// Change the mode of all current and future CodeMirror instances\n",
        "// Emacs users can use this function as just to('emacs') so long as they've\n",
        "// required/loaded emacs.js from CodeMirror\n",
        "function to(mode) {\n",
        "    var mode = mode || 'vim'\n",
        "    // first let's apply vim mode to all current cells\n",
        "    function to_mode(c) { return c.code_mirror.setOption('keyMap', mode);};\n",
        "    IPython.notebook.get_cells().map(to_mode);\n",
        "    // apply the mode to future cells created\n",
        "    IPython.Cell.options_default.cm_config.keyMap = mode;\n",
        "}\n",
        "\n",
        "function getCSS(path) {\n",
        "    $('<link/>', {\n",
        "       rel: 'stylesheet',\n",
        "       type: 'text/css',\n",
        "       href: path,\n",
        "    }).appendTo('head');\n",
        "}\n",
        "\n",
        "// I messed around with trying to get requireJS going here, but gave up and\n",
        "// just using this answer from SO \n",
        "// http://stackoverflow.com/questions/11803215/how-to-include-multiple-js-files-using-jquery-getscript-method\n",
        "\n",
        "var p = \"/static/components/codemirror/addon/\";\n",
        "\n",
        "$.when(\n",
        "// Grab the CodeMirror vim keymap\n",
        "$.getScript(p + \"../keymap/vim.js\"),\n",
        "// also make search work via /\n",
        "$.getScript(p + \"search/search.js\"),\n",
        "$.getScript(p + \"search/searchcursor.js\"),\n",
        "\n",
        "// TODO: hook-up gq to perform a harwrap\n",
        "$.getScript(p + \"wrap/hardwrap.js\"),\n",
        "$.getScript(p + \"selection/active-line.js\"),\n",
        "\n",
        "$.getScript(p + \"display/fullscreen.js\"),\n",
        "getCSS(p + \"display/fullscreen.css\"),\n",
        "getCSS(p + \"dialog/dialog.css\"),\n",
        "$.getScript(p + \"dialog/dialog.js\"),\n",
        "\n",
        "\n",
        "    $.Deferred(function( deferred ){\n",
        "        $( deferred.resolve );\n",
        "    })\n",
        ").then(function success(){\n",
        "\n",
        "console.log('Great success');\n",
        "\n",
        "IPython.CodeCell.options_default.cm_config.foldGutter = true;\n",
        "IPython.CodeCell.options_default.cm_config.gutters =  [\"CodeMirror-linenumbers\", \"CodeMirror-foldgutter\"];\n",
        "\n",
        "IPython.Cell.prototype.at_top = function () {\n",
        "        var cm = this.code_mirror;\n",
        "        var cursor = cm.getCursor();\n",
        "        if (cursor.line === 0) {\n",
        "            return true;\n",
        "        }\n",
        "        return false;\n",
        "    };\n",
        "\n",
        "\n",
        "IPython.Cell.prototype.at_bottom = function () {\n",
        "    var cm = this.code_mirror;\n",
        "    var cursor = cm.getCursor();\n",
        "    if (cursor.line === (cm.lineCount()-1)) {\n",
        "        return true;\n",
        "    }\n",
        "    return false;\n",
        "};\n",
        "// on all code mirror instances on this page, apply the function f\n",
        "function all_cm(f) {\n",
        "    // apply f to every code mirror instance. f takes one parameter\n",
        "    IPython.notebook.get_cells().map(function (c) { f(c.code_mirror); } );\n",
        "}\n",
        "\n",
        "\n",
        "to('vim');\n",
        "function vim_up(event) {\n",
        "    var cell = IPython.notebook.get_selected_cell();\n",
        "    if (cell && cell.at_top() && cell.code_mirror.options.keyMap === 'vim') {\n",
        "        console.log('inside the business logic k');\n",
        "        event.preventDefault();\n",
        "        IPython.notebook.command_mode()\n",
        "        IPython.notebook.select_prev();\n",
        "        IPython.notebook.edit_mode();\n",
        "        return false;\n",
        "    };\n",
        "}\n",
        "\n",
        "function vim_down(event) {\n",
        "            var cell = IPython.notebook.get_selected_cell();\n",
        "            if (cell && cell.at_bottom() && cell.code_mirror.options.keyMap === 'vim') {\n",
        "                event.preventDefault();\n",
        "                IPython.notebook.command_mode()\n",
        "                IPython.notebook.select_next();\n",
        "                IPython.notebook.edit_mode();\n",
        "                return false;\n",
        "            };\n",
        "        }\n",
        "\n",
        "var m = '(vim) '\n",
        "var edit_shortcuts = {\n",
        "    'k' : {\n",
        "        help    : m + 'up a line, even across cells',\n",
        "        help_index : 'AA',\n",
        "        handler : vim_up\n",
        "    },\n",
        "    'j' : {\n",
        "        help    : m + 'down a line, even across cells',\n",
        "        help_index : 'AA',\n",
        "        handler : vim_down\n",
        "    },\n",
        "\n",
        "};\n",
        "\n",
        "var command_shortcuts = {\n",
        "    'c' :  {\n",
        "        help    : m + def_cmd['y'].help,\n",
        "        help_index : 'AA',\n",
        "        handler : def_cmd['y'].handler\n",
        "    }\n",
        "\n",
        "\n",
        "};\n",
        "\n",
        "edit.add_shortcuts(edit_shortcuts);\n",
        "cmd.add_shortcuts(command_shortcuts);\n",
        "//edit.add_shortcuts('k', def_edit['up'].handler);\n",
        "//edit.add_shortcut('j', def_edit['down'].handler);\n",
        "\n",
        "// N.B. This code looks fairly simple, but it took me forever to \n",
        "// figure out how to do this, \n",
        "// \n",
        "// there's a problem here, Ctrl-[ is already handled by CodeMirror by the time we \n",
        "// (IPython.keyboard_manager) get it CodeMirror issues signals on mode change, \n",
        "// so we have to hook into that to get Ctrl-[\n",
        "edit.remove_shortcut('Ctrl-[');\n",
        "edit.remove_shortcut('Esc');\n",
        "\n",
        "CodeMirror.commands.leaveInsertOrEdit = function (cm) {\n",
        "    if ( cm.state.vim.insertMode ) {\n",
        "        // do magic here to get out of insert mode\n",
        "        CodeMirror.keyMap['vim-insert']['Esc'](cm);\n",
        "    } else {\n",
        "        IPython.notebook.command_mode();\n",
        "        IPython.notebook.focus_cell();\n",
        "    }\n",
        "};\n",
        "        \n",
        "//C().options.extraKeys['Ctrl-['] = 'leaveInsertOrEdit';\n",
        "all_cm( function (cm) {\n",
        "    cm.options.extraKeys['Ctrl-['] = 'leaveInsertOrEdit';\n",
        "    cm.options.extraKeys['Esc'] = 'leaveInsertOrEdit';\n",
        "    if ( CodeMirror.defaults.extraKeys === null ) { \n",
        "        CodeMirror.defaults.extraKeys = {};\n",
        "    }\n",
        "    // TODO: make this change permanent\n",
        "    // this part seems to be ignore when adding a new cell\n",
        "    // - alternative solution would be to listen for NewCell events and rerun the CM function on it\n",
        "    // - it could also be the case that when we instatiate CodeMirror, we somehow leave out CM.defaults.extraKeys\n",
        "    IPython.CodeCell.options_default.cm_config.extraKeys['Ctrl-['] = 'leaveInsertOrEdit';\n",
        "    IPython.TextCell.options_default.cm_config.extraKeys['Ctrl-['] = 'leaveInsertOrEdit';\n",
        "    IPython.CodeCell.options_default.cm_config.extraKeys['Esc'] = 'leaveInsertOrEdit';\n",
        "    IPython.TextCell.options_default.cm_config.extraKeys['Esc'] = 'leaveInsertOrEdit';\n",
        "})\n",
        "\n",
        "// On blur, make sure we go back to command mode for CodeMirror (in case user clicked away)\n",
        "// TODO: Make this permanent - how to get CodeMirror to do this for new cells created after\n",
        "all_cm( function (cm) {\n",
        "    cm.on('blur', function(cm) {\n",
        "        // TODO: I wish I understood a better way to do this, but fake pressing Escape work\n",
        "        CodeMirror.keyMap['vim-insert']['Esc'](cm);\n",
        "        CodeMirror.keyMap['vim']['Esc'](cm);\n",
        "        cm.setOption('styleActiveLine', false);\n",
        "        if (cm.getOption(\"fullScreen\")) {\n",
        "            cm.setOption('fullScreen', false); \n",
        "            // fullScreen the newly selected code mirror (doesn't work)\n",
        "            //setTimeout(100, function() {\n",
        "            //    console.log(IPython.notebook.get_selected_cell().code_mirror);\n",
        "            //    IPython.notebook.get_selected_cell().code_mirror.setOption('fullScreen', true); \n",
        "            //});\n",
        "        }\n",
        "    });\n",
        "    cm.on('focus', function(cm) {\n",
        "        cm.setOption('styleActiveLine', true);\n",
        "    });\n",
        "});\n",
        "\n",
        "// 'i' by default interrupts the kernel (what Ctrl-C does at the terminal)\n",
        "cmd.remove_shortcut('i');\n",
        "cmd.add_shortcut('i', def_cmd.enter);\n",
        "\n",
        "// not quite what we want - 'i' requires a double-tap\n",
        "// add documentation for this.\n",
        "cmd.add_shortcut('ctrl-c', function(e) { IPython.notebook.kernel.interrupt(); return false});\n",
        "\n",
        "\n",
        "function focus_last(e) {\n",
        "    var cells = IPython.notebook.get_cells();\n",
        "    cells[cells.length-1].focus_cell();\n",
        "};\n",
        "\n",
        "function focus_first(e) {\n",
        "    var cells = IPython.notebook.get_cells();\n",
        "    cells[0].focus_cell();\n",
        "};\n",
        "\n",
        "function combo_tap(combo, action) {\n",
        "    var that = this;\n",
        "    var timeout;\n",
        "    function f() {\n",
        "        console.log('f called once');\n",
        "        \n",
        "        // redo this so that when an action is performed, we restore the original combo\n",
        "        cmd.add_shortcut(combo[1], \n",
        "                function() { console.log(\"doing action\", combo); reset(); action(); timeout.clear();} );\n",
        "        timeout = setTimeout(function () {\n",
        "            console.log('resetting f');\n",
        "            reset();\n",
        "            //cmd.add_shortcut(combo[0], reset)\n",
        "        }, 800);\n",
        "    }\n",
        "    function reset(e) {\n",
        "        //cmd.remove_shortcut(combo[0]);\n",
        "        console.log('reset called');\n",
        "        //if (timeout) {\n",
        "        //    console.log('resetting aborted');\n",
        "        //    clearTimeout(timeout);\n",
        "        //    timeout = null;\n",
        "        //}\n",
        "        //that(combo, action); \n",
        "        cmd.add_shortcut(combo[0], f);\n",
        "    }\n",
        "    console.log(\"combo tap for\", combo);\n",
        "    \n",
        "    reset();\n",
        "};\n",
        "cmd.add_shortcut('shift-g', focus_last);\n",
        "combo_tap('gg', focus_first);\n",
        "\n",
        "// XXX: the way combo tap is currently implemented, this won't work\n",
        "// need a more generic mechanism for combo-taps with common prefixes\n",
        "// combo_tap('gq', f();\n",
        "//cmd.remove_shortcut('d');\n",
        "// cut\n",
        "combo_tap('dd', def_cmd['x'].handler);\n",
        "\n",
        "// copy\n",
        "combo_tap('yy', def_cmd['c'].handler);\n",
        "\n",
        "// paste\n",
        "cmd.add_shortcut('p', def_cmd['v']);\n",
        "\n",
        "// undo\n",
        "cmd.add_shortcut('u', def_cmd['z']);\n",
        "\n",
        "// Join (merge down with cell below)\n",
        "cmd.add_shortcut('shift-j', def_cmd['shift-m'])\n",
        "\n",
        "//edit.add_shortcut('k', def_edit['up'].handler);\n",
        "//[edit.add_shortcut('j', def_edit['down'].handler);\n",
        "\n",
        "CodeMirror.prototype.save = function() { \n",
        "    IPython.notebook.save_checkpoint()\n",
        "}\n",
        "\n",
        "function focus_last(e) {\n",
        "    var cells = IPython.notebook.get_cells();\n",
        "    cells[cells.length-1].focus_cell();\n",
        "};\n",
        "\n",
        "function focus_first(e) {\n",
        "    console.log('focus first called');\n",
        "    var cells = IPython.notebook.get_cells();\n",
        "    cells[0].focus_cell();\n",
        "};\n",
        "\n",
        "\n",
        "cmd.add_shortcut('shift-g', focus_last);\n",
        "combo_tap('gg', focus_first);\n",
        "\n",
        "// get rid of the default Ctrl-W binding\n",
        "// this only works for Firefox\n",
        "$(document).ready(function() {\n",
        "\t$(this).bind('keypress', function(e) {\n",
        "\t\tvar key = (e.keyCode ? e.keyCode : e.charCode);\n",
        "\t\tif (key == '119' && e.ctrlKey) {\n",
        "\t\t\treturn false;\n",
        "\t\t}\n",
        "\t});\n",
        "});\n",
        "\n",
        "window.addEventListener(\"beforeunload\", function( event ) {\n",
        "    var press = jQuery.Event(\"keypress\");\n",
        "    press.ctrlKey = false;\n",
        "    press.which = 27; // escape\n",
        "    $(document).trigger(press);\n",
        "    event.returnValue = \"\\nXXXXXXXXXXXXXXXXXXXXXXXXXXXXXXXXXXXXXXXXXXXXXX\";\n",
        "    event.returnValue +=\"\\nX  Chrome sucks at captruring Ctrl-W, sorry  X\";\n",
        "    event.returnValue += \"\\nXXXXXXXXXXXXXXXXXXXXXXXXXXXXXXXXXXXXXXXXXXXXXX\";\n",
        "});\n",
        "\n",
        "// update the keyboard shortcuts\n",
        "IPython.quick_help = new IPython.QuickHelp();\n",
        "\n",
        "//IPython.CodeCell.options_default.cm_config.styleActiveLine = true;\n",
        "\n",
        "all_cm( function (cm) {\n",
        "    cm.setOption('foldGutter', true);\n",
        "    cm.setOption('gutters',  [\"CodeMirror-linenumbers\", \"CodeMirror-foldgutter\"]);\n",
        "    cm.options.extraKeys[\"Ctrl-F\"] = function(cm){ cm.foldCode(cm.getCursor()); };\n",
        "    var wrapOptions = {column: 78, killTrailingSpace: true, wrapOn: /\\s\\S|[^\\.\\d]/ };\n",
        "    // XXX: add a hardwrap-range to this as well\n",
        "    cm.options.extraKeys[\"F2\"] =  function(cm) { cm.wrapParagraph(cm.getCursor(), wrapOptions); };\n",
        "    //cm.options.extraKeys[\"[\"] =  function(cm) { cm.setOption(\"fullScreen\", !cm.getOption(\"fullScreen\"))};\n",
        "    IPython.CodeCell.options_default.cm_config.extraKeys['Ctrl-F'] = function(cm){ cm.foldCode(cm.getCursor()); };\n",
        "    IPython.TextCell.options_default.cm_config.extraKeys['Ctrl-F'] = function(cm){ cm.foldCode(cm.getCursor()); };\n",
        "\n",
        "    // todo - do this for new cells as well\n",
        "    // support this a :only? turn off full screen on blur\n",
        "    cm.options.extraKeys[\"F11\"] =  function(cm) { cm.setOption(\"fullScreen\", !cm.getOption(\"fullScreen\"))};\n",
        "    cm.options.extraKeys[\"Ctrl-A\"] =  function(cm) {\n",
        "          if (cm.getOption(\"fullScreen\")) cm.setOption(\"fullScreen\", false);\n",
        "        };\n",
        "    //all_cm( function (cm) {\n",
        "});\n",
        "\n",
        "//setTimeout(function() {IPython.notebook.get_selected_cell().set_input_prompt('vim');}, 200)\n",
        "\n",
        "$(\"#ipython_notebook\").find('img').remove('#vim');\n",
        "$(\"#ipython_notebook\").append('<img id=\"vim\" src=\"http://www.vim.org/images/vim_on_fire.gif\"'\n",
        "        // XXX: add it to the distribution\n",
        "        // /static/custom/vim_on_fire.gif\" \n",
        "    + ' style=\"'\n",
        "    + 'position: absolute; left: 51px; top: -10px; height: initial;\">')\n",
        "$(\"#vim\").click( function () {$(this).hide()});\n",
        "\n",
        "\n",
        "// XXX: Autowrapping is kind of broken - you can write a line that will have\n",
        "// its last word (if it's 1 or 2 characters just go back and forth between the\n",
        "// current and the next lines)\n",
        "//all_cm(function (cm) {\n",
        "//    var wait, options = {column: 78, killTrailingSpace: true, wrapOn: /\\s\\S|[^\\.\\d]/};\n",
        "//    cm.on(\"change\", function(cm, change) {\n",
        "//      clearTimeout(wait);\n",
        "//      wait = setTimeout(function() {\n",
        "//        console.log(cm.wrapParagraphsInRange(change.from, CodeMirror.changeEnd(change), options));\n",
        "//      }, 300);\n",
        "//    });\n",
        "//});\n",
        "\n",
        "}, function  failure() { \n",
        "    alert('le sucks, something went wrong');\n",
        "\n",
        "});\n",
        "\n",
        "\n",
        "// at_top  and at_bottom methods for ipython-vimception\n",
        "    /**\n",
        "     * @method at_top\n",
        "     * @return {Boolean}\n",
        "     */\n",
        "    Cell.prototype.at_top = function () {\n",
        "        var cm = this.code_mirror;\n",
        "        var cursor = cm.getCursor();\n",
        "        if (cursor.line === 0 && cm.findPosV(cursor, -1, 'line').hitSide) {\n",
        "            return true;\n",
        "        } else {\n",
        "            return false;\n",
        "        }\n",
        "    };\n",
        "\n",
        "    /**\n",
        "     * @method at_bottom\n",
        "     * @return {Boolean}\n",
        "     * */\n",
        "    Cell.prototype.at_bottom = function () {\n",
        "        var cm = this.code_mirror;\n",
        "        var cursor = cm.getCursor();\n",
        "        if (cursor.line === (cm.lineCount()-1) && cm.findPosV(cursor, 1, 'line').hitSide) {\n",
        "            return true;\n",
        "        } else {\n",
        "            return false;\n",
        "        }\n",
        "    };\n"
       ],
       "metadata": {},
       "output_type": "display_data",
       "text": [
        "<IPython.core.display.Javascript at 0x7f4764153fd0>"
       ]
      }
     ],
     "prompt_number": 1
    },
    {
     "cell_type": "markdown",
     "metadata": {},
     "source": [
      "%reset"
     ]
    },
    {
     "cell_type": "code",
     "collapsed": true,
     "input": [
      "col_labs =[\n",
      "\"Systolic Blood Pressure in mmHg\",\n",
      "\"Diastolic Blood Pressure in mmHg\", \n",
      "\"Heart Rate in bpm\", \n",
      "\"Respiration Rate in bpm\",\n",
      "\"Oxygen Saturation in %\",\n",
      "\"Temperature in Celsius\",\n",
      "\"Arterial blood PH in ph\",\n",
      "\"Partial Pressure of Carbon dioxide (PaCO2) in mmHg\",\n",
      "\"Partial Pressure of Oxygen (PaO2) in mmHg\",\n",
      "\"Sodium in mmol/L\",\n",
      "\"Potassium in mmol/L\",\n",
      "\"Bicarbonate in mmol/L\",\n",
      "\"Blood Urea Nitrogen in mg/dL\",\n",
      "\"Serum Creatinine in mg/dL\",\n",
      "\"WBC Count in x 103/\u00b5L\",\n",
      "\"Hematocrit %\",\n",
      "\"Platelet Count in x 103/\u00b5L\",\n",
      "\"Bilirubin in mg/dL\",\n",
      "\"Urine Output in ml\",\n",
      "\"LDL Cholesterol in mg/dL\",\n",
      "\"Lactic Acid in mmol/L\",\n",
      "\"Troponin I in ng/ml\",\n",
      "\"Troponin T in ng/ml\",\n",
      "\"Random Blood Glucose in mg/dL\",\n",
      "\"Fasting Blood Glucose in mg/dL\",\n",
      "\"Fraction of Inspired Oxygen (FiO2) in %\",\n",
      "\"Albumin in g/dl\",\n",
      "\"Alkaline Phosphatase in IU/L\",\n",
      "\"Alanine in IU/L\",\n",
      "\"HDL Cholesterol in mg/dL\",\n",
      "\"Magnesium in mg/dL\"]"
     ],
     "language": "python",
     "metadata": {},
     "outputs": [],
     "prompt_number": 51
    },
    {
     "cell_type": "code",
     "collapsed": false,
     "input": [
      "import pysal\n",
      "from pysal import *\n",
      "from sklearn.ensemble import RandomForestClassifier\n",
      "from sklearn import svm\n",
      "from sklearn.metrics import confusion_matrix\n",
      "from math import *\n",
      "from scipy.stats import *\n",
      "import re\n",
      "import pandas\n",
      "import numpy as np\n",
      "import pandas as pd\n",
      "from pandas import Series, DataFrame\n",
      "import matplotlib.pyplot as plt\n",
      "from scipy.stats import norm\n",
      "from sklearn.linear_model import *"
     ],
     "language": "python",
     "metadata": {},
     "outputs": [],
     "prompt_number": 309
    },
    {
     "cell_type": "code",
     "collapsed": false,
     "input": [
      "np.set_printoptions(precision=5, suppress=True)"
     ],
     "language": "python",
     "metadata": {},
     "outputs": [],
     "prompt_number": 53
    },
    {
     "cell_type": "code",
     "collapsed": false,
     "input": [
      "df_age = pd.read_csv('data_train/id_age_train.csv')\n",
      "df_labels = pd.read_csv('data_train/id_label_train.csv')\n",
      "df_vitals = pd.read_csv('data_train/id_time_vitals_train.csv')\n",
      "df_labs = pd.read_csv('data_train/id_time_labs_train.csv')"
     ],
     "language": "python",
     "metadata": {},
     "outputs": [],
     "prompt_number": 54
    },
    {
     "cell_type": "code",
     "collapsed": false,
     "input": [
      "df_age.count()"
     ],
     "language": "python",
     "metadata": {},
     "outputs": [
      {
       "metadata": {},
       "output_type": "pyout",
       "prompt_number": 213,
       "text": [
        "ID     3594\n",
        "AGE    3594\n",
        "dtype: int64"
       ]
      }
     ],
     "prompt_number": 213
    },
    {
     "cell_type": "code",
     "collapsed": true,
     "input": [
      "df_vitals"
     ],
     "language": "python",
     "metadata": {},
     "outputs": [
      {
       "html": [
        "<div style=\"max-height:1000px;max-width:1500px;overflow:auto;\">\n",
        "<table border=\"1\" class=\"dataframe\">\n",
        "  <thead>\n",
        "    <tr style=\"text-align: right;\">\n",
        "      <th></th>\n",
        "      <th>ID</th>\n",
        "      <th>TIME</th>\n",
        "      <th>V1</th>\n",
        "      <th>V2</th>\n",
        "      <th>V3</th>\n",
        "      <th>V4</th>\n",
        "      <th>V5</th>\n",
        "      <th>V6</th>\n",
        "      <th>ICU</th>\n",
        "    </tr>\n",
        "  </thead>\n",
        "  <tbody>\n",
        "    <tr>\n",
        "      <th>0     </th>\n",
        "      <td>    1</td>\n",
        "      <td>      0</td>\n",
        "      <td>  86</td>\n",
        "      <td>  49</td>\n",
        "      <td>  70</td>\n",
        "      <td>NaN</td>\n",
        "      <td>  87</td>\n",
        "      <td>  NaN</td>\n",
        "      <td> 0</td>\n",
        "    </tr>\n",
        "    <tr>\n",
        "      <th>1     </th>\n",
        "      <td>    1</td>\n",
        "      <td>   4320</td>\n",
        "      <td> NaN</td>\n",
        "      <td> NaN</td>\n",
        "      <td>  70</td>\n",
        "      <td>NaN</td>\n",
        "      <td> NaN</td>\n",
        "      <td>  NaN</td>\n",
        "      <td> 0</td>\n",
        "    </tr>\n",
        "    <tr>\n",
        "      <th>2     </th>\n",
        "      <td>    1</td>\n",
        "      <td>   5646</td>\n",
        "      <td>  91</td>\n",
        "      <td>  58</td>\n",
        "      <td> NaN</td>\n",
        "      <td>NaN</td>\n",
        "      <td> NaN</td>\n",
        "      <td> 96.6</td>\n",
        "      <td> 1</td>\n",
        "    </tr>\n",
        "    <tr>\n",
        "      <th>3     </th>\n",
        "      <td>    1</td>\n",
        "      <td>   5703</td>\n",
        "      <td> 140</td>\n",
        "      <td>  73</td>\n",
        "      <td>  91</td>\n",
        "      <td> 32</td>\n",
        "      <td> NaN</td>\n",
        "      <td>  NaN</td>\n",
        "      <td> 1</td>\n",
        "    </tr>\n",
        "    <tr>\n",
        "      <th>4     </th>\n",
        "      <td>    1</td>\n",
        "      <td>   6342</td>\n",
        "      <td> 139</td>\n",
        "      <td>  90</td>\n",
        "      <td> 107</td>\n",
        "      <td> 29</td>\n",
        "      <td> 101</td>\n",
        "      <td>  NaN</td>\n",
        "      <td> 1</td>\n",
        "    </tr>\n",
        "    <tr>\n",
        "      <th>5     </th>\n",
        "      <td>    1</td>\n",
        "      <td>   6609</td>\n",
        "      <td> 152</td>\n",
        "      <td>  75</td>\n",
        "      <td> 109</td>\n",
        "      <td> 30</td>\n",
        "      <td> 101</td>\n",
        "      <td>  NaN</td>\n",
        "      <td> 1</td>\n",
        "    </tr>\n",
        "    <tr>\n",
        "      <th>6     </th>\n",
        "      <td>    1</td>\n",
        "      <td>   6894</td>\n",
        "      <td> 140</td>\n",
        "      <td>  79</td>\n",
        "      <td>  84</td>\n",
        "      <td>NaN</td>\n",
        "      <td>  98</td>\n",
        "      <td>  NaN</td>\n",
        "      <td> 1</td>\n",
        "    </tr>\n",
        "    <tr>\n",
        "      <th>7     </th>\n",
        "      <td>    1</td>\n",
        "      <td>   6957</td>\n",
        "      <td> 140</td>\n",
        "      <td>  72</td>\n",
        "      <td> 108</td>\n",
        "      <td> 31</td>\n",
        "      <td> 101</td>\n",
        "      <td>  NaN</td>\n",
        "      <td> 1</td>\n",
        "    </tr>\n",
        "    <tr>\n",
        "      <th>8     </th>\n",
        "      <td>    1</td>\n",
        "      <td>   7511</td>\n",
        "      <td> 132</td>\n",
        "      <td>  68</td>\n",
        "      <td> 110</td>\n",
        "      <td> 31</td>\n",
        "      <td>  95</td>\n",
        "      <td> 95.2</td>\n",
        "      <td> 1</td>\n",
        "    </tr>\n",
        "    <tr>\n",
        "      <th>9     </th>\n",
        "      <td>    1</td>\n",
        "      <td>   8372</td>\n",
        "      <td> 139</td>\n",
        "      <td>  70</td>\n",
        "      <td> 106</td>\n",
        "      <td> 31</td>\n",
        "      <td>  97</td>\n",
        "      <td>  NaN</td>\n",
        "      <td> 1</td>\n",
        "    </tr>\n",
        "    <tr>\n",
        "      <th>10    </th>\n",
        "      <td>    1</td>\n",
        "      <td>   9297</td>\n",
        "      <td> 134</td>\n",
        "      <td>  68</td>\n",
        "      <td> 105</td>\n",
        "      <td> 31</td>\n",
        "      <td>  99</td>\n",
        "      <td>  NaN</td>\n",
        "      <td> 1</td>\n",
        "    </tr>\n",
        "    <tr>\n",
        "      <th>11    </th>\n",
        "      <td>    1</td>\n",
        "      <td>  10213</td>\n",
        "      <td> 134</td>\n",
        "      <td>  68</td>\n",
        "      <td> 105</td>\n",
        "      <td> 31</td>\n",
        "      <td>  99</td>\n",
        "      <td>  NaN</td>\n",
        "      <td> 1</td>\n",
        "    </tr>\n",
        "    <tr>\n",
        "      <th>12    </th>\n",
        "      <td>    1</td>\n",
        "      <td>  11079</td>\n",
        "      <td> NaN</td>\n",
        "      <td> NaN</td>\n",
        "      <td> NaN</td>\n",
        "      <td>NaN</td>\n",
        "      <td> NaN</td>\n",
        "      <td>  NaN</td>\n",
        "      <td> 1</td>\n",
        "    </tr>\n",
        "    <tr>\n",
        "      <th>13    </th>\n",
        "      <td>    1</td>\n",
        "      <td>  11123</td>\n",
        "      <td> 132</td>\n",
        "      <td>  67</td>\n",
        "      <td>  96</td>\n",
        "      <td> 31</td>\n",
        "      <td> 100</td>\n",
        "      <td> 93.1</td>\n",
        "      <td> 1</td>\n",
        "    </tr>\n",
        "    <tr>\n",
        "      <th>14    </th>\n",
        "      <td>    1</td>\n",
        "      <td>  12015</td>\n",
        "      <td> 132</td>\n",
        "      <td>  69</td>\n",
        "      <td>  92</td>\n",
        "      <td> 31</td>\n",
        "      <td> 101</td>\n",
        "      <td>  NaN</td>\n",
        "      <td> 1</td>\n",
        "    </tr>\n",
        "    <tr>\n",
        "      <th>15    </th>\n",
        "      <td>    1</td>\n",
        "      <td>  12889</td>\n",
        "      <td> 127</td>\n",
        "      <td>  72</td>\n",
        "      <td>  92</td>\n",
        "      <td> 31</td>\n",
        "      <td>  97</td>\n",
        "      <td>  NaN</td>\n",
        "      <td> 1</td>\n",
        "    </tr>\n",
        "    <tr>\n",
        "      <th>16    </th>\n",
        "      <td>    1</td>\n",
        "      <td>  13798</td>\n",
        "      <td> 124</td>\n",
        "      <td>  65</td>\n",
        "      <td>  86</td>\n",
        "      <td> 31</td>\n",
        "      <td>  97</td>\n",
        "      <td>  NaN</td>\n",
        "      <td> 1</td>\n",
        "    </tr>\n",
        "    <tr>\n",
        "      <th>17    </th>\n",
        "      <td>    1</td>\n",
        "      <td>  14713</td>\n",
        "      <td> 119</td>\n",
        "      <td>  67</td>\n",
        "      <td>  86</td>\n",
        "      <td> 31</td>\n",
        "      <td>  97</td>\n",
        "      <td> 90.6</td>\n",
        "      <td> 1</td>\n",
        "    </tr>\n",
        "    <tr>\n",
        "      <th>18    </th>\n",
        "      <td>    1</td>\n",
        "      <td>  15577</td>\n",
        "      <td> 106</td>\n",
        "      <td>  64</td>\n",
        "      <td>  80</td>\n",
        "      <td> 30</td>\n",
        "      <td>  97</td>\n",
        "      <td>  NaN</td>\n",
        "      <td> 1</td>\n",
        "    </tr>\n",
        "    <tr>\n",
        "      <th>19    </th>\n",
        "      <td>    1</td>\n",
        "      <td>  16523</td>\n",
        "      <td> NaN</td>\n",
        "      <td> NaN</td>\n",
        "      <td>  72</td>\n",
        "      <td> 31</td>\n",
        "      <td> NaN</td>\n",
        "      <td>  NaN</td>\n",
        "      <td> 1</td>\n",
        "    </tr>\n",
        "    <tr>\n",
        "      <th>20    </th>\n",
        "      <td>    1</td>\n",
        "      <td>  17415</td>\n",
        "      <td> NaN</td>\n",
        "      <td> NaN</td>\n",
        "      <td>  94</td>\n",
        "      <td> 31</td>\n",
        "      <td> NaN</td>\n",
        "      <td>  NaN</td>\n",
        "      <td> 1</td>\n",
        "    </tr>\n",
        "    <tr>\n",
        "      <th>21    </th>\n",
        "      <td>    1</td>\n",
        "      <td>  17581</td>\n",
        "      <td> NaN</td>\n",
        "      <td> NaN</td>\n",
        "      <td>  77</td>\n",
        "      <td>NaN</td>\n",
        "      <td> 100</td>\n",
        "      <td>  NaN</td>\n",
        "      <td> 1</td>\n",
        "    </tr>\n",
        "    <tr>\n",
        "      <th>22    </th>\n",
        "      <td>    1</td>\n",
        "      <td>  17644</td>\n",
        "      <td> 141</td>\n",
        "      <td> 116</td>\n",
        "      <td>  77</td>\n",
        "      <td> 24</td>\n",
        "      <td> NaN</td>\n",
        "      <td>  NaN</td>\n",
        "      <td> 1</td>\n",
        "    </tr>\n",
        "    <tr>\n",
        "      <th>23    </th>\n",
        "      <td>    1</td>\n",
        "      <td>  17893</td>\n",
        "      <td> NaN</td>\n",
        "      <td> NaN</td>\n",
        "      <td> NaN</td>\n",
        "      <td>NaN</td>\n",
        "      <td> NaN</td>\n",
        "      <td>  NaN</td>\n",
        "      <td> 1</td>\n",
        "    </tr>\n",
        "    <tr>\n",
        "      <th>24    </th>\n",
        "      <td>    1</td>\n",
        "      <td>  17938</td>\n",
        "      <td> 149</td>\n",
        "      <td>  74</td>\n",
        "      <td>  73</td>\n",
        "      <td> 31</td>\n",
        "      <td> NaN</td>\n",
        "      <td>  NaN</td>\n",
        "      <td> 1</td>\n",
        "    </tr>\n",
        "    <tr>\n",
        "      <th>25    </th>\n",
        "      <td>    1</td>\n",
        "      <td>  18306</td>\n",
        "      <td> 137</td>\n",
        "      <td>  85</td>\n",
        "      <td>  73</td>\n",
        "      <td> 31</td>\n",
        "      <td>  87</td>\n",
        "      <td>  NaN</td>\n",
        "      <td> 1</td>\n",
        "    </tr>\n",
        "    <tr>\n",
        "      <th>26    </th>\n",
        "      <td>    1</td>\n",
        "      <td>  21903</td>\n",
        "      <td> 124</td>\n",
        "      <td>  62</td>\n",
        "      <td>  84</td>\n",
        "      <td> 31</td>\n",
        "      <td>  82</td>\n",
        "      <td>  NaN</td>\n",
        "      <td> 1</td>\n",
        "    </tr>\n",
        "    <tr>\n",
        "      <th>27    </th>\n",
        "      <td>    1</td>\n",
        "      <td>  22787</td>\n",
        "      <td> 112</td>\n",
        "      <td>  52</td>\n",
        "      <td>  85</td>\n",
        "      <td> 31</td>\n",
        "      <td>  78</td>\n",
        "      <td>  NaN</td>\n",
        "      <td> 1</td>\n",
        "    </tr>\n",
        "    <tr>\n",
        "      <th>28    </th>\n",
        "      <td>    1</td>\n",
        "      <td>  23670</td>\n",
        "      <td> 117</td>\n",
        "      <td>  56</td>\n",
        "      <td>  88</td>\n",
        "      <td> 31</td>\n",
        "      <td>  71</td>\n",
        "      <td> 90.7</td>\n",
        "      <td> 1</td>\n",
        "    </tr>\n",
        "    <tr>\n",
        "      <th>29    </th>\n",
        "      <td>    1</td>\n",
        "      <td>  24584</td>\n",
        "      <td> 116</td>\n",
        "      <td>  51</td>\n",
        "      <td>  93</td>\n",
        "      <td> 31</td>\n",
        "      <td>  70</td>\n",
        "      <td>  NaN</td>\n",
        "      <td> 1</td>\n",
        "    </tr>\n",
        "    <tr>\n",
        "      <th>...</th>\n",
        "      <td>...</td>\n",
        "      <td>...</td>\n",
        "      <td>...</td>\n",
        "      <td>...</td>\n",
        "      <td>...</td>\n",
        "      <td>...</td>\n",
        "      <td>...</td>\n",
        "      <td>...</td>\n",
        "      <td>...</td>\n",
        "    </tr>\n",
        "    <tr>\n",
        "      <th>628407</th>\n",
        "      <td> 3594</td>\n",
        "      <td> 107386</td>\n",
        "      <td> 114</td>\n",
        "      <td>  71</td>\n",
        "      <td>  67</td>\n",
        "      <td> 15</td>\n",
        "      <td>  96</td>\n",
        "      <td> 97.7</td>\n",
        "      <td> 1</td>\n",
        "    </tr>\n",
        "    <tr>\n",
        "      <th>628408</th>\n",
        "      <td> 3594</td>\n",
        "      <td> 111004</td>\n",
        "      <td> 124</td>\n",
        "      <td>  70</td>\n",
        "      <td>  72</td>\n",
        "      <td> 15</td>\n",
        "      <td>  95</td>\n",
        "      <td>  NaN</td>\n",
        "      <td> 1</td>\n",
        "    </tr>\n",
        "    <tr>\n",
        "      <th>628409</th>\n",
        "      <td> 3594</td>\n",
        "      <td> 114605</td>\n",
        "      <td> 117</td>\n",
        "      <td>  69</td>\n",
        "      <td>  67</td>\n",
        "      <td> 18</td>\n",
        "      <td>  96</td>\n",
        "      <td>  NaN</td>\n",
        "      <td> 1</td>\n",
        "    </tr>\n",
        "    <tr>\n",
        "      <th>628410</th>\n",
        "      <td> 3594</td>\n",
        "      <td> 115010</td>\n",
        "      <td> NaN</td>\n",
        "      <td> NaN</td>\n",
        "      <td> NaN</td>\n",
        "      <td>NaN</td>\n",
        "      <td> NaN</td>\n",
        "      <td>  NaN</td>\n",
        "      <td> 1</td>\n",
        "    </tr>\n",
        "    <tr>\n",
        "      <th>628411</th>\n",
        "      <td> 3594</td>\n",
        "      <td> 118210</td>\n",
        "      <td> 114</td>\n",
        "      <td>  72</td>\n",
        "      <td>  75</td>\n",
        "      <td> 18</td>\n",
        "      <td>  95</td>\n",
        "      <td>  NaN</td>\n",
        "      <td> 1</td>\n",
        "    </tr>\n",
        "    <tr>\n",
        "      <th>628412</th>\n",
        "      <td> 3594</td>\n",
        "      <td> 121812</td>\n",
        "      <td> 114</td>\n",
        "      <td>  84</td>\n",
        "      <td>  79</td>\n",
        "      <td> 24</td>\n",
        "      <td>  95</td>\n",
        "      <td> 97.1</td>\n",
        "      <td> 1</td>\n",
        "    </tr>\n",
        "    <tr>\n",
        "      <th>628413</th>\n",
        "      <td> 3594</td>\n",
        "      <td> 125428</td>\n",
        "      <td> 126</td>\n",
        "      <td>  72</td>\n",
        "      <td>  76</td>\n",
        "      <td> 22</td>\n",
        "      <td>  97</td>\n",
        "      <td>  NaN</td>\n",
        "      <td> 1</td>\n",
        "    </tr>\n",
        "    <tr>\n",
        "      <th>628414</th>\n",
        "      <td> 3594</td>\n",
        "      <td> 129024</td>\n",
        "      <td> 124</td>\n",
        "      <td>  69</td>\n",
        "      <td>  72</td>\n",
        "      <td> 22</td>\n",
        "      <td>  98</td>\n",
        "      <td>  NaN</td>\n",
        "      <td> 1</td>\n",
        "    </tr>\n",
        "    <tr>\n",
        "      <th>628415</th>\n",
        "      <td> 3594</td>\n",
        "      <td> 132575</td>\n",
        "      <td> NaN</td>\n",
        "      <td> NaN</td>\n",
        "      <td> NaN</td>\n",
        "      <td>NaN</td>\n",
        "      <td>  97</td>\n",
        "      <td>  NaN</td>\n",
        "      <td> 1</td>\n",
        "    </tr>\n",
        "    <tr>\n",
        "      <th>628416</th>\n",
        "      <td> 3594</td>\n",
        "      <td> 134562</td>\n",
        "      <td> NaN</td>\n",
        "      <td> NaN</td>\n",
        "      <td>  66</td>\n",
        "      <td>NaN</td>\n",
        "      <td> NaN</td>\n",
        "      <td>  NaN</td>\n",
        "      <td> 1</td>\n",
        "    </tr>\n",
        "    <tr>\n",
        "      <th>628417</th>\n",
        "      <td> 3594</td>\n",
        "      <td> 134989</td>\n",
        "      <td> NaN</td>\n",
        "      <td> NaN</td>\n",
        "      <td>  63</td>\n",
        "      <td>NaN</td>\n",
        "      <td> NaN</td>\n",
        "      <td>  NaN</td>\n",
        "      <td> 1</td>\n",
        "    </tr>\n",
        "    <tr>\n",
        "      <th>628418</th>\n",
        "      <td> 3594</td>\n",
        "      <td> 136184</td>\n",
        "      <td> 121</td>\n",
        "      <td>  71</td>\n",
        "      <td>  74</td>\n",
        "      <td> 21</td>\n",
        "      <td>  98</td>\n",
        "      <td> 97.4</td>\n",
        "      <td> 1</td>\n",
        "    </tr>\n",
        "    <tr>\n",
        "      <th>628419</th>\n",
        "      <td> 3594</td>\n",
        "      <td> 143397</td>\n",
        "      <td> NaN</td>\n",
        "      <td> NaN</td>\n",
        "      <td>  68</td>\n",
        "      <td>NaN</td>\n",
        "      <td> NaN</td>\n",
        "      <td>  NaN</td>\n",
        "      <td> 1</td>\n",
        "    </tr>\n",
        "    <tr>\n",
        "      <th>628420</th>\n",
        "      <td> 3594</td>\n",
        "      <td> 150035</td>\n",
        "      <td> 150</td>\n",
        "      <td>  88</td>\n",
        "      <td>  75</td>\n",
        "      <td> 13</td>\n",
        "      <td>  96</td>\n",
        "      <td> 98.1</td>\n",
        "      <td> 1</td>\n",
        "    </tr>\n",
        "    <tr>\n",
        "      <th>628421</th>\n",
        "      <td> 3594</td>\n",
        "      <td> 150727</td>\n",
        "      <td> NaN</td>\n",
        "      <td> NaN</td>\n",
        "      <td>  63</td>\n",
        "      <td>NaN</td>\n",
        "      <td> NaN</td>\n",
        "      <td>  NaN</td>\n",
        "      <td> 1</td>\n",
        "    </tr>\n",
        "    <tr>\n",
        "      <th>628422</th>\n",
        "      <td> 3594</td>\n",
        "      <td> 155715</td>\n",
        "      <td> NaN</td>\n",
        "      <td> NaN</td>\n",
        "      <td>  72</td>\n",
        "      <td>NaN</td>\n",
        "      <td> NaN</td>\n",
        "      <td>  NaN</td>\n",
        "      <td> 1</td>\n",
        "    </tr>\n",
        "    <tr>\n",
        "      <th>628423</th>\n",
        "      <td> 3594</td>\n",
        "      <td> 164985</td>\n",
        "      <td> 124</td>\n",
        "      <td>  78</td>\n",
        "      <td>  69</td>\n",
        "      <td> 25</td>\n",
        "      <td>  94</td>\n",
        "      <td> 98.0</td>\n",
        "      <td> 1</td>\n",
        "    </tr>\n",
        "    <tr>\n",
        "      <th>628424</th>\n",
        "      <td> 3594</td>\n",
        "      <td> 179398</td>\n",
        "      <td> 125</td>\n",
        "      <td>  77</td>\n",
        "      <td>  71</td>\n",
        "      <td> 21</td>\n",
        "      <td>  94</td>\n",
        "      <td> 98.7</td>\n",
        "      <td> 1</td>\n",
        "    </tr>\n",
        "    <tr>\n",
        "      <th>628425</th>\n",
        "      <td> 3594</td>\n",
        "      <td> 193776</td>\n",
        "      <td> 119</td>\n",
        "      <td>  85</td>\n",
        "      <td>  62</td>\n",
        "      <td> 22</td>\n",
        "      <td>  93</td>\n",
        "      <td> 98.3</td>\n",
        "      <td> 1</td>\n",
        "    </tr>\n",
        "    <tr>\n",
        "      <th>628426</th>\n",
        "      <td> 3594</td>\n",
        "      <td> 199795</td>\n",
        "      <td> 119</td>\n",
        "      <td> NaN</td>\n",
        "      <td> NaN</td>\n",
        "      <td>NaN</td>\n",
        "      <td> NaN</td>\n",
        "      <td> 98.3</td>\n",
        "      <td> 1</td>\n",
        "    </tr>\n",
        "    <tr>\n",
        "      <th>628427</th>\n",
        "      <td> 3594</td>\n",
        "      <td> 208218</td>\n",
        "      <td> 124</td>\n",
        "      <td>  80</td>\n",
        "      <td>  76</td>\n",
        "      <td> 19</td>\n",
        "      <td>  92</td>\n",
        "      <td> 98.1</td>\n",
        "      <td> 1</td>\n",
        "    </tr>\n",
        "    <tr>\n",
        "      <th>628428</th>\n",
        "      <td> 3594</td>\n",
        "      <td> 222611</td>\n",
        "      <td> 127</td>\n",
        "      <td>  92</td>\n",
        "      <td>  73</td>\n",
        "      <td> 17</td>\n",
        "      <td>  95</td>\n",
        "      <td> 98.7</td>\n",
        "      <td> 1</td>\n",
        "    </tr>\n",
        "    <tr>\n",
        "      <th>628429</th>\n",
        "      <td> 3594</td>\n",
        "      <td> 236974</td>\n",
        "      <td> 142</td>\n",
        "      <td>  87</td>\n",
        "      <td>  55</td>\n",
        "      <td> 17</td>\n",
        "      <td>  96</td>\n",
        "      <td> 98.2</td>\n",
        "      <td> 1</td>\n",
        "    </tr>\n",
        "    <tr>\n",
        "      <th>628430</th>\n",
        "      <td> 3594</td>\n",
        "      <td> 251404</td>\n",
        "      <td> 130</td>\n",
        "      <td>  78</td>\n",
        "      <td>  56</td>\n",
        "      <td> 17</td>\n",
        "      <td>  95</td>\n",
        "      <td> 98.0</td>\n",
        "      <td> 1</td>\n",
        "    </tr>\n",
        "    <tr>\n",
        "      <th>628431</th>\n",
        "      <td> 3594</td>\n",
        "      <td> 265781</td>\n",
        "      <td> 132</td>\n",
        "      <td>  79</td>\n",
        "      <td>  59</td>\n",
        "      <td> 17</td>\n",
        "      <td>  94</td>\n",
        "      <td> 98.0</td>\n",
        "      <td> 1</td>\n",
        "    </tr>\n",
        "    <tr>\n",
        "      <th>628432</th>\n",
        "      <td> 3594</td>\n",
        "      <td> 280223</td>\n",
        "      <td> 112</td>\n",
        "      <td>  50</td>\n",
        "      <td>  58</td>\n",
        "      <td> 17</td>\n",
        "      <td>  95</td>\n",
        "      <td> 97.1</td>\n",
        "      <td> 1</td>\n",
        "    </tr>\n",
        "    <tr>\n",
        "      <th>628433</th>\n",
        "      <td> 3594</td>\n",
        "      <td> 290430</td>\n",
        "      <td> NaN</td>\n",
        "      <td> NaN</td>\n",
        "      <td> NaN</td>\n",
        "      <td>NaN</td>\n",
        "      <td> NaN</td>\n",
        "      <td>  NaN</td>\n",
        "      <td> 1</td>\n",
        "    </tr>\n",
        "    <tr>\n",
        "      <th>628434</th>\n",
        "      <td> 3594</td>\n",
        "      <td> 296075</td>\n",
        "      <td> 105</td>\n",
        "      <td>  59</td>\n",
        "      <td>  65</td>\n",
        "      <td> 17</td>\n",
        "      <td>  98</td>\n",
        "      <td> 98.3</td>\n",
        "      <td> 1</td>\n",
        "    </tr>\n",
        "    <tr>\n",
        "      <th>628435</th>\n",
        "      <td> 3594</td>\n",
        "      <td> 299096</td>\n",
        "      <td> NaN</td>\n",
        "      <td> NaN</td>\n",
        "      <td> NaN</td>\n",
        "      <td>NaN</td>\n",
        "      <td>  93</td>\n",
        "      <td>  NaN</td>\n",
        "      <td> 1</td>\n",
        "    </tr>\n",
        "    <tr>\n",
        "      <th>628436</th>\n",
        "      <td> 3594</td>\n",
        "      <td> 309027</td>\n",
        "      <td> 109</td>\n",
        "      <td>  68</td>\n",
        "      <td>  90</td>\n",
        "      <td>NaN</td>\n",
        "      <td>  94</td>\n",
        "      <td> 98.0</td>\n",
        "      <td> 1</td>\n",
        "    </tr>\n",
        "  </tbody>\n",
        "</table>\n",
        "<p>628437 rows \u00d7 9 columns</p>\n",
        "</div>"
       ],
       "metadata": {},
       "output_type": "pyout",
       "prompt_number": 214,
       "text": [
        "          ID    TIME   V1   V2   V3  V4   V5    V6  ICU\n",
        "0          1       0   86   49   70 NaN   87   NaN    0\n",
        "1          1    4320  NaN  NaN   70 NaN  NaN   NaN    0\n",
        "2          1    5646   91   58  NaN NaN  NaN  96.6    1\n",
        "3          1    5703  140   73   91  32  NaN   NaN    1\n",
        "4          1    6342  139   90  107  29  101   NaN    1\n",
        "5          1    6609  152   75  109  30  101   NaN    1\n",
        "6          1    6894  140   79   84 NaN   98   NaN    1\n",
        "7          1    6957  140   72  108  31  101   NaN    1\n",
        "8          1    7511  132   68  110  31   95  95.2    1\n",
        "9          1    8372  139   70  106  31   97   NaN    1\n",
        "10         1    9297  134   68  105  31   99   NaN    1\n",
        "11         1   10213  134   68  105  31   99   NaN    1\n",
        "12         1   11079  NaN  NaN  NaN NaN  NaN   NaN    1\n",
        "13         1   11123  132   67   96  31  100  93.1    1\n",
        "14         1   12015  132   69   92  31  101   NaN    1\n",
        "15         1   12889  127   72   92  31   97   NaN    1\n",
        "16         1   13798  124   65   86  31   97   NaN    1\n",
        "17         1   14713  119   67   86  31   97  90.6    1\n",
        "18         1   15577  106   64   80  30   97   NaN    1\n",
        "19         1   16523  NaN  NaN   72  31  NaN   NaN    1\n",
        "20         1   17415  NaN  NaN   94  31  NaN   NaN    1\n",
        "21         1   17581  NaN  NaN   77 NaN  100   NaN    1\n",
        "22         1   17644  141  116   77  24  NaN   NaN    1\n",
        "23         1   17893  NaN  NaN  NaN NaN  NaN   NaN    1\n",
        "24         1   17938  149   74   73  31  NaN   NaN    1\n",
        "25         1   18306  137   85   73  31   87   NaN    1\n",
        "26         1   21903  124   62   84  31   82   NaN    1\n",
        "27         1   22787  112   52   85  31   78   NaN    1\n",
        "28         1   23670  117   56   88  31   71  90.7    1\n",
        "29         1   24584  116   51   93  31   70   NaN    1\n",
        "...      ...     ...  ...  ...  ...  ..  ...   ...  ...\n",
        "628407  3594  107386  114   71   67  15   96  97.7    1\n",
        "628408  3594  111004  124   70   72  15   95   NaN    1\n",
        "628409  3594  114605  117   69   67  18   96   NaN    1\n",
        "628410  3594  115010  NaN  NaN  NaN NaN  NaN   NaN    1\n",
        "628411  3594  118210  114   72   75  18   95   NaN    1\n",
        "628412  3594  121812  114   84   79  24   95  97.1    1\n",
        "628413  3594  125428  126   72   76  22   97   NaN    1\n",
        "628414  3594  129024  124   69   72  22   98   NaN    1\n",
        "628415  3594  132575  NaN  NaN  NaN NaN   97   NaN    1\n",
        "628416  3594  134562  NaN  NaN   66 NaN  NaN   NaN    1\n",
        "628417  3594  134989  NaN  NaN   63 NaN  NaN   NaN    1\n",
        "628418  3594  136184  121   71   74  21   98  97.4    1\n",
        "628419  3594  143397  NaN  NaN   68 NaN  NaN   NaN    1\n",
        "628420  3594  150035  150   88   75  13   96  98.1    1\n",
        "628421  3594  150727  NaN  NaN   63 NaN  NaN   NaN    1\n",
        "628422  3594  155715  NaN  NaN   72 NaN  NaN   NaN    1\n",
        "628423  3594  164985  124   78   69  25   94  98.0    1\n",
        "628424  3594  179398  125   77   71  21   94  98.7    1\n",
        "628425  3594  193776  119   85   62  22   93  98.3    1\n",
        "628426  3594  199795  119  NaN  NaN NaN  NaN  98.3    1\n",
        "628427  3594  208218  124   80   76  19   92  98.1    1\n",
        "628428  3594  222611  127   92   73  17   95  98.7    1\n",
        "628429  3594  236974  142   87   55  17   96  98.2    1\n",
        "628430  3594  251404  130   78   56  17   95  98.0    1\n",
        "628431  3594  265781  132   79   59  17   94  98.0    1\n",
        "628432  3594  280223  112   50   58  17   95  97.1    1\n",
        "628433  3594  290430  NaN  NaN  NaN NaN  NaN   NaN    1\n",
        "628434  3594  296075  105   59   65  17   98  98.3    1\n",
        "628435  3594  299096  NaN  NaN  NaN NaN   93   NaN    1\n",
        "628436  3594  309027  109   68   90 NaN   94  98.0    1\n",
        "\n",
        "[628437 rows x 9 columns]"
       ]
      }
     ],
     "prompt_number": 214
    },
    {
     "cell_type": "code",
     "collapsed": false,
     "input": [
      "def get_norm_df():\n",
      "\n",
      "    ### Normalize following the procedure in the paper\n",
      "\n",
      "    #### Find the xL, xU, w1, w2, w3 vars\n",
      "\n",
      "    df_combined = df_vitals.drop('ICU', axis=1).copy()\n",
      "\n",
      "    df_combined = df_combined.join(df_labs.drop(['ID', 'TIME'], axis=1))\n",
      "    df_combined.drop(['ID', 'TIME'], axis=1, inplace=True)\n",
      "\n",
      "    ### Process the entire data using this process\n",
      "\n",
      "    # transform one element given range and W\n",
      "    def norm_transform(x, x_range, W):\n",
      "        if(x<x_range[0]):\n",
      "            x=x_range[0]\n",
      "        if(x>x_range[1]):\n",
      "            x=x_range[1]\n",
      "\n",
      "        return np.dot(W,\n",
      "                      [1, x, log(1+x)])\n",
      "\n",
      "    ###\n",
      "    x_range = np.zeros((n_features, 2))\n",
      "    W = np.zeros((n_features, 3))\n",
      "    for i in xrange(n_features):\n",
      "    #for i in xrange(1):\n",
      "        vals = df_combined.ix[df_combined.ix[:, i].notnull(), i]\n",
      "        vals = np.sort(vals)\n",
      "\n",
      "        # find the quantiles\n",
      "        N = vals.shape[0]\n",
      "        q = np.array([(j-0.5)/N for j in xrange(N)])\n",
      "\n",
      "        i_l = np.min(np.arange(q.shape[0])[q>0.01])\n",
      "        i_u = np.max(np.arange(q.shape[0])[q<0.99])\n",
      "\n",
      "        x_range[i, 0] = vals[i_l]\n",
      "        x_range[i, 1] = vals[i_u]\n",
      "\n",
      "        vals = vals[i_l: i_u+1]\n",
      "        q=norm.ppf(q[i_l: i_u+1]) / 3\n",
      "\n",
      "        X = np.ones((vals.shape[0], 3))\n",
      "        X[:, 1] = vals\n",
      "        X[:, 2] = np.log(1 + vals)\n",
      "\n",
      "        W[i, :] = np.dot(np.linalg.pinv(np.dot(X.T, X)),\n",
      "                         np.dot(X.T, q)\n",
      "                         )\n",
      "    print x_range[0], W[0], norm_transform(100, x_range[0], W[0])\n",
      "\n",
      "    ###############################################################normalize!\n",
      "    df_norm = df_combined.copy()\n",
      "    for i in xrange(n_features):\n",
      "        df_norm.ix[:, i] = df_norm.ix[:, i].apply(lambda x:norm_transform(x, x_range[i], W[i]))\n",
      "    df_norm[df_norm.isnull()] = 0\n",
      "\n",
      "    df_norm.to_csv(path='/root/code/xerox/windows/svm_norm_data.csv')\n",
      "\n",
      "    return df_norm"
     ],
     "language": "python",
     "metadata": {},
     "outputs": [],
     "prompt_number": 58
    },
    {
     "cell_type": "code",
     "collapsed": false,
     "input": [
      "def get_norm_patients_from_df(df):\n",
      "    patient_combined = [np.array(df.ix[df_vitals['ID'] == ID, :]) for ID in df_labels['ID'].unique()]\n",
      "\n",
      "    # split into living and dead\n",
      "    patient_combined_dead = [patient_combined[ID-1] for ID in df_labels['ID']\n",
      "                                                          if df_labels.ix[ID - 1, 'LABEL'] == 1]\n",
      "    patient_combined_living = [patient_combined[ID-1] for ID in df_labels['ID']\n",
      "                                                          if df_labels.ix[ID - 1, 'LABEL'] == 0]\n",
      "    age_combined = np.array(df_age.AGE)\n",
      "\n",
      "    return patient_combined, patient_combined_dead, patient_combined_living"
     ],
     "language": "python",
     "metadata": {},
     "outputs": [],
     "prompt_number": 1430
    },
    {
     "cell_type": "code",
     "collapsed": false,
     "input": [
      "n_features = 31"
     ],
     "language": "python",
     "metadata": {},
     "outputs": [],
     "prompt_number": 55
    },
    {
     "cell_type": "markdown",
     "metadata": {},
     "source": [
      "df_norm.to_csv('/root/code/xerox/windows/svm_norm_data.csv')"
     ]
    },
    {
     "cell_type": "code",
     "collapsed": true,
     "input": [
      "## Read the valus directly from the files\n",
      "#df_norm = get_norm_df()\n",
      "df_norm = pd.read_csv('/root/code/xerox/windows/svm_norm_data.csv')\n",
      "df_norm.drop(['Unnamed: 0'], axis=1, inplace=True)"
     ],
     "language": "python",
     "metadata": {},
     "outputs": [],
     "prompt_number": 56
    },
    {
     "cell_type": "code",
     "collapsed": false,
     "input": [
      "df_norm['TIME'] = df_vitals.TIME"
     ],
     "language": "python",
     "metadata": {},
     "outputs": [],
     "prompt_number": 1428
    },
    {
     "cell_type": "code",
     "collapsed": false,
     "input": [
      "time_ind = 31"
     ],
     "language": "python",
     "metadata": {},
     "outputs": [],
     "prompt_number": 1437
    },
    {
     "cell_type": "code",
     "collapsed": false,
     "input": [
      "[patient_combined, patient_combined_dead, patient_combined_living] = get_norm_patients_from_df(df_norm)"
     ],
     "language": "python",
     "metadata": {},
     "outputs": [],
     "prompt_number": 1431
    },
    {
     "cell_type": "code",
     "collapsed": false,
     "input": [
      "age_combined = np.array(df_age.AGE)"
     ],
     "language": "python",
     "metadata": {},
     "outputs": [],
     "prompt_number": 1014
    },
    {
     "cell_type": "code",
     "collapsed": false,
     "input": [
      "icu_combined = np.array([np.array(df_vitals.ICU[df_vitals['ID']==i]) for i in df_labels['ID'].unique()])"
     ],
     "language": "python",
     "metadata": {},
     "outputs": [],
     "prompt_number": 1241
    },
    {
     "cell_type": "code",
     "collapsed": false,
     "input": [
      "data_combined = np.array(patient_combined)\n",
      "labels_combined = np.array(df_labels.LABEL)"
     ],
     "language": "python",
     "metadata": {},
     "outputs": [],
     "prompt_number": 115
    },
    {
     "cell_type": "code",
     "collapsed": false,
     "input": [
      "stats_big[4].func_name == '<lambda>'"
     ],
     "language": "python",
     "metadata": {},
     "outputs": [
      {
       "metadata": {},
       "output_type": "pyout",
       "prompt_number": 1377,
       "text": [
        "True"
       ]
      }
     ],
     "prompt_number": 1377
    },
    {
     "cell_type": "code",
     "collapsed": false,
     "input": [
      "def get_n_windows(ts, n_windows, stats, time=None):\n",
      "    if time is not None:\n",
      "        cols = [i for i in np.arange(ts.shape[1]) if i != time]\n",
      "        n_features = ts.shape[1] - 1\n",
      "    else:\n",
      "        cols = np.arange(ts.shape[1])\n",
      "        n_features = ts.shape[1]\n",
      "    \n",
      "    #print n_features\n",
      "    l = np.zeros((n_windows, len(stats) * n_features))\n",
      "    n = int(ts.shape[0] / n_windows)\n",
      "    \n",
      "    # get windows\n",
      "    for j in xrange(0, n_windows):\n",
      "        if (j==n_windows-1):\n",
      "            window = ts[j*n :, :] \n",
      "        else:\n",
      "            window = ts[j*n : (j+1)*n, :] \n",
      "\n",
      "        # apply stats to the window and append into a row\n",
      "        for k in xrange(len(stats)):\n",
      "            f = stats[k]\n",
      "            if f.func_name == '<lambda>':\n",
      "                l[j, k*n_features:(k+1)*n_features] = f(window[:, cols], window[:, time])\n",
      "            else:\n",
      "                l[j, k*n_features:(k+1)*n_features] = f(window[:, cols], axis=0)\n",
      "    return l"
     ],
     "language": "python",
     "metadata": {},
     "outputs": [],
     "prompt_number": 1490
    },
    {
     "cell_type": "markdown",
     "metadata": {},
     "source": [
      "def get_windows_data(data, n_windows, stats):\n",
      "    window_stats = []\n",
      "    for i in xrange(len(data)):\n",
      "        ts = data[i]\n",
      "\n",
      "        if(ts.shape[0] < n_windows):\n",
      "            #window_stats.append(None)    # We want to keep 1-1 mapping with patients..\n",
      "            n = int(np.ceil(1.0 * n_windows / ts.shape[0]))\n",
      "            t = np.zeros((ts.shape[0] * n, ts.shape[1]))\n",
      "            for i in xrange(ts.shape[0]):\n",
      "                for k in xrange(n):\n",
      "                    t[n*i + k, :] = ts[i, :]\n",
      "            \n",
      "            ts = t\n",
      "\n",
      "        l = get_n_windows(ts, n_windows, stats)\n",
      "        window_stats.append(l)\n",
      "        \n",
      "    return window_stats"
     ]
    },
    {
     "cell_type": "code",
     "collapsed": false,
     "input": [
      "### Given list of patient time series, give a matrix with one row for each patient containing all windows\n",
      "def get_rows_data(data, n_windows, stats, time=None):\n",
      "    n_features = data[0].shape[1]\n",
      "    if time is not None:\n",
      "        n_features = n_features - 1\n",
      "    data_windows = np.zeros((len(data), n_windows*n_features*len(stats)))\n",
      "    for i in xrange(len(data)):\n",
      "        ts = data[i]\n",
      "\n",
      "        if(ts.shape[0] < n_windows):\n",
      "            #window_stats.append(None)    # We want to keep 1-1 mapping with patients..\n",
      "            n = int(np.ceil(1.0 * n_windows / ts.shape[0]))\n",
      "            t = np.zeros((ts.shape[0] * n, ts.shape[1]))\n",
      "            for i in xrange(ts.shape[0]):\n",
      "                for k in xrange(n):\n",
      "                    t[n*i + k, :] = ts[i, :]\n",
      "            \n",
      "            ts = t\n",
      "            continue\n",
      "\n",
      "        l = get_n_windows(ts, n_windows, stats, time)\n",
      "        data_windows[i, :] = np.hstack(l)\n",
      "        \n",
      "    return data_windows"
     ],
     "language": "python",
     "metadata": {},
     "outputs": [],
     "prompt_number": 1424
    },
    {
     "cell_type": "markdown",
     "metadata": {},
     "source": [
      "## For ONLINE prediction"
     ]
    },
    {
     "cell_type": "code",
     "collapsed": false,
     "input": [
      "### Get windows starting with zero upto end for the time series 'ts', ONLY for which icu=1 (If provided)\n",
      "def get_online_windows(ts, icu=None):\n",
      "    if icu is None:\n",
      "        p_windows = np.array([ts[:i+1, :] for i in xrange(ts.shape[0])])\n",
      "    else:   # inclue only if icu[i] == 1\n",
      "        p_windows = np.array([ts[:i+1, :] for i in xrange(ts.shape[0]) if icu[i]==1])\n",
      "    return p_windows"
     ],
     "language": "python",
     "metadata": {},
     "outputs": [],
     "prompt_number": 1204
    },
    {
     "cell_type": "code",
     "collapsed": false,
     "input": [
      "### Get stats of a given ts for all possible windows starting with 1 element\n",
      "def get_all_window_stats(ts, n_windows, stats, time=None, icu=None):\n",
      "    p_windows = get_online_windows(ts, icu)\n",
      "    p_all_window_stats = get_rows_data(p_windows, n_windows, stats, time)\n",
      "    return p_all_window_stats"
     ],
     "language": "python",
     "metadata": {},
     "outputs": [],
     "prompt_number": 1396
    },
    {
     "cell_type": "code",
     "collapsed": false,
     "input": [
      "### Given a LIST of patient time series, give back a list of matrices, one for each time series, where each row is window 0..i\n",
      "def get_list_all_window_stats(data, n_windows, stats, time=None, list_of_icu=None):\n",
      "    all_window_stats = []\n",
      "    for i, d in enumerate(data):\n",
      "        if list_of_icu is None:\n",
      "            all_window_stats.append(get_all_window_stats(d, n_windows, stats, time))\n",
      "        else:\n",
      "            all_window_stats.append(get_all_window_stats(d, n_windows, stats, time, list_of_icu[i]))\n",
      "    \n",
      "    return all_window_stats"
     ],
     "language": "python",
     "metadata": {},
     "outputs": [],
     "prompt_number": 1398
    },
    {
     "cell_type": "markdown",
     "metadata": {},
     "source": [
      "#### For testing online ones!\n",
      "ts = patients_valid[0:2]\n",
      "ts[1].shape\n",
      "p_windows = get_online_windows(ts[1])\n",
      "p_windows[10].shape\n",
      "p_stats = get_all_window_stats(ts[1], n_windows, stats)\n",
      "p_stats.shape\n",
      "p_all = get_list_all_window_stats(ts, n_windows, stats)\n",
      "p_all[1].shape"
     ]
    },
    {
     "cell_type": "code",
     "collapsed": false,
     "input": [
      "#### Confusion!\n",
      "def get_ss(confusion):\n",
      "    tn = confusion[0, 0]  # label=0, pred=0\n",
      "    fp = confusion[0, 1]  # label=0, pred=1\n",
      "    \n",
      "    fn = confusion[1, 0]  # label=1, pred=0\n",
      "    tp = confusion[1, 1]  # label=1, pred=1\n",
      "    \n",
      "    sens = (1.0*tp/(tp+fn))\n",
      "    spec = (1.0*tn/(tn+fp))\n",
      "    \n",
      "    #print confusion\n",
      "    #print\n",
      "    #prittp, fp, fn, tn, sens, spec\n",
      "    #print 'Sensitiviy: ', sens, '\\nSpecificity: ', spec\n",
      "    return sens, spec"
     ],
     "language": "python",
     "metadata": {},
     "outputs": [],
     "prompt_number": 69
    },
    {
     "cell_type": "markdown",
     "metadata": {},
     "source": [
      "# Split Data!"
     ]
    },
    {
     "cell_type": "code",
     "collapsed": false,
     "input": [
      "def split_train_valid_test(data_combined, labels_combined, icu_combined, age_combined, split=[0.6, 0.2]):\n",
      "    \n",
      "    ind = np.arange(0, len(labels_combined))\n",
      "    np.random.shuffle(ind)\n",
      "    \n",
      "    N = len(ind)\n",
      "    N_train = int(split[0] * N)\n",
      "    N_valid = int((split[1]+split[0]) * N)\n",
      "    \n",
      "    ind_train = ind[:N_train]\n",
      "    ind_valid = ind[N_train:N_valid]\n",
      "    ind_test = ind[N_valid:]\n",
      "    \n",
      "    data_combined = np.array(data_combined)\n",
      "    labels_combined = np.array(labels_combined)\n",
      "    \n",
      "    data_train = data_combined[ind_train]\n",
      "    labels_train = labels_combined[ind_train]\n",
      "    age_train = age_combined[ind_train]\n",
      "    icu_train = icu_combined[ind_train]\n",
      "    \n",
      "    age_valid = age_combined[ind_valid]\n",
      "    icu_valid = icu_combined[ind_valid]\n",
      "    labels_valid = labels_combined[ind_valid]\n",
      "    data_valid = data_combined[ind_valid]\n",
      "\n",
      "    age_test = age_combined[ind_test]\n",
      "    icu_test = icu_combined[ind_test]\n",
      "    labels_test = labels_combined[ind_test]\n",
      "    data_test = data_combined[ind_test]\n",
      "    \n",
      "    return [data_train, labels_train, data_valid, labels_valid, data_test, labels_test,\n",
      "            #ind_train, ind_valid, ind_test]\n",
      "            icu_train, icu_valid, icu_test,\n",
      "            age_train, age_valid, age_test, ind_train, ind_valid, ind_test]"
     ],
     "language": "python",
     "metadata": {},
     "outputs": [],
     "prompt_number": 1034
    },
    {
     "cell_type": "markdown",
     "metadata": {},
     "source": [
      "### Separate dead and alive in train and validation sets"
     ]
    },
    {
     "cell_type": "code",
     "collapsed": false,
     "input": [
      "def separate_living_dead(data, labels):\n",
      "    data_living = data[labels == 0]\n",
      "    data_dead = data[labels == 1]\n",
      "    return [data_living, data_dead]"
     ],
     "language": "python",
     "metadata": {},
     "outputs": [],
     "prompt_number": 531
    },
    {
     "cell_type": "markdown",
     "metadata": {},
     "source": [
      "### Find number of dead and alive patients in train and validation sets"
     ]
    },
    {
     "cell_type": "code",
     "collapsed": false,
     "input": [
      "def get_sizes(data_living, data_dead):\n",
      "    n_dead = data_dead.shape[0]\n",
      "    n_living = data_living.shape[0]\n",
      "    n_combined = n_dead + n_living\n",
      "    \n",
      "    return n_dead, n_living, n_combined"
     ],
     "language": "python",
     "metadata": {},
     "outputs": [],
     "prompt_number": 72
    },
    {
     "cell_type": "markdown",
     "metadata": {},
     "source": [
      "# GET DATA!"
     ]
    },
    {
     "cell_type": "code",
     "collapsed": false,
     "input": [
      "def get_data(patient_combined, labels_combined, age_combined, icu_combined, n_windows, stats, split, time=None):\n",
      "    ### Generate windowed data\n",
      "    data_windows_combined = get_rows_data(patient_combined, n_windows, stats, time)\n",
      "    #data_windows_combined = np.hstack((data_windows_combined, age_combined))\n",
      "\n",
      "    print data_windows_combined.shape\n",
      "    ### split into train and validation sets, living and dead\n",
      "    [data_train, labels_train, data_valid, labels_valid, data_test, labels_test,\n",
      "     icu_train, icu_valid, icu_test,\n",
      "     age_train, age_valid, age_test, ind_train, ind_valid, ind_test] = split_train_valid_test(data_windows_combined,\n",
      "     #ind_train, ind_valid, ind_test] = split_train_valid_test(data_windows_combined,\n",
      "                                                                         labels_combined, icu_combined,\n",
      "                                                                         age_combined, split=split)\n",
      "    \n",
      "    print data_train.shape\n",
      "    [data_train_living, data_train_dead] = separate_living_dead(data_train, labels_train)\n",
      "    [data_valid_living, data_valid_dead] = separate_living_dead(data_valid, labels_valid)\n",
      "    [data_test_living, data_test_dead] = separate_living_dead(data_test, labels_test)\n",
      "    \n",
      "    [age_train_living, age_train_dead] = separate_living_dead(age_train, labels_train)\n",
      "    [age_valid_living, age_valid_dead] = separate_living_dead(age_valid, labels_valid)\n",
      "    [age_test_living, age_test_dead] = separate_living_dead(age_test, labels_test)\n",
      "    [icu_train_living, icu_train_dead] = separate_living_dead(icu_train, labels_train)\n",
      "    [icu_valid_living, icu_valid_dead] = separate_living_dead(icu_valid, labels_valid)\n",
      "    [icu_test_living, icu_test_dead] = separate_living_dead(icu_test, labels_test)\n",
      "    \n",
      "    labels_train = labels_train.reshape((labels_train.shape[0], 1))\n",
      "    labels_valid = labels_valid.reshape((labels_valid.shape[0], 1))\n",
      "    labels_test = labels_test.reshape((labels_test.shape[0], 1))\n",
      "    \n",
      "    print data_train.shape\n",
      "    n_train_dead, n_train_living, n_train_combined = get_sizes(data_train_living, data_train_dead)\n",
      "    n_valid_dead, n_valid_living, n_valid_combined = get_sizes(data_valid_living, data_valid_dead)\n",
      "    n_test_dead, n_test_living, n_test_combined = get_sizes(data_test_living, data_test_dead)\n",
      "    \n",
      "    print 'Train:', n_train_dead, n_train_living, labels_train.shape[0]\n",
      "    print 'Valid:', n_valid_dead, n_valid_living, labels_valid.shape[0]\n",
      "    print 'Test:', n_test_dead, n_test_living, labels_test.shape[0]\n",
      "\n",
      "    ### Split into balacned sets!\n",
      "    n_train_splits = int (n_train_living / n_train_dead)\n",
      "    train_split = int (n_train_living / n_train_splits)\n",
      "    print 'Train Splits', n_train_splits, train_split, n_train_dead + n_train_splits * train_split, n_train_combined\n",
      "    print data_train.shape\n",
      "    print data_train[1].shape\n",
      "    \n",
      "    return [data_train, labels_train, data_valid, labels_valid, data_test, labels_test,\n",
      "            data_train_living, data_train_dead, data_valid_living, data_valid_dead, data_test_living, data_test_dead,\n",
      "            age_train_living, age_train_dead, age_valid_living, age_valid_dead, age_test_living, age_test_dead,\n",
      "            icu_train_living, icu_train_dead, icu_valid_living, icu_valid_dead, icu_test_living, icu_test_dead,\n",
      "            train_split, ind_train, ind_valid, ind_test, n_train_splits, train_split]"
     ],
     "language": "python",
     "metadata": {},
     "outputs": [],
     "prompt_number": 1401
    },
    {
     "cell_type": "markdown",
     "metadata": {},
     "source": [
      "# Classify!"
     ]
    },
    {
     "cell_type": "markdown",
     "metadata": {},
     "source": [
      "## Train balanced models!"
     ]
    },
    {
     "cell_type": "code",
     "collapsed": false,
     "input": [
      "def train_balanced(models, data_living, data_dead):\n",
      "    C_train = []\n",
      "    for i in xrange(n_train_splits):\n",
      "        # NO RANDOM SHUFFLE NOW!\n",
      "        data_bal = np.vstack((data_living[i * train_split: (i+1) * train_split, :],\n",
      "                              data_dead[:, :]) )\n",
      "        \n",
      "        label_bal = np.vstack((np.zeros((train_split, 1)),\n",
      "                               np.ones((data_dead.shape[0], 1))))\n",
      "\n",
      "        models[i].fit(data_bal, label_bal[:, 0])\n",
      "        C_train.append(confusion_matrix(label_bal[:,], models[i].predict(data_bal)))\n",
      "        \n",
      "    return C_train"
     ],
     "language": "python",
     "metadata": {},
     "outputs": [],
     "prompt_number": 74
    },
    {
     "cell_type": "code",
     "collapsed": false,
     "input": [
      "### GIVES THE SCORES OF EACH MODEL ON THE DATA\n",
      "def score_models(models, data_valid, labels_valid):\n",
      "    C_valid = []\n",
      "    for i in xrange(n_train_splits):\n",
      "        y = models[i].predict(data_valid)\n",
      "        C_valid.append(confusion_matrix(labels_valid[:], y))\n",
      "        #get_ss(C_valid[i])\n",
      "    return C_valid    "
     ],
     "language": "python",
     "metadata": {},
     "outputs": [],
     "prompt_number": 75
    },
    {
     "cell_type": "markdown",
     "metadata": {},
     "source": [
      "## Train GLM:"
     ]
    },
    {
     "cell_type": "code",
     "collapsed": false,
     "input": [
      "def get_proba(models_bal, data, sort=False):\n",
      "    probs = np.zeros((data.shape[0], len(models_bal)))\n",
      "        \n",
      "    probs = np.array([model.predict_proba(data)[:, 1] for model in models_bal]).T\n",
      "    if sort:\n",
      "        probs = np.sort(probs)\n",
      "    return probs"
     ],
     "language": "python",
     "metadata": {},
     "outputs": [],
     "prompt_number": 628
    },
    {
     "cell_type": "markdown",
     "metadata": {},
     "source": [
      "def train_glm(models_bal, glm):\n",
      "   ##### find the probability estimates of each of the balanced models on the training set \n",
      "    \n",
      "    probs_train = get_proba(models_bal, data_train)\n",
      "    glm.fit(probs_train, labels_train)\n",
      "    \n",
      "    print 'Training data:'\n",
      "    get_ss(confusion_matrix(labels_train, glm.predict(probs_train)))\n",
      "    print 'Validation data:'\n",
      "    get_ss(confusion_matrix(labels_valid, glm.predict(get_proba(models_bal, data_valid))))"
     ]
    },
    {
     "cell_type": "markdown",
     "metadata": {},
     "source": [
      "### Train glm and find threshold for max sens given specificity > 0.99"
     ]
    },
    {
     "cell_type": "code",
     "collapsed": false,
     "input": [
      "def train_probit_reg(models, data, labels):\n",
      "    probs = get_proba(models, data)\n",
      "    pr = spreg.probit.Probit(y=labels, x=probs)\n",
      "    return pr"
     ],
     "language": "python",
     "metadata": {},
     "outputs": [],
     "prompt_number": 77
    },
    {
     "cell_type": "code",
     "collapsed": false,
     "input": [
      "def get_pr_probs(data, pr, models):\n",
      "    y_prob = norm.cdf(np.dot(np.hstack((np.ones((data.shape[0], 1)), \n",
      "                                        get_proba(models, data)\n",
      "                                        )\n",
      "                                       ), pr.betas\n",
      "                             )\n",
      "                      )\n",
      "    return y_prob"
     ],
     "language": "python",
     "metadata": {},
     "outputs": [],
     "prompt_number": 78
    },
    {
     "cell_type": "code",
     "collapsed": false,
     "input": [
      "def get_pr_prob_predictions(y_prob, theta):\n",
      "    return y_prob>theta"
     ],
     "language": "python",
     "metadata": {},
     "outputs": [],
     "prompt_number": 79
    },
    {
     "cell_type": "code",
     "collapsed": false,
     "input": [
      "## CHECK\n",
      "def get_pr_predictions(data, pr, theta_max, models):\n",
      "    y_prob = get_pr_probs(data, pr, models)\n",
      "    return get_pr_prob_predictions(y_prob, theta_max)"
     ],
     "language": "python",
     "metadata": {},
     "outputs": [],
     "prompt_number": 80
    },
    {
     "cell_type": "code",
     "collapsed": false,
     "input": [
      "# find theta that maximises the sens at 99% spec on (data, labels)\n",
      "def train_theta_max_sens(models, data, labels, pr=None, N=100, verbose=False):\n",
      "    sens = []\n",
      "    spec = []\n",
      "    theta_arr = []\n",
      "    if pr!=None:\n",
      "        y_prob = get_pr_probs(data, pr, models)\n",
      "    else:\n",
      "        y_prob = get_model_sum_probs(data, models)\n",
      "        \n",
      "    for t in xrange(1, N):\n",
      "        theta = t*(1.0 / (N-1))\n",
      "        if pr!= None:\n",
      "            y = get_pr_prob_predictions(y_prob, theta)\n",
      "        else:\n",
      "            y = get_model_prob_predictions(y_prob, theta)\n",
      "        \n",
      "        se, sp = get_ss(confusion_matrix(labels, y))\n",
      "        sens.append(se); spec.append(sp); theta_arr.append(theta)\n",
      "\n",
      "    sens = np.array(sens); spec = np.array(spec); theta_arr = np.array(theta_arr);\n",
      "    \n",
      "    # Check if atleast one has >0.99 spec and non zero sens\n",
      "    if (sens[spec>0.99] > 0).any():   # take max spec for which sens>0\n",
      "        ind = spec>0.99\n",
      "        max_ind = np.argmax(sens[ind]) # take max sens for spec>0.99\n",
      "    elif (sens>0).any():\n",
      "        ind = sens>0\n",
      "        max_ind = np.argmax(spec[ind])\n",
      "    else:\n",
      "        ind = np.arange(spec.shape[0])\n",
      "        max_ind = np.argmax(spec[ind])\n",
      "        \n",
      "    sens_ = sens[ind][max_ind]\n",
      "    spec_ = spec[ind][max_ind]\n",
      "    theta = theta_arr[ind][max_ind]\n",
      "    \n",
      "    if verbose==True:\n",
      "        print sens, spec\n",
      "        \n",
      "    print max_ind, sens_, spec_\n",
      "    #print sens[max_ind], spec[max_ind]\n",
      "    return theta"
     ],
     "language": "python",
     "metadata": {},
     "outputs": [],
     "prompt_number": 81
    },
    {
     "cell_type": "code",
     "collapsed": false,
     "input": [
      "## Train glm using training data, and then return the performance on the validation set!\n",
      "def score_with_glm(models, data_train, labels_train, data_train_living, data_train_dead, data_valid, labels_valid, cols=None):\n",
      "    if cols == None:\n",
      "        cols = np.arange(data_train_living.shape[1])\n",
      "        \n",
      "    c_train = train_balanced(models, data_train_living[:, cols], data_train_dead[:, cols]) # train models on subsets of the training data\n",
      "    print '1'\n",
      "    probit_reg = train_probit_reg(models, data_train[:, cols], labels_train)      # Probit reg on all the training data\n",
      "    print '2'\n",
      "    theta_max = train_theta_max_sens(models, data_valid[:, cols], labels_valid,\n",
      "                                     probit_reg)                                # find Optimal theta ON THE VALIDATION SET\n",
      "    \n",
      "    print '3'\n",
      "    y_train = get_pr_predictions(data_train[:, cols], probit_reg, theta_max, models)\n",
      "    y_valid = get_pr_predictions(data_valid[:, cols], probit_reg, theta_max, models)\n",
      "    y_test = get_pr_predictions(data_test[:, cols], probit_reg, theta_max, models)\n",
      "    return [probit_reg, theta_max,\n",
      "            [get_ss(confusion_matrix(labels_train, y_train)),\n",
      "             get_ss(confusion_matrix(labels_valid, y_valid)),\n",
      "             get_ss(confusion_matrix(labels_test, y_test))]]"
     ],
     "language": "python",
     "metadata": {},
     "outputs": [],
     "prompt_number": 82
    },
    {
     "cell_type": "markdown",
     "metadata": {},
     "source": [
      "# Feature selection!"
     ]
    },
    {
     "cell_type": "code",
     "collapsed": false,
     "input": [
      "#### Get col name, window, stats\n",
      "def get_col_stat_window(c):\n",
      "    i = c % (n_features)\n",
      "    f = col_labs[i]\n",
      "    w = int(c / (n_features * len(stats)))\n",
      "    s = stats[int((c % (n_features * len(stats))) / (n_features))].func_name\n",
      "    \n",
      "    return i, f, s, w"
     ],
     "language": "python",
     "metadata": {},
     "outputs": [],
     "prompt_number": 86
    },
    {
     "cell_type": "code",
     "collapsed": false,
     "input": [
      "def get_str(col):\n",
      "    return '-'.join([str(x) for x in get_col_stat_window(col)[1:-1]])"
     ],
     "language": "python",
     "metadata": {},
     "outputs": [],
     "prompt_number": 87
    },
    {
     "cell_type": "markdown",
     "metadata": {},
     "source": [
      "## Following functions for finding mean prediction with threshold (rather than glm)"
     ]
    },
    {
     "cell_type": "code",
     "collapsed": false,
     "input": [
      "def get_model_sum_probs(data, models):\n",
      "    prob_sum = np.zeros((data.shape[0], 2))\n",
      "    for m in models:\n",
      "        p = m.predict_proba(data)\n",
      "        prob_sum = prob_sum + p\n",
      "\n",
      "    return prob_sum"
     ],
     "language": "python",
     "metadata": {},
     "outputs": [],
     "prompt_number": 88
    },
    {
     "cell_type": "code",
     "collapsed": false,
     "input": [
      "def get_model_prob_predictions(prob_sum, theta):\n",
      "    y =  prob_sum[:, 1] - prob_sum[:, 0] > theta\n",
      "    return y"
     ],
     "language": "python",
     "metadata": {},
     "outputs": [],
     "prompt_number": 89
    },
    {
     "cell_type": "code",
     "collapsed": false,
     "input": [
      "def get_model_mean_predictions(data, models, theta):\n",
      "    prob_sum = get_model_sum_probs(data, models)\n",
      "    return get_model_prob_predictions(prob_sum, theta)"
     ],
     "language": "python",
     "metadata": {},
     "outputs": [],
     "prompt_number": 90
    },
    {
     "cell_type": "code",
     "collapsed": false,
     "input": [
      "#### Version with prediction on the validation set\n",
      "##### Train classifier by finding the mean probabilities, and return sens and spec\n",
      "def train_and_score_cols(models, cols, data_train_living=data_train_living,\n",
      "                         data_train_dead=data_train_dead, data_valid=data_valid, labels_valid=labels_valid):\n",
      "    \n",
      "    if cols==None:\n",
      "        cols = np.arange(data_train_living.shape[1])\n",
      "    train_balanced(models, data_train_living[:, cols], data_train_dead[:, cols]);\n",
      "    \n",
      "    theta_max = train_theta_max_sens(models, data_valid[:, cols], labels_valid, verbose=False)\n",
      "    y = get_model_mean_predictions(data_valid[:, cols], models, theta_max)\n",
      "    \n",
      "    se, sp = get_ss(confusion_matrix(labels_valid, y))\n",
      "    #print se, sp\n",
      "    return se, sp, theta_max"
     ],
     "language": "python",
     "metadata": {},
     "outputs": [],
     "prompt_number": 91
    },
    {
     "cell_type": "code",
     "collapsed": false,
     "input": [
      "### Get the column sensitivity and specificity scores\n",
      "def get_col_se_sp(models, data_train_living, data_train_dead, data_valid, labels_valid):\n",
      "    n = data_train_living.shape[1]\n",
      "    se = np.zeros((n,1))\n",
      "    sp = np.zeros((n,1))\n",
      "    \n",
      "    for i in xrange(n):\n",
      "        se[i], sp[i], t = train_and_score_cols(models, [i], data_train_living, data_train_dead, data_valid, labels_valid)\n",
      "    return se, sp"
     ],
     "language": "python",
     "metadata": {},
     "outputs": [],
     "prompt_number": 92
    },
    {
     "cell_type": "code",
     "collapsed": false,
     "input": [
      "## All feature+stats pairs, taken together to train the models\n",
      "def get_feature_stat_se_sp(models):\n",
      "    n = data_train_living.shape[1] / n_windows\n",
      "    se = np.zeros((n,1))\n",
      "    sp = np.zeros((n,1))\n",
      "    \n",
      "    for i in xrange(n):\n",
      "        cols = [i + j*n for j in xrange(n_windows)]\n",
      "        print cols\n",
      "        se[i], sp[i], t = train_and_score_cols(models, [i], data_train_living, data_train_dead, data_valid, labels_valid)\n",
      "    return se, sp"
     ],
     "language": "python",
     "metadata": {},
     "outputs": [],
     "prompt_number": 93
    },
    {
     "cell_type": "code",
     "collapsed": false,
     "input": [
      "## Given cols in first window, train for all windows of that col\n",
      "def train_score_col_windows(models, cols):\n",
      "    n = data_train_living.shape[1] / n_windows\n",
      "    cols_all_windows = np.zeros((1, len(cols)*n_windows))\n",
      "    \n",
      "    for i in xrange(0, n_windows):\n",
      "        cols_all_windows[0, i*len(cols):(i+1)*len(cols)] = [j + i*n for j in cols]\n",
      "        \n",
      "    cols_ =  np.array(cols_all_windows[0, :], dtype=int).tolist()\n",
      "    print cols_\n",
      "    se, sp, t = train_and_score_cols(models, cols_, data_train_living, data_train_dead, data_valid, labels_valid)\n",
      "    return se, sp, t"
     ],
     "language": "python",
     "metadata": {},
     "outputs": [],
     "prompt_number": 94
    },
    {
     "cell_type": "code",
     "collapsed": false,
     "input": [
      "forests = [RandomForestClassifier(n_estimators=300, class_weight=None, max_features=None,\n",
      "                                  n_jobs=-1, max_depth=None\n",
      "                                  ) for i in xrange(n_train_splits)]"
     ],
     "language": "python",
     "metadata": {},
     "outputs": []
    },
    {
     "cell_type": "code",
     "collapsed": true,
     "input": [
      "## Find the se and sp for all feature+stat pairs\n",
      "se_f, sp_f = get_feature_stat_se_sp(forests)"
     ],
     "language": "python",
     "metadata": {},
     "outputs": [
      {
       "output_type": "stream",
       "stream": "stdout",
       "text": [
        "[0, 186, 372]\n",
        "98"
       ]
      },
      {
       "output_type": "stream",
       "stream": "stdout",
       "text": [
        " 0.489795918367 0.577611940299\n",
        "[1, 187, 373]"
       ]
      },
      {
       "output_type": "stream",
       "stream": "stdout",
       "text": [
        "\n",
        "98"
       ]
      },
      {
       "output_type": "stream",
       "stream": "stdout",
       "text": [
        " 0.489795918367 0.601492537313\n",
        "[2, 188, 374]"
       ]
      },
      {
       "output_type": "stream",
       "stream": "stdout",
       "text": [
        "\n",
        "98"
       ]
      },
      {
       "output_type": "stream",
       "stream": "stdout",
       "text": [
        " 0.551020408163 0.59552238806\n",
        "[3, 189, 375]"
       ]
      },
      {
       "output_type": "stream",
       "stream": "stdout",
       "text": [
        "\n",
        "98"
       ]
      },
      {
       "output_type": "stream",
       "stream": "stdout",
       "text": [
        " 0.551020408163 0.598507462687\n",
        "[4, 190, 376]"
       ]
      },
      {
       "output_type": "stream",
       "stream": "stdout",
       "text": [
        "\n",
        "98"
       ]
      },
      {
       "output_type": "stream",
       "stream": "stdout",
       "text": [
        " 0.448979591837 0.558208955224\n",
        "[5, 191, 377]"
       ]
      },
      {
       "output_type": "stream",
       "stream": "stdout",
       "text": [
        "\n",
        "98"
       ]
      },
      {
       "output_type": "stream",
       "stream": "stdout",
       "text": [
        " 0.428571428571 0.520895522388\n",
        "[6, 192, 378]"
       ]
      },
      {
       "output_type": "stream",
       "stream": "stdout",
       "text": [
        "\n",
        "98"
       ]
      },
      {
       "output_type": "stream",
       "stream": "stdout",
       "text": [
        " 0.428571428571 0.746268656716\n",
        "[7, 193, 379]"
       ]
      },
      {
       "output_type": "stream",
       "stream": "stdout",
       "text": [
        "\n",
        "79"
       ]
      },
      {
       "output_type": "stream",
       "stream": "stdout",
       "text": [
        " 0.489795918367 0.734328358209\n",
        "[8, 194, 380]"
       ]
      },
      {
       "output_type": "stream",
       "stream": "stdout",
       "text": [
        "\n",
        "98"
       ]
      },
      {
       "output_type": "stream",
       "stream": "stdout",
       "text": [
        " 0.469387755102 0.723880597015\n",
        "[9, 195, 381]"
       ]
      },
      {
       "output_type": "stream",
       "stream": "stdout",
       "text": [
        "\n",
        "98"
       ]
      },
      {
       "output_type": "stream",
       "stream": "stdout",
       "text": [
        " 0.428571428571 0.619402985075\n",
        "[10, 196, 382]"
       ]
      },
      {
       "output_type": "stream",
       "stream": "stdout",
       "text": [
        "\n",
        "98"
       ]
      },
      {
       "output_type": "stream",
       "stream": "stdout",
       "text": [
        " 0.489795918367 0.605970149254\n",
        "[11, 197, 383]"
       ]
      },
      {
       "output_type": "stream",
       "stream": "stdout",
       "text": [
        "\n",
        "98"
       ]
      },
      {
       "output_type": "stream",
       "stream": "stdout",
       "text": [
        " 0.510204081633 0.705970149254\n",
        "[12, 198, 384]"
       ]
      },
      {
       "output_type": "stream",
       "stream": "stdout",
       "text": [
        "\n",
        "98"
       ]
      },
      {
       "output_type": "stream",
       "stream": "stdout",
       "text": [
        " 0.408163265306 0.610447761194\n",
        "[13, 199, 385]"
       ]
      },
      {
       "output_type": "stream",
       "stream": "stdout",
       "text": [
        "\n",
        "98"
       ]
      },
      {
       "output_type": "stream",
       "stream": "stdout",
       "text": [
        " 0.551020408163 0.59552238806\n",
        "[14, 200, 386]"
       ]
      },
      {
       "output_type": "stream",
       "stream": "stdout",
       "text": [
        "\n",
        "98"
       ]
      },
      {
       "output_type": "stream",
       "stream": "stdout",
       "text": [
        " 0.489795918367 0.622388059701\n",
        "[15, 201, 387]"
       ]
      },
      {
       "output_type": "stream",
       "stream": "stdout",
       "text": [
        "\n",
        "98"
       ]
      },
      {
       "output_type": "stream",
       "stream": "stdout",
       "text": [
        " 0.367346938776 0.574626865672\n",
        "[16, 202, 388]"
       ]
      },
      {
       "output_type": "stream",
       "stream": "stdout",
       "text": [
        "\n",
        "98"
       ]
      },
      {
       "output_type": "stream",
       "stream": "stdout",
       "text": [
        " 0.367346938776 0.608955223881\n",
        "[17, 203, 389]"
       ]
      },
      {
       "output_type": "stream",
       "stream": "stdout",
       "text": [
        "\n",
        "98"
       ]
      },
      {
       "output_type": "stream",
       "stream": "stdout",
       "text": [
        " 0.510204081633 0.64328358209\n",
        "[18, 204, 390]"
       ]
      },
      {
       "output_type": "stream",
       "stream": "stdout",
       "text": [
        "\n",
        "0"
       ]
      },
      {
       "output_type": "stream",
       "stream": "stdout",
       "text": [
        " 0.0 1.0\n",
        "[19, 205, 391]"
       ]
      },
      {
       "output_type": "stream",
       "stream": "stdout",
       "text": [
        "\n",
        "59"
       ]
      },
      {
       "output_type": "stream",
       "stream": "stdout",
       "text": [
        " 0.0408163265306 0.935820895522\n",
        "[20, 206, 392]"
       ]
      },
      {
       "output_type": "stream",
       "stream": "stdout",
       "text": [
        "\n",
        "79"
       ]
      },
      {
       "output_type": "stream",
       "stream": "stdout",
       "text": [
        " 0.367346938776 0.879104477612\n",
        "[21, 207, 393]"
       ]
      },
      {
       "output_type": "stream",
       "stream": "stdout",
       "text": [
        "\n",
        "98"
       ]
      },
      {
       "output_type": "stream",
       "stream": "stdout",
       "text": [
        " 0.367346938776 0.738805970149\n",
        "[22, 208, 394]"
       ]
      },
      {
       "output_type": "stream",
       "stream": "stdout",
       "text": [
        "\n",
        "0"
       ]
      },
      {
       "output_type": "stream",
       "stream": "stdout",
       "text": [
        " 0.0204081632653 0.988059701493\n",
        "[23, 209, 395]"
       ]
      },
      {
       "output_type": "stream",
       "stream": "stdout",
       "text": [
        "\n",
        "98"
       ]
      },
      {
       "output_type": "stream",
       "stream": "stdout",
       "text": [
        " 0.489795918367 0.64328358209\n",
        "[24, 210, 396]"
       ]
      },
      {
       "output_type": "stream",
       "stream": "stdout",
       "text": [
        "\n",
        "0"
       ]
      },
      {
       "output_type": "stream",
       "stream": "stdout",
       "text": [
        " 0.918367346939 0.0761194029851\n",
        "[25, 211, 397]"
       ]
      },
      {
       "output_type": "stream",
       "stream": "stdout",
       "text": [
        "\n",
        "98"
       ]
      },
      {
       "output_type": "stream",
       "stream": "stdout",
       "text": [
        " 0.448979591837 0.832835820896\n",
        "[26, 212, 398]"
       ]
      },
      {
       "output_type": "stream",
       "stream": "stdout",
       "text": [
        "\n",
        "98"
       ]
      },
      {
       "output_type": "stream",
       "stream": "stdout",
       "text": [
        " 0.408163265306 0.702985074627\n",
        "[27, 213, 399]"
       ]
      },
      {
       "output_type": "stream",
       "stream": "stdout",
       "text": [
        "\n",
        "98"
       ]
      },
      {
       "output_type": "stream",
       "stream": "stdout",
       "text": [
        " 0.326530612245 0.692537313433\n",
        "[28, 214, 400]"
       ]
      },
      {
       "output_type": "stream",
       "stream": "stdout",
       "text": [
        "\n",
        "98"
       ]
      },
      {
       "output_type": "stream",
       "stream": "stdout",
       "text": [
        " 0.285714285714 0.791044776119\n",
        "[29, 215, 401]"
       ]
      },
      {
       "output_type": "stream",
       "stream": "stdout",
       "text": [
        "\n",
        "0"
       ]
      },
      {
       "output_type": "stream",
       "stream": "stdout",
       "text": [
        " 1.0 0.0507462686567\n",
        "[30, 216, 402]"
       ]
      },
      {
       "output_type": "stream",
       "stream": "stdout",
       "text": [
        "\n",
        "98"
       ]
      },
      {
       "output_type": "stream",
       "stream": "stdout",
       "text": [
        " 0.34693877551 0.731343283582\n",
        "[31, 217, 403]"
       ]
      },
      {
       "output_type": "stream",
       "stream": "stdout",
       "text": [
        "\n",
        "75"
       ]
      },
      {
       "output_type": "stream",
       "stream": "stdout",
       "text": [
        " 0.571428571429 0.464179104478\n",
        "[32, 218, 404]"
       ]
      },
      {
       "output_type": "stream",
       "stream": "stdout",
       "text": [
        "\n",
        "93"
       ]
      },
      {
       "output_type": "stream",
       "stream": "stdout",
       "text": [
        " 0.387755102041 0.697014925373\n",
        "[33, 219, 405]"
       ]
      },
      {
       "output_type": "stream",
       "stream": "stdout",
       "text": [
        "\n",
        "95"
       ]
      },
      {
       "output_type": "stream",
       "stream": "stdout",
       "text": [
        " 0.551020408163 0.697014925373\n",
        "[34, 220, 406]"
       ]
      },
      {
       "output_type": "stream",
       "stream": "stdout",
       "text": [
        "\n",
        "34"
       ]
      },
      {
       "output_type": "stream",
       "stream": "stdout",
       "text": [
        " 0.448979591837 0.631343283582\n",
        "[35, 221, 407]"
       ]
      },
      {
       "output_type": "stream",
       "stream": "stdout",
       "text": [
        "\n",
        "0"
       ]
      },
      {
       "output_type": "stream",
       "stream": "stdout",
       "text": [
        " 0.714285714286 0.350746268657\n",
        "[36, 222, 408]"
       ]
      },
      {
       "output_type": "stream",
       "stream": "stdout",
       "text": [
        "\n",
        "42"
       ]
      },
      {
       "output_type": "stream",
       "stream": "stdout",
       "text": [
        " 0.244897959184 0.749253731343\n",
        "[37, 223, 409]"
       ]
      },
      {
       "output_type": "stream",
       "stream": "stdout",
       "text": [
        "\n",
        "98"
       ]
      },
      {
       "output_type": "stream",
       "stream": "stdout",
       "text": [
        " 0.285714285714 0.810447761194\n",
        "[38, 224, 410]"
       ]
      },
      {
       "output_type": "stream",
       "stream": "stdout",
       "text": [
        "\n",
        "98"
       ]
      },
      {
       "output_type": "stream",
       "stream": "stdout",
       "text": [
        " 0.183673469388 0.789552238806\n",
        "[39, 225, 411]"
       ]
      },
      {
       "output_type": "stream",
       "stream": "stdout",
       "text": [
        "\n",
        "98"
       ]
      },
      {
       "output_type": "stream",
       "stream": "stdout",
       "text": [
        " 0.30612244898 0.783582089552\n",
        "[40, 226, 412]"
       ]
      },
      {
       "output_type": "stream",
       "stream": "stdout",
       "text": [
        "\n",
        "98"
       ]
      },
      {
       "output_type": "stream",
       "stream": "stdout",
       "text": [
        " 0.265306122449 0.75223880597\n",
        "[41, 227, 413]"
       ]
      },
      {
       "output_type": "stream",
       "stream": "stdout",
       "text": [
        "\n",
        "98"
       ]
      },
      {
       "output_type": "stream",
       "stream": "stdout",
       "text": [
        " 0.30612244898 0.701492537313\n",
        "[42, 228, 414]"
       ]
      },
      {
       "output_type": "stream",
       "stream": "stdout",
       "text": [
        "\n",
        "98"
       ]
      },
      {
       "output_type": "stream",
       "stream": "stdout",
       "text": [
        " 0.0816326530612 0.859701492537\n",
        "[43, 229, 415]"
       ]
      },
      {
       "output_type": "stream",
       "stream": "stdout",
       "text": [
        "\n",
        "98"
       ]
      },
      {
       "output_type": "stream",
       "stream": "stdout",
       "text": [
        " 0.428571428571 0.69552238806\n",
        "[44, 230, 416]"
       ]
      },
      {
       "output_type": "stream",
       "stream": "stdout",
       "text": [
        "\n",
        "98"
       ]
      },
      {
       "output_type": "stream",
       "stream": "stdout",
       "text": [
        " 0.469387755102 0.722388059701\n",
        "[45, 231, 417]"
       ]
      },
      {
       "output_type": "stream",
       "stream": "stdout",
       "text": [
        "\n",
        "98"
       ]
      },
      {
       "output_type": "stream",
       "stream": "stdout",
       "text": [
        " 0.34693877551 0.737313432836\n",
        "[46, 232, 418]"
       ]
      },
      {
       "output_type": "stream",
       "stream": "stdout",
       "text": [
        "\n",
        "98"
       ]
      },
      {
       "output_type": "stream",
       "stream": "stdout",
       "text": [
        " 0.326530612245 0.697014925373\n",
        "[47, 233, 419]"
       ]
      },
      {
       "output_type": "stream",
       "stream": "stdout",
       "text": [
        "\n",
        "98"
       ]
      },
      {
       "output_type": "stream",
       "stream": "stdout",
       "text": [
        " 0.102040816327 0.819402985075\n",
        "[48, 234, 420]"
       ]
      },
      {
       "output_type": "stream",
       "stream": "stdout",
       "text": [
        "\n",
        "79"
       ]
      },
      {
       "output_type": "stream",
       "stream": "stdout",
       "text": [
        " 0.326530612245 0.819402985075\n",
        "[49, 235, 421]"
       ]
      },
      {
       "output_type": "stream",
       "stream": "stdout",
       "text": [
        "\n",
        "0"
       ]
      },
      {
       "output_type": "stream",
       "stream": "stdout",
       "text": [
        " 0.0 1.0\n",
        "[50, 236, 422]"
       ]
      },
      {
       "output_type": "stream",
       "stream": "stdout",
       "text": [
        "\n",
        "0"
       ]
      },
      {
       "output_type": "stream",
       "stream": "stdout",
       "text": [
        " 0.979591836735 0.0761194029851\n",
        "[51, 237, 423]"
       ]
      },
      {
       "output_type": "stream",
       "stream": "stdout",
       "text": [
        "\n",
        "98"
       ]
      },
      {
       "output_type": "stream",
       "stream": "stdout",
       "text": [
        " 0.204081632653 0.934328358209\n",
        "[52, 238, 424]"
       ]
      },
      {
       "output_type": "stream",
       "stream": "stdout",
       "text": [
        "\n",
        "79"
       ]
      },
      {
       "output_type": "stream",
       "stream": "stdout",
       "text": [
        " 0.224489795918 0.876119402985\n",
        "[53, 239, 425]"
       ]
      },
      {
       "output_type": "stream",
       "stream": "stdout",
       "text": [
        "\n",
        "0"
       ]
      },
      {
       "output_type": "stream",
       "stream": "stdout",
       "text": [
        " 0.0 0.998507462687\n",
        "[54, 240, 426]"
       ]
      },
      {
       "output_type": "stream",
       "stream": "stdout",
       "text": [
        "\n",
        "98"
       ]
      },
      {
       "output_type": "stream",
       "stream": "stdout",
       "text": [
        " 0.530612244898 0.641791044776\n",
        "[55, 241, 427]"
       ]
      },
      {
       "output_type": "stream",
       "stream": "stdout",
       "text": [
        "\n",
        "0"
       ]
      },
      {
       "output_type": "stream",
       "stream": "stdout",
       "text": [
        " 0.0 0.998507462687\n",
        "[56, 242, 428]"
       ]
      },
      {
       "output_type": "stream",
       "stream": "stdout",
       "text": [
        "\n",
        "98"
       ]
      },
      {
       "output_type": "stream",
       "stream": "stdout",
       "text": [
        " 0.428571428571 0.846268656716\n",
        "[57, 243, 429]"
       ]
      },
      {
       "output_type": "stream",
       "stream": "stdout",
       "text": [
        "\n",
        "98"
       ]
      },
      {
       "output_type": "stream",
       "stream": "stdout",
       "text": [
        " 0.734693877551 0.346268656716\n",
        "[58, 244, 430]"
       ]
      },
      {
       "output_type": "stream",
       "stream": "stdout",
       "text": [
        "\n",
        "98"
       ]
      },
      {
       "output_type": "stream",
       "stream": "stdout",
       "text": [
        " 0.326530612245 0.771641791045\n",
        "[59, 245, 431]"
       ]
      },
      {
       "output_type": "stream",
       "stream": "stdout",
       "text": [
        "\n",
        "98"
       ]
      },
      {
       "output_type": "stream",
       "stream": "stdout",
       "text": [
        " 0.224489795918 0.902985074627\n",
        "[60, 246, 432]"
       ]
      },
      {
       "output_type": "stream",
       "stream": "stdout",
       "text": [
        "\n",
        "0"
       ]
      },
      {
       "output_type": "stream",
       "stream": "stdout",
       "text": [
        " 0.0 0.988059701493\n",
        "[61, 247, 433]"
       ]
      },
      {
       "output_type": "stream",
       "stream": "stdout",
       "text": [
        "\n",
        "98"
       ]
      },
      {
       "output_type": "stream",
       "stream": "stdout",
       "text": [
        " 0.163265306122 0.832835820896\n",
        "[62, 248, 434]"
       ]
      },
      {
       "output_type": "stream",
       "stream": "stdout",
       "text": [
        "\n",
        "98"
       ]
      },
      {
       "output_type": "stream",
       "stream": "stdout",
       "text": [
        " 0.428571428571 0.628358208955\n",
        "[63, 249, 435]"
       ]
      },
      {
       "output_type": "stream",
       "stream": "stdout",
       "text": [
        "\n",
        "98"
       ]
      },
      {
       "output_type": "stream",
       "stream": "stdout",
       "text": [
        " 0.387755102041 0.537313432836\n",
        "[64, 250, 436]"
       ]
      },
      {
       "output_type": "stream",
       "stream": "stdout",
       "text": [
        "\n",
        "98"
       ]
      },
      {
       "output_type": "stream",
       "stream": "stdout",
       "text": [
        " 0.448979591837 0.622388059701\n",
        "[65, 251, 437]"
       ]
      },
      {
       "output_type": "stream",
       "stream": "stdout",
       "text": [
        "\n",
        "98"
       ]
      },
      {
       "output_type": "stream",
       "stream": "stdout",
       "text": [
        " 0.530612244898 0.579104477612\n",
        "[66, 252, 438]"
       ]
      },
      {
       "output_type": "stream",
       "stream": "stdout",
       "text": [
        "\n",
        "98"
       ]
      },
      {
       "output_type": "stream",
       "stream": "stdout",
       "text": [
        " 0.408163265306 0.628358208955\n",
        "[67, 253, 439]"
       ]
      },
      {
       "output_type": "stream",
       "stream": "stdout",
       "text": [
        "\n",
        "98"
       ]
      },
      {
       "output_type": "stream",
       "stream": "stdout",
       "text": [
        " 0.448979591837 0.580597014925\n",
        "[68, 254, 440]"
       ]
      },
      {
       "output_type": "stream",
       "stream": "stdout",
       "text": [
        "\n",
        "98"
       ]
      },
      {
       "output_type": "stream",
       "stream": "stdout",
       "text": [
        " 0.367346938776 0.697014925373\n",
        "[69, 255, 441]"
       ]
      },
      {
       "output_type": "stream",
       "stream": "stdout",
       "text": [
        "\n",
        "98"
       ]
      },
      {
       "output_type": "stream",
       "stream": "stdout",
       "text": [
        " 0.408163265306 0.705970149254\n",
        "[70, 256, 442]"
       ]
      },
      {
       "output_type": "stream",
       "stream": "stdout",
       "text": [
        "\n",
        "98"
       ]
      },
      {
       "output_type": "stream",
       "stream": "stdout",
       "text": [
        " 0.489795918367 0.722388059701\n",
        "[71, 257, 443]"
       ]
      },
      {
       "output_type": "stream",
       "stream": "stdout",
       "text": [
        "\n",
        "98"
       ]
      },
      {
       "output_type": "stream",
       "stream": "stdout",
       "text": [
        " 0.448979591837 0.629850746269\n",
        "[72, 258, 444]"
       ]
      },
      {
       "output_type": "stream",
       "stream": "stdout",
       "text": [
        "\n",
        "98"
       ]
      },
      {
       "output_type": "stream",
       "stream": "stdout",
       "text": [
        " 0.367346938776 0.637313432836\n",
        "[73, 259, 445]"
       ]
      },
      {
       "output_type": "stream",
       "stream": "stdout",
       "text": [
        "\n",
        "98"
       ]
      },
      {
       "output_type": "stream",
       "stream": "stdout",
       "text": [
        " 0.632653061224 0.7\n",
        "[74, 260, 446]"
       ]
      },
      {
       "output_type": "stream",
       "stream": "stdout",
       "text": [
        "\n",
        "98"
       ]
      },
      {
       "output_type": "stream",
       "stream": "stdout",
       "text": [
        " 0.469387755102 0.568656716418\n",
        "[75, 261, 447]"
       ]
      },
      {
       "output_type": "stream",
       "stream": "stdout",
       "text": [
        "\n",
        "98"
       ]
      },
      {
       "output_type": "stream",
       "stream": "stdout",
       "text": [
        " 0.408163265306 0.613432835821\n",
        "[76, 262, 448]"
       ]
      },
      {
       "output_type": "stream",
       "stream": "stdout",
       "text": [
        "\n",
        "98"
       ]
      },
      {
       "output_type": "stream",
       "stream": "stdout",
       "text": [
        " 0.387755102041 0.594029850746\n",
        "[77, 263, 449]"
       ]
      },
      {
       "output_type": "stream",
       "stream": "stdout",
       "text": [
        "\n",
        "98"
       ]
      },
      {
       "output_type": "stream",
       "stream": "stdout",
       "text": [
        " 0.367346938776 0.607462686567\n",
        "[78, 264, 450]"
       ]
      },
      {
       "output_type": "stream",
       "stream": "stdout",
       "text": [
        "\n",
        "98"
       ]
      },
      {
       "output_type": "stream",
       "stream": "stdout",
       "text": [
        " 0.387755102041 0.617910447761\n",
        "[79, 265, 451]"
       ]
      },
      {
       "output_type": "stream",
       "stream": "stdout",
       "text": [
        "\n",
        "98"
       ]
      },
      {
       "output_type": "stream",
       "stream": "stdout",
       "text": [
        " 0.448979591837 0.661194029851\n",
        "[80, 266, 452]"
       ]
      },
      {
       "output_type": "stream",
       "stream": "stdout",
       "text": [
        "\n",
        "0"
       ]
      },
      {
       "output_type": "stream",
       "stream": "stdout",
       "text": [
        " 0.0 1.0\n",
        "[81, 267, 453]"
       ]
      },
      {
       "output_type": "stream",
       "stream": "stdout",
       "text": [
        "\n",
        "98"
       ]
      },
      {
       "output_type": "stream",
       "stream": "stdout",
       "text": [
        " 0.0204081632653 0.938805970149\n",
        "[82, 268, 454]"
       ]
      },
      {
       "output_type": "stream",
       "stream": "stdout",
       "text": [
        "\n",
        "59"
       ]
      },
      {
       "output_type": "stream",
       "stream": "stdout",
       "text": [
        " 0.265306122449 0.85223880597\n",
        "[83, 269, 455]"
       ]
      },
      {
       "output_type": "stream",
       "stream": "stdout",
       "text": [
        "\n",
        "98"
       ]
      },
      {
       "output_type": "stream",
       "stream": "stdout",
       "text": [
        " 0.367346938776 0.776119402985\n",
        "[84, 270, 456]"
       ]
      },
      {
       "output_type": "stream",
       "stream": "stdout",
       "text": [
        "\n",
        "0"
       ]
      },
      {
       "output_type": "stream",
       "stream": "stdout",
       "text": [
        " 0.0204081632653 0.988059701493\n",
        "[85, 271, 457]"
       ]
      },
      {
       "output_type": "stream",
       "stream": "stdout",
       "text": [
        "\n",
        "98"
       ]
      },
      {
       "output_type": "stream",
       "stream": "stdout",
       "text": [
        " 0.387755102041 0.60447761194\n",
        "[86, 272, 458]"
       ]
      },
      {
       "output_type": "stream",
       "stream": "stdout",
       "text": [
        "\n",
        "0"
       ]
      },
      {
       "output_type": "stream",
       "stream": "stdout",
       "text": [
        " 0.918367346939 0.0731343283582\n",
        "[87, 273, 459]"
       ]
      },
      {
       "output_type": "stream",
       "stream": "stdout",
       "text": [
        "\n",
        "59"
       ]
      },
      {
       "output_type": "stream",
       "stream": "stdout",
       "text": [
        " 0.387755102041 0.782089552239\n",
        "[88, 274, 460]"
       ]
      },
      {
       "output_type": "stream",
       "stream": "stdout",
       "text": [
        "\n",
        "98"
       ]
      },
      {
       "output_type": "stream",
       "stream": "stdout",
       "text": [
        " 0.428571428571 0.65223880597\n",
        "[89, 275, 461]"
       ]
      },
      {
       "output_type": "stream",
       "stream": "stdout",
       "text": [
        "\n",
        "98"
       ]
      },
      {
       "output_type": "stream",
       "stream": "stdout",
       "text": [
        " 0.34693877551 0.668656716418\n",
        "[90, 276, 462]"
       ]
      },
      {
       "output_type": "stream",
       "stream": "stdout",
       "text": [
        "\n",
        "98"
       ]
      },
      {
       "output_type": "stream",
       "stream": "stdout",
       "text": [
        " 0.387755102041 0.802985074627\n",
        "[91, 277, 463]"
       ]
      },
      {
       "output_type": "stream",
       "stream": "stdout",
       "text": [
        "\n",
        "6"
       ]
      },
      {
       "output_type": "stream",
       "stream": "stdout",
       "text": [
        " 1.0 0.0567164179104\n",
        "[92, 278, 464]"
       ]
      },
      {
       "output_type": "stream",
       "stream": "stdout",
       "text": [
        "\n",
        "98"
       ]
      },
      {
       "output_type": "stream",
       "stream": "stdout",
       "text": [
        " 0.224489795918 0.729850746269\n",
        "[93, 279, 465]"
       ]
      },
      {
       "output_type": "stream",
       "stream": "stdout",
       "text": [
        "\n",
        "98"
       ]
      },
      {
       "output_type": "stream",
       "stream": "stdout",
       "text": [
        " 0.571428571429 0.653731343284\n",
        "[94, 280, 466]"
       ]
      },
      {
       "output_type": "stream",
       "stream": "stdout",
       "text": [
        "\n",
        "96"
       ]
      },
      {
       "output_type": "stream",
       "stream": "stdout",
       "text": [
        " 0.510204081633 0.661194029851\n",
        "[95, 281, 467]"
       ]
      },
      {
       "output_type": "stream",
       "stream": "stdout",
       "text": [
        "\n",
        "95"
       ]
      },
      {
       "output_type": "stream",
       "stream": "stdout",
       "text": [
        " 0.469387755102 0.614925373134\n",
        "[96, 282, 468]"
       ]
      },
      {
       "output_type": "stream",
       "stream": "stdout",
       "text": [
        "\n",
        "54"
       ]
      },
      {
       "output_type": "stream",
       "stream": "stdout",
       "text": [
        " 0.408163265306 0.764179104478\n",
        "[97, 283, 469]"
       ]
      },
      {
       "output_type": "stream",
       "stream": "stdout",
       "text": [
        "\n",
        "87"
       ]
      },
      {
       "output_type": "stream",
       "stream": "stdout",
       "text": [
        " 0.34693877551 0.782089552239\n",
        "[98, 284, 470]"
       ]
      },
      {
       "output_type": "stream",
       "stream": "stdout",
       "text": [
        "\n",
        "65"
       ]
      },
      {
       "output_type": "stream",
       "stream": "stdout",
       "text": [
        " 0.530612244898 0.659701492537\n",
        "[99, 285, 471]"
       ]
      },
      {
       "output_type": "stream",
       "stream": "stdout",
       "text": [
        "\n",
        "98"
       ]
      },
      {
       "output_type": "stream",
       "stream": "stdout",
       "text": [
        " 0.34693877551 0.765671641791\n",
        "[100, 286, 472]"
       ]
      },
      {
       "output_type": "stream",
       "stream": "stdout",
       "text": [
        "\n",
        "98"
       ]
      },
      {
       "output_type": "stream",
       "stream": "stdout",
       "text": [
        " 0.448979591837 0.779104477612\n",
        "[101, 287, 473]"
       ]
      },
      {
       "output_type": "stream",
       "stream": "stdout",
       "text": [
        "\n",
        "98"
       ]
      },
      {
       "output_type": "stream",
       "stream": "stdout",
       "text": [
        " 0.367346938776 0.79552238806\n",
        "[102, 288, 474]"
       ]
      },
      {
       "output_type": "stream",
       "stream": "stdout",
       "text": [
        "\n",
        "98"
       ]
      },
      {
       "output_type": "stream",
       "stream": "stdout",
       "text": [
        " 0.326530612245 0.726865671642\n",
        "[103, 289, 475]"
       ]
      },
      {
       "output_type": "stream",
       "stream": "stdout",
       "text": [
        "\n",
        "98"
       ]
      },
      {
       "output_type": "stream",
       "stream": "stdout",
       "text": [
        " 0.204081632653 0.75671641791\n",
        "[104, 290, 476]"
       ]
      },
      {
       "output_type": "stream",
       "stream": "stdout",
       "text": [
        "\n",
        "59"
       ]
      },
      {
       "output_type": "stream",
       "stream": "stdout",
       "text": [
        " 0.428571428571 0.811940298507\n",
        "[105, 291, 477]"
       ]
      },
      {
       "output_type": "stream",
       "stream": "stdout",
       "text": [
        "\n",
        "98"
       ]
      },
      {
       "output_type": "stream",
       "stream": "stdout",
       "text": [
        " 0.204081632653 0.75671641791\n",
        "[106, 292, 478]"
       ]
      },
      {
       "output_type": "stream",
       "stream": "stdout",
       "text": [
        "\n",
        "98"
       ]
      },
      {
       "output_type": "stream",
       "stream": "stdout",
       "text": [
        " 0.673469387755 0.414925373134\n",
        "[107, 293, 479]"
       ]
      },
      {
       "output_type": "stream",
       "stream": "stdout",
       "text": [
        "\n",
        "98"
       ]
      },
      {
       "output_type": "stream",
       "stream": "stdout",
       "text": [
        " 0.69387755102 0.40447761194\n",
        "[108, 294, 480]"
       ]
      },
      {
       "output_type": "stream",
       "stream": "stdout",
       "text": [
        "\n",
        "79"
       ]
      },
      {
       "output_type": "stream",
       "stream": "stdout",
       "text": [
        " 0.122448979592 0.814925373134\n",
        "[109, 295, 481]"
       ]
      },
      {
       "output_type": "stream",
       "stream": "stdout",
       "text": [
        "\n",
        "98"
       ]
      },
      {
       "output_type": "stream",
       "stream": "stdout",
       "text": [
        " 0.34693877551 0.728358208955\n",
        "[110, 296, 482]"
       ]
      },
      {
       "output_type": "stream",
       "stream": "stdout",
       "text": [
        "\n",
        "98"
       ]
      },
      {
       "output_type": "stream",
       "stream": "stdout",
       "text": [
        " 0.183673469388 0.783582089552\n",
        "[111, 297, 483]"
       ]
      },
      {
       "output_type": "stream",
       "stream": "stdout",
       "text": [
        "\n",
        "0"
       ]
      },
      {
       "output_type": "stream",
       "stream": "stdout",
       "text": [
        " 0.0 1.0\n",
        "[112, 298, 484]"
       ]
      },
      {
       "output_type": "stream",
       "stream": "stdout",
       "text": [
        "\n",
        "79"
       ]
      },
      {
       "output_type": "stream",
       "stream": "stdout",
       "text": [
        " 0.0612244897959 0.950746268657\n",
        "[113, 299, 485]"
       ]
      },
      {
       "output_type": "stream",
       "stream": "stdout",
       "text": [
        "\n",
        "59"
       ]
      },
      {
       "output_type": "stream",
       "stream": "stdout",
       "text": [
        " 0.0816326530612 0.932835820896\n",
        "[114, 300, 486]"
       ]
      },
      {
       "output_type": "stream",
       "stream": "stdout",
       "text": [
        "\n",
        "98"
       ]
      },
      {
       "output_type": "stream",
       "stream": "stdout",
       "text": [
        " 0.34693877551 0.80447761194\n",
        "[115, 301, 487]"
       ]
      },
      {
       "output_type": "stream",
       "stream": "stdout",
       "text": [
        "\n",
        "0"
       ]
      },
      {
       "output_type": "stream",
       "stream": "stdout",
       "text": [
        " 0.0204081632653 0.988059701493\n",
        "[116, 302, 488]"
       ]
      },
      {
       "output_type": "stream",
       "stream": "stdout",
       "text": [
        "\n",
        "98"
       ]
      },
      {
       "output_type": "stream",
       "stream": "stdout",
       "text": [
        " 0.387755102041 0.686567164179\n",
        "[117, 303, 489]"
       ]
      },
      {
       "output_type": "stream",
       "stream": "stdout",
       "text": [
        "\n",
        "0"
       ]
      },
      {
       "output_type": "stream",
       "stream": "stdout",
       "text": [
        " 0.0 1.0\n",
        "[118, 304, 490]"
       ]
      },
      {
       "output_type": "stream",
       "stream": "stdout",
       "text": [
        "\n",
        "98"
       ]
      },
      {
       "output_type": "stream",
       "stream": "stdout",
       "text": [
        " 0.224489795918 0.85223880597\n",
        "[119, 305, 491]"
       ]
      },
      {
       "output_type": "stream",
       "stream": "stdout",
       "text": [
        "\n",
        "98"
       ]
      },
      {
       "output_type": "stream",
       "stream": "stdout",
       "text": [
        " 0.408163265306 0.841791044776\n",
        "[120, 306, 492]"
       ]
      },
      {
       "output_type": "stream",
       "stream": "stdout",
       "text": [
        "\n",
        "98"
       ]
      },
      {
       "output_type": "stream",
       "stream": "stdout",
       "text": [
        " 0.224489795918 0.834328358209\n",
        "[121, 307, 493]"
       ]
      },
      {
       "output_type": "stream",
       "stream": "stdout",
       "text": [
        "\n",
        "79"
       ]
      },
      {
       "output_type": "stream",
       "stream": "stdout",
       "text": [
        " 0.0816326530612 0.85223880597\n",
        "[122, 308, 494]"
       ]
      },
      {
       "output_type": "stream",
       "stream": "stdout",
       "text": [
        "\n",
        "0"
       ]
      },
      {
       "output_type": "stream",
       "stream": "stdout",
       "text": [
        " 0.0 0.997014925373\n",
        "[123, 309, 495]"
       ]
      },
      {
       "output_type": "stream",
       "stream": "stdout",
       "text": [
        "\n",
        "98"
       ]
      },
      {
       "output_type": "stream",
       "stream": "stdout",
       "text": [
        " 0.204081632653 0.797014925373\n",
        "[124, 310, 496]"
       ]
      },
      {
       "output_type": "stream",
       "stream": "stdout",
       "text": [
        "\n",
        "62"
       ]
      },
      {
       "output_type": "stream",
       "stream": "stdout",
       "text": [
        " 0.551020408163 0.591044776119\n",
        "[125, 311, 497]"
       ]
      },
      {
       "output_type": "stream",
       "stream": "stdout",
       "text": [
        "\n",
        "62"
       ]
      },
      {
       "output_type": "stream",
       "stream": "stdout",
       "text": [
        " 0.551020408163 0.591044776119\n",
        "[126, 312, 498]"
       ]
      },
      {
       "output_type": "stream",
       "stream": "stdout",
       "text": [
        "\n",
        "62"
       ]
      },
      {
       "output_type": "stream",
       "stream": "stdout",
       "text": [
        " 0.551020408163 0.591044776119\n",
        "[127, 313, 499]"
       ]
      },
      {
       "output_type": "stream",
       "stream": "stdout",
       "text": [
        "\n",
        "62"
       ]
      },
      {
       "output_type": "stream",
       "stream": "stdout",
       "text": [
        " 0.551020408163 0.591044776119\n",
        "[128, 314, 500]"
       ]
      },
      {
       "output_type": "stream",
       "stream": "stdout",
       "text": [
        "\n",
        "62"
       ]
      },
      {
       "output_type": "stream",
       "stream": "stdout",
       "text": [
        " 0.551020408163 0.591044776119\n",
        "[129, 315, 501]"
       ]
      },
      {
       "output_type": "stream",
       "stream": "stdout",
       "text": [
        "\n",
        "62"
       ]
      },
      {
       "output_type": "stream",
       "stream": "stdout",
       "text": [
        " 0.551020408163 0.591044776119\n",
        "[130, 316, 502]"
       ]
      },
      {
       "output_type": "stream",
       "stream": "stdout",
       "text": [
        "\n",
        "62"
       ]
      },
      {
       "output_type": "stream",
       "stream": "stdout",
       "text": [
        " 0.551020408163 0.591044776119\n",
        "[131, 317, 503]"
       ]
      },
      {
       "output_type": "stream",
       "stream": "stdout",
       "text": [
        "\n",
        "62"
       ]
      },
      {
       "output_type": "stream",
       "stream": "stdout",
       "text": [
        " 0.551020408163 0.591044776119\n",
        "[132, 318, 504]"
       ]
      },
      {
       "output_type": "stream",
       "stream": "stdout",
       "text": [
        "\n",
        "62"
       ]
      },
      {
       "output_type": "stream",
       "stream": "stdout",
       "text": [
        " 0.551020408163 0.591044776119\n",
        "[133, 319, 505]"
       ]
      },
      {
       "output_type": "stream",
       "stream": "stdout",
       "text": [
        "\n",
        "62"
       ]
      },
      {
       "output_type": "stream",
       "stream": "stdout",
       "text": [
        " 0.551020408163 0.591044776119\n",
        "[134, 320, 506]"
       ]
      },
      {
       "output_type": "stream",
       "stream": "stdout",
       "text": [
        "\n",
        "62"
       ]
      },
      {
       "output_type": "stream",
       "stream": "stdout",
       "text": [
        " 0.551020408163 0.591044776119\n",
        "[135, 321, 507]"
       ]
      },
      {
       "output_type": "stream",
       "stream": "stdout",
       "text": [
        "\n",
        "62"
       ]
      },
      {
       "output_type": "stream",
       "stream": "stdout",
       "text": [
        " 0.551020408163 0.591044776119\n",
        "[136, 322, 508]"
       ]
      },
      {
       "output_type": "stream",
       "stream": "stdout",
       "text": [
        "\n",
        "62"
       ]
      },
      {
       "output_type": "stream",
       "stream": "stdout",
       "text": [
        " 0.551020408163 0.591044776119\n",
        "[137, 323, 509]"
       ]
      },
      {
       "output_type": "stream",
       "stream": "stdout",
       "text": [
        "\n",
        "62"
       ]
      },
      {
       "output_type": "stream",
       "stream": "stdout",
       "text": [
        " 0.551020408163 0.591044776119\n",
        "[138, 324, 510]"
       ]
      },
      {
       "output_type": "stream",
       "stream": "stdout",
       "text": [
        "\n",
        "62"
       ]
      },
      {
       "output_type": "stream",
       "stream": "stdout",
       "text": [
        " 0.551020408163 0.591044776119\n",
        "[139, 325, 511]"
       ]
      },
      {
       "output_type": "stream",
       "stream": "stdout",
       "text": [
        "\n",
        "62"
       ]
      },
      {
       "output_type": "stream",
       "stream": "stdout",
       "text": [
        " 0.551020408163 0.591044776119\n",
        "[140, 326, 512]"
       ]
      },
      {
       "output_type": "stream",
       "stream": "stdout",
       "text": [
        "\n",
        "62"
       ]
      },
      {
       "output_type": "stream",
       "stream": "stdout",
       "text": [
        " 0.551020408163 0.591044776119\n",
        "[141, 327, 513]"
       ]
      },
      {
       "output_type": "stream",
       "stream": "stdout",
       "text": [
        "\n",
        "62"
       ]
      },
      {
       "output_type": "stream",
       "stream": "stdout",
       "text": [
        " 0.551020408163 0.591044776119\n",
        "[142, 328, 514]"
       ]
      },
      {
       "output_type": "stream",
       "stream": "stdout",
       "text": [
        "\n",
        "62"
       ]
      },
      {
       "output_type": "stream",
       "stream": "stdout",
       "text": [
        " 0.551020408163 0.591044776119\n",
        "[143, 329, 515]"
       ]
      },
      {
       "output_type": "stream",
       "stream": "stdout",
       "text": [
        "\n",
        "62"
       ]
      },
      {
       "output_type": "stream",
       "stream": "stdout",
       "text": [
        " 0.551020408163 0.591044776119\n",
        "[144, 330, 516]"
       ]
      },
      {
       "output_type": "stream",
       "stream": "stdout",
       "text": [
        "\n",
        "62"
       ]
      },
      {
       "output_type": "stream",
       "stream": "stdout",
       "text": [
        " 0.551020408163 0.591044776119\n",
        "[145, 331, 517]"
       ]
      },
      {
       "output_type": "stream",
       "stream": "stdout",
       "text": [
        "\n",
        "62"
       ]
      },
      {
       "output_type": "stream",
       "stream": "stdout",
       "text": [
        " 0.551020408163 0.591044776119\n",
        "[146, 332, 518]"
       ]
      },
      {
       "output_type": "stream",
       "stream": "stdout",
       "text": [
        "\n",
        "62"
       ]
      },
      {
       "output_type": "stream",
       "stream": "stdout",
       "text": [
        " 0.551020408163 0.591044776119\n",
        "[147, 333, 519]"
       ]
      },
      {
       "output_type": "stream",
       "stream": "stdout",
       "text": [
        "\n",
        "62"
       ]
      },
      {
       "output_type": "stream",
       "stream": "stdout",
       "text": [
        " 0.551020408163 0.591044776119\n",
        "[148, 334, 520]"
       ]
      },
      {
       "output_type": "stream",
       "stream": "stdout",
       "text": [
        "\n",
        "62"
       ]
      },
      {
       "output_type": "stream",
       "stream": "stdout",
       "text": [
        " 0.551020408163 0.591044776119\n",
        "[149, 335, 521]"
       ]
      },
      {
       "output_type": "stream",
       "stream": "stdout",
       "text": [
        "\n",
        "62"
       ]
      },
      {
       "output_type": "stream",
       "stream": "stdout",
       "text": [
        " 0.551020408163 0.591044776119\n",
        "[150, 336, 522]"
       ]
      },
      {
       "output_type": "stream",
       "stream": "stdout",
       "text": [
        "\n",
        "62"
       ]
      },
      {
       "output_type": "stream",
       "stream": "stdout",
       "text": [
        " 0.551020408163 0.591044776119\n",
        "[151, 337, 523]"
       ]
      },
      {
       "output_type": "stream",
       "stream": "stdout",
       "text": [
        "\n",
        "62"
       ]
      },
      {
       "output_type": "stream",
       "stream": "stdout",
       "text": [
        " 0.551020408163 0.591044776119\n",
        "[152, 338, 524]"
       ]
      },
      {
       "output_type": "stream",
       "stream": "stdout",
       "text": [
        "\n",
        "62"
       ]
      },
      {
       "output_type": "stream",
       "stream": "stdout",
       "text": [
        " 0.551020408163 0.591044776119\n",
        "[153, 339, 525]"
       ]
      },
      {
       "output_type": "stream",
       "stream": "stdout",
       "text": [
        "\n",
        "62"
       ]
      },
      {
       "output_type": "stream",
       "stream": "stdout",
       "text": [
        " 0.551020408163 0.591044776119\n",
        "[154, 340, 526]"
       ]
      },
      {
       "output_type": "stream",
       "stream": "stdout",
       "text": [
        "\n",
        "62"
       ]
      },
      {
       "output_type": "stream",
       "stream": "stdout",
       "text": [
        " 0.551020408163 0.591044776119\n",
        "[155, 341, 527]"
       ]
      },
      {
       "output_type": "stream",
       "stream": "stdout",
       "text": [
        "\n",
        "89"
       ]
      },
      {
       "output_type": "stream",
       "stream": "stdout",
       "text": [
        " 0.367346938776 0.661194029851\n",
        "[156, 342, 528]"
       ]
      },
      {
       "output_type": "stream",
       "stream": "stdout",
       "text": [
        "\n",
        "91"
       ]
      },
      {
       "output_type": "stream",
       "stream": "stdout",
       "text": [
        " 0.34693877551 0.711940298507\n",
        "[157, 343, 529]"
       ]
      },
      {
       "output_type": "stream",
       "stream": "stdout",
       "text": [
        "\n",
        "74"
       ]
      },
      {
       "output_type": "stream",
       "stream": "stdout",
       "text": [
        " 0.571428571429 0.641791044776\n",
        "[158, 344, 530]"
       ]
      },
      {
       "output_type": "stream",
       "stream": "stdout",
       "text": [
        "\n",
        "50"
       ]
      },
      {
       "output_type": "stream",
       "stream": "stdout",
       "text": [
        " 0.326530612245 0.810447761194\n",
        "[159, 345, 531]"
       ]
      },
      {
       "output_type": "stream",
       "stream": "stdout",
       "text": [
        "\n",
        "3"
       ]
      },
      {
       "output_type": "stream",
       "stream": "stdout",
       "text": [
        " 0.326530612245 0.677611940299\n",
        "[160, 346, 532]"
       ]
      },
      {
       "output_type": "stream",
       "stream": "stdout",
       "text": [
        "\n",
        "70"
       ]
      },
      {
       "output_type": "stream",
       "stream": "stdout",
       "text": [
        " 0.122448979592 0.979104477612\n",
        "[161, 347, 533]"
       ]
      },
      {
       "output_type": "stream",
       "stream": "stdout",
       "text": [
        "\n",
        "0"
       ]
      },
      {
       "output_type": "stream",
       "stream": "stdout",
       "text": [
        " 0.0204081632653 0.988059701493\n",
        "[162, 348, 534]"
       ]
      },
      {
       "output_type": "stream",
       "stream": "stdout",
       "text": [
        "\n",
        "0"
       ]
      },
      {
       "output_type": "stream",
       "stream": "stdout",
       "text": [
        " 0.0408163265306 0.977611940299\n",
        "[163, 349, 535]"
       ]
      },
      {
       "output_type": "stream",
       "stream": "stdout",
       "text": [
        "\n",
        "74"
       ]
      },
      {
       "output_type": "stream",
       "stream": "stdout",
       "text": [
        " 0.0408163265306 0.985074626866\n",
        "[164, 350, 536]"
       ]
      },
      {
       "output_type": "stream",
       "stream": "stdout",
       "text": [
        "\n",
        "98"
       ]
      },
      {
       "output_type": "stream",
       "stream": "stdout",
       "text": [
        " 0.0 0.977611940299\n",
        "[165, 351, 537]"
       ]
      },
      {
       "output_type": "stream",
       "stream": "stdout",
       "text": [
        "\n",
        "28"
       ]
      },
      {
       "output_type": "stream",
       "stream": "stdout",
       "text": [
        " 0.0204081632653 0.977611940299\n",
        "[166, 352, 538]"
       ]
      },
      {
       "output_type": "stream",
       "stream": "stdout",
       "text": [
        "\n",
        "0"
       ]
      },
      {
       "output_type": "stream",
       "stream": "stdout",
       "text": [
        " 0.0816326530612 0.974626865672\n",
        "[167, 353, 539]"
       ]
      },
      {
       "output_type": "stream",
       "stream": "stdout",
       "text": [
        "\n",
        "98"
       ]
      },
      {
       "output_type": "stream",
       "stream": "stdout",
       "text": [
        " 0.0 0.983582089552\n",
        "[168, 354, 540]"
       ]
      },
      {
       "output_type": "stream",
       "stream": "stdout",
       "text": [
        "\n",
        "0"
       ]
      },
      {
       "output_type": "stream",
       "stream": "stdout",
       "text": [
        " 0.0 0.980597014925\n",
        "[169, 355, 541]"
       ]
      },
      {
       "output_type": "stream",
       "stream": "stdout",
       "text": [
        "\n",
        "0"
       ]
      },
      {
       "output_type": "stream",
       "stream": "stdout",
       "text": [
        " 0.0 0.977611940299\n",
        "[170, 356, 542]"
       ]
      },
      {
       "output_type": "stream",
       "stream": "stdout",
       "text": [
        "\n",
        "89"
       ]
      },
      {
       "output_type": "stream",
       "stream": "stdout",
       "text": [
        " 0.0 0.971641791045\n",
        "[171, 357, 543]"
       ]
      },
      {
       "output_type": "stream",
       "stream": "stdout",
       "text": [
        "\n",
        "39"
       ]
      },
      {
       "output_type": "stream",
       "stream": "stdout",
       "text": [
        " 0.0 0.983582089552\n",
        "[172, 358, 544]"
       ]
      },
      {
       "output_type": "stream",
       "stream": "stdout",
       "text": [
        "\n",
        "0"
       ]
      },
      {
       "output_type": "stream",
       "stream": "stdout",
       "text": [
        " 0.0 0.994029850746\n",
        "[173, 359, 545]"
       ]
      },
      {
       "output_type": "stream",
       "stream": "stdout",
       "text": [
        "\n",
        "0"
       ]
      },
      {
       "output_type": "stream",
       "stream": "stdout",
       "text": [
        " 0.0 1.0\n",
        "[174, 360, 546]"
       ]
      },
      {
       "output_type": "stream",
       "stream": "stdout",
       "text": [
        "\n",
        "0"
       ]
      },
      {
       "output_type": "stream",
       "stream": "stdout",
       "text": [
        " 0.0 1.0\n",
        "[175, 361, 547]"
       ]
      },
      {
       "output_type": "stream",
       "stream": "stdout",
       "text": [
        "\n",
        "0"
       ]
      },
      {
       "output_type": "stream",
       "stream": "stdout",
       "text": [
        " 0.0 1.0\n",
        "[176, 362, 548]"
       ]
      },
      {
       "output_type": "stream",
       "stream": "stdout",
       "text": [
        "\n",
        "0"
       ]
      },
      {
       "output_type": "stream",
       "stream": "stdout",
       "text": [
        " 0.0204081632653 0.986567164179\n",
        "[177, 363, 549]"
       ]
      },
      {
       "output_type": "stream",
       "stream": "stdout",
       "text": [
        "\n",
        "0"
       ]
      },
      {
       "output_type": "stream",
       "stream": "stdout",
       "text": [
        " 0.0 1.0\n",
        "[178, 364, 550]"
       ]
      },
      {
       "output_type": "stream",
       "stream": "stdout",
       "text": [
        "\n",
        "2"
       ]
      },
      {
       "output_type": "stream",
       "stream": "stdout",
       "text": [
        " 0.979591836735 0.119402985075\n",
        "[179, 365, 551]"
       ]
      },
      {
       "output_type": "stream",
       "stream": "stdout",
       "text": [
        "\n",
        "0"
       ]
      },
      {
       "output_type": "stream",
       "stream": "stdout",
       "text": [
        " 0.0 1.0\n",
        "[180, 366, 552]"
       ]
      },
      {
       "output_type": "stream",
       "stream": "stdout",
       "text": [
        "\n",
        "0"
       ]
      },
      {
       "output_type": "stream",
       "stream": "stdout",
       "text": [
        " 0.0204081632653 0.997014925373\n",
        "[181, 367, 553]"
       ]
      },
      {
       "output_type": "stream",
       "stream": "stdout",
       "text": [
        "\n",
        "0"
       ]
      },
      {
       "output_type": "stream",
       "stream": "stdout",
       "text": [
        " 0.0 0.99552238806\n",
        "[182, 368, 554]"
       ]
      },
      {
       "output_type": "stream",
       "stream": "stdout",
       "text": [
        "\n",
        "57"
       ]
      },
      {
       "output_type": "stream",
       "stream": "stdout",
       "text": [
        " 0.0 0.988059701493\n",
        "[183, 369, 555]"
       ]
      },
      {
       "output_type": "stream",
       "stream": "stdout",
       "text": [
        "\n",
        "0"
       ]
      },
      {
       "output_type": "stream",
       "stream": "stdout",
       "text": [
        " 0.0 0.997014925373\n",
        "[184, 370, 556]"
       ]
      },
      {
       "output_type": "stream",
       "stream": "stdout",
       "text": [
        "\n",
        "0"
       ]
      },
      {
       "output_type": "stream",
       "stream": "stdout",
       "text": [
        " 0.0 1.0\n",
        "[185, 371, 557]"
       ]
      },
      {
       "output_type": "stream",
       "stream": "stdout",
       "text": [
        "\n",
        "0"
       ]
      },
      {
       "output_type": "stream",
       "stream": "stdout",
       "text": [
        " 0.0 0.991044776119\n"
       ]
      }
     ],
     "prompt_number": 184
    },
    {
     "cell_type": "markdown",
     "metadata": {},
     "source": [
      "## Find the se and sp for all feature+stat pairs\n",
      "se_s, sp_s = get_feature_stat_se_sp(svms)"
     ]
    },
    {
     "cell_type": "code",
     "collapsed": false,
     "input": [
      "out = np.hstack((np.arange(se_f.shape[0]).reshape((se_f.shape[0], 1)), se_f, sp_f, np.abs(sp_f - se_f)))\n",
      "cols = [get_str(i) for i in np.array(out[:, 0], dtype=int)]"
     ],
     "language": "python",
     "metadata": {},
     "outputs": [],
     "prompt_number": 185
    },
    {
     "cell_type": "code",
     "collapsed": false,
     "input": [
      "df_feat = pd.DataFrame(data=out, columns=['ind', 'sens', 'spec', 'diff'])\n",
      "df_feat['name'] = cols"
     ],
     "language": "python",
     "metadata": {},
     "outputs": [],
     "prompt_number": 186
    },
    {
     "cell_type": "markdown",
     "metadata": {},
     "source": [
      "# SAVE!"
     ]
    },
    {
     "cell_type": "markdown",
     "metadata": {},
     "source": [
      "pd.save(df_feat, '/root/code/xerox/windows/df_feat_forest')"
     ]
    },
    {
     "cell_type": "code",
     "collapsed": false,
     "input": [
      "#################################################################"
     ],
     "language": "python",
     "metadata": {},
     "outputs": [],
     "prompt_number": 187
    },
    {
     "cell_type": "markdown",
     "metadata": {},
     "source": [
      "### Features selected:\n",
      "- HDL Cholesterol - 91\n",
      "\n",
      "\n",
      "### Current scheme: ignore those features that lead to biased sens / spec\n",
      "- 18"
     ]
    },
    {
     "cell_type": "code",
     "collapsed": false,
     "input": [
      "n = df_feat.ind.count()"
     ],
     "language": "python",
     "metadata": {},
     "outputs": [],
     "prompt_number": 188
    },
    {
     "cell_type": "code",
     "collapsed": false,
     "input": [
      "score_with_glm(forests, data_train, data_train_living, data_train_dead, data_valid, labels_valid,\n",
      "               cols = [i ofr i in xrange(18) if i not in [18]])"
     ],
     "language": "python",
     "metadata": {},
     "outputs": []
    },
    {
     "cell_type": "code",
     "collapsed": false,
     "input": [
      "train_score_col_windows(forests, [i for i in xrange(n) if i not in ind])"
     ],
     "language": "python",
     "metadata": {},
     "outputs": []
    },
    {
     "cell_type": "code",
     "collapsed": false,
     "input": [
      "get_cols_stat_se_sp(forests, [29, ])"
     ],
     "language": "python",
     "metadata": {},
     "outputs": [
      {
       "output_type": "stream",
       "stream": "stdout",
       "text": [
        "[29, 24]\n"
       ]
      },
      {
       "metadata": {},
       "output_type": "pyout",
       "prompt_number": 800,
       "text": [
        "(0.96703296703296704, 0.10953300761277128)"
       ]
      }
     ],
     "prompt_number": 800
    },
    {
     "cell_type": "code",
     "collapsed": false,
     "input": [
      "ind = df_feat[df_feat.ix[:, 'diff'] > 0.2].ind\n",
      "print [i for i in xrange(n) if i not in ind].append([1, 2])"
     ],
     "language": "python",
     "metadata": {},
     "outputs": [
      {
       "output_type": "stream",
       "stream": "stdout",
       "text": [
        "None\n"
       ]
      }
     ],
     "prompt_number": 1170
    },
    {
     "cell_type": "code",
     "collapsed": true,
     "input": [
      "df_feat.sort(columns=['diff', 'spec'], ascending=False)   # Diff, sp\n",
      "df_feat\n",
      "df_feat.sort(columns=['sens', 'spec'], ascending=False)   # Sensitivity, sp\n",
      "df_feat.sort(columns=[ 'spec', 'sens'], ascending=False)   # Specifity, se"
     ],
     "language": "python",
     "metadata": {},
     "outputs": [
      {
       "html": [
        "<div style=\"max-height:1000px;max-width:1500px;overflow:auto;\">\n",
        "<table border=\"1\" class=\"dataframe\">\n",
        "  <thead>\n",
        "    <tr style=\"text-align: right;\">\n",
        "      <th></th>\n",
        "      <th>ind</th>\n",
        "      <th>sens</th>\n",
        "      <th>spec</th>\n",
        "      <th>diff</th>\n",
        "      <th>name</th>\n",
        "    </tr>\n",
        "  </thead>\n",
        "  <tbody>\n",
        "    <tr>\n",
        "      <th>18 </th>\n",
        "      <td>  18</td>\n",
        "      <td> 0.000000</td>\n",
        "      <td> 1.000000</td>\n",
        "      <td> 1.000000</td>\n",
        "      <td>                        Urine Output in ml-nanmean</td>\n",
        "    </tr>\n",
        "    <tr>\n",
        "      <th>49 </th>\n",
        "      <td>  49</td>\n",
        "      <td> 0.000000</td>\n",
        "      <td> 1.000000</td>\n",
        "      <td> 1.000000</td>\n",
        "      <td>                         Urine Output in ml-nanmax</td>\n",
        "    </tr>\n",
        "    <tr>\n",
        "      <th>80 </th>\n",
        "      <td>  80</td>\n",
        "      <td> 0.000000</td>\n",
        "      <td> 1.000000</td>\n",
        "      <td> 1.000000</td>\n",
        "      <td>                         Urine Output in ml-nanvar</td>\n",
        "    </tr>\n",
        "    <tr>\n",
        "      <th>111</th>\n",
        "      <td> 111</td>\n",
        "      <td> 0.000000</td>\n",
        "      <td> 1.000000</td>\n",
        "      <td> 1.000000</td>\n",
        "      <td>                         Urine Output in ml-nanmin</td>\n",
        "    </tr>\n",
        "    <tr>\n",
        "      <th>117</th>\n",
        "      <td> 117</td>\n",
        "      <td> 0.000000</td>\n",
        "      <td> 1.000000</td>\n",
        "      <td> 1.000000</td>\n",
        "      <td>             Fasting Blood Glucose in mg/dL-nanmin</td>\n",
        "    </tr>\n",
        "    <tr>\n",
        "      <th>173</th>\n",
        "      <td> 173</td>\n",
        "      <td> 0.000000</td>\n",
        "      <td> 1.000000</td>\n",
        "      <td> 1.000000</td>\n",
        "      <td>                       Urine Output in ml-&lt;lambda&gt;</td>\n",
        "    </tr>\n",
        "    <tr>\n",
        "      <th>174</th>\n",
        "      <td> 174</td>\n",
        "      <td> 0.000000</td>\n",
        "      <td> 1.000000</td>\n",
        "      <td> 1.000000</td>\n",
        "      <td>                 LDL Cholesterol in mg/dL-&lt;lambda&gt;</td>\n",
        "    </tr>\n",
        "    <tr>\n",
        "      <th>175</th>\n",
        "      <td> 175</td>\n",
        "      <td> 0.000000</td>\n",
        "      <td> 1.000000</td>\n",
        "      <td> 1.000000</td>\n",
        "      <td>                    Lactic Acid in mmol/L-&lt;lambda&gt;</td>\n",
        "    </tr>\n",
        "    <tr>\n",
        "      <th>177</th>\n",
        "      <td> 177</td>\n",
        "      <td> 0.000000</td>\n",
        "      <td> 1.000000</td>\n",
        "      <td> 1.000000</td>\n",
        "      <td>                      Troponin T in ng/ml-&lt;lambda&gt;</td>\n",
        "    </tr>\n",
        "    <tr>\n",
        "      <th>179</th>\n",
        "      <td> 179</td>\n",
        "      <td> 0.000000</td>\n",
        "      <td> 1.000000</td>\n",
        "      <td> 1.000000</td>\n",
        "      <td>           Fasting Blood Glucose in mg/dL-&lt;lambda&gt;</td>\n",
        "    </tr>\n",
        "    <tr>\n",
        "      <th>184</th>\n",
        "      <td> 184</td>\n",
        "      <td> 0.000000</td>\n",
        "      <td> 1.000000</td>\n",
        "      <td> 1.000000</td>\n",
        "      <td>                 HDL Cholesterol in mg/dL-&lt;lambda&gt;</td>\n",
        "    </tr>\n",
        "    <tr>\n",
        "      <th>53 </th>\n",
        "      <td>  53</td>\n",
        "      <td> 0.000000</td>\n",
        "      <td> 0.998507</td>\n",
        "      <td> 0.998507</td>\n",
        "      <td>                        Troponin T in ng/ml-nanmax</td>\n",
        "    </tr>\n",
        "    <tr>\n",
        "      <th>55 </th>\n",
        "      <td>  55</td>\n",
        "      <td> 0.000000</td>\n",
        "      <td> 0.998507</td>\n",
        "      <td> 0.998507</td>\n",
        "      <td>             Fasting Blood Glucose in mg/dL-nanmax</td>\n",
        "    </tr>\n",
        "    <tr>\n",
        "      <th>180</th>\n",
        "      <td> 180</td>\n",
        "      <td> 0.020408</td>\n",
        "      <td> 0.997015</td>\n",
        "      <td> 0.976607</td>\n",
        "      <td>  Fraction of Inspired Oxygen (FiO2) in %-&lt;lambda&gt;</td>\n",
        "    </tr>\n",
        "    <tr>\n",
        "      <th>122</th>\n",
        "      <td> 122</td>\n",
        "      <td> 0.000000</td>\n",
        "      <td> 0.997015</td>\n",
        "      <td> 0.997015</td>\n",
        "      <td>                   HDL Cholesterol in mg/dL-nanmin</td>\n",
        "    </tr>\n",
        "    <tr>\n",
        "      <th>183</th>\n",
        "      <td> 183</td>\n",
        "      <td> 0.000000</td>\n",
        "      <td> 0.997015</td>\n",
        "      <td> 0.997015</td>\n",
        "      <td>                          Alanine in IU/L-&lt;lambda&gt;</td>\n",
        "    </tr>\n",
        "    <tr>\n",
        "      <th>181</th>\n",
        "      <td> 181</td>\n",
        "      <td> 0.000000</td>\n",
        "      <td> 0.995522</td>\n",
        "      <td> 0.995522</td>\n",
        "      <td>                          Albumin in g/dl-&lt;lambda&gt;</td>\n",
        "    </tr>\n",
        "    <tr>\n",
        "      <th>172</th>\n",
        "      <td> 172</td>\n",
        "      <td> 0.000000</td>\n",
        "      <td> 0.994030</td>\n",
        "      <td> 0.994030</td>\n",
        "      <td>                       Bilirubin in mg/dL-&lt;lambda&gt;</td>\n",
        "    </tr>\n",
        "    <tr>\n",
        "      <th>185</th>\n",
        "      <td> 185</td>\n",
        "      <td> 0.000000</td>\n",
        "      <td> 0.991045</td>\n",
        "      <td> 0.991045</td>\n",
        "      <td>                       Magnesium in mg/dL-&lt;lambda&gt;</td>\n",
        "    </tr>\n",
        "    <tr>\n",
        "      <th>22 </th>\n",
        "      <td>  22</td>\n",
        "      <td> 0.020408</td>\n",
        "      <td> 0.988060</td>\n",
        "      <td> 0.967652</td>\n",
        "      <td>                       Troponin T in ng/ml-nanmean</td>\n",
        "    </tr>\n",
        "    <tr>\n",
        "      <th>84 </th>\n",
        "      <td>  84</td>\n",
        "      <td> 0.020408</td>\n",
        "      <td> 0.988060</td>\n",
        "      <td> 0.967652</td>\n",
        "      <td>                        Troponin T in ng/ml-nanvar</td>\n",
        "    </tr>\n",
        "    <tr>\n",
        "      <th>115</th>\n",
        "      <td> 115</td>\n",
        "      <td> 0.020408</td>\n",
        "      <td> 0.988060</td>\n",
        "      <td> 0.967652</td>\n",
        "      <td>                        Troponin T in ng/ml-nanmin</td>\n",
        "    </tr>\n",
        "    <tr>\n",
        "      <th>161</th>\n",
        "      <td> 161</td>\n",
        "      <td> 0.020408</td>\n",
        "      <td> 0.988060</td>\n",
        "      <td> 0.967652</td>\n",
        "      <td>                  Arterial blood PH in ph-&lt;lambda&gt;</td>\n",
        "    </tr>\n",
        "    <tr>\n",
        "      <th>60 </th>\n",
        "      <td>  60</td>\n",
        "      <td> 0.000000</td>\n",
        "      <td> 0.988060</td>\n",
        "      <td> 0.988060</td>\n",
        "      <td>                   HDL Cholesterol in mg/dL-nanmax</td>\n",
        "    </tr>\n",
        "    <tr>\n",
        "      <th>182</th>\n",
        "      <td> 182</td>\n",
        "      <td> 0.000000</td>\n",
        "      <td> 0.988060</td>\n",
        "      <td> 0.988060</td>\n",
        "      <td>             Alkaline Phosphatase in IU/L-&lt;lambda&gt;</td>\n",
        "    </tr>\n",
        "    <tr>\n",
        "      <th>176</th>\n",
        "      <td> 176</td>\n",
        "      <td> 0.020408</td>\n",
        "      <td> 0.986567</td>\n",
        "      <td> 0.966159</td>\n",
        "      <td>                      Troponin I in ng/ml-&lt;lambda&gt;</td>\n",
        "    </tr>\n",
        "    <tr>\n",
        "      <th>163</th>\n",
        "      <td> 163</td>\n",
        "      <td> 0.040816</td>\n",
        "      <td> 0.985075</td>\n",
        "      <td> 0.944258</td>\n",
        "      <td> Partial Pressure of Oxygen (PaO2) in mmHg-&lt;lam...</td>\n",
        "    </tr>\n",
        "    <tr>\n",
        "      <th>167</th>\n",
        "      <td> 167</td>\n",
        "      <td> 0.000000</td>\n",
        "      <td> 0.983582</td>\n",
        "      <td> 0.983582</td>\n",
        "      <td>             Blood Urea Nitrogen in mg/dL-&lt;lambda&gt;</td>\n",
        "    </tr>\n",
        "    <tr>\n",
        "      <th>171</th>\n",
        "      <td> 171</td>\n",
        "      <td> 0.000000</td>\n",
        "      <td> 0.983582</td>\n",
        "      <td> 0.983582</td>\n",
        "      <td>               Platelet Count in x 103/\u00b5L-&lt;lambda&gt;</td>\n",
        "    </tr>\n",
        "    <tr>\n",
        "      <th>168</th>\n",
        "      <td> 168</td>\n",
        "      <td> 0.000000</td>\n",
        "      <td> 0.980597</td>\n",
        "      <td> 0.980597</td>\n",
        "      <td>                Serum Creatinine in mg/dL-&lt;lambda&gt;</td>\n",
        "    </tr>\n",
        "    <tr>\n",
        "      <th>...</th>\n",
        "      <td>...</td>\n",
        "      <td>...</td>\n",
        "      <td>...</td>\n",
        "      <td>...</td>\n",
        "      <td>...</td>\n",
        "    </tr>\n",
        "    <tr>\n",
        "      <th>144</th>\n",
        "      <td> 144</td>\n",
        "      <td> 0.551020</td>\n",
        "      <td> 0.591045</td>\n",
        "      <td> 0.040024</td>\n",
        "      <td>                    Lactic Acid in mmol/L-&lt;lambda&gt;</td>\n",
        "    </tr>\n",
        "    <tr>\n",
        "      <th>145</th>\n",
        "      <td> 145</td>\n",
        "      <td> 0.551020</td>\n",
        "      <td> 0.591045</td>\n",
        "      <td> 0.040024</td>\n",
        "      <td>                      Troponin I in ng/ml-&lt;lambda&gt;</td>\n",
        "    </tr>\n",
        "    <tr>\n",
        "      <th>146</th>\n",
        "      <td> 146</td>\n",
        "      <td> 0.551020</td>\n",
        "      <td> 0.591045</td>\n",
        "      <td> 0.040024</td>\n",
        "      <td>                      Troponin T in ng/ml-&lt;lambda&gt;</td>\n",
        "    </tr>\n",
        "    <tr>\n",
        "      <th>147</th>\n",
        "      <td> 147</td>\n",
        "      <td> 0.551020</td>\n",
        "      <td> 0.591045</td>\n",
        "      <td> 0.040024</td>\n",
        "      <td>            Random Blood Glucose in mg/dL-&lt;lambda&gt;</td>\n",
        "    </tr>\n",
        "    <tr>\n",
        "      <th>148</th>\n",
        "      <td> 148</td>\n",
        "      <td> 0.551020</td>\n",
        "      <td> 0.591045</td>\n",
        "      <td> 0.040024</td>\n",
        "      <td>           Fasting Blood Glucose in mg/dL-&lt;lambda&gt;</td>\n",
        "    </tr>\n",
        "    <tr>\n",
        "      <th>149</th>\n",
        "      <td> 149</td>\n",
        "      <td> 0.551020</td>\n",
        "      <td> 0.591045</td>\n",
        "      <td> 0.040024</td>\n",
        "      <td>  Fraction of Inspired Oxygen (FiO2) in %-&lt;lambda&gt;</td>\n",
        "    </tr>\n",
        "    <tr>\n",
        "      <th>150</th>\n",
        "      <td> 150</td>\n",
        "      <td> 0.551020</td>\n",
        "      <td> 0.591045</td>\n",
        "      <td> 0.040024</td>\n",
        "      <td>                          Albumin in g/dl-&lt;lambda&gt;</td>\n",
        "    </tr>\n",
        "    <tr>\n",
        "      <th>151</th>\n",
        "      <td> 151</td>\n",
        "      <td> 0.551020</td>\n",
        "      <td> 0.591045</td>\n",
        "      <td> 0.040024</td>\n",
        "      <td>             Alkaline Phosphatase in IU/L-&lt;lambda&gt;</td>\n",
        "    </tr>\n",
        "    <tr>\n",
        "      <th>152</th>\n",
        "      <td> 152</td>\n",
        "      <td> 0.551020</td>\n",
        "      <td> 0.591045</td>\n",
        "      <td> 0.040024</td>\n",
        "      <td>                          Alanine in IU/L-&lt;lambda&gt;</td>\n",
        "    </tr>\n",
        "    <tr>\n",
        "      <th>153</th>\n",
        "      <td> 153</td>\n",
        "      <td> 0.551020</td>\n",
        "      <td> 0.591045</td>\n",
        "      <td> 0.040024</td>\n",
        "      <td>                 HDL Cholesterol in mg/dL-&lt;lambda&gt;</td>\n",
        "    </tr>\n",
        "    <tr>\n",
        "      <th>154</th>\n",
        "      <td> 154</td>\n",
        "      <td> 0.551020</td>\n",
        "      <td> 0.591045</td>\n",
        "      <td> 0.040024</td>\n",
        "      <td>                       Magnesium in mg/dL-&lt;lambda&gt;</td>\n",
        "    </tr>\n",
        "    <tr>\n",
        "      <th>67 </th>\n",
        "      <td>  67</td>\n",
        "      <td> 0.448980</td>\n",
        "      <td> 0.580597</td>\n",
        "      <td> 0.131617</td>\n",
        "      <td>                     Temperature in Celsius-nanvar</td>\n",
        "    </tr>\n",
        "    <tr>\n",
        "      <th>65 </th>\n",
        "      <td>  65</td>\n",
        "      <td> 0.530612</td>\n",
        "      <td> 0.579104</td>\n",
        "      <td> 0.048492</td>\n",
        "      <td>                    Respiration Rate in bpm-nanvar</td>\n",
        "    </tr>\n",
        "    <tr>\n",
        "      <th>0  </th>\n",
        "      <td>   0</td>\n",
        "      <td> 0.489796</td>\n",
        "      <td> 0.577612</td>\n",
        "      <td> 0.087816</td>\n",
        "      <td>           Systolic Blood Pressure in mmHg-nanmean</td>\n",
        "    </tr>\n",
        "    <tr>\n",
        "      <th>15 </th>\n",
        "      <td>  15</td>\n",
        "      <td> 0.367347</td>\n",
        "      <td> 0.574627</td>\n",
        "      <td> 0.207280</td>\n",
        "      <td>                              Hematocrit %-nanmean</td>\n",
        "    </tr>\n",
        "    <tr>\n",
        "      <th>74 </th>\n",
        "      <td>  74</td>\n",
        "      <td> 0.469388</td>\n",
        "      <td> 0.568657</td>\n",
        "      <td> 0.099269</td>\n",
        "      <td>               Blood Urea Nitrogen in mg/dL-nanvar</td>\n",
        "    </tr>\n",
        "    <tr>\n",
        "      <th>4  </th>\n",
        "      <td>   4</td>\n",
        "      <td> 0.448980</td>\n",
        "      <td> 0.558209</td>\n",
        "      <td> 0.109229</td>\n",
        "      <td>                    Oxygen Saturation in %-nanmean</td>\n",
        "    </tr>\n",
        "    <tr>\n",
        "      <th>63 </th>\n",
        "      <td>  63</td>\n",
        "      <td> 0.387755</td>\n",
        "      <td> 0.537313</td>\n",
        "      <td> 0.149558</td>\n",
        "      <td>           Diastolic Blood Pressure in mmHg-nanvar</td>\n",
        "    </tr>\n",
        "    <tr>\n",
        "      <th>5  </th>\n",
        "      <td>   5</td>\n",
        "      <td> 0.428571</td>\n",
        "      <td> 0.520896</td>\n",
        "      <td> 0.092324</td>\n",
        "      <td>                    Temperature in Celsius-nanmean</td>\n",
        "    </tr>\n",
        "    <tr>\n",
        "      <th>31 </th>\n",
        "      <td>  31</td>\n",
        "      <td> 0.571429</td>\n",
        "      <td> 0.464179</td>\n",
        "      <td> 0.107249</td>\n",
        "      <td>            Systolic Blood Pressure in mmHg-nanmax</td>\n",
        "    </tr>\n",
        "    <tr>\n",
        "      <th>106</th>\n",
        "      <td> 106</td>\n",
        "      <td> 0.673469</td>\n",
        "      <td> 0.414925</td>\n",
        "      <td> 0.258544</td>\n",
        "      <td>                  Serum Creatinine in mg/dL-nanmin</td>\n",
        "    </tr>\n",
        "    <tr>\n",
        "      <th>107</th>\n",
        "      <td> 107</td>\n",
        "      <td> 0.693878</td>\n",
        "      <td> 0.404478</td>\n",
        "      <td> 0.289400</td>\n",
        "      <td>                      WBC Count in x 103/\u00b5L-nanmin</td>\n",
        "    </tr>\n",
        "    <tr>\n",
        "      <th>35 </th>\n",
        "      <td>  35</td>\n",
        "      <td> 0.714286</td>\n",
        "      <td> 0.350746</td>\n",
        "      <td> 0.363539</td>\n",
        "      <td>                     Oxygen Saturation in %-nanmax</td>\n",
        "    </tr>\n",
        "    <tr>\n",
        "      <th>57 </th>\n",
        "      <td>  57</td>\n",
        "      <td> 0.734694</td>\n",
        "      <td> 0.346269</td>\n",
        "      <td> 0.388425</td>\n",
        "      <td>                            Albumin in g/dl-nanmax</td>\n",
        "    </tr>\n",
        "    <tr>\n",
        "      <th>178</th>\n",
        "      <td> 178</td>\n",
        "      <td> 0.979592</td>\n",
        "      <td> 0.119403</td>\n",
        "      <td> 0.860189</td>\n",
        "      <td>            Random Blood Glucose in mg/dL-&lt;lambda&gt;</td>\n",
        "    </tr>\n",
        "    <tr>\n",
        "      <th>50 </th>\n",
        "      <td>  50</td>\n",
        "      <td> 0.979592</td>\n",
        "      <td> 0.076119</td>\n",
        "      <td> 0.903472</td>\n",
        "      <td>                   LDL Cholesterol in mg/dL-nanmax</td>\n",
        "    </tr>\n",
        "    <tr>\n",
        "      <th>24 </th>\n",
        "      <td>  24</td>\n",
        "      <td> 0.918367</td>\n",
        "      <td> 0.076119</td>\n",
        "      <td> 0.842248</td>\n",
        "      <td>            Fasting Blood Glucose in mg/dL-nanmean</td>\n",
        "    </tr>\n",
        "    <tr>\n",
        "      <th>86 </th>\n",
        "      <td>  86</td>\n",
        "      <td> 0.918367</td>\n",
        "      <td> 0.073134</td>\n",
        "      <td> 0.845233</td>\n",
        "      <td>             Fasting Blood Glucose in mg/dL-nanvar</td>\n",
        "    </tr>\n",
        "    <tr>\n",
        "      <th>91 </th>\n",
        "      <td>  91</td>\n",
        "      <td> 1.000000</td>\n",
        "      <td> 0.056716</td>\n",
        "      <td> 0.943284</td>\n",
        "      <td>                   HDL Cholesterol in mg/dL-nanvar</td>\n",
        "    </tr>\n",
        "    <tr>\n",
        "      <th>29 </th>\n",
        "      <td>  29</td>\n",
        "      <td> 1.000000</td>\n",
        "      <td> 0.050746</td>\n",
        "      <td> 0.949254</td>\n",
        "      <td>                  HDL Cholesterol in mg/dL-nanmean</td>\n",
        "    </tr>\n",
        "  </tbody>\n",
        "</table>\n",
        "<p>186 rows \u00d7 5 columns</p>\n",
        "</div>"
       ],
       "metadata": {},
       "output_type": "pyout",
       "prompt_number": 199,
       "text": [
        "     ind      sens      spec      diff  \\\n",
        "18    18  0.000000  1.000000  1.000000   \n",
        "49    49  0.000000  1.000000  1.000000   \n",
        "80    80  0.000000  1.000000  1.000000   \n",
        "111  111  0.000000  1.000000  1.000000   \n",
        "117  117  0.000000  1.000000  1.000000   \n",
        "173  173  0.000000  1.000000  1.000000   \n",
        "174  174  0.000000  1.000000  1.000000   \n",
        "175  175  0.000000  1.000000  1.000000   \n",
        "177  177  0.000000  1.000000  1.000000   \n",
        "179  179  0.000000  1.000000  1.000000   \n",
        "184  184  0.000000  1.000000  1.000000   \n",
        "53    53  0.000000  0.998507  0.998507   \n",
        "55    55  0.000000  0.998507  0.998507   \n",
        "180  180  0.020408  0.997015  0.976607   \n",
        "122  122  0.000000  0.997015  0.997015   \n",
        "183  183  0.000000  0.997015  0.997015   \n",
        "181  181  0.000000  0.995522  0.995522   \n",
        "172  172  0.000000  0.994030  0.994030   \n",
        "185  185  0.000000  0.991045  0.991045   \n",
        "22    22  0.020408  0.988060  0.967652   \n",
        "84    84  0.020408  0.988060  0.967652   \n",
        "115  115  0.020408  0.988060  0.967652   \n",
        "161  161  0.020408  0.988060  0.967652   \n",
        "60    60  0.000000  0.988060  0.988060   \n",
        "182  182  0.000000  0.988060  0.988060   \n",
        "176  176  0.020408  0.986567  0.966159   \n",
        "163  163  0.040816  0.985075  0.944258   \n",
        "167  167  0.000000  0.983582  0.983582   \n",
        "171  171  0.000000  0.983582  0.983582   \n",
        "168  168  0.000000  0.980597  0.980597   \n",
        "..   ...       ...       ...       ...   \n",
        "144  144  0.551020  0.591045  0.040024   \n",
        "145  145  0.551020  0.591045  0.040024   \n",
        "146  146  0.551020  0.591045  0.040024   \n",
        "147  147  0.551020  0.591045  0.040024   \n",
        "148  148  0.551020  0.591045  0.040024   \n",
        "149  149  0.551020  0.591045  0.040024   \n",
        "150  150  0.551020  0.591045  0.040024   \n",
        "151  151  0.551020  0.591045  0.040024   \n",
        "152  152  0.551020  0.591045  0.040024   \n",
        "153  153  0.551020  0.591045  0.040024   \n",
        "154  154  0.551020  0.591045  0.040024   \n",
        "67    67  0.448980  0.580597  0.131617   \n",
        "65    65  0.530612  0.579104  0.048492   \n",
        "0      0  0.489796  0.577612  0.087816   \n",
        "15    15  0.367347  0.574627  0.207280   \n",
        "74    74  0.469388  0.568657  0.099269   \n",
        "4      4  0.448980  0.558209  0.109229   \n",
        "63    63  0.387755  0.537313  0.149558   \n",
        "5      5  0.428571  0.520896  0.092324   \n",
        "31    31  0.571429  0.464179  0.107249   \n",
        "106  106  0.673469  0.414925  0.258544   \n",
        "107  107  0.693878  0.404478  0.289400   \n",
        "35    35  0.714286  0.350746  0.363539   \n",
        "57    57  0.734694  0.346269  0.388425   \n",
        "178  178  0.979592  0.119403  0.860189   \n",
        "50    50  0.979592  0.076119  0.903472   \n",
        "24    24  0.918367  0.076119  0.842248   \n",
        "86    86  0.918367  0.073134  0.845233   \n",
        "91    91  1.000000  0.056716  0.943284   \n",
        "29    29  1.000000  0.050746  0.949254   \n",
        "\n",
        "                                                  name  \n",
        "18                          Urine Output in ml-nanmean  \n",
        "49                           Urine Output in ml-nanmax  \n",
        "80                           Urine Output in ml-nanvar  \n",
        "111                          Urine Output in ml-nanmin  \n",
        "117              Fasting Blood Glucose in mg/dL-nanmin  \n",
        "173                        Urine Output in ml-<lambda>  \n",
        "174                  LDL Cholesterol in mg/dL-<lambda>  \n",
        "175                     Lactic Acid in mmol/L-<lambda>  \n",
        "177                       Troponin T in ng/ml-<lambda>  \n",
        "179            Fasting Blood Glucose in mg/dL-<lambda>  \n",
        "184                  HDL Cholesterol in mg/dL-<lambda>  \n",
        "53                          Troponin T in ng/ml-nanmax  \n",
        "55               Fasting Blood Glucose in mg/dL-nanmax  \n",
        "180   Fraction of Inspired Oxygen (FiO2) in %-<lambda>  \n",
        "122                    HDL Cholesterol in mg/dL-nanmin  \n",
        "183                           Alanine in IU/L-<lambda>  \n",
        "181                           Albumin in g/dl-<lambda>  \n",
        "172                        Bilirubin in mg/dL-<lambda>  \n",
        "185                        Magnesium in mg/dL-<lambda>  \n",
        "22                         Troponin T in ng/ml-nanmean  \n",
        "84                          Troponin T in ng/ml-nanvar  \n",
        "115                         Troponin T in ng/ml-nanmin  \n",
        "161                   Arterial blood PH in ph-<lambda>  \n",
        "60                     HDL Cholesterol in mg/dL-nanmax  \n",
        "182              Alkaline Phosphatase in IU/L-<lambda>  \n",
        "176                       Troponin I in ng/ml-<lambda>  \n",
        "163  Partial Pressure of Oxygen (PaO2) in mmHg-<lam...  \n",
        "167              Blood Urea Nitrogen in mg/dL-<lambda>  \n",
        "171                Platelet Count in x 103/\u00b5L-<lambda>  \n",
        "168                 Serum Creatinine in mg/dL-<lambda>  \n",
        "..                                                 ...  \n",
        "144                     Lactic Acid in mmol/L-<lambda>  \n",
        "145                       Troponin I in ng/ml-<lambda>  \n",
        "146                       Troponin T in ng/ml-<lambda>  \n",
        "147             Random Blood Glucose in mg/dL-<lambda>  \n",
        "148            Fasting Blood Glucose in mg/dL-<lambda>  \n",
        "149   Fraction of Inspired Oxygen (FiO2) in %-<lambda>  \n",
        "150                           Albumin in g/dl-<lambda>  \n",
        "151              Alkaline Phosphatase in IU/L-<lambda>  \n",
        "152                           Alanine in IU/L-<lambda>  \n",
        "153                  HDL Cholesterol in mg/dL-<lambda>  \n",
        "154                        Magnesium in mg/dL-<lambda>  \n",
        "67                       Temperature in Celsius-nanvar  \n",
        "65                      Respiration Rate in bpm-nanvar  \n",
        "0              Systolic Blood Pressure in mmHg-nanmean  \n",
        "15                                Hematocrit %-nanmean  \n",
        "74                 Blood Urea Nitrogen in mg/dL-nanvar  \n",
        "4                       Oxygen Saturation in %-nanmean  \n",
        "63             Diastolic Blood Pressure in mmHg-nanvar  \n",
        "5                       Temperature in Celsius-nanmean  \n",
        "31              Systolic Blood Pressure in mmHg-nanmax  \n",
        "106                   Serum Creatinine in mg/dL-nanmin  \n",
        "107                       WBC Count in x 103/\u00b5L-nanmin  \n",
        "35                       Oxygen Saturation in %-nanmax  \n",
        "57                              Albumin in g/dl-nanmax  \n",
        "178             Random Blood Glucose in mg/dL-<lambda>  \n",
        "50                     LDL Cholesterol in mg/dL-nanmax  \n",
        "24              Fasting Blood Glucose in mg/dL-nanmean  \n",
        "86               Fasting Blood Glucose in mg/dL-nanvar  \n",
        "91                     HDL Cholesterol in mg/dL-nanvar  \n",
        "29                    HDL Cholesterol in mg/dL-nanmean  \n",
        "\n",
        "[186 rows x 5 columns]"
       ]
      }
     ],
     "prompt_number": 199
    },
    {
     "cell_type": "markdown",
     "metadata": {},
     "source": [
      "### Dhruv's features!\n",
      "- las sys\n",
      "- llas dias\n",
      "\n",
      "- mean oxyge\n",
      "- max lac\n",
      "- max hr\n",
      "- sum bicarb\n",
      "- sum resp rate"
     ]
    },
    {
     "cell_type": "markdown",
     "metadata": {},
     "source": [
      "# GO ONLINE!"
     ]
    },
    {
     "cell_type": "markdown",
     "metadata": {},
     "source": [
      "- get validation patients\n",
      "- get list of (all windows) of each patient\n",
      "- stack the windows up for whatever data you want to classify\n",
      "    - maintain an index to get back separate patients\n",
      "    - Classify windows\n",
      "- get back classifications for each patient separately\n",
      "- define \"some\" metric to classify the entire series"
     ]
    },
    {
     "cell_type": "code",
     "collapsed": false,
     "input": [
      "def get_stacked_windows_ind(list_of_window_arrays):\n",
      "    data_all_windows_stacked = np.vstack(list_of_window_arrays)\n",
      "    ind_all_windows_stacked = np.vstack([np.ones((x.shape[0], 1)) * i for i, x in enumerate(list_of_window_arrays) ])\n",
      "    return data_all_windows_stacked, ind_all_windows_stacked[:, 0]"
     ],
     "language": "python",
     "metadata": {},
     "outputs": [],
     "prompt_number": 96
    },
    {
     "cell_type": "code",
     "collapsed": false,
     "input": [
      "### Takes list of patient time series, and creates windows starting at zero\n",
      "def get_stacked_windows_from_ts(list_of_patient_ts, n_windows, stats, time=None, list_of_icu=None):\n",
      "    list_of_window_arrays = get_list_all_window_stats(list_of_patient_ts, n_windows, stats, time, list_of_icu)\n",
      "    data_all_windows_stacked, ind_all_windows_stacked = get_stacked_windows_ind(list_of_window_arrays)\n",
      "   \n",
      "    return data_all_windows_stacked, ind_all_windows_stacked"
     ],
     "language": "python",
     "metadata": {},
     "outputs": [],
     "prompt_number": 1413
    },
    {
     "cell_type": "code",
     "collapsed": true,
     "input": [
      "def get_list_of_prediction_arrays(data, ind_stacked):\n",
      "    inds = np.unique(ind_stacked)\n",
      "    list_y_preds = [data[ind_stacked==i, :].copy() for i in inds]\n",
      "    return np.array(list_y_preds)"
     ],
     "language": "python",
     "metadata": {},
     "outputs": [],
     "prompt_number": 98
    },
    {
     "cell_type": "code",
     "collapsed": false,
     "input": [
      "def view_series_random(list_y, n=10):\n",
      "    ind = np.arange(list_y.shape[0])\n",
      "    np.random.shuffle(ind)\n",
      "    for i, l in enumerate(list_y[ind[:n]]):\n",
      "        print i, l"
     ],
     "language": "python",
     "metadata": {},
     "outputs": [],
     "prompt_number": 99
    },
    {
     "cell_type": "markdown",
     "metadata": {},
     "source": [
      "# TS!"
     ]
    },
    {
     "cell_type": "code",
     "collapsed": false,
     "input": [
      "def find_in_inds(p):\n",
      "    if (ind_train==p).any():\n",
      "        print \"train\"\n",
      "    if (ind_valid==p).any():\n",
      "        print \"valid\"\n",
      "    if (ind_test==p).any():\n",
      "        print \"test\"\n",
      "def get_confusion_inds(labels, y):\n",
      "    ind_fn = np.array([((not y[i]) & (labels[i] != y[i])) for i in xrange(labels.shape[0])])\n",
      "    ind_fp = np.array([(y[i] & (labels[i] != y[i])) for i in xrange(labels.shape[0])])\n",
      "    ind_tp = np.array([(labels[i] & (labels[i] == y[i])) for i in xrange(labels.shape[0])])\n",
      "    ind_tn = np.array([((not labels[i]) & (labels[i] == y[i])) for i in xrange(labels.shape[0])])\n",
      "    return [ind_fp, ind_fn, ind_tp, ind_tn]"
     ],
     "language": "python",
     "metadata": {},
     "outputs": [],
     "prompt_number": 289
    },
    {
     "cell_type": "markdown",
     "metadata": {},
     "source": [
      "## FOR THE COMPLEX MODEL!"
     ]
    },
    {
     "cell_type": "code",
     "collapsed": false,
     "input": [
      "def get_probs_all_windows(list_of_time_series, n_windows, stats, models, time, list_of_val_series=None):\n",
      "    # Get stacked windows of all patients, and an ind of which patitent has which rows\n",
      "    data_windows_stacked, ind_windows_stacked = get_stacked_windows_from_ts(list_of_time_series, n_windows,\n",
      "                                                                            stats, time, list_of_val_series)\n",
      "    # Get probability estimates for all windows (of all patients) using the forests\n",
      "    dead_probs_stacked = get_proba(models, data_windows_stacked)\n",
      "    \n",
      "    # Append MEAN of all column predictions as a feature\n",
      "    dead_probs_stacked = np.hstack((dead_probs_stacked,\n",
      "                                    np.mean(dead_probs_stacked, axis=1).reshape(dead_probs_stacked.shape[0], 1)))\n",
      "    \n",
      "    # separate the probabilities paitient wise \n",
      "    list_probs = get_list_of_prediction_arrays(dead_probs_stacked, ind_windows_stacked)\n",
      "    return list_probs"
     ],
     "language": "python",
     "metadata": {},
     "outputs": [],
     "prompt_number": 1415
    },
    {
     "cell_type": "markdown",
     "metadata": {},
     "source": [
      "def slope(X):\n",
      "    sl = np.zeros((X.shape[1],))\n",
      "    y = np.arange(X.shape[0])     # SHOULD BE TIME HERE\n",
      "    for i, x in enumerate(X.T):\n",
      "        A = np.vstack([x, np.ones(len(x))]).T\n",
      "        m, c = np.linalg.lstsq(A, y)[0]\n",
      "        #print m,c\n",
      "        sl[i] = m\n",
      "    return sl"
     ]
    },
    {
     "cell_type": "code",
     "collapsed": false,
     "input": [
      "def slope(x, time):\n",
      "    n = x.shape[0]; nc = x.shape[1]\n",
      "    \n",
      "    #sl = np.zeros((1,))\n",
      "    if time is None:\n",
      "        y = np.arange(n).reshape((n, 1))   # SHOULD BE TIMESTAMPS\n",
      "    else:\n",
      "        y = time\n",
      "    \n",
      "    xy = np.sum(x*y, axis=0)\n",
      "    xm = np.mean(x, axis=0)\n",
      "    ym = np.mean(y, axis=0)\n",
      "    x2 = np.sum(x*x, axis=0)\n",
      "    \n",
      "    sl = 1.0*(xy - n*xm*ym) / (x2 - n*xm*xm)\n",
      "    sl[np.isnan(sl)] = 0\n",
      "    sl[np.isinf(sl)] = 0\n",
      "    return sl"
     ],
     "language": "python",
     "metadata": {},
     "outputs": []
    },
    {
     "cell_type": "code",
     "collapsed": false,
     "input": [
      "x=np.array([1,2,3],[2,3,4],[3,4,5])\n",
      "y =np.array([1,2,3])\n",
      "slope(x, y)"
     ],
     "language": "python",
     "metadata": {},
     "outputs": []
    },
    {
     "cell_type": "code",
     "collapsed": false,
     "input": [
      "# Just return teh timestamp\n",
      "def get_prediction_timestamp(y_preds, patient_ts, time_ind, icu_ts):\n",
      "    if not (y_preds==1).any():\n",
      "        return -1\n",
      "    \n",
      "    times = patient_ts[:, time_ind]\n",
      "    icu = np.array(icu_ts, dtype=bool)\n",
      "    y = np.array(y_preds[:,0], dtype=bool)\n",
      "    \n",
      "    return times[icu][y][0]"
     ],
     "language": "python",
     "metadata": {},
     "outputs": [],
     "prompt_number": 1673
    },
    {
     "cell_type": "code",
     "collapsed": false,
     "input": [
      "# For one patient, if no 1s, return -1\n",
      "def get_prediction_time(y_preds, patient_ts, time_ind, icu_ts):\n",
      "    if not (y_preds==1).any():\n",
      "        return -1\n",
      "    \n",
      "    times = patient_ts[:, time_ind]\n",
      "    icu = np.array(icu_ts, dtype=bool)\n",
      "    y = np.array(y_preds[:,0], dtype=bool)\n",
      "    \n",
      "    return (times[times.shape[0]-1] - times[icu][y][0])"
     ],
     "language": "python",
     "metadata": {},
     "outputs": [],
     "prompt_number": 1674
    },
    {
     "cell_type": "code",
     "collapsed": false,
     "input": [
      "def get_prediction_times_all_patients(list_y_preds, list_of_patients, time_ind, list_of_icu_times):\n",
      "    pred_times = [get_prediction_time(list_y_preds[i], list_of_patients[i], time_ind, list_of_icu_times[i]) for i in \n",
      "                  xrange(list_y_preds.shape[0])]\n",
      "    return np.array(pred_times)"
     ],
     "language": "python",
     "metadata": {},
     "outputs": [],
     "prompt_number": 1678
    },
    {
     "cell_type": "markdown",
     "metadata": {},
     "source": [
      "# WORKSPACE!"
     ]
    },
    {
     "cell_type": "markdown",
     "metadata": {},
     "source": [
      "## The bigger classifier!\n",
      "\n",
      "- training data row - stats of the entire ts\n",
      "- train random forests on the training data in parts\n",
      "- On the full training data\n",
      "    - use the rfs to get probs of each patient ts\n",
      "    - get stats of the probs\n",
      "    - classify the prob stats using non-linear model\n",
      "- On validation data:\n",
      "    - get windows starting from time 0\n",
      "    - classify each window using the learnt non-linear model\n",
      "    \n",
      "### Problems:\n",
      "- train - train data?\n",
      "- if valid data for nlm, less data"
     ]
    },
    {
     "cell_type": "code",
     "collapsed": false,
     "input": [
      "data_combined = np.array(patient_combined)\n",
      "patient_combined = np.array(patient_combined)\n",
      "np.random.seed(132)\n",
      "\n",
      "### BIG FOREST PARAMS\n",
      "stats_big = [np.mean, np.var, np.min, np.max,\n",
      "             lambda x, axis:x[x.shape[0]-1],    # first element\n",
      "             lambda x, axis:x[0],               # last element\n",
      "             lambda x, axis: slope(x, time)]          # slope of the window\n",
      "n_windows_big = 1\n",
      "\n",
      "### NOTE: If n<n_windows, ignored!\n",
      "n_windows = 1\n",
      "split = [0.80, 0.20]    # train%, validation%, (test%)\n",
      "#stats = [np.nanmean, np.nanmax , np.nanvar, np.nanmin, lambda (x axis:x.shape[0]]\n",
      "stats = [np.nanmean, np.nanmax , np.nanvar, np.nanmin, lambda x, axis:x.shape[0], lambda x, axis:x[x.shape[0]-1]]\n",
      "\n",
      "# Get the data from the patients\n",
      "[data_train, labels_train, data_valid, labels_valid, data_test, labels_test,\n",
      " data_train_living, data_train_dead, data_valid_living, data_valid_dead, data_test_living, data_test_dead,\n",
      " icu_train_living, icu_train_dead, icu_valid_living, icu_valid_dead, icu_test_living, icu_test_dead,\n",
      " age_train_living, age_train_dead, age_valid_living, age_valid_dead, age_test_living, age_test_dead,\n",
      " train_split, ind_train, ind_valid, ind_test, n_train_splits, train_split] = get_data(patient_combined,\n",
      "                                                            labels_combined, age_combined,\n",
      "                                                            icu_combined, n_windows, stats, split, time=time_ind)\n",
      "\n",
      "patients_train = patient_combined[ind_train]\n",
      "patients_valid = patient_combined[ind_valid]\n",
      "patients_test = patient_combined[ind_test]    # Data_combined = patient_combined\n",
      "\n",
      "#icu_combined = icu_combined.reshape((icu_combined.shape[0],))\n",
      "age_combined = age_combined.reshape((age_combined.shape[0], 1))\n",
      "age_train = age_combined[ind_train]\n",
      "age_valid = age_combined[ind_valid]\n",
      "age_test = age_combined[ind_test]"
     ],
     "language": "python",
     "metadata": {},
     "outputs": [
      {
       "output_type": "stream",
       "stream": "stdout",
       "text": [
        "(3594, 186)\n",
        "(2875, 186)\n",
        "(2875, 186)\n",
        "Train: 203 2672 2875\n",
        "Valid: 42 677 719\n",
        "Test: 0 0 0\n",
        "Train Splits 13 205 2868 2875\n",
        "(2875, 186)\n",
        "(186,)\n"
       ]
      }
     ],
     "prompt_number": 1482
    },
    {
     "cell_type": "markdown",
     "metadata": {},
     "source": [
      "# The one with probs"
     ]
    },
    {
     "cell_type": "code",
     "collapsed": false,
     "input": [
      "forests_final_1 = [RandomForestClassifier(n_estimators=300, class_weight=None, max_features=None,\n",
      "                                      n_jobs=-1, max_depth=None\n",
      "                                      ) for i in xrange(n_train_splits)]"
     ],
     "language": "python",
     "metadata": {},
     "outputs": [],
     "prompt_number": 1483
    },
    {
     "cell_type": "markdown",
     "metadata": {},
     "source": [
      "train_balanced(forests_final_1, data_train_living, data_train_dead);"
     ]
    },
    {
     "cell_type": "code",
     "collapsed": false,
     "input": [
      "train_and_score_cols(forests_final_1, None, data_train_living, data_train_dead, data_valid, labels_valid)"
     ],
     "language": "python",
     "metadata": {},
     "outputs": [
      {
       "output_type": "stream",
       "stream": "stdout",
       "text": [
        "91 0.857142857143 0.908419497784\n"
       ]
      },
      {
       "metadata": {},
       "output_type": "pyout",
       "prompt_number": 1484,
       "text": [
        "(0.8571428571428571, 0.9084194977843427, 0.92929292929292939)"
       ]
      }
     ],
     "prompt_number": 1484
    },
    {
     "cell_type": "code",
     "collapsed": false,
     "input": [
      "list_probs_train = get_probs_all_windows(patients_train, n_windows, stats, forests_final_1, time=time_ind)"
     ],
     "language": "python",
     "metadata": {},
     "outputs": [],
     "prompt_number": 1485
    },
    {
     "cell_type": "code",
     "collapsed": false,
     "input": [
      "###### INCLUDE ICU! Make ONE entry with the stats of all windows\n",
      "# Again, make n_windows_big windwows using the entire time series (n_train, n_windows_big * len(stats_big) * n_train_splits)\n",
      "train_prob_stats = get_rows_data(list_probs_train, n_windows_big, stats_big)\n",
      "#train_prob_stats =  np.hstack((train_prob_stats, age_train))   # Append the age column here"
     ],
     "language": "python",
     "metadata": {},
     "outputs": [],
     "prompt_number": 1486
    },
    {
     "cell_type": "code",
     "collapsed": false,
     "input": [
      "forest_big = RandomForestClassifier(n_estimators=300, class_weight={0:1, 1:1}, max_features=28,\n",
      "                                      n_jobs=-1, max_depth=None)"
     ],
     "language": "python",
     "metadata": {},
     "outputs": [],
     "prompt_number": 1487
    },
    {
     "cell_type": "code",
     "collapsed": false,
     "input": [
      "forest_big.fit(train_prob_stats, labels_train[:, 0])"
     ],
     "language": "python",
     "metadata": {},
     "outputs": [
      {
       "metadata": {},
       "output_type": "pyout",
       "prompt_number": 1488,
       "text": [
        "RandomForestClassifier(bootstrap=True, class_weight={0: 1, 1: 1},\n",
        "            criterion='gini', max_depth=None, max_features=28,\n",
        "            max_leaf_nodes=None, min_samples_leaf=1, min_samples_split=2,\n",
        "            min_weight_fraction_leaf=0.0, n_estimators=300, n_jobs=-1,\n",
        "            oob_score=False, random_state=None, verbose=0,\n",
        "            warm_start=False)"
       ]
      }
     ],
     "prompt_number": 1488
    },
    {
     "cell_type": "markdown",
     "metadata": {},
     "source": [
      "##### train a new random forest on the featrues of the probabilites\n",
      "train_prob_stats_living, train_prob_stats_dead = separate_living_dead(train_prob_stats, labels_train[:, 0])\n",
      "train_balanced(forests_big, train_prob_stats_living, train_prob_stats_living);"
     ]
    },
    {
     "cell_type": "markdown",
     "metadata": {},
     "source": [
      "print data_train.shape\n",
      "print dead_probs_stacked.shape, data_train_windows_stacked.shape\n",
      "print list_probs_train[2].shape, list_probs_train.shape\n",
      "print train_prob_stats.shape"
     ]
    },
    {
     "cell_type": "markdown",
     "metadata": {},
     "source": [
      "### Validation:"
     ]
    },
    {
     "cell_type": "code",
     "collapsed": false,
     "input": [
      "# Get probs of only windows that are in the ICU for each patient\n",
      "list_probs_valid = get_probs_all_windows(patients_valid, n_windows, stats, forests_final_1, time_ind, icu_combined[ind_valid])"
     ],
     "language": "python",
     "metadata": {},
     "outputs": [],
     "prompt_number": 1491
    },
    {
     "cell_type": "markdown",
     "metadata": {},
     "source": [
      "####### Get probs of only windows that are in the ICU for each patient\n",
      "list_probs_valid_all = get_probs_all_windows(patients_valid, n_windows, stats, forests_final_1)"
     ]
    },
    {
     "cell_type": "code",
     "collapsed": false,
     "input": [
      "# Get rows (online) for each time series of probabilities\n",
      "prob_windows_stacked_val, ind_windows_stacked_val = get_stacked_windows_from_ts(list_probs_valid, n_windows_big, stats_big)\n",
      "ind_windows_stacked_val = np.array(ind_windows_stacked_val, dtype=int)\n",
      "#prob_windows_stacked_val = np.hstack((prob_windows_stacked_val, age_valid[ind_windows_stacked_val])) # Stack AGE"
     ],
     "language": "python",
     "metadata": {},
     "outputs": [],
     "prompt_number": 1492
    },
    {
     "cell_type": "code",
     "collapsed": true,
     "input": [
      "# Get probability estimates for all windows (of probs) using the forest\n",
      "y_pred_stacked = forest_big.predict(prob_windows_stacked_val)\n",
      "y_pred_stacked = y_pred_stacked.reshape((y_pred_stacked.shape[0], 1))"
     ],
     "language": "python",
     "metadata": {},
     "outputs": [],
     "prompt_number": 1493
    },
    {
     "cell_type": "code",
     "collapsed": false,
     "input": [
      "list_y_preds_val = get_list_of_prediction_arrays(y_pred_stacked, ind_windows_stacked_val)"
     ],
     "language": "python",
     "metadata": {},
     "outputs": [],
     "prompt_number": 1494
    },
    {
     "cell_type": "code",
     "collapsed": false,
     "input": [
      "y_any_valid = np.array([(list_y_preds_val[i] == True).any() for i in xrange(list_y_preds_val.shape[0])])\n",
      "get_ss(confusion_matrix(labels_valid, y_any_valid))"
     ],
     "language": "python",
     "metadata": {},
     "outputs": [
      {
       "metadata": {},
       "output_type": "pyout",
       "prompt_number": 1522,
       "text": [
        "(0.7142857142857143, 0.8862629246676514)"
       ]
      }
     ],
     "prompt_number": 1522
    },
    {
     "cell_type": "markdown",
     "metadata": {},
     "source": [
      "### Testing"
     ]
    },
    {
     "cell_type": "markdown",
     "metadata": {},
     "source": [
      "- 0.6875, 0.923923923923924: 3, 3 windows, all stats in 2nd\n",
      "- (0.84, 0.8117529880478087): 1, 1 windows, max_features=28\n",
      "- (0.76, 0.853585657370518)): max_features=28, WITHOUT AGE, only in ICU\n",
      "- (0.7333333333333333, 0.8705179282868526): \", NO Age, Everywhere\n",
      "- 0.7733333333333333, 0.8077689243027888): \", with age, only in ICU"
     ]
    },
    {
     "cell_type": "markdown",
     "metadata": {},
     "source": [
      "### Prediction times"
     ]
    },
    {
     "cell_type": "code",
     "collapsed": false,
     "input": [
      "l = get_prediction_times_all_patients(list_y_preds_val, patients_valid, time_ind, icu_combined[ind_valid])\n",
      "print np.median(l[l>0]/3600), np.min(l[l>0]/3600)\n",
      "print np.arange(y_any_valid.shape[0])[y_any_valid]  # all valid indices with at least one 1\n",
      "# find the indices at which 1 was predicted, and the label\n",
      "i = 31\n",
      "print np.arange(list_y_preds_val[i].shape[0])[list_y_preds_val[i][:, 0] == 1], labels_valid[i]\n",
      "print labels_valid[y_any_valid != (l>0)]    # TRUE LABELS WHERE THE PREDICTION 1 WAS MADE AT TIME 0"
     ],
     "language": "python",
     "metadata": {},
     "outputs": [
      {
       "output_type": "stream",
       "stream": "stdout",
       "text": [
        "175.0925 4.83583333333\n"
       ]
      }
     ],
     "prompt_number": 1703
    },
    {
     "cell_type": "markdown",
     "metadata": {},
     "source": [
      "## others"
     ]
    },
    {
     "cell_type": "code",
     "collapsed": false,
     "input": [
      "# random run no age, only on icu,\n",
      "y_any_valid = np.array([(list_y_preds_val[i] == True).any() for i in xrange(list_y_preds_val.shape[0])])\n",
      "get_ss(confusion_matrix(labels_valid, y_any_valid))"
     ],
     "language": "python",
     "metadata": {},
     "outputs": [
      {
       "metadata": {},
       "output_type": "pyout",
       "prompt_number": 1322,
       "text": [
        "(0.8309859154929577, 0.8630952380952381)"
       ]
      }
     ],
     "prompt_number": 1322
    },
    {
     "cell_type": "code",
     "collapsed": false,
     "input": [
      "list_y_preds_val = get_list_of_prediction_arrays(y_prob_stacked, ind_windows_stacked_val)"
     ],
     "language": "python",
     "metadata": {},
     "outputs": [],
     "prompt_number": 599
    },
    {
     "cell_type": "code",
     "collapsed": false,
     "input": [
      "confusion_matrix(labels_valid, y_any_valid)"
     ],
     "language": "python",
     "metadata": {},
     "outputs": [
      {
       "metadata": {},
       "output_type": "pyout",
       "prompt_number": 629,
       "text": [
        "array([[469, 198],\n",
        "       [  4,  48]])"
       ]
      }
     ],
     "prompt_number": 629
    },
    {
     "cell_type": "code",
     "collapsed": false,
     "input": [
      "[ind_fp_val, ind_fn_val, ind_tp_val, ind_tn_val] = get_confusion_inds(labels_valid, y_any_valid)"
     ],
     "language": "python",
     "metadata": {},
     "outputs": [],
     "prompt_number": 603
    },
    {
     "cell_type": "code",
     "collapsed": false,
     "input": [
      "for i, p in enumerate(patients_valid[:10]):\n",
      "    if(ind_fp_val[i]):\n",
      "        patient_windows = get_all_window_stats(patients_valid[i], n_windows, stats, time=time_ind)\n",
      "        prob_mod = get_model_sum_probs(patient_windows, forests_final_1) / n_train_splits\n",
      "        #print get_pr_predictions(patient_windows, probit_reg, theta_max, forests_final)\n",
      "        #prob_reg = get_pr_probs(patient_windows, probit_reg, forests_final)\n",
      "        figure()\n",
      "        ylim([0, 1])\n",
      "        \n",
      "        plot(prob_mod[:, 1])"
     ],
     "language": "python",
     "metadata": {},
     "outputs": [
      {
       "metadata": {},
       "output_type": "display_data",
       "png": "[encoded data removed]",
       "text": [
        "<matplotlib.figure.Figure at 0x7f47110ea690>"
       ]
      },
      {
       "metadata": {},
       "output_type": "display_data",
       "png": "[encoded data removed]",
       "text": [
        "<matplotlib.figure.Figure at 0x7f470b678410>"
       ]
      }
     ],
     "prompt_number": 610
    },
    {
     "cell_type": "code",
     "collapsed": false,
     "input": [
      "## MISCLASSIFIED PATIENTS!\n",
      "l = np.array([x.shape[0] for x in patient_combined])\n",
      "l[[689, 694, 699, 695, 705, 715]]\n",
      "np.arange(3594)[argsort(l)==2]"
     ],
     "language": "python",
     "metadata": {},
     "outputs": [],
     "prompt_number": 934
    },
    {
     "cell_type": "markdown",
     "metadata": {},
     "source": [
      "# Things that did not work"
     ]
    },
    {
     "cell_type": "markdown",
     "metadata": {},
     "source": [
      "# The one with glm\n",
      "\n",
      "forests_final = [RandomForestClassifier(n_estimators=300, class_weight=None, max_features=None,\n",
      "                                      n_jobs=-1, max_depth=None\n",
      "                                      ) for i in xrange(n_train_splits)]\n",
      "data_all_windows_stacked, ind_all_windows_stacked = get_stacked_windows_from_ts(patients_valid, n_windows, stats)\n",
      "[probit_reg, theta_max, s] = score_with_glm(forests_final, data_train, labels_train, data_train_living,\n",
      "                                            data_train_dead, data_valid, labels_valid, cols=None)\n",
      "y_pred_stacked = get_pr_predictions(data_all_windows_stacked, probit_reg, theta_max, forests_final)\n",
      "list_y_preds = get_list_of_prediction_arrays(y_pred_stacked, ind_all_windows_stacked)\n",
      "list_y_preds_dead = list_y_preds[labels_valid[:, 0] == 1]\n",
      "list_y_preds_alive = list_y_preds[labels_valid[:, 0] == 0]\n",
      "y_any_valid = np.array([(list_y_preds[i] == True).any() for i in xrange(list_y_preds.shape[0])])\n",
      "get_ss(confusion_matrix(labels_valid, y_any_valid))"
     ]
    },
    {
     "cell_type": "markdown",
     "metadata": {},
     "source": [
      "#### Weird svms combination\n",
      "svms = [svm.NuSVC(nu=0.10, kernel='poly', degree=2, gamma=10**(-1.7), coef0=100, probability=True),\n",
      "        svm.NuSVC(nu=0.10, kernel='poly', degree=2, gamma=10**(-1.7), coef0=100, probability=True),\n",
      "        svm.NuSVC(nu=0.10, kernel='poly', degree=2, gamma=10**(-1.7), coef0=100, probability=True),\n",
      "        svm.NuSVC(nu=0.10, kernel='poly', degree=2, gamma=10**(-1.7), coef0=100, probability=True),\n",
      "        svm.NuSVC(nu=0.10, kernel='poly', degree=2, gamma=10**(-1.7), coef0=100, probability=True),\n",
      "        svm.NuSVC(nu=0.10, kernel='poly', degree=2, gamma=10**(-1.7), coef0=100, probability=True),\n",
      "        svm.NuSVC(nu=0.10, kernel='poly', degree=2, gamma=10**(-1.7), coef0=100, probability=True),\n",
      "        svm.NuSVC(nu=0.5, kernel='poly', degree=2, gamma=10**(-1.7), coef0=100, probability=True),\n",
      "        svm.NuSVC(nu=0.9, kernel='poly', degree=2, gamma=10**(-1.7), coef0=100, probability=True),\n",
      "        svm.NuSVC(nu=0.8, kernel='poly', degree=2, gamma=10**(-1.7), coef0=100, probability=True),\n",
      "        svm.NuSVC(nu=0.8, kernel='poly', degree=2, gamma=10**(-1.7), coef0=100, probability=True),\n",
      "        svm.NuSVC(nu=0.8, kernel='poly', degree=2, gamma=10**(-1.7), coef0=100, probability=True)\n",
      "        ]\n",
      "c_train, c_valid = train_balanced(svms)\n",
      "probit_reg_svm, theta_max_svm = train_pr_max_sens(svms, data_train, labels_train)\n",
      "\n",
      "svms = [svm.NuSVC(nu=0.52, kernel='poly', degree=2, gamma=10**(-1.7), coef0=1, probability=True),\n",
      "        svm.NuSVC(nu=0.52, kernel='poly', degree=2, gamma=10**(-1.3), coef0=1, probability=True),\n",
      "        svm.NuSVC(nu=0.40, kernel='poly', degree=2, gamma=10**(-1.1), coef0=1, probability=True),\n",
      "        svm.NuSVC(nu=0.50, kernel='poly', degree=2, gamma=10**(-0.9), coef0=1, probability=True),\n",
      "        svm.NuSVC(nu=0.56, kernel='poly', degree=2, gamma=10**(-0.7), coef0=1, probability=True),\n",
      "        svm.NuSVC(nu=0.62, kernel='poly', degree=2, gamma=10**(-2), coef0=1, probability=True),\n",
      "        svm.NuSVC(nu=0.62, kernel='poly', degree=2, gamma=10**(-2), coef0=1, probability=True),\n",
      "        svm.NuSVC(nu=0.44, kernel='poly', degree=2, gamma=10**(-0.1), coef0=1, probability=True),\n",
      "        svm.NuSVC(nu=0.90, kernel='poly', degree=2, gamma=10**(-0.1), coef0=1, probability=True),\n",
      "        svm.NuSVC(nu=0.45, kernel='poly', degree=2, gamma=10**(-1.4), coef0=1, probability=True),\n",
      "        svm.NuSVC(nu=0.60, kernel='poly', degree=2, gamma=10**(-1.7), coef0=1, probability=True),\n",
      "        svm.NuSVC(nu=0.90, kernel='poly', degree=2, gamma=10**(-1.1), coef0=1, probability=True),\n",
      "        svm.NuSVC(nu=0.51, kernel='poly', degree=2, gamma=10**(-1.7), coef0=1, probability=True)\n",
      "        ]"
     ]
    }
   ],
   "metadata": {}
  }
 ]
}