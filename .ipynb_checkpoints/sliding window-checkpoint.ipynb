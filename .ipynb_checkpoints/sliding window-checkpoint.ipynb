{
 "metadata": {
  "name": "",
  "signature": "sha256:e6f5b1ff3858d6bbda5066edbf3e73cd1db612fb4ece68a84d73ed22c42a4673"
 },
 "nbformat": 3,
 "nbformat_minor": 0,
 "worksheets": [
  {
   "cells": [
    {
     "cell_type": "code",
     "collapsed": false,
     "input": [
      "import re\n",
      "import pandas\n",
      "import numpy as np\n",
      "import pandas as pd\n",
      "from patsy import dmatrices, dmatrix\n",
      "from pandas import Series, DataFrame\n",
      "import matplotlib.pyplot as plt\n",
      "%pylab inline\n",
      "import time\n",
      "import sklearn\n",
      "from sklearn.decomposition import PCA\n",
      "from sklearn.linear_model import LinearRegression\n",
      "from sklearn.linear_model import Lars\n",
      "from sklearn import neighbors\n",
      "from sklearn import gaussian_process\n",
      "from sklearn.cross_validation import KFold\n",
      "from sklearn.grid_search import GridSearchCV\n",
      "import scipy.stats as stats\n",
      "import scipy\n",
      "import matplotlib.pyplot as plt\n",
      "from mpl_toolkits.mplot3d import Axes3D\n",
      "from sklearn.cluster import KMeans\n",
      "from scipy.spatial import ConvexHull\n",
      "import scipy.spatial.distance as sdist"
     ],
     "language": "python",
     "metadata": {},
     "outputs": [
      {
       "output_type": "stream",
       "stream": "stdout",
       "text": [
        "Populating the interactive namespace from numpy and matplotlib\n"
       ]
      }
     ],
     "prompt_number": 2
    },
    {
     "cell_type": "code",
     "collapsed": false,
     "input": [
      "np.loadtxt()"
     ],
     "language": "python",
     "metadata": {},
     "outputs": []
    },
    {
     "cell_type": "code",
     "collapsed": false,
     "input": [
      "window_stats_living = np.loadtxt('windows/window_stats_living.csv', delimiter=',')"
     ],
     "language": "python",
     "metadata": {},
     "outputs": [],
     "prompt_number": 5
    },
    {
     "cell_type": "code",
     "collapsed": false,
     "input": [
      "window_stats_dead = np.loadtxt('windows/window_stats_dead.csv', delimiter=',')"
     ],
     "language": "python",
     "metadata": {},
     "outputs": [],
     "prompt_number": 6
    },
    {
     "cell_type": "code",
     "collapsed": false,
     "input": [
      "print window_stats_dead.shape\n",
      "print window_stats_living.shape"
     ],
     "language": "python",
     "metadata": {},
     "outputs": [
      {
       "output_type": "stream",
       "stream": "stdout",
       "text": [
        "(71186, 124)\n",
        "(525046, 124)\n"
       ]
      }
     ],
     "prompt_number": 15
    },
    {
     "cell_type": "code",
     "collapsed": false,
     "input": [
      "data = np.vstack((window_stats_dead, window_stats_living))\n",
      "labels = np.vstack((np.ones((window_stats_dead.shape[0], 1)),\n",
      "                    np.zeros((window_stats_living.shape[0], 1))\n",
      "                    ))\n",
      "ind = np.arange(0, labels.shape[0])\n",
      "shuffle(ind)\n",
      "from sklearn import *\n",
      "from sklearn.ensemble import *\n",
      "f = RandomForestClassifier(n_estimators=2, n_jobs=-1, )\n",
      "f = RandomForestRegressor()\n",
      "f.fit(data, labels)"
     ],
     "language": "python",
     "metadata": {},
     "outputs": [],
     "prompt_number": 13
    },
    {
     "cell_type": "code",
     "collapsed": false,
     "input": [
      "data.shape"
     ],
     "language": "python",
     "metadata": {},
     "outputs": [
      {
       "metadata": {},
       "output_type": "pyout",
       "prompt_number": 14,
       "text": [
        "(596232, 124)"
       ]
      }
     ],
     "prompt_number": 14
    }
   ],
   "metadata": {}
  }
 ]
}