{
 "metadata": {
  "name": "",
  "signature": "sha256:b59e178cc5e77bd859c64bc4f9f4a459168b4d720eee8dcaefcf6f0942562934"
 },
 "nbformat": 3,
 "nbformat_minor": 0,
 "worksheets": [
  {
   "cells": [
    {
     "cell_type": "markdown",
     "metadata": {},
     "source": [
      "%reset"
     ]
    },
    {
     "cell_type": "code",
     "collapsed": true,
     "input": [
      "col_labs =[\n",
      "\"Systolic Blood Pressure in mmHg\",\n",
      "\"Diastolic Blood Pressure in mmHg\", \n",
      "\"Heart Rate in bpm\", \n",
      "\"Respiration Rate in bpm\",\n",
      "\"Oxygen Saturation in %\",\n",
      "\"Temperature in Celsius\",\n",
      "\"Arterial blood PH in ph\",\n",
      "\"Partial Pressure of Carbon dioxide (PaCO2) in mmHg\",\n",
      "\"Partial Pressure of Oxygen (PaO2) in mmHg\",\n",
      "\"Sodium in mmol/L\",\n",
      "\"Potassium in mmol/L\",\n",
      "\"Bicarbonate in mmol/L\",\n",
      "\"Blood Urea Nitrogen in mg/dL\",\n",
      "\"Serum Creatinine in mg/dL\",\n",
      "\"WBC Count in x 103/\u00b5L\",\n",
      "\"Hematocrit %\",\n",
      "\"Platelet Count in x 103/\u00b5L\",\n",
      "\"Bilirubin in mg/dL\",\n",
      "\"Urine Output in ml\",\n",
      "\"LDL Cholesterol in mg/dL\",\n",
      "\"Lactic Acid in mmol/L\",\n",
      "\"Troponin I in ng/ml\",\n",
      "\"Troponin T in ng/ml\",\n",
      "\"Random Blood Glucose in mg/dL\",\n",
      "\"Fasting Blood Glucose in mg/dL\",\n",
      "\"Fraction of Inspired Oxygen (FiO2) in %\",\n",
      "\"Albumin in g/dl\",\n",
      "\"Alkaline Phosphatase in IU/L\",\n",
      "\"Alanine in IU/L\",\n",
      "\"HDL Cholesterol in mg/dL\",\n",
      "\"Magnesium in mg/dL\"]"
     ],
     "language": "python",
     "metadata": {},
     "outputs": [],
     "prompt_number": 3
    },
    {
     "cell_type": "code",
     "collapsed": false,
     "input": [
      "import pysal\n",
      "from pysal import *\n",
      "from sklearn.ensemble import RandomForestClassifier\n",
      "from sklearn import svm\n",
      "from sklearn.metrics import confusion_matrix\n",
      "from math import *\n",
      "from scipy.stats import *\n",
      "import re\n",
      "import pandas\n",
      "import numpy as np\n",
      "import pandas as pd\n",
      "from pandas import Series, DataFrame\n",
      "import matplotlib.pyplot as plt\n",
      "from scipy.stats import norm\n",
      "from sklearn.linear_model import *"
     ],
     "language": "python",
     "metadata": {},
     "outputs": [],
     "prompt_number": 15
    },
    {
     "cell_type": "code",
     "collapsed": false,
     "input": [
      "from scipy.stats import norm"
     ],
     "language": "python",
     "metadata": {},
     "outputs": [],
     "prompt_number": 16
    },
    {
     "cell_type": "code",
     "collapsed": false,
     "input": [
      "np.set_printoptions(precision=5, suppress=True)"
     ],
     "language": "python",
     "metadata": {},
     "outputs": [],
     "prompt_number": 17
    },
    {
     "cell_type": "code",
     "collapsed": false,
     "input": [
      "df_age = pd.read_csv('data_train/id_age_train.csv')\n",
      "df_labels = pd.read_csv('data_train/id_label_train.csv')\n",
      "df_vitals = pd.read_csv('data_train/id_time_vitals_train.csv')\n",
      "df_labs = pd.read_csv('data_train/id_time_labs_train.csv')"
     ],
     "language": "python",
     "metadata": {},
     "outputs": [],
     "prompt_number": 18
    },
    {
     "cell_type": "code",
     "collapsed": false,
     "input": [
      "def get_df_combined(df_vitals, df_labs):\n",
      "    df_combined = df_vitals.drop('ICU', axis=1).copy()\n",
      "    df_combined = df_combined.join(df_labs.drop(['ID', 'TIME'], axis=1))\n",
      "    df_combined.drop(['ID', 'TIME'], axis=1, inplace=True)\n",
      "    return df_combined"
     ],
     "language": "python",
     "metadata": {},
     "outputs": [],
     "prompt_number": 19
    },
    {
     "cell_type": "code",
     "collapsed": false,
     "input": [
      "def norm_transform(x, x_range, W):\n",
      "    if(x<x_range[0]):\n",
      "        x=x_range[0]\n",
      "    if(x>x_range[1]):\n",
      "        x=x_range[1]\n",
      "    return np.dot(W, [1, x, log(1+x)])"
     ],
     "language": "python",
     "metadata": {},
     "outputs": [],
     "prompt_number": 20
    },
    {
     "cell_type": "code",
     "collapsed": false,
     "input": [
      "def get_x_w(df_combined):\n",
      "    x_range = np.zeros((n_features, 2))\n",
      "    W = np.zeros((n_features, 3))\n",
      "    for i in xrange(n_features):\n",
      "    #for i in xrange(1):\n",
      "        vals = df_combined.ix[df_combined.ix[:, i].notnull(), i]\n",
      "        vals = np.sort(vals)\n",
      "\n",
      "        # find the quantiles\n",
      "        N = vals.shape[0]\n",
      "        q = np.array([(j-0.5)/N for j in xrange(N)])\n",
      "\n",
      "        i_l = np.min(np.arange(q.shape[0])[q>0.01])\n",
      "        i_u = np.max(np.arange(q.shape[0])[q<0.99])\n",
      "\n",
      "        x_range[i, 0] = vals[i_l]\n",
      "        x_range[i, 1] = vals[i_u]\n",
      "\n",
      "        vals = vals[i_l: i_u+1]\n",
      "        q=norm.ppf(q[i_l: i_u+1]) / 3\n",
      "\n",
      "        X = np.ones((vals.shape[0], 3))\n",
      "        X[:, 1] = vals\n",
      "        X[:, 2] = np.log(1 + vals)\n",
      "\n",
      "        W[i, :] = np.dot(np.linalg.pinv(np.dot(X.T, X)),\n",
      "                         np.dot(X.T, q)\n",
      "                         )\n",
      "    \n",
      "    return [x_range, W]"
     ],
     "language": "python",
     "metadata": {},
     "outputs": [],
     "prompt_number": 21
    },
    {
     "cell_type": "code",
     "collapsed": false,
     "input": [
      "def get_norm_df(df_vitals, df_labs, x_range, W, path=None):\n",
      "    df_combined = get_df_combined(df_vitals, df_labs)\n",
      "    ### Normalize following the procedure in the paper\n",
      "    #### Find the xL, xU, w1, w2, w3 vars\n",
      "    # transform one element given range and W\n",
      "    df_norm = df_combined\n",
      "    for i in xrange(n_features):\n",
      "        df_norm.ix[:, i] = df_norm.ix[:, i].apply(lambda x:norm_transform(x, x_range[i], W[i]))\n",
      "    df_norm[df_norm.isnull()] = 0\n",
      "    \n",
      "    df_norm['TIME'] = df_vitals.TIME\n",
      "\n",
      "    if path is not None:\n",
      "        df_norm.to_csv(path=path)\n",
      "    return df_norm"
     ],
     "language": "python",
     "metadata": {},
     "outputs": [],
     "prompt_number": 22
    },
    {
     "cell_type": "code",
     "collapsed": false,
     "input": [
      "def get_arrays_combined_from_raw(df_vitals, df_labs, df_age, x_range, W, path=None):\n",
      "    df_norm = get_norm_df(df_vitals, df_labs, x_range, W, path)\n",
      "    patient_combined = [np.array(df_norm.ix[df_vitals['ID'] == ID, :]) for ID in df_age['ID'].unique()]\n",
      "\n",
      "    age_combined = np.array(df_age.AGE)\n",
      "    icu_combined = np.array([np.array(df_vitals.ICU[df_vitals['ID']==i]) for i in df_age['ID'].unique()])\n",
      "    return [patient_combined, age_combined, icu_combined]"
     ],
     "language": "python",
     "metadata": {},
     "outputs": [],
     "prompt_number": 41
    },
    {
     "cell_type": "code",
     "collapsed": false,
     "input": [
      "def split_patients_living_dead(patient_combined, df_labels):\n",
      "    # split into living and dead\n",
      "    patient_combined_dead = [patient_combined[ID-1] for ID in df_age['ID']\n",
      "                                                          if df_labels.ix[ID - 1, 'LABEL'] == 1]\n",
      "    patient_combined_living = [patient_combined[ID-1] for ID in df_labels['ID']\n",
      "                                                          if df_labels.ix[ID - 1, 'LABEL'] == 0]\n",
      "    return [patient_combined_living, patient_combined_dead]"
     ],
     "language": "python",
     "metadata": {},
     "outputs": [],
     "prompt_number": 50
    },
    {
     "cell_type": "code",
     "collapsed": false,
     "input": [
      "def get_norm_patients_from_df(df_vitals, df_labs, df_age, x_range, W, path=None):\n",
      "    df = get_norm_df(df_vitals, df_labs, x_range, W, path)\n",
      "    \n",
      "    patient_combined = [np.array(df.ix[df_vitals['ID'] == ID, :]) for ID in df_labels['ID'].unique()]\n",
      "\n",
      "\n",
      "    age_combined = np.array(df_age.AGE)\n",
      "    icu_combined = np.array([np.array(df_vitals.ICU[df_vitals['ID']==i]) for i in df_labels['ID'].unique()])\n",
      "    return [patient_combined, age_combined, icu_combined]"
     ],
     "language": "python",
     "metadata": {},
     "outputs": [],
     "prompt_number": 45
    },
    {
     "cell_type": "markdown",
     "metadata": {},
     "source": [
      "## Read the valus directly from the files\n",
      "#df_norm = get_norm_df()\n",
      "df_norm = pd.read_csv('/root/code/xerox/windows/svm_norm_data.csv')\n",
      "df_norm.drop(['Unnamed: 0'], axis=1, inplace=True)"
     ]
    },
    {
     "cell_type": "code",
     "collapsed": false,
     "input": [
      "n_features = 31"
     ],
     "language": "python",
     "metadata": {},
     "outputs": [],
     "prompt_number": 27
    },
    {
     "cell_type": "code",
     "collapsed": false,
     "input": [
      "time_ind = 31"
     ],
     "language": "python",
     "metadata": {},
     "outputs": [],
     "prompt_number": 28
    },
    {
     "cell_type": "code",
     "collapsed": false,
     "input": [
      "df_combined = get_df_combined(df_vitals, df_labs)"
     ],
     "language": "python",
     "metadata": {},
     "outputs": [],
     "prompt_number": 29
    },
    {
     "cell_type": "code",
     "collapsed": false,
     "input": [
      "x_range, W = get_x_w(df_combined)"
     ],
     "language": "python",
     "metadata": {},
     "outputs": [],
     "prompt_number": 30
    },
    {
     "cell_type": "code",
     "collapsed": false,
     "input": [
      "print x_range[0], W[0], norm_transform(100, x_range[0], W[0])"
     ],
     "language": "python",
     "metadata": {},
     "outputs": [
      {
       "output_type": "stream",
       "stream": "stdout",
       "text": [
        "[  77.  184.] [-9.50483 -0.00169  2.02252] -0.339251822373\n"
       ]
      }
     ],
     "prompt_number": 31
    },
    {
     "cell_type": "code",
     "collapsed": false,
     "input": [
      "[patient_combined, patient_combined_dead, patient_combined_living,\n",
      " age_combined, icu_combined, labels_combined] = get_norm_patients_from_df(df_vitals, df_labs,\n",
      "                                                                          df_age, x_range, W, path=None)"
     ],
     "language": "python",
     "metadata": {},
     "outputs": [
      {
       "ename": "NameError",
       "evalue": "global name 'patient_combined_dead' is not defined",
       "output_type": "pyerr",
       "traceback": [
        "\u001b[1;31m---------------------------------------------------------------------------\u001b[0m\n\u001b[1;31mNameError\u001b[0m                                 Traceback (most recent call last)",
        "\u001b[1;32m<ipython-input-33-8d5d9c38a264>\u001b[0m in \u001b[0;36m<module>\u001b[1;34m()\u001b[0m\n\u001b[0;32m      1\u001b[0m [patient_combined, patient_combined_dead, patient_combined_living,\n\u001b[0;32m      2\u001b[0m  \u001b[0mage_combined\u001b[0m\u001b[1;33m,\u001b[0m \u001b[0micu_combined\u001b[0m\u001b[1;33m,\u001b[0m \u001b[0mlabels_combined\u001b[0m\u001b[1;33m]\u001b[0m \u001b[1;33m=\u001b[0m \u001b[0mget_norm_patients_from_df\u001b[0m\u001b[1;33m(\u001b[0m\u001b[0mdf_vitals\u001b[0m\u001b[1;33m,\u001b[0m \u001b[0mdf_labs\u001b[0m\u001b[1;33m,\u001b[0m\u001b[1;33m\u001b[0m\u001b[0m\n\u001b[1;32m----> 3\u001b[1;33m                                                                           df_age, x_range, W, path=None)\n\u001b[0m",
        "\u001b[1;32m<ipython-input-25-ddee787b0168>\u001b[0m in \u001b[0;36mget_norm_patients_from_df\u001b[1;34m(df_vitals, df_labs, df_age, x_range, W, path)\u001b[0m\n\u001b[0;32m      7\u001b[0m     \u001b[0mage_combined\u001b[0m \u001b[1;33m=\u001b[0m \u001b[0mnp\u001b[0m\u001b[1;33m.\u001b[0m\u001b[0marray\u001b[0m\u001b[1;33m(\u001b[0m\u001b[0mdf_age\u001b[0m\u001b[1;33m.\u001b[0m\u001b[0mAGE\u001b[0m\u001b[1;33m)\u001b[0m\u001b[1;33m\u001b[0m\u001b[0m\n\u001b[0;32m      8\u001b[0m     \u001b[0micu_combined\u001b[0m \u001b[1;33m=\u001b[0m \u001b[0mnp\u001b[0m\u001b[1;33m.\u001b[0m\u001b[0marray\u001b[0m\u001b[1;33m(\u001b[0m\u001b[1;33m[\u001b[0m\u001b[0mnp\u001b[0m\u001b[1;33m.\u001b[0m\u001b[0marray\u001b[0m\u001b[1;33m(\u001b[0m\u001b[0mdf_vitals\u001b[0m\u001b[1;33m.\u001b[0m\u001b[0mICU\u001b[0m\u001b[1;33m[\u001b[0m\u001b[0mdf_vitals\u001b[0m\u001b[1;33m[\u001b[0m\u001b[1;34m'ID'\u001b[0m\u001b[1;33m]\u001b[0m\u001b[1;33m==\u001b[0m\u001b[0mi\u001b[0m\u001b[1;33m]\u001b[0m\u001b[1;33m)\u001b[0m \u001b[1;32mfor\u001b[0m \u001b[0mi\u001b[0m \u001b[1;32min\u001b[0m \u001b[0mdf_labels\u001b[0m\u001b[1;33m[\u001b[0m\u001b[1;34m'ID'\u001b[0m\u001b[1;33m]\u001b[0m\u001b[1;33m.\u001b[0m\u001b[0munique\u001b[0m\u001b[1;33m(\u001b[0m\u001b[1;33m)\u001b[0m\u001b[1;33m]\u001b[0m\u001b[1;33m)\u001b[0m\u001b[1;33m\u001b[0m\u001b[0m\n\u001b[1;32m----> 9\u001b[1;33m     return [patient_combined, patient_combined_dead, patient_combined_living, age_combined,\n\u001b[0m\u001b[0;32m     10\u001b[0m             icu_combined]\n",
        "\u001b[1;31mNameError\u001b[0m: global name 'patient_combined_dead' is not defined"
       ]
      }
     ],
     "prompt_number": 33
    },
    {
     "cell_type": "code",
     "collapsed": false,
     "input": [
      "labels_combined = np.array(df_labels.LABEL)"
     ],
     "language": "python",
     "metadata": {},
     "outputs": []
    },
    {
     "cell_type": "code",
     "collapsed": false,
     "input": [
      "data_combined = np.array(patient_combined)"
     ],
     "language": "python",
     "metadata": {},
     "outputs": []
    },
    {
     "cell_type": "code",
     "collapsed": false,
     "input": [
      "def get_n_windows(ts, n_windows, stats, time_=None):\n",
      "    if time_ is not None:\n",
      "        cols = [i for i in np.arange(ts.shape[1]) if i != time_]\n",
      "        n_features = ts.shape[1] - 1\n",
      "    else:\n",
      "        cols = np.arange(ts.shape[1])\n",
      "        n_features = ts.shape[1]\n",
      "    \n",
      "    #print n_features\n",
      "    l = np.zeros((n_windows, len(stats) * n_features))\n",
      "    n = int(ts.shape[0] / n_windows)\n",
      "    \n",
      "    # get windows\n",
      "    for j in xrange(0, n_windows):\n",
      "        if (j==n_windows-1):\n",
      "            window = ts[j*n :, :] \n",
      "        else:\n",
      "            window = ts[j*n : (j+1)*n, :] \n",
      "\n",
      "        # apply stats to the window and append into a row\n",
      "        for k in xrange(len(stats)):\n",
      "            f = stats[k]\n",
      "            if f.func_name == '<lambda>':\n",
      "                if time_ is None:\n",
      "                    l[j, k*n_features:(k+1)*n_features] = f(window[:, cols], None)\n",
      "                else:\n",
      "                    l[j, k*n_features:(k+1)*n_features] = f(window[:, cols], window[:, time_])\n",
      "            else:\n",
      "                l[j, k*n_features:(k+1)*n_features] = f(window[:, cols], axis=0)\n",
      "    return l"
     ],
     "language": "python",
     "metadata": {},
     "outputs": [],
     "prompt_number": 19
    },
    {
     "cell_type": "markdown",
     "metadata": {},
     "source": [
      "def get_windows_data(data, n_windows, stats):\n",
      "    window_stats = []\n",
      "    for i in xrange(len(data)):\n",
      "        ts = data[i]\n",
      "\n",
      "        if(ts.shape[0] < n_windows):\n",
      "            #window_stats.append(None)    # We want to keep 1-1 mapping with patients..\n",
      "            n = int(np.ceil(1.0 * n_windows / ts.shape[0]))\n",
      "            t = np.zeros((ts.shape[0] * n, ts.shape[1]))\n",
      "            for i in xrange(ts.shape[0]):\n",
      "                for k in xrange(n):\n",
      "                    t[n*i + k, :] = ts[i, :]\n",
      "            \n",
      "            ts = t\n",
      "\n",
      "        l = get_n_windows(ts, n_windows, stats)\n",
      "        window_stats.append(l)\n",
      "        \n",
      "    return window_stats"
     ]
    },
    {
     "cell_type": "code",
     "collapsed": false,
     "input": [
      "### Given list of patient time series, give a matrix with one row for each patient containing all windows\n",
      "def get_rows_data(data, n_windows, stats, time=None):\n",
      "    n_features = data[0].shape[1]\n",
      "    if time is not None:\n",
      "        n_features = n_features - 1\n",
      "    data_windows = np.zeros((len(data), n_windows*n_features*len(stats)))\n",
      "    for i in xrange(len(data)):\n",
      "        ts = data[i]\n",
      "\n",
      "        if(ts.shape[0] < n_windows):\n",
      "            #window_stats.append(None)    # We want to keep 1-1 mapping with patients..\n",
      "            n = int(np.ceil(1.0 * n_windows / ts.shape[0]))\n",
      "            t = np.zeros((ts.shape[0] * n, ts.shape[1]))\n",
      "            for i in xrange(ts.shape[0]):\n",
      "                for k in xrange(n):\n",
      "                    t[n*i + k, :] = ts[i, :]\n",
      "            \n",
      "            ts = t\n",
      "            continue\n",
      "\n",
      "        l = get_n_windows(ts, n_windows, stats, time)\n",
      "        data_windows[i, :] = np.hstack(l)\n",
      "        \n",
      "    return data_windows"
     ],
     "language": "python",
     "metadata": {},
     "outputs": [],
     "prompt_number": 20
    },
    {
     "cell_type": "markdown",
     "metadata": {},
     "source": [
      "## For ONLINE prediction"
     ]
    },
    {
     "cell_type": "code",
     "collapsed": false,
     "input": [
      "### Get windows starting with zero upto end for the time series 'ts', ONLY for which icu=1 (If provided)\n",
      "def get_online_windows(ts, icu=None):\n",
      "    if icu is None:\n",
      "        p_windows = np.array([ts[:i+1, :] for i in xrange(ts.shape[0])])\n",
      "    else:   # inclue only if icu[i] == 1\n",
      "        p_windows = np.array([ts[:i+1, :] for i in xrange(ts.shape[0]) if icu[i]==1])\n",
      "    return p_windows"
     ],
     "language": "python",
     "metadata": {},
     "outputs": [],
     "prompt_number": 21
    },
    {
     "cell_type": "code",
     "collapsed": false,
     "input": [
      "### Get stats of a given ts for all possible windows starting with 1 element\n",
      "def get_all_window_stats(ts, n_windows, stats, time=None, icu=None):\n",
      "    p_windows = get_online_windows(ts, icu)\n",
      "    p_all_window_stats = get_rows_data(p_windows, n_windows, stats, time)\n",
      "    return p_all_window_stats"
     ],
     "language": "python",
     "metadata": {},
     "outputs": [],
     "prompt_number": 22
    },
    {
     "cell_type": "code",
     "collapsed": false,
     "input": [
      "### Given a LIST of patient time series, give back a list of matrices, one for each time series, where each row is window 0..i\n",
      "def get_list_all_window_stats(data, n_windows, stats, time=None, list_of_icu=None):\n",
      "    all_window_stats = []\n",
      "    for i, d in enumerate(data):\n",
      "        if list_of_icu is None:\n",
      "            all_window_stats.append(get_all_window_stats(d, n_windows, stats, time))\n",
      "        else:\n",
      "            all_window_stats.append(get_all_window_stats(d, n_windows, stats, time, list_of_icu[i]))\n",
      "    \n",
      "    return all_window_stats"
     ],
     "language": "python",
     "metadata": {},
     "outputs": [],
     "prompt_number": 610
    },
    {
     "cell_type": "markdown",
     "metadata": {},
     "source": [
      "#### For testing online ones!\n",
      "ts = patients_valid[0:2]\n",
      "ts[1].shape\n",
      "p_windows = get_online_windows(ts[1])\n",
      "p_windows[10].shape\n",
      "p_stats = get_all_window_stats(ts[1], n_windows, stats)\n",
      "p_stats.shape\n",
      "p_all = get_list_all_window_stats(ts, n_windows, stats)\n",
      "p_all[1].shape"
     ]
    },
    {
     "cell_type": "code",
     "collapsed": false,
     "input": [
      "#### Confusion!\n",
      "def get_ss(confusion):\n",
      "    tn = confusion[0, 0]  # label=0, pred=0\n",
      "    fp = confusion[0, 1]  # label=0, pred=1\n",
      "    \n",
      "    fn = confusion[1, 0]  # label=1, pred=0\n",
      "    tp = confusion[1, 1]  # label=1, pred=1\n",
      "    \n",
      "    sens = (1.0*tp/(tp+fn))\n",
      "    spec = (1.0*tn/(tn+fp))\n",
      "    \n",
      "    #print confusion\n",
      "    #print\n",
      "    #prittp, fp, fn, tn, sens, spec\n",
      "    #print 'Sensitiviy: ', sens, '\\nSpecificity: ', spec\n",
      "    return sens, spec"
     ],
     "language": "python",
     "metadata": {},
     "outputs": [],
     "prompt_number": 24
    },
    {
     "cell_type": "markdown",
     "metadata": {},
     "source": [
      "# Split Data!"
     ]
    },
    {
     "cell_type": "code",
     "collapsed": false,
     "input": [
      "def split_train_valid_test(data_combined, labels_combined, icu_combined, age_combined, split=[0.6, 0.2]):\n",
      "    \n",
      "    ind = np.arange(0, len(labels_combined))\n",
      "    np.random.shuffle(ind)\n",
      "    \n",
      "    N = len(ind)\n",
      "    N_train = int(split[0] * N)\n",
      "    N_valid = int((split[1]+split[0]) * N)\n",
      "    \n",
      "    ind_train = ind[:N_train]\n",
      "    ind_valid = ind[N_train:N_valid]\n",
      "    ind_test = ind[N_valid:]\n",
      "    \n",
      "    data_combined = np.array(data_combined)\n",
      "    labels_combined = np.array(labels_combined)\n",
      "    \n",
      "    data_train = data_combined[ind_train]\n",
      "    labels_train = labels_combined[ind_train]\n",
      "    age_train = age_combined[ind_train]\n",
      "    icu_train = icu_combined[ind_train]\n",
      "    \n",
      "    age_valid = age_combined[ind_valid]\n",
      "    icu_valid = icu_combined[ind_valid]\n",
      "    labels_valid = labels_combined[ind_valid]\n",
      "    data_valid = data_combined[ind_valid]\n",
      "\n",
      "    age_test = age_combined[ind_test]\n",
      "    icu_test = icu_combined[ind_test]\n",
      "    labels_test = labels_combined[ind_test]\n",
      "    data_test = data_combined[ind_test]\n",
      "    \n",
      "    return [data_train, labels_train, data_valid, labels_valid, data_test, labels_test,\n",
      "            #ind_train, ind_valid, ind_test]\n",
      "            icu_train, icu_valid, icu_test,\n",
      "            age_train, age_valid, age_test, ind_train, ind_valid, ind_test]"
     ],
     "language": "python",
     "metadata": {},
     "outputs": [],
     "prompt_number": 25
    },
    {
     "cell_type": "markdown",
     "metadata": {},
     "source": [
      "### Separate dead and alive in train and validation sets"
     ]
    },
    {
     "cell_type": "code",
     "collapsed": false,
     "input": [
      "def separate_living_dead(data, labels):\n",
      "    data_living = data[labels == 0]\n",
      "    data_dead = data[labels == 1]\n",
      "    return [data_living, data_dead]"
     ],
     "language": "python",
     "metadata": {},
     "outputs": [],
     "prompt_number": 26
    },
    {
     "cell_type": "markdown",
     "metadata": {},
     "source": [
      "### Find number of dead and alive patients in train and validation sets"
     ]
    },
    {
     "cell_type": "code",
     "collapsed": false,
     "input": [
      "def get_sizes(data_living, data_dead):\n",
      "    n_dead = data_dead.shape[0]\n",
      "    n_living = data_living.shape[0]\n",
      "    n_combined = n_dead + n_living\n",
      "    \n",
      "    return n_dead, n_living, n_combined"
     ],
     "language": "python",
     "metadata": {},
     "outputs": [],
     "prompt_number": 27
    },
    {
     "cell_type": "markdown",
     "metadata": {},
     "source": [
      "# GET DATA!"
     ]
    },
    {
     "cell_type": "code",
     "collapsed": false,
     "input": [
      "def get_data(patient_combined, labels_combined, age_combined, icu_combined, n_windows, stats, split, time=None):\n",
      "    ### Generate windowed data\n",
      "    data_windows_combined = get_rows_data(patient_combined, n_windows, stats, time)\n",
      "    #data_windows_combined = np.hstack((data_windows_combined, age_combined))\n",
      "\n",
      "    print data_windows_combined.shape\n",
      "    ### split into train and validation sets, living and dead\n",
      "    [data_train, labels_train, data_valid, labels_valid, data_test, labels_test,\n",
      "     icu_train, icu_valid, icu_test,\n",
      "     age_train, age_valid, age_test, ind_train, ind_valid, ind_test] = split_train_valid_test(data_windows_combined,\n",
      "     #ind_train, ind_valid, ind_test] = split_train_valid_test(data_windows_combined,\n",
      "                                                                         labels_combined, icu_combined,\n",
      "                                                                         age_combined, split=split)\n",
      "    \n",
      "    print data_train.shape\n",
      "    [data_train_living, data_train_dead] = separate_living_dead(data_train, labels_train)\n",
      "    [data_valid_living, data_valid_dead] = separate_living_dead(data_valid, labels_valid)\n",
      "    [data_test_living, data_test_dead] = separate_living_dead(data_test, labels_test)\n",
      "    \n",
      "    [age_train_living, age_train_dead] = separate_living_dead(age_train, labels_train)\n",
      "    [age_valid_living, age_valid_dead] = separate_living_dead(age_valid, labels_valid)\n",
      "    [age_test_living, age_test_dead] = separate_living_dead(age_test, labels_test)\n",
      "    [icu_train_living, icu_train_dead] = separate_living_dead(icu_train, labels_train)\n",
      "    [icu_valid_living, icu_valid_dead] = separate_living_dead(icu_valid, labels_valid)\n",
      "    [icu_test_living, icu_test_dead] = separate_living_dead(icu_test, labels_test)\n",
      "    \n",
      "    labels_train = labels_train.reshape((labels_train.shape[0], 1))\n",
      "    labels_valid = labels_valid.reshape((labels_valid.shape[0], 1))\n",
      "    labels_test = labels_test.reshape((labels_test.shape[0], 1))\n",
      "    \n",
      "    print data_train.shape\n",
      "    n_train_dead, n_train_living, n_train_combined = get_sizes(data_train_living, data_train_dead)\n",
      "    n_valid_dead, n_valid_living, n_valid_combined = get_sizes(data_valid_living, data_valid_dead)\n",
      "    n_test_dead, n_test_living, n_test_combined = get_sizes(data_test_living, data_test_dead)\n",
      "    \n",
      "    print 'Train:', n_train_dead, n_train_living, labels_train.shape[0]\n",
      "    print 'Valid:', n_valid_dead, n_valid_living, labels_valid.shape[0]\n",
      "    print 'Test:', n_test_dead, n_test_living, labels_test.shape[0]\n",
      "\n",
      "    ### Split into balacned sets!\n",
      "    n_train_splits = int (n_train_living / n_train_dead)\n",
      "    train_split = int (n_train_living / n_train_splits)\n",
      "    print 'Train Splits', n_train_splits, train_split, n_train_dead + n_train_splits * train_split, n_train_combined\n",
      "    print data_train.shape\n",
      "    print data_train[1].shape\n",
      "    \n",
      "    return [data_train, labels_train, data_valid, labels_valid, data_test, labels_test,\n",
      "            data_train_living, data_train_dead, data_valid_living, data_valid_dead, data_test_living, data_test_dead,\n",
      "            age_train_living, age_train_dead, age_valid_living, age_valid_dead, age_test_living, age_test_dead,\n",
      "            icu_train_living, icu_train_dead, icu_valid_living, icu_valid_dead, icu_test_living, icu_test_dead,\n",
      "            train_split, ind_train, ind_valid, ind_test, n_train_splits, train_split]"
     ],
     "language": "python",
     "metadata": {},
     "outputs": [],
     "prompt_number": 28
    },
    {
     "cell_type": "markdown",
     "metadata": {},
     "source": [
      "# Classify!"
     ]
    },
    {
     "cell_type": "markdown",
     "metadata": {},
     "source": [
      "## Train balanced models!"
     ]
    },
    {
     "cell_type": "code",
     "collapsed": false,
     "input": [
      "def train_balanced(models, data_living, data_dead):\n",
      "    C_train = []\n",
      "    for i in xrange(n_train_splits):\n",
      "        # NO RANDOM SHUFFLE NOW!\n",
      "        data_bal = np.vstack((data_living[i * train_split: (i+1) * train_split, :],\n",
      "                              data_dead[:, :]) )\n",
      "        \n",
      "        label_bal = np.vstack((np.zeros((train_split, 1)),\n",
      "                               np.ones((data_dead.shape[0], 1))))\n",
      "\n",
      "        models[i].fit(data_bal, label_bal[:, 0])\n",
      "        C_train.append(confusion_matrix(label_bal[:,], models[i].predict(data_bal)))\n",
      "        \n",
      "    return C_train"
     ],
     "language": "python",
     "metadata": {},
     "outputs": [],
     "prompt_number": 29
    },
    {
     "cell_type": "code",
     "collapsed": false,
     "input": [
      "### GIVES THE SCORES OF EACH MODEL ON THE DATA\n",
      "def score_models(models, data_valid, labels_valid):\n",
      "    C_valid = []\n",
      "    for i in xrange(n_train_splits):\n",
      "        y = models[i].predict(data_valid)\n",
      "        C_valid.append(confusion_matrix(labels_valid[:], y))\n",
      "        #get_ss(C_valid[i])\n",
      "    return C_valid    "
     ],
     "language": "python",
     "metadata": {},
     "outputs": [],
     "prompt_number": 30
    },
    {
     "cell_type": "markdown",
     "metadata": {},
     "source": [
      "## Train GLM:"
     ]
    },
    {
     "cell_type": "code",
     "collapsed": false,
     "input": [
      "def get_proba(models_bal, data, sort=False):\n",
      "    probs = np.zeros((data.shape[0], len(models_bal)))\n",
      "        \n",
      "    probs = np.array([model.predict_proba(data)[:, 1] for model in models_bal]).T\n",
      "    if sort:\n",
      "        probs = np.sort(probs)\n",
      "    return probs"
     ],
     "language": "python",
     "metadata": {},
     "outputs": [],
     "prompt_number": 31
    },
    {
     "cell_type": "markdown",
     "metadata": {},
     "source": [
      "def train_glm(models_bal, glm):\n",
      "   ##### find the probability estimates of each of the balanced models on the training set \n",
      "    \n",
      "    probs_train = get_proba(models_bal, data_train)\n",
      "    glm.fit(probs_train, labels_train)\n",
      "    \n",
      "    print 'Training data:'\n",
      "    get_ss(confusion_matrix(labels_train, glm.predict(probs_train)))\n",
      "    print 'Validation data:'\n",
      "    get_ss(confusion_matrix(labels_valid, glm.predict(get_proba(models_bal, data_valid))))"
     ]
    },
    {
     "cell_type": "markdown",
     "metadata": {},
     "source": [
      "### Train glm and find threshold for max sens given specificity > 0.99"
     ]
    },
    {
     "cell_type": "code",
     "collapsed": false,
     "input": [
      "def train_probit_reg(models, data, labels):\n",
      "    probs = get_proba(models, data)\n",
      "    pr = spreg.probit.Probit(y=labels, x=probs)\n",
      "    return pr"
     ],
     "language": "python",
     "metadata": {},
     "outputs": [],
     "prompt_number": 32
    },
    {
     "cell_type": "code",
     "collapsed": false,
     "input": [
      "def get_pr_probs(data, pr, models):\n",
      "    y_prob = norm.cdf(np.dot(np.hstack((np.ones((data.shape[0], 1)), \n",
      "                                        get_proba(models, data)\n",
      "                                        )\n",
      "                                       ), pr.betas\n",
      "                             )\n",
      "                      )\n",
      "    return y_prob"
     ],
     "language": "python",
     "metadata": {},
     "outputs": [],
     "prompt_number": 33
    },
    {
     "cell_type": "code",
     "collapsed": false,
     "input": [
      "def get_pr_prob_predictions(y_prob, theta):\n",
      "    return y_prob>theta"
     ],
     "language": "python",
     "metadata": {},
     "outputs": [],
     "prompt_number": 34
    },
    {
     "cell_type": "code",
     "collapsed": false,
     "input": [
      "## CHECK\n",
      "def get_pr_predictions(data, pr, theta_max, models):\n",
      "    y_prob = get_pr_probs(data, pr, models)\n",
      "    return get_pr_prob_predictions(y_prob, theta_max)"
     ],
     "language": "python",
     "metadata": {},
     "outputs": [],
     "prompt_number": 35
    },
    {
     "cell_type": "code",
     "collapsed": false,
     "input": [
      "# find theta that maximises the sens at 99% spec on (data, labels)\n",
      "def train_theta_max_sens(models, data, labels, pr=None, N=100, verbose=False):\n",
      "    sens = []\n",
      "    spec = []\n",
      "    theta_arr = []\n",
      "    if pr!=None:\n",
      "        y_prob = get_pr_probs(data, pr, models)\n",
      "    else:\n",
      "        y_prob = get_model_sum_probs(data, models)\n",
      "        \n",
      "    for t in xrange(1, N):\n",
      "        theta = t*(1.0 / (N-1))\n",
      "        if pr!= None:\n",
      "            y = get_pr_prob_predictions(y_prob, theta)\n",
      "        else:\n",
      "            y = get_model_prob_predictions(y_prob, theta)\n",
      "        \n",
      "        se, sp = get_ss(confusion_matrix(labels, y))\n",
      "        sens.append(se); spec.append(sp); theta_arr.append(theta)\n",
      "\n",
      "    sens = np.array(sens); spec = np.array(spec); theta_arr = np.array(theta_arr);\n",
      "    \n",
      "    # Check if atleast one has >0.99 spec and non zero sens\n",
      "    if (sens[spec>0.99] > 0).any():   # take max spec for which sens>0\n",
      "        ind = spec>0.99\n",
      "        max_ind = np.argmax(sens[ind]) # take max sens for spec>0.99\n",
      "    elif (sens>0).any():\n",
      "        ind = sens>0\n",
      "        max_ind = np.argmax(spec[ind])\n",
      "    else:\n",
      "        ind = np.arange(spec.shape[0])\n",
      "        max_ind = np.argmax(spec[ind])\n",
      "        \n",
      "    sens_ = sens[ind][max_ind]\n",
      "    spec_ = spec[ind][max_ind]\n",
      "    theta = theta_arr[ind][max_ind]\n",
      "    \n",
      "    if verbose==True:\n",
      "        print sens, spec\n",
      "        \n",
      "    #print max_ind, sens_, spec_\n",
      "    #print sens[max_ind], spec[max_ind]\n",
      "    return theta"
     ],
     "language": "python",
     "metadata": {},
     "outputs": [],
     "prompt_number": 577
    },
    {
     "cell_type": "code",
     "collapsed": false,
     "input": [
      "## Train glm using training data, and then return the performance on the validation set!\n",
      "def score_with_glm(models, data_train, labels_train, data_train_living, data_train_dead, data_valid, labels_valid, cols=None):\n",
      "    if cols == None:\n",
      "        cols = np.arange(data_train_living.shape[1])\n",
      "        \n",
      "    c_train = train_balanced(models, data_train_living[:, cols], data_train_dead[:, cols]) # train models on subsets of the training data\n",
      "    print '1'\n",
      "    probit_reg = train_probit_reg(models, data_train[:, cols], labels_train)      # Probit reg on all the training data\n",
      "    print '2'\n",
      "    theta_max = train_theta_max_sens(models, data_valid[:, cols], labels_valid,\n",
      "                                     probit_reg)                                # find Optimal theta ON THE VALIDATION SET\n",
      "    \n",
      "    print '3'\n",
      "    y_train = get_pr_predictions(data_train[:, cols], probit_reg, theta_max, models)\n",
      "    y_valid = get_pr_predictions(data_valid[:, cols], probit_reg, theta_max, models)\n",
      "    y_test = get_pr_predictions(data_test[:, cols], probit_reg, theta_max, models)\n",
      "    return [probit_reg, theta_max,\n",
      "            [get_ss(confusion_matrix(labels_train, y_train)),\n",
      "             get_ss(confusion_matrix(labels_valid, y_valid)),\n",
      "             get_ss(confusion_matrix(labels_test, y_test))]]"
     ],
     "language": "python",
     "metadata": {},
     "outputs": [],
     "prompt_number": 37
    },
    {
     "cell_type": "markdown",
     "metadata": {},
     "source": [
      "# Feature selection!"
     ]
    },
    {
     "cell_type": "code",
     "collapsed": false,
     "input": [
      "#### Get col name, window, stats\n",
      "def get_col_stat_window(c):\n",
      "    i = c % (n_features)\n",
      "    f = col_labs[i]\n",
      "    w = int(c / (n_features * len(stats)))\n",
      "    s = stats[int((c % (n_features * len(stats))) / (n_features))].func_name\n",
      "    \n",
      "    return i, f, s, w"
     ],
     "language": "python",
     "metadata": {},
     "outputs": [],
     "prompt_number": 38
    },
    {
     "cell_type": "code",
     "collapsed": false,
     "input": [
      "def get_str(col):\n",
      "    return '-'.join([str(x) for x in get_col_stat_window(col)[1:-1]])"
     ],
     "language": "python",
     "metadata": {},
     "outputs": [],
     "prompt_number": 39
    },
    {
     "cell_type": "markdown",
     "metadata": {},
     "source": [
      "## Following functions for finding mean prediction with threshold (rather than glm)"
     ]
    },
    {
     "cell_type": "code",
     "collapsed": false,
     "input": [
      "## NAME IS MISLEADING, IT GIVES MEAN PROB!\n",
      "def get_model_sum_probs(data, models):\n",
      "    prob_sum = np.zeros((data.shape[0], 2))\n",
      "    for m in models:\n",
      "        p = m.predict_proba(data)\n",
      "        prob_sum = prob_sum + p\n",
      "    \n",
      "    prob_sum = prob_sum / len(models)\n",
      "\n",
      "    return prob_sum"
     ],
     "language": "python",
     "metadata": {},
     "outputs": [],
     "prompt_number": 796
    },
    {
     "cell_type": "code",
     "collapsed": false,
     "input": [
      "def get_model_prob_predictions(prob_sum, theta):\n",
      "    y =  prob_sum[:, 1] - prob_sum[:, 0] > theta\n",
      "    return y"
     ],
     "language": "python",
     "metadata": {},
     "outputs": [],
     "prompt_number": 811
    },
    {
     "cell_type": "code",
     "collapsed": false,
     "input": [
      "def get_model_mean_predictions(data, models, theta, verbose=False):\n",
      "    prob_sum = get_model_sum_probs(data, models)\n",
      "    if verbose:\n",
      "        print prob_sum\n",
      "    return get_model_prob_predictions(prob_sum, theta)"
     ],
     "language": "python",
     "metadata": {},
     "outputs": [],
     "prompt_number": 780
    },
    {
     "cell_type": "markdown",
     "metadata": {},
     "source": [
      "#### Version with prediction on the validation set\n",
      "##### Train classifier by finding the mean probabilities, and return sens and spec\n",
      "def train_and_score_cols(models, cols, data_train_living=data_train_living, data_train_dead=data_train_dead,\n",
      "                         data_valid=data_valid, labels_valid=labels_valid, verbose=False):\n",
      "    \n",
      "    if cols==None:\n",
      "        cols = np.arange(data_train_living.shape[1])\n",
      "    print cols\n",
      "    train_balanced(models, data_train_living[:, cols], data_train_dead[:, cols]);\n",
      "    \n",
      "    theta_max = train_theta_max_sens(models, data_valid[:, cols], labels_valid, verbose=verbose)\n",
      "    y = get_model_mean_predictions(data_valid[:, cols], models, theta_max, verbose=verbose)\n",
      "    \n",
      "    se, sp = get_ss(confusion_matrix(labels_valid, y))\n",
      "    #print se, sp\n",
      "    return se, sp, theta_max"
     ]
    },
    {
     "cell_type": "code",
     "collapsed": false,
     "input": [
      "### Get the column sensitivity and specificity scores\n",
      "def get_col_se_sp(models, data_train_living, data_train_dead, data_valid, labels_valid):\n",
      "    n = data_train_living.shape[1]\n",
      "    se = np.zeros((n,1))\n",
      "    sp = np.zeros((n,1))\n",
      "    \n",
      "    for i in xrange(n):\n",
      "        se[i], sp[i], t = train_and_score_cols(models, [i], data_train_living, data_train_dead, data_valid, labels_valid)\n",
      "    return se, sp"
     ],
     "language": "python",
     "metadata": {},
     "outputs": [],
     "prompt_number": 48
    },
    {
     "cell_type": "code",
     "collapsed": false,
     "input": [
      "## All feature+stats pairs, taken together to train the models\n",
      "def get_feature_stat_se_sp(models):\n",
      "    n = data_train_living.shape[1] / n_windows\n",
      "    se = np.zeros((n,1))\n",
      "    sp = np.zeros((n,1))\n",
      "    \n",
      "    for i in xrange(n):\n",
      "        cols = [i + j*n for j in xrange(n_windows)]\n",
      "        print cols\n",
      "        se[i], sp[i], t = train_and_score_cols(models, [i], data_train_living, data_train_dead, data_valid, labels_valid)\n",
      "    return se, sp"
     ],
     "language": "python",
     "metadata": {},
     "outputs": [],
     "prompt_number": 49
    },
    {
     "cell_type": "code",
     "collapsed": false,
     "input": [
      "## Given cols in first window, train for all windows of that col\n",
      "def train_score_col_windows(models, cols, verbose=False):\n",
      "    n = data_train_living.shape[1] / n_windows\n",
      "    cols_all_windows = np.zeros((1, len(cols)*n_windows))\n",
      "    \n",
      "    for i in xrange(0, n_windows):\n",
      "        cols_all_windows[0, i*len(cols):(i+1)*len(cols)] = [j + i*n for j in cols]\n",
      "        \n",
      "    cols_ =  np.array(cols_all_windows[0, :], dtype=int).tolist()\n",
      "    print cols_\n",
      "    se, sp, t = train_and_score_cols(models, cols_, data_train_living, data_train_dead, data_valid, labels_valid,\n",
      "                                     verbose)\n",
      "    return se, sp, t"
     ],
     "language": "python",
     "metadata": {},
     "outputs": [],
     "prompt_number": 545
    },
    {
     "cell_type": "code",
     "collapsed": false,
     "input": [
      "def get_df(se_f, sp_f):\n",
      "    out = np.hstack((np.arange(se_f.shape[0]).reshape((se_f.shape[0], 1)), se_f, sp_f, np.abs(sp_f - se_f)))\n",
      "    cols = [get_str(i) for i in np.array(out[:, 0], dtype=int)]\n",
      "\n",
      "    df_feat = pd.DataFrame(data=out, columns=['ind', 'sens', 'spec', 'diff'])\n",
      "    df_feat['name'] = cols\n",
      "    return df_feat"
     ],
     "language": "python",
     "metadata": {},
     "outputs": [],
     "prompt_number": 542
    },
    {
     "cell_type": "markdown",
     "metadata": {},
     "source": [
      "# GO ONLINE!"
     ]
    },
    {
     "cell_type": "code",
     "collapsed": false,
     "input": [
      "def get_stacked_windows_ind(list_of_window_arrays):\n",
      "    data_all_windows_stacked = np.vstack(list_of_window_arrays)\n",
      "    ind_all_windows_stacked = np.vstack([np.ones((x.shape[0], 1)) * i for i, x in enumerate(list_of_window_arrays) ])\n",
      "    return data_all_windows_stacked, ind_all_windows_stacked[:, 0]"
     ],
     "language": "python",
     "metadata": {},
     "outputs": [],
     "prompt_number": 51
    },
    {
     "cell_type": "markdown",
     "metadata": {},
     "source": [
      "- get validation patients\n",
      "- get list of (all windows) of each patient\n",
      "- stack the windows up for whatever data you want to classify\n",
      "    - maintain an index to get back separate patients\n",
      "    - Classify windows\n",
      "- get back classifications for each patient separately\n",
      "- define \"some\" metric to classify the entire series"
     ]
    },
    {
     "cell_type": "code",
     "collapsed": false,
     "input": [
      "### Takes list of patient time series, and creates windows starting at zero\n",
      "def get_stacked_windows_from_ts(list_of_patient_ts, n_windows, stats, time=None, list_of_icu=None, cols=None):\n",
      "    list_of_window_arrays = get_list_all_window_stats(list_of_patient_ts, n_windows, stats, time, list_of_icu)\n",
      "    data_all_windows_stacked, ind_all_windows_stacked = get_stacked_windows_ind(list_of_window_arrays)\n",
      "   \n",
      "    if cols is None:\n",
      "        return data_all_windows_stacked, ind_all_windows_stacked\n",
      "    else:\n",
      "        return data_all_windows_stacked[:, cols], ind_all_windows_stacked"
     ],
     "language": "python",
     "metadata": {},
     "outputs": [],
     "prompt_number": 612
    },
    {
     "cell_type": "code",
     "collapsed": true,
     "input": [
      "def get_list_of_prediction_arrays(data, ind_stacked):\n",
      "    inds = np.unique(ind_stacked)\n",
      "    list_y_preds = [data[ind_stacked==i, :].copy() for i in inds]\n",
      "    return np.array(list_y_preds)"
     ],
     "language": "python",
     "metadata": {},
     "outputs": [],
     "prompt_number": 53
    },
    {
     "cell_type": "code",
     "collapsed": false,
     "input": [
      "def view_series_random(list_y, n=10):\n",
      "    ind = np.arange(list_y.shape[0])\n",
      "    np.random.shuffle(ind)\n",
      "    for i, l in enumerate(list_y[ind[:n]]):\n",
      "        print i, l"
     ],
     "language": "python",
     "metadata": {},
     "outputs": [],
     "prompt_number": 54
    },
    {
     "cell_type": "markdown",
     "metadata": {},
     "source": [
      "# TS!"
     ]
    },
    {
     "cell_type": "code",
     "collapsed": false,
     "input": [
      "def find_in_inds(p):\n",
      "    if (ind_train==p).any():\n",
      "        print \"train\"\n",
      "    if (ind_valid==p).any():\n",
      "        print \"valid\"\n",
      "    if (ind_test==p).any():\n",
      "        print \"test\"\n",
      "def get_confusion_inds(labels, y):\n",
      "    ind_fn = np.array([((not y[i]) & (labels[i] != y[i])) for i in xrange(labels.shape[0])])\n",
      "    ind_fp = np.array([(y[i] & (labels[i] != y[i])) for i in xrange(labels.shape[0])])\n",
      "    ind_tp = np.array([(labels[i] & (labels[i] == y[i])) for i in xrange(labels.shape[0])])\n",
      "    ind_tn = np.array([((not labels[i]) & (labels[i] == y[i])) for i in xrange(labels.shape[0])])\n",
      "    return [ind_fp, ind_fn, ind_tp, ind_tn]"
     ],
     "language": "python",
     "metadata": {},
     "outputs": [],
     "prompt_number": 55
    },
    {
     "cell_type": "markdown",
     "metadata": {},
     "source": [
      "## FOR THE COMPLEX MODEL!"
     ]
    },
    {
     "cell_type": "code",
     "collapsed": false,
     "input": [
      "def get_probs_all_windows(list_of_time_series, n_windows, stats, models, time, list_of_val_series=None, cols=None):\n",
      "    # Get stacked windows of all patients, and an ind of which patitent has which rows\n",
      "    data_windows_stacked, ind_windows_stacked = get_stacked_windows_from_ts(list_of_time_series, n_windows,\n",
      "                                                                            stats, time, list_of_val_series, cols)\n",
      "    # Get probability estimates for all windows (of all patients) using the forests\n",
      "    dead_probs_stacked = get_proba(models, data_windows_stacked)\n",
      "    \n",
      "    # Append MEAN of all column predictions as a feature\n",
      "    dead_probs_stacked = np.hstack((dead_probs_stacked,\n",
      "                                    np.mean(dead_probs_stacked, axis=1).reshape(dead_probs_stacked.shape[0], 1)))\n",
      "    #dead_probs_stacked = np.mean(dead_probs_stacked, axis=1).reshape(dead_probs_stacked.shape[0], 1)\n",
      "    \n",
      "    # separate the probabilities paitient wise \n",
      "    list_probs = get_list_of_prediction_arrays(dead_probs_stacked, ind_windows_stacked)\n",
      "    return list_probs"
     ],
     "language": "python",
     "metadata": {},
     "outputs": [],
     "prompt_number": 601
    },
    {
     "cell_type": "code",
     "collapsed": false,
     "input": [
      "# takes in the probability matrix for the data, and threshold theta, returns final predictions, \n",
      "def get_unstacked_predictions_from_probs(y_prob_stacked, ind_stacked, theta):\n",
      "    y_pred_stacked = get_model_prob_predictions(y_prob_stacked, theta)\n",
      "    y_pred_stacked = y_pred_stacked.reshape((y_pred_stacked.shape[0], 1))\n",
      "    \n",
      "    list_y_preds = get_list_of_prediction_arrays(y_pred_stacked, ind_stacked)\n",
      "    y_any = np.array([(list_y_preds[i] == True).any() for i in xrange(list_y_preds.shape[0])])\n",
      "    return y_any, list_y_preds"
     ],
     "language": "python",
     "metadata": {},
     "outputs": [],
     "prompt_number": 327
    },
    {
     "cell_type": "code",
     "collapsed": false,
     "input": [
      "# find theta that maximises the sens at 99% spec on (data, labels)\n",
      "def train_theta_max_sens_stacked(y_prob, ind_stacked, labels, N=100, verbose=False):\n",
      "    sens = []; spec = []; theta_arr = []\n",
      "\n",
      "    for t in xrange(1, N):\n",
      "        theta = t*(1.0 / (N-1))\n",
      "        y, l = get_unstacked_predictions_from_probs(y_prob, ind_stacked, theta)\n",
      "        se, sp = get_ss(confusion_matrix(labels, y))\n",
      "        sens.append(se); spec.append(sp); theta_arr.append(theta)\n",
      "\n",
      "    sens = np.array(sens); spec = np.array(spec); theta_arr = np.array(theta_arr);\n",
      "    \n",
      "    # Check if atleast one has >0.99 spec and non zero sens\n",
      "    if (sens[spec>0.99] > 0).any():   # take max spec for which sens>0\n",
      "        ind = spec>0.99\n",
      "        max_ind = np.argmax(sens[ind]) # take max sens for spec>0.99\n",
      "    elif (sens>0).any():\n",
      "        ind = sens>0\n",
      "        max_ind = np.argmax(spec[ind])\n",
      "    else:\n",
      "        ind = np.arange(spec.shape[0])\n",
      "        max_ind = np.argmax(spec[ind])\n",
      "        \n",
      "    sens_ = sens[ind][max_ind]\n",
      "    spec_ = spec[ind][max_ind]\n",
      "    theta = theta_arr[ind][max_ind]\n",
      "    \n",
      "    if verbose==True:\n",
      "        print sens, spec\n",
      "        \n",
      "    #print max_ind, sens_, spec_\n",
      "    #print sens[max_ind], spec[max_ind]\n",
      "    return theta"
     ],
     "language": "python",
     "metadata": {},
     "outputs": [],
     "prompt_number": 306
    },
    {
     "cell_type": "markdown",
     "metadata": {},
     "source": [
      "def slope(X):\n",
      "    sl = np.zeros((X.shape[1],))\n",
      "    y = np.arange(X.shape[0])     # SHOULD BE TIME HERE\n",
      "    for i, x in enumerate(X.T):\n",
      "        A = np.vstack([x, np.ones(len(x))]).T\n",
      "        m, c = np.linalg.lstsq(A, y)[0]\n",
      "        #print m,c\n",
      "        sl[i] = m\n",
      "    return sl"
     ]
    },
    {
     "cell_type": "code",
     "collapsed": false,
     "input": [
      "def slope(x, time_):\n",
      "    n = x.shape[0]; nc = x.shape[1]\n",
      "    \n",
      "    #sl = np.zeros((1,))\n",
      "    if time_ is None:\n",
      "        y = np.arange(n).reshape((n, 1))   # SHOULD BE TIMESTAMPS\n",
      "    else:\n",
      "        y = time_.reshape((time_.shape[0], 1))\n",
      "    \n",
      "    xy = np.sum(x*y, axis=0)\n",
      "    xm = np.mean(x, axis=0)\n",
      "    ym = np.mean(y, axis=0)\n",
      "    x2 = np.sum(x*x, axis=0)\n",
      "    \n",
      "    sl = 1.0*(xy - n*xm*ym) / (x2 - n*xm*xm)\n",
      "    sl[np.isnan(sl)] = 0\n",
      "    sl[np.isinf(sl)] = 0\n",
      "    return sl"
     ],
     "language": "python",
     "metadata": {},
     "outputs": [],
     "prompt_number": 57
    },
    {
     "cell_type": "code",
     "collapsed": false,
     "input": [
      "# Just return teh timestamp\n",
      "def get_prediction_timestamp(y_preds, patient_ts, time_ind, icu_ts):\n",
      "    if not (y_preds==1).any():\n",
      "        return -1\n",
      "    \n",
      "    times = patient_ts[:, time_ind]\n",
      "    icu = np.array(icu_ts, dtype=bool)\n",
      "    y = np.array(y_preds[:,0], dtype=bool)\n",
      "    \n",
      "    return times[icu][y][0]"
     ],
     "language": "python",
     "metadata": {},
     "outputs": [],
     "prompt_number": 58
    },
    {
     "cell_type": "code",
     "collapsed": false,
     "input": [
      "# For one patient, if no 1s, return -1\n",
      "def get_prediction_time(y_preds, patient_ts, time_ind, icu_ts):\n",
      "    if not (y_preds==1).any():\n",
      "        return -1\n",
      "    \n",
      "    times = patient_ts[:, time_ind]\n",
      "    icu = np.array(icu_ts, dtype=bool)\n",
      "    y = np.array(y_preds[:,0], dtype=bool)\n",
      "    \n",
      "    return (times[times.shape[0]-1] - times[icu][y][0])"
     ],
     "language": "python",
     "metadata": {},
     "outputs": [],
     "prompt_number": 59
    },
    {
     "cell_type": "code",
     "collapsed": false,
     "input": [
      "def get_prediction_times_all_patients(list_y_preds, list_of_patients, time_ind, list_of_icu_times):\n",
      "    pred_times = [get_prediction_time(list_y_preds[i], list_of_patients[i], time_ind, list_of_icu_times[i]) for i in \n",
      "                  xrange(list_y_preds.shape[0])]\n",
      "    return np.array(pred_times)"
     ],
     "language": "python",
     "metadata": {},
     "outputs": [],
     "prompt_number": 60
    },
    {
     "cell_type": "markdown",
     "metadata": {},
     "source": [
      "# WORKSPACE!"
     ]
    },
    {
     "cell_type": "markdown",
     "metadata": {},
     "source": [
      "se_f, sp_f = get_feature_stat_se_sp(forests_final_1)\n",
      "\n",
      "#### Load /save\n",
      "pdf_feat_f = pd.load('/root/code/xerox/windows/df_feat_f')\n",
      "pdf_feat_c = pd.load('/root/code/xerox/windows/df_feat_c')"
     ]
    },
    {
     "cell_type": "code",
     "collapsed": false,
     "input": [
      "se_f, sp_f = get_col_se_sp(forests_final_1, data_train_living, data_train_dead, data_valid, labels_valid)"
     ],
     "language": "python",
     "metadata": {},
     "outputs": [
      {
       "output_type": "stream",
       "stream": "stdout",
       "text": [
        "[0]\n",
        "[1]"
       ]
      },
      {
       "output_type": "stream",
       "stream": "stdout",
       "text": [
        "\n",
        "[2]"
       ]
      },
      {
       "output_type": "stream",
       "stream": "stdout",
       "text": [
        "\n",
        "[3]"
       ]
      },
      {
       "output_type": "stream",
       "stream": "stdout",
       "text": [
        "\n",
        "[4]"
       ]
      },
      {
       "output_type": "stream",
       "stream": "stdout",
       "text": [
        "\n",
        "[5]"
       ]
      },
      {
       "output_type": "stream",
       "stream": "stdout",
       "text": [
        "\n",
        "[6]"
       ]
      },
      {
       "output_type": "stream",
       "stream": "stdout",
       "text": [
        "\n",
        "[7]"
       ]
      },
      {
       "output_type": "stream",
       "stream": "stdout",
       "text": [
        "\n",
        "[8]"
       ]
      },
      {
       "output_type": "stream",
       "stream": "stdout",
       "text": [
        "\n",
        "[9]"
       ]
      },
      {
       "output_type": "stream",
       "stream": "stdout",
       "text": [
        "\n",
        "[10]"
       ]
      },
      {
       "output_type": "stream",
       "stream": "stdout",
       "text": [
        "\n",
        "[11]"
       ]
      },
      {
       "output_type": "stream",
       "stream": "stdout",
       "text": [
        "\n",
        "[12]"
       ]
      },
      {
       "output_type": "stream",
       "stream": "stdout",
       "text": [
        "\n",
        "[13]"
       ]
      },
      {
       "output_type": "stream",
       "stream": "stdout",
       "text": [
        "\n",
        "[14]"
       ]
      },
      {
       "output_type": "stream",
       "stream": "stdout",
       "text": [
        "\n",
        "[15]"
       ]
      },
      {
       "output_type": "stream",
       "stream": "stdout",
       "text": [
        "\n",
        "[16]"
       ]
      },
      {
       "output_type": "stream",
       "stream": "stdout",
       "text": [
        "\n",
        "[17]"
       ]
      },
      {
       "output_type": "stream",
       "stream": "stdout",
       "text": [
        "\n",
        "[18]"
       ]
      },
      {
       "output_type": "stream",
       "stream": "stdout",
       "text": [
        "\n",
        "[19]"
       ]
      },
      {
       "output_type": "stream",
       "stream": "stdout",
       "text": [
        "\n",
        "[20]"
       ]
      },
      {
       "output_type": "stream",
       "stream": "stdout",
       "text": [
        "\n",
        "[21]"
       ]
      },
      {
       "output_type": "stream",
       "stream": "stdout",
       "text": [
        "\n",
        "[22]"
       ]
      },
      {
       "output_type": "stream",
       "stream": "stdout",
       "text": [
        "\n",
        "[23]"
       ]
      },
      {
       "output_type": "stream",
       "stream": "stdout",
       "text": [
        "\n",
        "[24]"
       ]
      },
      {
       "output_type": "stream",
       "stream": "stdout",
       "text": [
        "\n",
        "[25]"
       ]
      },
      {
       "output_type": "stream",
       "stream": "stdout",
       "text": [
        "\n",
        "[26]"
       ]
      },
      {
       "output_type": "stream",
       "stream": "stdout",
       "text": [
        "\n",
        "[27]"
       ]
      },
      {
       "output_type": "stream",
       "stream": "stdout",
       "text": [
        "\n",
        "[28]"
       ]
      },
      {
       "output_type": "stream",
       "stream": "stdout",
       "text": [
        "\n",
        "[29]"
       ]
      },
      {
       "output_type": "stream",
       "stream": "stdout",
       "text": [
        "\n",
        "[30]"
       ]
      },
      {
       "output_type": "stream",
       "stream": "stdout",
       "text": [
        "\n",
        "[31]"
       ]
      },
      {
       "output_type": "stream",
       "stream": "stdout",
       "text": [
        "\n",
        "[32]"
       ]
      },
      {
       "output_type": "stream",
       "stream": "stdout",
       "text": [
        "\n",
        "[33]"
       ]
      },
      {
       "output_type": "stream",
       "stream": "stdout",
       "text": [
        "\n",
        "[34]"
       ]
      },
      {
       "output_type": "stream",
       "stream": "stdout",
       "text": [
        "\n",
        "[35]"
       ]
      },
      {
       "output_type": "stream",
       "stream": "stdout",
       "text": [
        "\n",
        "[36]"
       ]
      },
      {
       "output_type": "stream",
       "stream": "stdout",
       "text": [
        "\n",
        "[37]"
       ]
      },
      {
       "output_type": "stream",
       "stream": "stdout",
       "text": [
        "\n",
        "[38]"
       ]
      },
      {
       "output_type": "stream",
       "stream": "stdout",
       "text": [
        "\n",
        "[39]"
       ]
      },
      {
       "output_type": "stream",
       "stream": "stdout",
       "text": [
        "\n",
        "[40]"
       ]
      },
      {
       "output_type": "stream",
       "stream": "stdout",
       "text": [
        "\n",
        "[41]"
       ]
      },
      {
       "output_type": "stream",
       "stream": "stdout",
       "text": [
        "\n",
        "[42]"
       ]
      },
      {
       "output_type": "stream",
       "stream": "stdout",
       "text": [
        "\n",
        "[43]"
       ]
      },
      {
       "output_type": "stream",
       "stream": "stdout",
       "text": [
        "\n",
        "[44]"
       ]
      },
      {
       "output_type": "stream",
       "stream": "stdout",
       "text": [
        "\n",
        "[45]"
       ]
      },
      {
       "output_type": "stream",
       "stream": "stdout",
       "text": [
        "\n",
        "[46]"
       ]
      },
      {
       "output_type": "stream",
       "stream": "stdout",
       "text": [
        "\n",
        "[47]"
       ]
      },
      {
       "output_type": "stream",
       "stream": "stdout",
       "text": [
        "\n",
        "[48]"
       ]
      },
      {
       "output_type": "stream",
       "stream": "stdout",
       "text": [
        "\n",
        "[49]"
       ]
      },
      {
       "output_type": "stream",
       "stream": "stdout",
       "text": [
        "\n",
        "[50]"
       ]
      },
      {
       "output_type": "stream",
       "stream": "stdout",
       "text": [
        "\n",
        "[51]"
       ]
      },
      {
       "output_type": "stream",
       "stream": "stdout",
       "text": [
        "\n",
        "[52]"
       ]
      },
      {
       "output_type": "stream",
       "stream": "stdout",
       "text": [
        "\n",
        "[53]"
       ]
      },
      {
       "output_type": "stream",
       "stream": "stdout",
       "text": [
        "\n",
        "[54]"
       ]
      },
      {
       "output_type": "stream",
       "stream": "stdout",
       "text": [
        "\n",
        "[55]"
       ]
      },
      {
       "output_type": "stream",
       "stream": "stdout",
       "text": [
        "\n",
        "[56]"
       ]
      },
      {
       "output_type": "stream",
       "stream": "stdout",
       "text": [
        "\n",
        "[57]"
       ]
      },
      {
       "output_type": "stream",
       "stream": "stdout",
       "text": [
        "\n",
        "[58]"
       ]
      },
      {
       "output_type": "stream",
       "stream": "stdout",
       "text": [
        "\n",
        "[59]"
       ]
      },
      {
       "output_type": "stream",
       "stream": "stdout",
       "text": [
        "\n",
        "[60]"
       ]
      },
      {
       "output_type": "stream",
       "stream": "stdout",
       "text": [
        "\n",
        "[61]"
       ]
      },
      {
       "output_type": "stream",
       "stream": "stdout",
       "text": [
        "\n",
        "[62]"
       ]
      },
      {
       "output_type": "stream",
       "stream": "stdout",
       "text": [
        "\n",
        "[63]"
       ]
      },
      {
       "output_type": "stream",
       "stream": "stdout",
       "text": [
        "\n",
        "[64]"
       ]
      },
      {
       "output_type": "stream",
       "stream": "stdout",
       "text": [
        "\n",
        "[65]"
       ]
      },
      {
       "output_type": "stream",
       "stream": "stdout",
       "text": [
        "\n",
        "[66]"
       ]
      },
      {
       "output_type": "stream",
       "stream": "stdout",
       "text": [
        "\n",
        "[67]"
       ]
      },
      {
       "output_type": "stream",
       "stream": "stdout",
       "text": [
        "\n",
        "[68]"
       ]
      },
      {
       "output_type": "stream",
       "stream": "stdout",
       "text": [
        "\n",
        "[69]"
       ]
      },
      {
       "output_type": "stream",
       "stream": "stdout",
       "text": [
        "\n",
        "[70]"
       ]
      },
      {
       "output_type": "stream",
       "stream": "stdout",
       "text": [
        "\n",
        "[71]"
       ]
      },
      {
       "output_type": "stream",
       "stream": "stdout",
       "text": [
        "\n",
        "[72]"
       ]
      },
      {
       "output_type": "stream",
       "stream": "stdout",
       "text": [
        "\n",
        "[73]"
       ]
      },
      {
       "output_type": "stream",
       "stream": "stdout",
       "text": [
        "\n",
        "[74]"
       ]
      },
      {
       "output_type": "stream",
       "stream": "stdout",
       "text": [
        "\n",
        "[75]"
       ]
      },
      {
       "output_type": "stream",
       "stream": "stdout",
       "text": [
        "\n",
        "[76]"
       ]
      },
      {
       "output_type": "stream",
       "stream": "stdout",
       "text": [
        "\n",
        "[77]"
       ]
      },
      {
       "output_type": "stream",
       "stream": "stdout",
       "text": [
        "\n",
        "[78]"
       ]
      },
      {
       "output_type": "stream",
       "stream": "stdout",
       "text": [
        "\n",
        "[79]"
       ]
      },
      {
       "output_type": "stream",
       "stream": "stdout",
       "text": [
        "\n",
        "[80]"
       ]
      },
      {
       "output_type": "stream",
       "stream": "stdout",
       "text": [
        "\n",
        "[81]"
       ]
      },
      {
       "output_type": "stream",
       "stream": "stdout",
       "text": [
        "\n",
        "[82]"
       ]
      },
      {
       "output_type": "stream",
       "stream": "stdout",
       "text": [
        "\n",
        "[83]"
       ]
      },
      {
       "output_type": "stream",
       "stream": "stdout",
       "text": [
        "\n",
        "[84]"
       ]
      },
      {
       "output_type": "stream",
       "stream": "stdout",
       "text": [
        "\n",
        "[85]"
       ]
      },
      {
       "output_type": "stream",
       "stream": "stdout",
       "text": [
        "\n",
        "[86]"
       ]
      },
      {
       "output_type": "stream",
       "stream": "stdout",
       "text": [
        "\n",
        "[87]"
       ]
      },
      {
       "output_type": "stream",
       "stream": "stdout",
       "text": [
        "\n",
        "[88]"
       ]
      },
      {
       "output_type": "stream",
       "stream": "stdout",
       "text": [
        "\n",
        "[89]"
       ]
      },
      {
       "output_type": "stream",
       "stream": "stdout",
       "text": [
        "\n",
        "[90]"
       ]
      },
      {
       "output_type": "stream",
       "stream": "stdout",
       "text": [
        "\n",
        "[91]"
       ]
      },
      {
       "output_type": "stream",
       "stream": "stdout",
       "text": [
        "\n",
        "[92]"
       ]
      },
      {
       "output_type": "stream",
       "stream": "stdout",
       "text": [
        "\n",
        "[93]"
       ]
      },
      {
       "output_type": "stream",
       "stream": "stdout",
       "text": [
        "\n",
        "[94]"
       ]
      },
      {
       "output_type": "stream",
       "stream": "stdout",
       "text": [
        "\n",
        "[95]"
       ]
      },
      {
       "output_type": "stream",
       "stream": "stdout",
       "text": [
        "\n",
        "[96]"
       ]
      },
      {
       "output_type": "stream",
       "stream": "stdout",
       "text": [
        "\n",
        "[97]"
       ]
      },
      {
       "output_type": "stream",
       "stream": "stdout",
       "text": [
        "\n",
        "[98]"
       ]
      },
      {
       "output_type": "stream",
       "stream": "stdout",
       "text": [
        "\n",
        "[99]"
       ]
      },
      {
       "output_type": "stream",
       "stream": "stdout",
       "text": [
        "\n",
        "[100]"
       ]
      },
      {
       "output_type": "stream",
       "stream": "stdout",
       "text": [
        "\n",
        "[101]"
       ]
      },
      {
       "output_type": "stream",
       "stream": "stdout",
       "text": [
        "\n",
        "[102]"
       ]
      },
      {
       "output_type": "stream",
       "stream": "stdout",
       "text": [
        "\n",
        "[103]"
       ]
      },
      {
       "output_type": "stream",
       "stream": "stdout",
       "text": [
        "\n",
        "[104]"
       ]
      },
      {
       "output_type": "stream",
       "stream": "stdout",
       "text": [
        "\n",
        "[105]"
       ]
      },
      {
       "output_type": "stream",
       "stream": "stdout",
       "text": [
        "\n",
        "[106]"
       ]
      },
      {
       "output_type": "stream",
       "stream": "stdout",
       "text": [
        "\n",
        "[107]"
       ]
      },
      {
       "output_type": "stream",
       "stream": "stdout",
       "text": [
        "\n",
        "[108]"
       ]
      },
      {
       "output_type": "stream",
       "stream": "stdout",
       "text": [
        "\n",
        "[109]"
       ]
      },
      {
       "output_type": "stream",
       "stream": "stdout",
       "text": [
        "\n",
        "[110]"
       ]
      },
      {
       "output_type": "stream",
       "stream": "stdout",
       "text": [
        "\n",
        "[111]"
       ]
      }
     ]
    },
    {
     "cell_type": "markdown",
     "metadata": {},
     "source": [
      "#### Load /save\n",
      "df_feat_f = pd.load('/root/code/xerox/windows/df_feat_f')\n",
      "####df_feat_c = pd.load('/root/code/xerox/windows/df_feat_c')"
     ]
    },
    {
     "cell_type": "code",
     "collapsed": false,
     "input": [
      "df_feat_f\n",
      "df_feat_f[150:200]\n",
      "df_feat_f.sort(columns=['spec', 'diff'], ascending=False)[100:150]   # Diff, sp\n",
      "df_feat_f.sort(columns=['diff', 'spec'], ascending=True)   # Diff, sp\n",
      "df_feat_f.sort(columns=['sens', 'spec'], ascending=False)   # Sensitivity, sp\n",
      "df_feat_f.sort(columns=[ 'spec', 'sens'], ascending=False)[50:100]   # Specifity, se"
     ],
     "language": "python",
     "metadata": {},
     "outputs": [
      {
       "html": [
        "<div style=\"max-height:1000px;max-width:1500px;overflow:auto;\">\n",
        "<table border=\"1\" class=\"dataframe\">\n",
        "  <thead>\n",
        "    <tr style=\"text-align: right;\">\n",
        "      <th></th>\n",
        "      <th>ind</th>\n",
        "      <th>sens</th>\n",
        "      <th>spec</th>\n",
        "      <th>diff</th>\n",
        "      <th>name</th>\n",
        "    </tr>\n",
        "  </thead>\n",
        "  <tbody>\n",
        "    <tr>\n",
        "      <th>113</th>\n",
        "      <td> 113</td>\n",
        "      <td> 0.285714</td>\n",
        "      <td> 0.914328</td>\n",
        "      <td> 0.628614</td>\n",
        "      <td>                        Lactic Acid in mmol/L-amax</td>\n",
        "    </tr>\n",
        "    <tr>\n",
        "      <th>147</th>\n",
        "      <td> 147</td>\n",
        "      <td> 0.119048</td>\n",
        "      <td> 0.914328</td>\n",
        "      <td> 0.795280</td>\n",
        "      <td>            Random Blood Glucose in mg/dL-&lt;lambda&gt;</td>\n",
        "    </tr>\n",
        "    <tr>\n",
        "      <th>176</th>\n",
        "      <td> 176</td>\n",
        "      <td> 0.095238</td>\n",
        "      <td> 0.912851</td>\n",
        "      <td> 0.817613</td>\n",
        "      <td>                      Troponin I in ng/ml-&lt;lambda&gt;</td>\n",
        "    </tr>\n",
        "    <tr>\n",
        "      <th>82 </th>\n",
        "      <td>  82</td>\n",
        "      <td> 0.142857</td>\n",
        "      <td> 0.911374</td>\n",
        "      <td> 0.768517</td>\n",
        "      <td>                        Lactic Acid in mmol/L-amin</td>\n",
        "    </tr>\n",
        "    <tr>\n",
        "      <th>19 </th>\n",
        "      <td>  19</td>\n",
        "      <td> 0.047619</td>\n",
        "      <td> 0.901034</td>\n",
        "      <td> 0.853415</td>\n",
        "      <td>                     LDL Cholesterol in mg/dL-mean</td>\n",
        "    </tr>\n",
        "    <tr>\n",
        "      <th>50 </th>\n",
        "      <td>  50</td>\n",
        "      <td> 0.023810</td>\n",
        "      <td> 0.887740</td>\n",
        "      <td> 0.863931</td>\n",
        "      <td>                      LDL Cholesterol in mg/dL-var</td>\n",
        "    </tr>\n",
        "    <tr>\n",
        "      <th>205</th>\n",
        "      <td> 205</td>\n",
        "      <td> 0.023810</td>\n",
        "      <td> 0.886263</td>\n",
        "      <td> 0.862453</td>\n",
        "      <td>                 LDL Cholesterol in mg/dL-&lt;lambda&gt;</td>\n",
        "    </tr>\n",
        "    <tr>\n",
        "      <th>20 </th>\n",
        "      <td>  20</td>\n",
        "      <td> 0.357143</td>\n",
        "      <td> 0.875923</td>\n",
        "      <td> 0.518780</td>\n",
        "      <td>                        Lactic Acid in mmol/L-mean</td>\n",
        "    </tr>\n",
        "    <tr>\n",
        "      <th>114</th>\n",
        "      <td> 114</td>\n",
        "      <td> 0.309524</td>\n",
        "      <td> 0.868538</td>\n",
        "      <td> 0.559014</td>\n",
        "      <td>                          Troponin I in ng/ml-amax</td>\n",
        "    </tr>\n",
        "    <tr>\n",
        "      <th>121</th>\n",
        "      <td> 121</td>\n",
        "      <td> 0.238095</td>\n",
        "      <td> 0.867061</td>\n",
        "      <td> 0.628965</td>\n",
        "      <td>                              Alanine in IU/L-amax</td>\n",
        "    </tr>\n",
        "    <tr>\n",
        "      <th>90 </th>\n",
        "      <td>  90</td>\n",
        "      <td> 0.142857</td>\n",
        "      <td> 0.867061</td>\n",
        "      <td> 0.724203</td>\n",
        "      <td>                              Alanine in IU/L-amin</td>\n",
        "    </tr>\n",
        "    <tr>\n",
        "      <th>183</th>\n",
        "      <td> 183</td>\n",
        "      <td> 0.166667</td>\n",
        "      <td> 0.865583</td>\n",
        "      <td> 0.698917</td>\n",
        "      <td>                          Alanine in IU/L-&lt;lambda&gt;</td>\n",
        "    </tr>\n",
        "    <tr>\n",
        "      <th>127</th>\n",
        "      <td> 127</td>\n",
        "      <td> 0.333333</td>\n",
        "      <td> 0.864106</td>\n",
        "      <td> 0.530773</td>\n",
        "      <td>                  Respiration Rate in bpm-&lt;lambda&gt;</td>\n",
        "    </tr>\n",
        "    <tr>\n",
        "      <th>104</th>\n",
        "      <td> 104</td>\n",
        "      <td> 0.285714</td>\n",
        "      <td> 0.844904</td>\n",
        "      <td> 0.559190</td>\n",
        "      <td>                        Bicarbonate in mmol/L-amax</td>\n",
        "    </tr>\n",
        "    <tr>\n",
        "      <th>206</th>\n",
        "      <td> 206</td>\n",
        "      <td> 0.357143</td>\n",
        "      <td> 0.833087</td>\n",
        "      <td> 0.475944</td>\n",
        "      <td>                    Lactic Acid in mmol/L-&lt;lambda&gt;</td>\n",
        "    </tr>\n",
        "    <tr>\n",
        "      <th>181</th>\n",
        "      <td> 181</td>\n",
        "      <td> 0.285714</td>\n",
        "      <td> 0.830133</td>\n",
        "      <td> 0.544419</td>\n",
        "      <td>                          Albumin in g/dl-&lt;lambda&gt;</td>\n",
        "    </tr>\n",
        "    <tr>\n",
        "      <th>51 </th>\n",
        "      <td>  51</td>\n",
        "      <td> 0.333333</td>\n",
        "      <td> 0.825702</td>\n",
        "      <td> 0.492368</td>\n",
        "      <td>                         Lactic Acid in mmol/L-var</td>\n",
        "    </tr>\n",
        "    <tr>\n",
        "      <th>28 </th>\n",
        "      <td>  28</td>\n",
        "      <td> 0.238095</td>\n",
        "      <td> 0.809453</td>\n",
        "      <td> 0.571358</td>\n",
        "      <td>                              Alanine in IU/L-mean</td>\n",
        "    </tr>\n",
        "    <tr>\n",
        "      <th>118</th>\n",
        "      <td> 118</td>\n",
        "      <td> 0.500000</td>\n",
        "      <td> 0.805022</td>\n",
        "      <td> 0.305022</td>\n",
        "      <td>      Fraction of Inspired Oxygen (FiO2) in %-amax</td>\n",
        "    </tr>\n",
        "    <tr>\n",
        "      <th>87 </th>\n",
        "      <td>  87</td>\n",
        "      <td> 0.357143</td>\n",
        "      <td> 0.805022</td>\n",
        "      <td> 0.447879</td>\n",
        "      <td>      Fraction of Inspired Oxygen (FiO2) in %-amin</td>\n",
        "    </tr>\n",
        "    <tr>\n",
        "      <th>182</th>\n",
        "      <td> 182</td>\n",
        "      <td> 0.333333</td>\n",
        "      <td> 0.799114</td>\n",
        "      <td> 0.465780</td>\n",
        "      <td>             Alkaline Phosphatase in IU/L-&lt;lambda&gt;</td>\n",
        "    </tr>\n",
        "    <tr>\n",
        "      <th>126</th>\n",
        "      <td> 126</td>\n",
        "      <td> 0.380952</td>\n",
        "      <td> 0.794682</td>\n",
        "      <td> 0.413730</td>\n",
        "      <td>                        Heart Rate in bpm-&lt;lambda&gt;</td>\n",
        "    </tr>\n",
        "    <tr>\n",
        "      <th>88 </th>\n",
        "      <td>  88</td>\n",
        "      <td> 0.619048</td>\n",
        "      <td> 0.793205</td>\n",
        "      <td> 0.174158</td>\n",
        "      <td>                              Albumin in g/dl-amin</td>\n",
        "    </tr>\n",
        "    <tr>\n",
        "      <th>120</th>\n",
        "      <td> 120</td>\n",
        "      <td> 0.476190</td>\n",
        "      <td> 0.790251</td>\n",
        "      <td> 0.314061</td>\n",
        "      <td>                 Alkaline Phosphatase in IU/L-amax</td>\n",
        "    </tr>\n",
        "    <tr>\n",
        "      <th>171</th>\n",
        "      <td> 171</td>\n",
        "      <td> 0.285714</td>\n",
        "      <td> 0.790251</td>\n",
        "      <td> 0.504537</td>\n",
        "      <td>               Platelet Count in x 103/\u00b5L-&lt;lambda&gt;</td>\n",
        "    </tr>\n",
        "    <tr>\n",
        "      <th>165</th>\n",
        "      <td> 165</td>\n",
        "      <td> 0.214286</td>\n",
        "      <td> 0.788774</td>\n",
        "      <td> 0.574488</td>\n",
        "      <td>                      Potassium in mmol/L-&lt;lambda&gt;</td>\n",
        "    </tr>\n",
        "    <tr>\n",
        "      <th>167</th>\n",
        "      <td> 167</td>\n",
        "      <td> 0.309524</td>\n",
        "      <td> 0.787297</td>\n",
        "      <td> 0.477773</td>\n",
        "      <td>             Blood Urea Nitrogen in mg/dL-&lt;lambda&gt;</td>\n",
        "    </tr>\n",
        "    <tr>\n",
        "      <th>168</th>\n",
        "      <td> 168</td>\n",
        "      <td> 0.285714</td>\n",
        "      <td> 0.787297</td>\n",
        "      <td> 0.501583</td>\n",
        "      <td>                Serum Creatinine in mg/dL-&lt;lambda&gt;</td>\n",
        "    </tr>\n",
        "    <tr>\n",
        "      <th>89 </th>\n",
        "      <td>  89</td>\n",
        "      <td> 0.214286</td>\n",
        "      <td> 0.787297</td>\n",
        "      <td> 0.573011</td>\n",
        "      <td>                 Alkaline Phosphatase in IU/L-amin</td>\n",
        "    </tr>\n",
        "    <tr>\n",
        "      <th>83 </th>\n",
        "      <td>  83</td>\n",
        "      <td> 0.404762</td>\n",
        "      <td> 0.785820</td>\n",
        "      <td> 0.381058</td>\n",
        "      <td>                          Troponin I in ng/ml-amin</td>\n",
        "    </tr>\n",
        "    <tr>\n",
        "      <th>170</th>\n",
        "      <td> 170</td>\n",
        "      <td> 0.285714</td>\n",
        "      <td> 0.785820</td>\n",
        "      <td> 0.500106</td>\n",
        "      <td>                             Hematocrit %-&lt;lambda&gt;</td>\n",
        "    </tr>\n",
        "    <tr>\n",
        "      <th>214</th>\n",
        "      <td> 214</td>\n",
        "      <td> 0.238095</td>\n",
        "      <td> 0.785820</td>\n",
        "      <td> 0.547725</td>\n",
        "      <td>                          Alanine in IU/L-&lt;lambda&gt;</td>\n",
        "    </tr>\n",
        "    <tr>\n",
        "      <th>25 </th>\n",
        "      <td>  25</td>\n",
        "      <td> 0.476190</td>\n",
        "      <td> 0.784343</td>\n",
        "      <td> 0.308152</td>\n",
        "      <td>      Fraction of Inspired Oxygen (FiO2) in %-mean</td>\n",
        "    </tr>\n",
        "    <tr>\n",
        "      <th>65 </th>\n",
        "      <td>  65</td>\n",
        "      <td> 0.333333</td>\n",
        "      <td> 0.778434</td>\n",
        "      <td> 0.445101</td>\n",
        "      <td>                      Respiration Rate in bpm-amin</td>\n",
        "    </tr>\n",
        "    <tr>\n",
        "      <th>123</th>\n",
        "      <td> 123</td>\n",
        "      <td> 0.333333</td>\n",
        "      <td> 0.776957</td>\n",
        "      <td> 0.443624</td>\n",
        "      <td>                           Magnesium in mg/dL-amax</td>\n",
        "    </tr>\n",
        "    <tr>\n",
        "      <th>164</th>\n",
        "      <td> 164</td>\n",
        "      <td> 0.285714</td>\n",
        "      <td> 0.776957</td>\n",
        "      <td> 0.491243</td>\n",
        "      <td>                         Sodium in mmol/L-&lt;lambda&gt;</td>\n",
        "    </tr>\n",
        "    <tr>\n",
        "      <th>169</th>\n",
        "      <td> 169</td>\n",
        "      <td> 0.238095</td>\n",
        "      <td> 0.772526</td>\n",
        "      <td> 0.534431</td>\n",
        "      <td>                    WBC Count in x 103/\u00b5L-&lt;lambda&gt;</td>\n",
        "    </tr>\n",
        "    <tr>\n",
        "      <th>172</th>\n",
        "      <td> 172</td>\n",
        "      <td> 0.309524</td>\n",
        "      <td> 0.771049</td>\n",
        "      <td> 0.461525</td>\n",
        "      <td>                       Bilirubin in mg/dL-&lt;lambda&gt;</td>\n",
        "    </tr>\n",
        "    <tr>\n",
        "      <th>59 </th>\n",
        "      <td>  59</td>\n",
        "      <td> 0.214286</td>\n",
        "      <td> 0.769572</td>\n",
        "      <td> 0.555286</td>\n",
        "      <td>                               Alanine in IU/L-var</td>\n",
        "    </tr>\n",
        "    <tr>\n",
        "      <th>73 </th>\n",
        "      <td>  73</td>\n",
        "      <td> 0.547619</td>\n",
        "      <td> 0.765140</td>\n",
        "      <td> 0.217521</td>\n",
        "      <td>                        Bicarbonate in mmol/L-amin</td>\n",
        "    </tr>\n",
        "    <tr>\n",
        "      <th>100</th>\n",
        "      <td> 100</td>\n",
        "      <td> 0.380952</td>\n",
        "      <td> 0.762186</td>\n",
        "      <td> 0.381234</td>\n",
        "      <td> Partial Pressure of Carbon dioxide (PaCO2) in ...</td>\n",
        "    </tr>\n",
        "    <tr>\n",
        "      <th>178</th>\n",
        "      <td> 178</td>\n",
        "      <td> 0.285714</td>\n",
        "      <td> 0.762186</td>\n",
        "      <td> 0.476472</td>\n",
        "      <td>            Random Blood Glucose in mg/dL-&lt;lambda&gt;</td>\n",
        "    </tr>\n",
        "    <tr>\n",
        "      <th>109</th>\n",
        "      <td> 109</td>\n",
        "      <td> 0.166667</td>\n",
        "      <td> 0.760709</td>\n",
        "      <td> 0.594042</td>\n",
        "      <td>                   Platelet Count in x 103/\u00b5L-amax</td>\n",
        "    </tr>\n",
        "    <tr>\n",
        "      <th>99 </th>\n",
        "      <td>  99</td>\n",
        "      <td> 0.404762</td>\n",
        "      <td> 0.757755</td>\n",
        "      <td> 0.352993</td>\n",
        "      <td>                      Arterial blood PH in ph-amax</td>\n",
        "    </tr>\n",
        "    <tr>\n",
        "      <th>68 </th>\n",
        "      <td>  68</td>\n",
        "      <td> 0.404762</td>\n",
        "      <td> 0.748892</td>\n",
        "      <td> 0.344130</td>\n",
        "      <td>                      Arterial blood PH in ph-amin</td>\n",
        "    </tr>\n",
        "    <tr>\n",
        "      <th>77 </th>\n",
        "      <td>  77</td>\n",
        "      <td> 0.357143</td>\n",
        "      <td> 0.747415</td>\n",
        "      <td> 0.390272</td>\n",
        "      <td>                                 Hematocrit %-amin</td>\n",
        "    </tr>\n",
        "    <tr>\n",
        "      <th>110</th>\n",
        "      <td> 110</td>\n",
        "      <td> 0.523810</td>\n",
        "      <td> 0.744461</td>\n",
        "      <td> 0.220651</td>\n",
        "      <td>                           Bilirubin in mg/dL-amax</td>\n",
        "    </tr>\n",
        "    <tr>\n",
        "      <th>52 </th>\n",
        "      <td>  52</td>\n",
        "      <td> 0.523810</td>\n",
        "      <td> 0.738552</td>\n",
        "      <td> 0.214743</td>\n",
        "      <td>                           Troponin I in ng/ml-var</td>\n",
        "    </tr>\n",
        "    <tr>\n",
        "      <th>95 </th>\n",
        "      <td>  95</td>\n",
        "      <td> 0.547619</td>\n",
        "      <td> 0.737075</td>\n",
        "      <td> 0.189456</td>\n",
        "      <td>                            Heart Rate in bpm-amax</td>\n",
        "    </tr>\n",
        "    <tr>\n",
        "      <th>69 </th>\n",
        "      <td>  69</td>\n",
        "      <td> 0.452381</td>\n",
        "      <td> 0.731167</td>\n",
        "      <td> 0.278786</td>\n",
        "      <td> Partial Pressure of Carbon dioxide (PaCO2) in ...</td>\n",
        "    </tr>\n",
        "  </tbody>\n",
        "</table>\n",
        "</div>"
       ],
       "metadata": {},
       "output_type": "pyout",
       "prompt_number": 54,
       "text": [
        "     ind      sens      spec      diff  \\\n",
        "113  113  0.285714  0.914328  0.628614   \n",
        "147  147  0.119048  0.914328  0.795280   \n",
        "176  176  0.095238  0.912851  0.817613   \n",
        "82    82  0.142857  0.911374  0.768517   \n",
        "19    19  0.047619  0.901034  0.853415   \n",
        "50    50  0.023810  0.887740  0.863931   \n",
        "205  205  0.023810  0.886263  0.862453   \n",
        "20    20  0.357143  0.875923  0.518780   \n",
        "114  114  0.309524  0.868538  0.559014   \n",
        "121  121  0.238095  0.867061  0.628965   \n",
        "90    90  0.142857  0.867061  0.724203   \n",
        "183  183  0.166667  0.865583  0.698917   \n",
        "127  127  0.333333  0.864106  0.530773   \n",
        "104  104  0.285714  0.844904  0.559190   \n",
        "206  206  0.357143  0.833087  0.475944   \n",
        "181  181  0.285714  0.830133  0.544419   \n",
        "51    51  0.333333  0.825702  0.492368   \n",
        "28    28  0.238095  0.809453  0.571358   \n",
        "118  118  0.500000  0.805022  0.305022   \n",
        "87    87  0.357143  0.805022  0.447879   \n",
        "182  182  0.333333  0.799114  0.465780   \n",
        "126  126  0.380952  0.794682  0.413730   \n",
        "88    88  0.619048  0.793205  0.174158   \n",
        "120  120  0.476190  0.790251  0.314061   \n",
        "171  171  0.285714  0.790251  0.504537   \n",
        "165  165  0.214286  0.788774  0.574488   \n",
        "167  167  0.309524  0.787297  0.477773   \n",
        "168  168  0.285714  0.787297  0.501583   \n",
        "89    89  0.214286  0.787297  0.573011   \n",
        "83    83  0.404762  0.785820  0.381058   \n",
        "170  170  0.285714  0.785820  0.500106   \n",
        "214  214  0.238095  0.785820  0.547725   \n",
        "25    25  0.476190  0.784343  0.308152   \n",
        "65    65  0.333333  0.778434  0.445101   \n",
        "123  123  0.333333  0.776957  0.443624   \n",
        "164  164  0.285714  0.776957  0.491243   \n",
        "169  169  0.238095  0.772526  0.534431   \n",
        "172  172  0.309524  0.771049  0.461525   \n",
        "59    59  0.214286  0.769572  0.555286   \n",
        "73    73  0.547619  0.765140  0.217521   \n",
        "100  100  0.380952  0.762186  0.381234   \n",
        "178  178  0.285714  0.762186  0.476472   \n",
        "109  109  0.166667  0.760709  0.594042   \n",
        "99    99  0.404762  0.757755  0.352993   \n",
        "68    68  0.404762  0.748892  0.344130   \n",
        "77    77  0.357143  0.747415  0.390272   \n",
        "110  110  0.523810  0.744461  0.220651   \n",
        "52    52  0.523810  0.738552  0.214743   \n",
        "95    95  0.547619  0.737075  0.189456   \n",
        "69    69  0.452381  0.731167  0.278786   \n",
        "\n",
        "                                                  name  \n",
        "113                         Lactic Acid in mmol/L-amax  \n",
        "147             Random Blood Glucose in mg/dL-<lambda>  \n",
        "176                       Troponin I in ng/ml-<lambda>  \n",
        "82                          Lactic Acid in mmol/L-amin  \n",
        "19                       LDL Cholesterol in mg/dL-mean  \n",
        "50                        LDL Cholesterol in mg/dL-var  \n",
        "205                  LDL Cholesterol in mg/dL-<lambda>  \n",
        "20                          Lactic Acid in mmol/L-mean  \n",
        "114                           Troponin I in ng/ml-amax  \n",
        "121                               Alanine in IU/L-amax  \n",
        "90                                Alanine in IU/L-amin  \n",
        "183                           Alanine in IU/L-<lambda>  \n",
        "127                   Respiration Rate in bpm-<lambda>  \n",
        "104                         Bicarbonate in mmol/L-amax  \n",
        "206                     Lactic Acid in mmol/L-<lambda>  \n",
        "181                           Albumin in g/dl-<lambda>  \n",
        "51                           Lactic Acid in mmol/L-var  \n",
        "28                                Alanine in IU/L-mean  \n",
        "118       Fraction of Inspired Oxygen (FiO2) in %-amax  \n",
        "87        Fraction of Inspired Oxygen (FiO2) in %-amin  \n",
        "182              Alkaline Phosphatase in IU/L-<lambda>  \n",
        "126                         Heart Rate in bpm-<lambda>  \n",
        "88                                Albumin in g/dl-amin  \n",
        "120                  Alkaline Phosphatase in IU/L-amax  \n",
        "171                Platelet Count in x 103/\u00b5L-<lambda>  \n",
        "165                       Potassium in mmol/L-<lambda>  \n",
        "167              Blood Urea Nitrogen in mg/dL-<lambda>  \n",
        "168                 Serum Creatinine in mg/dL-<lambda>  \n",
        "89                   Alkaline Phosphatase in IU/L-amin  \n",
        "83                            Troponin I in ng/ml-amin  \n",
        "170                              Hematocrit %-<lambda>  \n",
        "214                           Alanine in IU/L-<lambda>  \n",
        "25        Fraction of Inspired Oxygen (FiO2) in %-mean  \n",
        "65                        Respiration Rate in bpm-amin  \n",
        "123                            Magnesium in mg/dL-amax  \n",
        "164                          Sodium in mmol/L-<lambda>  \n",
        "169                     WBC Count in x 103/\u00b5L-<lambda>  \n",
        "172                        Bilirubin in mg/dL-<lambda>  \n",
        "59                                 Alanine in IU/L-var  \n",
        "73                          Bicarbonate in mmol/L-amin  \n",
        "100  Partial Pressure of Carbon dioxide (PaCO2) in ...  \n",
        "178             Random Blood Glucose in mg/dL-<lambda>  \n",
        "109                    Platelet Count in x 103/\u00b5L-amax  \n",
        "99                        Arterial blood PH in ph-amax  \n",
        "68                        Arterial blood PH in ph-amin  \n",
        "77                                   Hematocrit %-amin  \n",
        "110                            Bilirubin in mg/dL-amax  \n",
        "52                             Troponin I in ng/ml-var  \n",
        "95                              Heart Rate in bpm-amax  \n",
        "69   Partial Pressure of Carbon dioxide (PaCO2) in ...  "
       ]
      }
     ],
     "prompt_number": 54
    },
    {
     "cell_type": "markdown",
     "metadata": {},
     "source": [
      "train_and_score_cols(forests_final_1, [216], verbose=True)"
     ]
    },
    {
     "cell_type": "code",
     "collapsed": true,
     "input": [
      "df_feat_c\n",
      "df_feat_c.sort(columns=['diff', 'spec'], ascending=False)   # Diff, sp\n",
      "df_feat_c\n",
      "df_feat_c.sort(columns=['sens', 'spec'], ascending=False)   # Sensitivity, sp\n",
      "df_feat_c.sort(columns=[ 'spec', 'sens'], ascending=False)   # Specifity, se"
     ],
     "language": "python",
     "metadata": {},
     "outputs": [
      {
       "html": [
        "<div style=\"max-height:1000px;max-width:1500px;overflow:auto;\">\n",
        "<table border=\"1\" class=\"dataframe\">\n",
        "  <thead>\n",
        "    <tr style=\"text-align: right;\">\n",
        "      <th></th>\n",
        "      <th>ind</th>\n",
        "      <th>sens</th>\n",
        "      <th>spec</th>\n",
        "      <th>diff</th>\n",
        "      <th>name</th>\n",
        "    </tr>\n",
        "  </thead>\n",
        "  <tbody>\n",
        "    <tr>\n",
        "      <th>366</th>\n",
        "      <td> 366</td>\n",
        "      <td> 0.071429</td>\n",
        "      <td> 1.000000</td>\n",
        "      <td> 0.928571</td>\n",
        "      <td>  Fraction of Inspired Oxygen (FiO2) in %-&lt;lambda&gt;</td>\n",
        "    </tr>\n",
        "    <tr>\n",
        "      <th>347</th>\n",
        "      <td> 347</td>\n",
        "      <td> 0.047619</td>\n",
        "      <td> 1.000000</td>\n",
        "      <td> 0.952381</td>\n",
        "      <td>                  Arterial blood PH in ph-&lt;lambda&gt;</td>\n",
        "    </tr>\n",
        "    <tr>\n",
        "      <th>348</th>\n",
        "      <td> 348</td>\n",
        "      <td> 0.023810</td>\n",
        "      <td> 1.000000</td>\n",
        "      <td> 0.976190</td>\n",
        "      <td> Partial Pressure of Carbon dioxide (PaCO2) in ...</td>\n",
        "    </tr>\n",
        "    <tr>\n",
        "      <th>358</th>\n",
        "      <td> 358</td>\n",
        "      <td> 0.023810</td>\n",
        "      <td> 1.000000</td>\n",
        "      <td> 0.976190</td>\n",
        "      <td>                       Bilirubin in mg/dL-&lt;lambda&gt;</td>\n",
        "    </tr>\n",
        "    <tr>\n",
        "      <th>369</th>\n",
        "      <td> 369</td>\n",
        "      <td> 0.023810</td>\n",
        "      <td> 1.000000</td>\n",
        "      <td> 0.976190</td>\n",
        "      <td>                          Alanine in IU/L-&lt;lambda&gt;</td>\n",
        "    </tr>\n",
        "    <tr>\n",
        "      <th>18 </th>\n",
        "      <td>  18</td>\n",
        "      <td> 0.000000</td>\n",
        "      <td> 1.000000</td>\n",
        "      <td> 1.000000</td>\n",
        "      <td>                           Urine Output in ml-mean</td>\n",
        "    </tr>\n",
        "    <tr>\n",
        "      <th>49 </th>\n",
        "      <td>  49</td>\n",
        "      <td> 0.000000</td>\n",
        "      <td> 1.000000</td>\n",
        "      <td> 1.000000</td>\n",
        "      <td>                            Urine Output in ml-var</td>\n",
        "    </tr>\n",
        "    <tr>\n",
        "      <th>80 </th>\n",
        "      <td>  80</td>\n",
        "      <td> 0.000000</td>\n",
        "      <td> 1.000000</td>\n",
        "      <td> 1.000000</td>\n",
        "      <td>                           Urine Output in ml-amin</td>\n",
        "    </tr>\n",
        "    <tr>\n",
        "      <th>111</th>\n",
        "      <td> 111</td>\n",
        "      <td> 0.000000</td>\n",
        "      <td> 1.000000</td>\n",
        "      <td> 1.000000</td>\n",
        "      <td>                           Urine Output in ml-amax</td>\n",
        "    </tr>\n",
        "    <tr>\n",
        "      <th>142</th>\n",
        "      <td> 142</td>\n",
        "      <td> 0.000000</td>\n",
        "      <td> 1.000000</td>\n",
        "      <td> 1.000000</td>\n",
        "      <td>                       Urine Output in ml-&lt;lambda&gt;</td>\n",
        "    </tr>\n",
        "    <tr>\n",
        "      <th>146</th>\n",
        "      <td> 146</td>\n",
        "      <td> 0.000000</td>\n",
        "      <td> 1.000000</td>\n",
        "      <td> 1.000000</td>\n",
        "      <td>                      Troponin T in ng/ml-&lt;lambda&gt;</td>\n",
        "    </tr>\n",
        "    <tr>\n",
        "      <th>148</th>\n",
        "      <td> 148</td>\n",
        "      <td> 0.000000</td>\n",
        "      <td> 1.000000</td>\n",
        "      <td> 1.000000</td>\n",
        "      <td>           Fasting Blood Glucose in mg/dL-&lt;lambda&gt;</td>\n",
        "    </tr>\n",
        "    <tr>\n",
        "      <th>153</th>\n",
        "      <td> 153</td>\n",
        "      <td> 0.000000</td>\n",
        "      <td> 1.000000</td>\n",
        "      <td> 1.000000</td>\n",
        "      <td>                 HDL Cholesterol in mg/dL-&lt;lambda&gt;</td>\n",
        "    </tr>\n",
        "    <tr>\n",
        "      <th>173</th>\n",
        "      <td> 173</td>\n",
        "      <td> 0.000000</td>\n",
        "      <td> 1.000000</td>\n",
        "      <td> 1.000000</td>\n",
        "      <td>                       Urine Output in ml-&lt;lambda&gt;</td>\n",
        "    </tr>\n",
        "    <tr>\n",
        "      <th>184</th>\n",
        "      <td> 184</td>\n",
        "      <td> 0.000000</td>\n",
        "      <td> 1.000000</td>\n",
        "      <td> 1.000000</td>\n",
        "      <td>                 HDL Cholesterol in mg/dL-&lt;lambda&gt;</td>\n",
        "    </tr>\n",
        "    <tr>\n",
        "      <th>204</th>\n",
        "      <td> 204</td>\n",
        "      <td> 0.000000</td>\n",
        "      <td> 1.000000</td>\n",
        "      <td> 1.000000</td>\n",
        "      <td>                       Urine Output in ml-&lt;lambda&gt;</td>\n",
        "    </tr>\n",
        "    <tr>\n",
        "      <th>235</th>\n",
        "      <td> 235</td>\n",
        "      <td> 0.000000</td>\n",
        "      <td> 1.000000</td>\n",
        "      <td> 1.000000</td>\n",
        "      <td>                           Urine Output in ml-mean</td>\n",
        "    </tr>\n",
        "    <tr>\n",
        "      <th>266</th>\n",
        "      <td> 266</td>\n",
        "      <td> 0.000000</td>\n",
        "      <td> 1.000000</td>\n",
        "      <td> 1.000000</td>\n",
        "      <td>                            Urine Output in ml-var</td>\n",
        "    </tr>\n",
        "    <tr>\n",
        "      <th>297</th>\n",
        "      <td> 297</td>\n",
        "      <td> 0.000000</td>\n",
        "      <td> 1.000000</td>\n",
        "      <td> 1.000000</td>\n",
        "      <td>                           Urine Output in ml-amin</td>\n",
        "    </tr>\n",
        "    <tr>\n",
        "      <th>301</th>\n",
        "      <td> 301</td>\n",
        "      <td> 0.000000</td>\n",
        "      <td> 1.000000</td>\n",
        "      <td> 1.000000</td>\n",
        "      <td>                          Troponin T in ng/ml-amin</td>\n",
        "    </tr>\n",
        "    <tr>\n",
        "      <th>328</th>\n",
        "      <td> 328</td>\n",
        "      <td> 0.000000</td>\n",
        "      <td> 1.000000</td>\n",
        "      <td> 1.000000</td>\n",
        "      <td>                           Urine Output in ml-amax</td>\n",
        "    </tr>\n",
        "    <tr>\n",
        "      <th>359</th>\n",
        "      <td> 359</td>\n",
        "      <td> 0.000000</td>\n",
        "      <td> 1.000000</td>\n",
        "      <td> 1.000000</td>\n",
        "      <td>                       Urine Output in ml-&lt;lambda&gt;</td>\n",
        "    </tr>\n",
        "    <tr>\n",
        "      <th>360</th>\n",
        "      <td> 360</td>\n",
        "      <td> 0.000000</td>\n",
        "      <td> 1.000000</td>\n",
        "      <td> 1.000000</td>\n",
        "      <td>                 LDL Cholesterol in mg/dL-&lt;lambda&gt;</td>\n",
        "    </tr>\n",
        "    <tr>\n",
        "      <th>361</th>\n",
        "      <td> 361</td>\n",
        "      <td> 0.000000</td>\n",
        "      <td> 1.000000</td>\n",
        "      <td> 1.000000</td>\n",
        "      <td>                    Lactic Acid in mmol/L-&lt;lambda&gt;</td>\n",
        "    </tr>\n",
        "    <tr>\n",
        "      <th>363</th>\n",
        "      <td> 363</td>\n",
        "      <td> 0.000000</td>\n",
        "      <td> 1.000000</td>\n",
        "      <td> 1.000000</td>\n",
        "      <td>                      Troponin T in ng/ml-&lt;lambda&gt;</td>\n",
        "    </tr>\n",
        "    <tr>\n",
        "      <th>370</th>\n",
        "      <td> 370</td>\n",
        "      <td> 0.000000</td>\n",
        "      <td> 1.000000</td>\n",
        "      <td> 1.000000</td>\n",
        "      <td>                 HDL Cholesterol in mg/dL-&lt;lambda&gt;</td>\n",
        "    </tr>\n",
        "    <tr>\n",
        "      <th>390</th>\n",
        "      <td> 390</td>\n",
        "      <td> 0.000000</td>\n",
        "      <td> 1.000000</td>\n",
        "      <td> 1.000000</td>\n",
        "      <td>                       Urine Output in ml-&lt;lambda&gt;</td>\n",
        "    </tr>\n",
        "    <tr>\n",
        "      <th>391</th>\n",
        "      <td> 391</td>\n",
        "      <td> 0.000000</td>\n",
        "      <td> 1.000000</td>\n",
        "      <td> 1.000000</td>\n",
        "      <td>                 LDL Cholesterol in mg/dL-&lt;lambda&gt;</td>\n",
        "    </tr>\n",
        "    <tr>\n",
        "      <th>394</th>\n",
        "      <td> 394</td>\n",
        "      <td> 0.000000</td>\n",
        "      <td> 1.000000</td>\n",
        "      <td> 1.000000</td>\n",
        "      <td>                      Troponin T in ng/ml-&lt;lambda&gt;</td>\n",
        "    </tr>\n",
        "    <tr>\n",
        "      <th>401</th>\n",
        "      <td> 401</td>\n",
        "      <td> 0.000000</td>\n",
        "      <td> 1.000000</td>\n",
        "      <td> 1.000000</td>\n",
        "      <td>                 HDL Cholesterol in mg/dL-&lt;lambda&gt;</td>\n",
        "    </tr>\n",
        "    <tr>\n",
        "      <th>...</th>\n",
        "      <td>...</td>\n",
        "      <td>...</td>\n",
        "      <td>...</td>\n",
        "      <td>...</td>\n",
        "      <td>...</td>\n",
        "    </tr>\n",
        "    <tr>\n",
        "      <th>160</th>\n",
        "      <td> 160</td>\n",
        "      <td> 0.761905</td>\n",
        "      <td> 0.220089</td>\n",
        "      <td> 0.541816</td>\n",
        "      <td>                   Temperature in Celsius-&lt;lambda&gt;</td>\n",
        "    </tr>\n",
        "    <tr>\n",
        "      <th>155</th>\n",
        "      <td> 155</td>\n",
        "      <td> 0.904762</td>\n",
        "      <td> 0.217134</td>\n",
        "      <td> 0.687627</td>\n",
        "      <td>          Systolic Blood Pressure in mmHg-&lt;lambda&gt;</td>\n",
        "    </tr>\n",
        "    <tr>\n",
        "      <th>156</th>\n",
        "      <td> 156</td>\n",
        "      <td> 0.880952</td>\n",
        "      <td> 0.211226</td>\n",
        "      <td> 0.669726</td>\n",
        "      <td>         Diastolic Blood Pressure in mmHg-&lt;lambda&gt;</td>\n",
        "    </tr>\n",
        "    <tr>\n",
        "      <th>60 </th>\n",
        "      <td>  60</td>\n",
        "      <td> 0.976190</td>\n",
        "      <td> 0.098966</td>\n",
        "      <td> 0.877224</td>\n",
        "      <td>                      HDL Cholesterol in mg/dL-var</td>\n",
        "    </tr>\n",
        "    <tr>\n",
        "      <th>215</th>\n",
        "      <td> 215</td>\n",
        "      <td> 0.976190</td>\n",
        "      <td> 0.090103</td>\n",
        "      <td> 0.886087</td>\n",
        "      <td>                 HDL Cholesterol in mg/dL-&lt;lambda&gt;</td>\n",
        "    </tr>\n",
        "    <tr>\n",
        "      <th>55 </th>\n",
        "      <td>  55</td>\n",
        "      <td> 0.952381</td>\n",
        "      <td> 0.075332</td>\n",
        "      <td> 0.877049</td>\n",
        "      <td>                Fasting Blood Glucose in mg/dL-var</td>\n",
        "    </tr>\n",
        "    <tr>\n",
        "      <th>24 </th>\n",
        "      <td>  24</td>\n",
        "      <td> 0.952381</td>\n",
        "      <td> 0.073855</td>\n",
        "      <td> 0.878526</td>\n",
        "      <td>               Fasting Blood Glucose in mg/dL-mean</td>\n",
        "    </tr>\n",
        "    <tr>\n",
        "      <th>241</th>\n",
        "      <td> 241</td>\n",
        "      <td> 0.952381</td>\n",
        "      <td> 0.070901</td>\n",
        "      <td> 0.881480</td>\n",
        "      <td>               Fasting Blood Glucose in mg/dL-mean</td>\n",
        "    </tr>\n",
        "    <tr>\n",
        "      <th>272</th>\n",
        "      <td> 272</td>\n",
        "      <td> 0.952381</td>\n",
        "      <td> 0.070901</td>\n",
        "      <td> 0.881480</td>\n",
        "      <td>                Fasting Blood Glucose in mg/dL-var</td>\n",
        "    </tr>\n",
        "    <tr>\n",
        "      <th>210</th>\n",
        "      <td> 210</td>\n",
        "      <td> 0.952381</td>\n",
        "      <td> 0.069424</td>\n",
        "      <td> 0.882957</td>\n",
        "      <td>           Fasting Blood Glucose in mg/dL-&lt;lambda&gt;</td>\n",
        "    </tr>\n",
        "    <tr>\n",
        "      <th>427</th>\n",
        "      <td> 427</td>\n",
        "      <td> 0.952381</td>\n",
        "      <td> 0.067947</td>\n",
        "      <td> 0.884434</td>\n",
        "      <td>           Fasting Blood Glucose in mg/dL-&lt;lambda&gt;</td>\n",
        "    </tr>\n",
        "    <tr>\n",
        "      <th>303</th>\n",
        "      <td> 303</td>\n",
        "      <td> 0.976190</td>\n",
        "      <td> 0.059084</td>\n",
        "      <td> 0.917106</td>\n",
        "      <td>               Fasting Blood Glucose in mg/dL-amin</td>\n",
        "    </tr>\n",
        "    <tr>\n",
        "      <th>86 </th>\n",
        "      <td>  86</td>\n",
        "      <td> 1.000000</td>\n",
        "      <td> 0.057607</td>\n",
        "      <td> 0.942393</td>\n",
        "      <td>               Fasting Blood Glucose in mg/dL-amin</td>\n",
        "    </tr>\n",
        "    <tr>\n",
        "      <th>91 </th>\n",
        "      <td>  91</td>\n",
        "      <td> 1.000000</td>\n",
        "      <td> 0.056130</td>\n",
        "      <td> 0.943870</td>\n",
        "      <td>                     HDL Cholesterol in mg/dL-amin</td>\n",
        "    </tr>\n",
        "    <tr>\n",
        "      <th>422</th>\n",
        "      <td> 422</td>\n",
        "      <td> 0.976190</td>\n",
        "      <td> 0.048744</td>\n",
        "      <td> 0.927446</td>\n",
        "      <td>                 LDL Cholesterol in mg/dL-&lt;lambda&gt;</td>\n",
        "    </tr>\n",
        "    <tr>\n",
        "      <th>385</th>\n",
        "      <td> 385</td>\n",
        "      <td> 0.976190</td>\n",
        "      <td> 0.047267</td>\n",
        "      <td> 0.928923</td>\n",
        "      <td>                Serum Creatinine in mg/dL-&lt;lambda&gt;</td>\n",
        "    </tr>\n",
        "    <tr>\n",
        "      <th>117</th>\n",
        "      <td> 117</td>\n",
        "      <td> 0.952381</td>\n",
        "      <td> 0.047267</td>\n",
        "      <td> 0.905114</td>\n",
        "      <td>               Fasting Blood Glucose in mg/dL-amax</td>\n",
        "    </tr>\n",
        "    <tr>\n",
        "      <th>122</th>\n",
        "      <td> 122</td>\n",
        "      <td> 0.976190</td>\n",
        "      <td> 0.041359</td>\n",
        "      <td> 0.934832</td>\n",
        "      <td>                     HDL Cholesterol in mg/dL-amax</td>\n",
        "    </tr>\n",
        "    <tr>\n",
        "      <th>387</th>\n",
        "      <td> 387</td>\n",
        "      <td> 0.976190</td>\n",
        "      <td> 0.039882</td>\n",
        "      <td> 0.936309</td>\n",
        "      <td>                             Hematocrit %-&lt;lambda&gt;</td>\n",
        "    </tr>\n",
        "    <tr>\n",
        "      <th>179</th>\n",
        "      <td> 179</td>\n",
        "      <td> 1.000000</td>\n",
        "      <td> 0.038405</td>\n",
        "      <td> 0.961595</td>\n",
        "      <td>           Fasting Blood Glucose in mg/dL-&lt;lambda&gt;</td>\n",
        "    </tr>\n",
        "    <tr>\n",
        "      <th>388</th>\n",
        "      <td> 388</td>\n",
        "      <td> 0.976190</td>\n",
        "      <td> 0.036928</td>\n",
        "      <td> 0.939263</td>\n",
        "      <td>               Platelet Count in x 103/\u00b5L-&lt;lambda&gt;</td>\n",
        "    </tr>\n",
        "    <tr>\n",
        "      <th>381</th>\n",
        "      <td> 381</td>\n",
        "      <td> 0.976190</td>\n",
        "      <td> 0.035451</td>\n",
        "      <td> 0.940740</td>\n",
        "      <td>                         Sodium in mmol/L-&lt;lambda&gt;</td>\n",
        "    </tr>\n",
        "    <tr>\n",
        "      <th>246</th>\n",
        "      <td> 246</td>\n",
        "      <td> 0.976190</td>\n",
        "      <td> 0.033973</td>\n",
        "      <td> 0.942217</td>\n",
        "      <td>                     HDL Cholesterol in mg/dL-mean</td>\n",
        "    </tr>\n",
        "    <tr>\n",
        "      <th>329</th>\n",
        "      <td> 329</td>\n",
        "      <td> 1.000000</td>\n",
        "      <td> 0.031019</td>\n",
        "      <td> 0.968981</td>\n",
        "      <td>                     LDL Cholesterol in mg/dL-amax</td>\n",
        "    </tr>\n",
        "    <tr>\n",
        "      <th>277</th>\n",
        "      <td> 277</td>\n",
        "      <td> 0.976190</td>\n",
        "      <td> 0.031019</td>\n",
        "      <td> 0.945171</td>\n",
        "      <td>                      HDL Cholesterol in mg/dL-var</td>\n",
        "    </tr>\n",
        "    <tr>\n",
        "      <th>432</th>\n",
        "      <td> 432</td>\n",
        "      <td> 0.976190</td>\n",
        "      <td> 0.029542</td>\n",
        "      <td> 0.946648</td>\n",
        "      <td>                 HDL Cholesterol in mg/dL-&lt;lambda&gt;</td>\n",
        "    </tr>\n",
        "    <tr>\n",
        "      <th>334</th>\n",
        "      <td> 334</td>\n",
        "      <td> 0.976190</td>\n",
        "      <td> 0.028065</td>\n",
        "      <td> 0.948125</td>\n",
        "      <td>               Fasting Blood Glucose in mg/dL-amax</td>\n",
        "    </tr>\n",
        "    <tr>\n",
        "      <th>308</th>\n",
        "      <td> 308</td>\n",
        "      <td> 1.000000</td>\n",
        "      <td> 0.022157</td>\n",
        "      <td> 0.977843</td>\n",
        "      <td>                     HDL Cholesterol in mg/dL-amin</td>\n",
        "    </tr>\n",
        "    <tr>\n",
        "      <th>396</th>\n",
        "      <td> 396</td>\n",
        "      <td> 1.000000</td>\n",
        "      <td> 0.019202</td>\n",
        "      <td> 0.980798</td>\n",
        "      <td>           Fasting Blood Glucose in mg/dL-&lt;lambda&gt;</td>\n",
        "    </tr>\n",
        "    <tr>\n",
        "      <th>174</th>\n",
        "      <td> 174</td>\n",
        "      <td> 1.000000</td>\n",
        "      <td> 0.014771</td>\n",
        "      <td> 0.985229</td>\n",
        "      <td>                 LDL Cholesterol in mg/dL-&lt;lambda&gt;</td>\n",
        "    </tr>\n",
        "  </tbody>\n",
        "</table>\n",
        "<p>434 rows \u00d7 5 columns</p>\n",
        "</div>"
       ],
       "metadata": {},
       "output_type": "pyout",
       "prompt_number": 634,
       "text": [
        "     ind      sens      spec      diff  \\\n",
        "366  366  0.071429  1.000000  0.928571   \n",
        "347  347  0.047619  1.000000  0.952381   \n",
        "348  348  0.023810  1.000000  0.976190   \n",
        "358  358  0.023810  1.000000  0.976190   \n",
        "369  369  0.023810  1.000000  0.976190   \n",
        "18    18  0.000000  1.000000  1.000000   \n",
        "49    49  0.000000  1.000000  1.000000   \n",
        "80    80  0.000000  1.000000  1.000000   \n",
        "111  111  0.000000  1.000000  1.000000   \n",
        "142  142  0.000000  1.000000  1.000000   \n",
        "146  146  0.000000  1.000000  1.000000   \n",
        "148  148  0.000000  1.000000  1.000000   \n",
        "153  153  0.000000  1.000000  1.000000   \n",
        "173  173  0.000000  1.000000  1.000000   \n",
        "184  184  0.000000  1.000000  1.000000   \n",
        "204  204  0.000000  1.000000  1.000000   \n",
        "235  235  0.000000  1.000000  1.000000   \n",
        "266  266  0.000000  1.000000  1.000000   \n",
        "297  297  0.000000  1.000000  1.000000   \n",
        "301  301  0.000000  1.000000  1.000000   \n",
        "328  328  0.000000  1.000000  1.000000   \n",
        "359  359  0.000000  1.000000  1.000000   \n",
        "360  360  0.000000  1.000000  1.000000   \n",
        "361  361  0.000000  1.000000  1.000000   \n",
        "363  363  0.000000  1.000000  1.000000   \n",
        "370  370  0.000000  1.000000  1.000000   \n",
        "390  390  0.000000  1.000000  1.000000   \n",
        "391  391  0.000000  1.000000  1.000000   \n",
        "394  394  0.000000  1.000000  1.000000   \n",
        "401  401  0.000000  1.000000  1.000000   \n",
        "..   ...       ...       ...       ...   \n",
        "160  160  0.761905  0.220089  0.541816   \n",
        "155  155  0.904762  0.217134  0.687627   \n",
        "156  156  0.880952  0.211226  0.669726   \n",
        "60    60  0.976190  0.098966  0.877224   \n",
        "215  215  0.976190  0.090103  0.886087   \n",
        "55    55  0.952381  0.075332  0.877049   \n",
        "24    24  0.952381  0.073855  0.878526   \n",
        "241  241  0.952381  0.070901  0.881480   \n",
        "272  272  0.952381  0.070901  0.881480   \n",
        "210  210  0.952381  0.069424  0.882957   \n",
        "427  427  0.952381  0.067947  0.884434   \n",
        "303  303  0.976190  0.059084  0.917106   \n",
        "86    86  1.000000  0.057607  0.942393   \n",
        "91    91  1.000000  0.056130  0.943870   \n",
        "422  422  0.976190  0.048744  0.927446   \n",
        "385  385  0.976190  0.047267  0.928923   \n",
        "117  117  0.952381  0.047267  0.905114   \n",
        "122  122  0.976190  0.041359  0.934832   \n",
        "387  387  0.976190  0.039882  0.936309   \n",
        "179  179  1.000000  0.038405  0.961595   \n",
        "388  388  0.976190  0.036928  0.939263   \n",
        "381  381  0.976190  0.035451  0.940740   \n",
        "246  246  0.976190  0.033973  0.942217   \n",
        "329  329  1.000000  0.031019  0.968981   \n",
        "277  277  0.976190  0.031019  0.945171   \n",
        "432  432  0.976190  0.029542  0.946648   \n",
        "334  334  0.976190  0.028065  0.948125   \n",
        "308  308  1.000000  0.022157  0.977843   \n",
        "396  396  1.000000  0.019202  0.980798   \n",
        "174  174  1.000000  0.014771  0.985229   \n",
        "\n",
        "                                                  name  \n",
        "366   Fraction of Inspired Oxygen (FiO2) in %-<lambda>  \n",
        "347                   Arterial blood PH in ph-<lambda>  \n",
        "348  Partial Pressure of Carbon dioxide (PaCO2) in ...  \n",
        "358                        Bilirubin in mg/dL-<lambda>  \n",
        "369                           Alanine in IU/L-<lambda>  \n",
        "18                             Urine Output in ml-mean  \n",
        "49                              Urine Output in ml-var  \n",
        "80                             Urine Output in ml-amin  \n",
        "111                            Urine Output in ml-amax  \n",
        "142                        Urine Output in ml-<lambda>  \n",
        "146                       Troponin T in ng/ml-<lambda>  \n",
        "148            Fasting Blood Glucose in mg/dL-<lambda>  \n",
        "153                  HDL Cholesterol in mg/dL-<lambda>  \n",
        "173                        Urine Output in ml-<lambda>  \n",
        "184                  HDL Cholesterol in mg/dL-<lambda>  \n",
        "204                        Urine Output in ml-<lambda>  \n",
        "235                            Urine Output in ml-mean  \n",
        "266                             Urine Output in ml-var  \n",
        "297                            Urine Output in ml-amin  \n",
        "301                           Troponin T in ng/ml-amin  \n",
        "328                            Urine Output in ml-amax  \n",
        "359                        Urine Output in ml-<lambda>  \n",
        "360                  LDL Cholesterol in mg/dL-<lambda>  \n",
        "361                     Lactic Acid in mmol/L-<lambda>  \n",
        "363                       Troponin T in ng/ml-<lambda>  \n",
        "370                  HDL Cholesterol in mg/dL-<lambda>  \n",
        "390                        Urine Output in ml-<lambda>  \n",
        "391                  LDL Cholesterol in mg/dL-<lambda>  \n",
        "394                       Troponin T in ng/ml-<lambda>  \n",
        "401                  HDL Cholesterol in mg/dL-<lambda>  \n",
        "..                                                 ...  \n",
        "160                    Temperature in Celsius-<lambda>  \n",
        "155           Systolic Blood Pressure in mmHg-<lambda>  \n",
        "156          Diastolic Blood Pressure in mmHg-<lambda>  \n",
        "60                        HDL Cholesterol in mg/dL-var  \n",
        "215                  HDL Cholesterol in mg/dL-<lambda>  \n",
        "55                  Fasting Blood Glucose in mg/dL-var  \n",
        "24                 Fasting Blood Glucose in mg/dL-mean  \n",
        "241                Fasting Blood Glucose in mg/dL-mean  \n",
        "272                 Fasting Blood Glucose in mg/dL-var  \n",
        "210            Fasting Blood Glucose in mg/dL-<lambda>  \n",
        "427            Fasting Blood Glucose in mg/dL-<lambda>  \n",
        "303                Fasting Blood Glucose in mg/dL-amin  \n",
        "86                 Fasting Blood Glucose in mg/dL-amin  \n",
        "91                       HDL Cholesterol in mg/dL-amin  \n",
        "422                  LDL Cholesterol in mg/dL-<lambda>  \n",
        "385                 Serum Creatinine in mg/dL-<lambda>  \n",
        "117                Fasting Blood Glucose in mg/dL-amax  \n",
        "122                      HDL Cholesterol in mg/dL-amax  \n",
        "387                              Hematocrit %-<lambda>  \n",
        "179            Fasting Blood Glucose in mg/dL-<lambda>  \n",
        "388                Platelet Count in x 103/\u00b5L-<lambda>  \n",
        "381                          Sodium in mmol/L-<lambda>  \n",
        "246                      HDL Cholesterol in mg/dL-mean  \n",
        "329                      LDL Cholesterol in mg/dL-amax  \n",
        "277                       HDL Cholesterol in mg/dL-var  \n",
        "432                  HDL Cholesterol in mg/dL-<lambda>  \n",
        "334                Fasting Blood Glucose in mg/dL-amax  \n",
        "308                      HDL Cholesterol in mg/dL-amin  \n",
        "396            Fasting Blood Glucose in mg/dL-<lambda>  \n",
        "174                  LDL Cholesterol in mg/dL-<lambda>  \n",
        "\n",
        "[434 rows x 5 columns]"
       ]
      }
     ],
     "prompt_number": 634
    },
    {
     "cell_type": "markdown",
     "metadata": {},
     "source": [
      "# The bigger classifier!\n",
      "\n",
      "- training data row - stats of the entire ts\n",
      "- train random forests on the training data in parts\n",
      "- On the full training data\n",
      "    - use the rfs to get probs of each patient ts\n",
      "    - get stats of the probs\n",
      "    - classify the prob stats using non-linear model\n",
      "- On validation data:\n",
      "    - get windows starting from time 0\n",
      "    - classify each window using the learnt non-linear model\n",
      "    \n",
      "### Problems:\n",
      "- train - train data?\n",
      "- if valid data for nlm, less data"
     ]
    },
    {
     "cell_type": "code",
     "collapsed": false,
     "input": [
      "data_combined = np.array(patient_combined)\n",
      "patient_combined = np.array(patient_combined)\n",
      "np.random.seed(2)\n",
      "\n",
      "### BIG FOREST PARAMS\n",
      "stats_big = [np.mean, np.var, np.min, np.max,\n",
      "             lambda x, axis:x[x.shape[0]-1],    # first element\n",
      "             lambda x, axis:x[0],               # last element\n",
      "             lambda x, time_: slope(x, time_)]          # slope of the window\n",
      "n_windows_big = 1\n",
      "\n",
      "### NOTE: If n<n_windows, ignored!\n",
      "n_windows = 2\n",
      "split = [0.60, 0.20]    # train%, validation%, (test%)\n",
      "#stats = [np.nanmean, np.nanmax , np.nanvar, np.nanmin, lambda x, axis:x.shape[0], lambda x, axis:x[x.shape[0]-1]]\n",
      "stats = [np.mean, np.var, np.min, np.max,\n",
      "         lambda x, axis:x[x.shape[0]-1],    # first element\n",
      "         lambda x, axis:x[0],               # last element\n",
      "         lambda x, time_: slope(x, time_)]          # slope of the window\n",
      "\n",
      "# Get the data from the patients\n",
      "[data_train, labels_train, data_valid, labels_valid, data_test, labels_test,\n",
      " data_train_living, data_train_dead, data_valid_living, data_valid_dead, data_test_living, data_test_dead,\n",
      " icu_train_living, icu_train_dead, icu_valid_living, icu_valid_dead, icu_test_living, icu_test_dead,\n",
      " age_train_living, age_train_dead, age_valid_living, age_valid_dead, age_test_living, age_test_dead,\n",
      " train_split, ind_train, ind_valid, ind_test, n_train_splits, train_split] = get_data(patient_combined,\n",
      "                                                            labels_combined, age_combined,\n",
      "                                                            icu_combined, n_windows, stats, split, time=time_ind)\n",
      "\n",
      "patients_train = patient_combined[ind_train]\n",
      "patients_valid = patient_combined[ind_valid]\n",
      "patients_test = patient_combined[ind_test]    # Data_combined = patient_combined\n",
      "\n",
      "#icu_combined = icu_combined.reshape((icu_combined.shape[0],))\n",
      "age_combined = age_combined.reshape((age_combined.shape[0], 1))\n",
      "age_train = age_combined[ind_train]\n",
      "age_valid = age_combined[ind_valid]\n",
      "age_test = age_combined[ind_test]"
     ],
     "language": "python",
     "metadata": {},
     "outputs": [
      {
       "output_type": "stream",
       "stream": "stdout",
       "text": [
        "(3594, 434)\n",
        "(2156, 434)\n",
        "(2156, 434)\n",
        "Train: 153 2003 2156\n",
        "Valid: 47 672 719\n",
        "Test: 45 674 719\n",
        "Train Splits 13 154 2155 2156\n",
        "(2156, 434)\n",
        "(434,)\n"
       ]
      }
     ],
     "prompt_number": 815
    },
    {
     "cell_type": "code",
     "collapsed": false,
     "input": [
      "forests = [RandomForestClassifier(n_estimators=100, class_weight={0:1, 0:1}, max_features=None,\n",
      "                                      n_jobs=-1, max_depth=None\n",
      "                                      ) for i in xrange(n_train_splits)]"
     ],
     "language": "python",
     "metadata": {},
     "outputs": [],
     "prompt_number": 802
    },
    {
     "cell_type": "code",
     "collapsed": false,
     "input": [
      "forests_final_1 = [RandomForestClassifier(n_estimators=100, class_weight={0:1, 0:1}, max_features=None,\n",
      "                                      n_jobs=-1, max_depth=None\n",
      "                                      ) for i in xrange(n_train_splits)]"
     ],
     "language": "python",
     "metadata": {},
     "outputs": [],
     "prompt_number": 683
    },
    {
     "cell_type": "code",
     "collapsed": false,
     "input": [
      "cols_feat = [127, 125,124,128,113,25,2]"
     ],
     "language": "python",
     "metadata": {},
     "outputs": [],
     "prompt_number": 598
    },
    {
     "cell_type": "code",
     "collapsed": false,
     "input": [
      "train_and_score_cols(forests_final_1, None, data_train_living, data_train_dead, data_valid, labels_valid)"
     ],
     "language": "python",
     "metadata": {},
     "outputs": [
      {
       "metadata": {},
       "output_type": "pyout",
       "prompt_number": 525,
       "text": [
        "(0.8050847457627118, 0.8987492555092317, 0.98989898989898994)"
       ]
      }
     ],
     "prompt_number": 525
    },
    {
     "cell_type": "code",
     "collapsed": true,
     "input": [
      "list_probs_train = get_probs_all_windows(patients_train, n_windows, stats, forests_final_1, time=time_ind,\n",
      "                                         cols=cols_feat)"
     ],
     "language": "python",
     "metadata": {},
     "outputs": [],
     "prompt_number": 613
    },
    {
     "cell_type": "code",
     "collapsed": false,
     "input": [
      "###### INCLUDE ICU! Make ONE entry with the stats of all windows\n",
      "# Again, make n_windows_big windwows using the entire time series (n_train, n_windows_big * len(stats_big) * n_train_splits)\n",
      "train_prob_stats = get_rows_data(list_probs_train, n_windows_big, stats_big)\n",
      "#train_prob_stats =  np.hstack((train_prob_stats, age_train))   # Append the age column here"
     ],
     "language": "python",
     "metadata": {},
     "outputs": [],
     "prompt_number": 614
    },
    {
     "cell_type": "code",
     "collapsed": false,
     "input": [
      "forest_big = RandomForestClassifier(n_estimators=300, class_weight={0:1, 1:1}, max_features=None,\n",
      "                                      n_jobs=-1, max_depth=None)"
     ],
     "language": "python",
     "metadata": {},
     "outputs": [],
     "prompt_number": 618
    },
    {
     "cell_type": "code",
     "collapsed": false,
     "input": [
      "forest_big.fit(train_prob_stats, labels_train[:, 0])"
     ],
     "language": "python",
     "metadata": {},
     "outputs": [
      {
       "metadata": {},
       "output_type": "pyout",
       "prompt_number": 619,
       "text": [
        "RandomForestClassifier(bootstrap=True, class_weight={0: 1, 1: 1},\n",
        "            criterion='gini', max_depth=None, max_features=None,\n",
        "            max_leaf_nodes=None, min_samples_leaf=1, min_samples_split=2,\n",
        "            min_weight_fraction_leaf=0.0, n_estimators=300, n_jobs=-1,\n",
        "            oob_score=False, random_state=None, verbose=0,\n",
        "            warm_start=False)"
       ]
      }
     ],
     "prompt_number": 619
    },
    {
     "cell_type": "markdown",
     "metadata": {},
     "source": [
      "#### train a new ensemble of random forests, and \n",
      "train_prob_stats_living, train_prob_stats_dead = separate_living_dead(train_prob_stats, labels_train[:, 0])\n",
      "train_balanced(forests_big, train_prob_stats_living, train_prob_stats_living);"
     ]
    },
    {
     "cell_type": "markdown",
     "metadata": {},
     "source": [
      "## now train a threshold for controlling sensitivity and specificity on the validation set"
     ]
    },
    {
     "cell_type": "code",
     "collapsed": false,
     "input": [
      "# Get probs of only windows that are in the ICU for each patient\n",
      "list_probs = get_probs_all_windows(patients_valid, n_windows, stats, forests_final_1, time_ind,\n",
      "                                   icu_combined[ind_valid], cols=cols_feat)\n",
      "# Get rows (online) for each time series of probabilities\n",
      "prob_windows_stacked_val, ind_windows_stacked_val = get_stacked_windows_from_ts(list_probs, n_windows_big, stats_big)\n",
      "ind_windows_stacked_val = np.array(ind_windows_stacked_val, dtype=int)\n",
      "#prob_windows_stacked_val = np.hstack((prob_windows_stacked_val, age_valid[ind_windows_stacked_val])) # Stack AGE"
     ],
     "language": "python",
     "metadata": {},
     "outputs": [],
     "prompt_number": 620
    },
    {
     "cell_type": "code",
     "collapsed": false,
     "input": [
      "y_prob_stacked_val = forest_big.predict_proba(prob_windows_stacked_val)\n",
      "theta_max = train_theta_max_sens_stacked(y_prob_stacked_val, ind_windows_stacked_val, labels_valid, verbose=True)"
     ],
     "language": "python",
     "metadata": {},
     "outputs": [
      {
       "output_type": "stream",
       "stream": "stdout",
       "text": [
        "[ 0.89362  0.87234  0.87234  0.87234  0.87234  0.87234  0.87234  0.87234\n",
        "  0.87234  0.87234  0.87234  0.87234  0.87234  0.87234  0.87234  0.87234\n",
        "  0.87234  0.87234  0.87234  0.87234  0.87234  0.87234  0.87234  0.87234\n",
        "  0.87234  0.82979  0.82979  0.82979  0.82979  0.80851  0.80851  0.80851\n",
        "  0.80851  0.80851  0.80851  0.80851  0.80851  0.80851  0.80851  0.80851\n",
        "  0.80851  0.80851  0.80851  0.80851  0.80851  0.80851  0.80851  0.80851\n",
        "  0.80851  0.80851  0.80851  0.80851  0.80851  0.80851  0.80851  0.80851\n",
        "  0.80851  0.80851  0.80851  0.80851  0.80851  0.80851  0.80851  0.78723\n",
        "  0.78723  0.78723  0.78723  0.78723  0.78723  0.74468  0.74468  0.74468\n",
        "  0.74468  0.74468  0.74468  0.74468  0.74468  0.74468  0.74468  0.74468\n",
        "  0.74468  0.74468  0.74468  0.74468  0.70213  0.68085  0.68085  0.68085\n",
        "  0.68085  0.68085  0.68085  0.61702  0.55319  0.53191  0.51064  0.51064\n",
        "  0.51064  0.46809  0.     ] [ 0.48363  0.49405  0.49554  0.5      0.50744  0.51488  0.51488  0.51637\n",
        "  0.51637  0.52083  0.52083  0.5253   0.52827  0.53274  0.53274  0.54018\n",
        "  0.54315  0.54464  0.54464  0.54762  0.55655  0.55804  0.55952  0.56548\n",
        "  0.56845  0.57292  0.5744   0.58333  0.58631  0.58631  0.58631  0.59375\n",
        "  0.60119  0.60565  0.60714  0.61012  0.61607  0.61607  0.61607  0.61905\n",
        "  0.62202  0.62202  0.62202  0.62351  0.62798  0.62798  0.62946  0.63244\n",
        "  0.6369   0.63839  0.64435  0.64435  0.64732  0.6503   0.65476  0.65476\n",
        "  0.66071  0.6622   0.66815  0.67262  0.67411  0.6756   0.67857  0.68006\n",
        "  0.68304  0.69345  0.69792  0.70238  0.70536  0.70833  0.70833  0.71429\n",
        "  0.71726  0.7247   0.72768  0.7381   0.74107  0.75446  0.76339  0.77679\n",
        "  0.78423  0.79911  0.80506  0.81399  0.81845  0.82589  0.82738  0.83333\n",
        "  0.83482  0.84375  0.84673  0.85863  0.86012  0.86905  0.87351  0.88988\n",
        "  0.90476  0.91964  1.     ]\n"
       ]
      }
     ],
     "prompt_number": 624
    },
    {
     "cell_type": "code",
     "collapsed": false,
     "input": [
      "y_any_valid, list_y_preds_val = get_unstacked_predictions_from_probs(y_prob_stacked_val, ind_windows_stacked_val, theta_max)\n",
      "get_ss((confusion_matrix(labels_valid, y_any_valid)))"
     ],
     "language": "python",
     "metadata": {},
     "outputs": [
      {
       "metadata": {},
       "output_type": "pyout",
       "prompt_number": 622,
       "text": [
        "(0.46808510638297873, 0.9196428571428571)"
       ]
      }
     ],
     "prompt_number": 622
    },
    {
     "cell_type": "code",
     "collapsed": false,
     "input": [
      "y_any_valid, list_y_preds_val = get_unstacked_predictions_from_probs(y_prob_stacked_val, ind_windows_stacked_val, theta_max)\n",
      "get_ss((confusion_matrix(labels_valid, y_any_valid)))"
     ],
     "language": "python",
     "metadata": {},
     "outputs": [
      {
       "metadata": {},
       "output_type": "pyout",
       "prompt_number": 623,
       "text": [
        "(0.46808510638297873, 0.9196428571428571)"
       ]
      }
     ],
     "prompt_number": 623
    },
    {
     "cell_type": "markdown",
     "metadata": {},
     "source": [
      "### Prediction times"
     ]
    },
    {
     "cell_type": "code",
     "collapsed": false,
     "input": [
      "l = get_prediction_times_all_patients(list_y_preds_val, patients_valid, time_ind, icu_combined[ind_valid])\n",
      "print 'median:', np.median(l[l>0]/3600), ', min:', np.min(l[l>0]/3600)"
     ],
     "language": "python",
     "metadata": {},
     "outputs": [
      {
       "output_type": "stream",
       "stream": "stdout",
       "text": [
        "median: 122.635694444 , min: 2.99722222222\n"
       ]
      }
     ],
     "prompt_number": 625
    },
    {
     "cell_type": "markdown",
     "metadata": {},
     "source": [
      "#### Get predictions for all windows (of probs) using the forest\n",
      "y_pred_stacked = forest_big.predict(prob_windows_stacked_val)\n",
      "y_pred_stacked = y_pred_stacked.reshape((y_pred_stacked.shape[0], 1))"
     ]
    },
    {
     "cell_type": "code",
     "collapsed": false,
     "input": [
      "confusion_matrix(labels_valid, y_any_valid)"
     ],
     "language": "python",
     "metadata": {},
     "outputs": [
      {
       "metadata": {},
       "output_type": "pyout",
       "prompt_number": 626,
       "text": [
        "array([[618,  54],\n",
        "       [ 25,  22]])"
       ]
      }
     ],
     "prompt_number": 626
    },
    {
     "cell_type": "code",
     "collapsed": false,
     "input": [
      "#print np.arange(y_any_valid.shape[0])[y_any_valid]  # all valid indices with at least one 1\n",
      "# find the indices at which 1 was predicted, and the label\n",
      "# i = 31\n",
      "#print np.arange(list_y_preds_val[i].shape[0])[list_y_preds_val[i][:, 0] == 1], labels_valid[i]\n",
      "#print labels_valid[y_any_valid != (l>0)]    # TRUE LABELS WHERE THE PREDICTION 1 WAS MADE AT TIME 0"
     ],
     "language": "python",
     "metadata": {},
     "outputs": [],
     "prompt_number": 627
    },
    {
     "cell_type": "markdown",
     "metadata": {},
     "source": [
      "## TEST DATA!"
     ]
    },
    {
     "cell_type": "code",
     "collapsed": false,
     "input": [
      "# Get probs of only windows that are in the ICU for each patient\n",
      "list_probs = get_probs_all_windows(patients_test, n_windows, stats, forests_final_1, time_ind,\n",
      "                                   icu_combined[ind_test], cols=cols_feat)\n",
      "# Get rows (online) for each time series of probabilities\n",
      "prob_windows_stacked_test, ind_windows_stacked_test = get_stacked_windows_from_ts(list_probs, n_windows_big, stats_big)\n",
      "ind_windows_stacked_test = np.array(ind_windows_stacked_test, dtype=int)\n",
      "#prob_windows_stacked_val = np.hstack((prob_windows_stacked_val, age_valid[ind_windows_stacked_val])) # Stack AGE"
     ],
     "language": "python",
     "metadata": {},
     "outputs": [],
     "prompt_number": 628
    },
    {
     "cell_type": "code",
     "collapsed": false,
     "input": [
      "y_prob_stacked_test = forest_big.predict_proba(prob_windows_stacked_test)"
     ],
     "language": "python",
     "metadata": {},
     "outputs": [],
     "prompt_number": 629
    },
    {
     "cell_type": "code",
     "collapsed": false,
     "input": [
      "y_any_test, list_y_preds_test = get_unstacked_predictions_from_probs(y_prob_stacked_test,\n",
      "                                                                     ind_windows_stacked_test, theta_max)\n",
      "get_ss((confusion_matrix(labels_test, y_any_test)))"
     ],
     "language": "python",
     "metadata": {},
     "outputs": [
      {
       "metadata": {},
       "output_type": "pyout",
       "prompt_number": 630,
       "text": [
        "(0.5555555555555556, 0.9035608308605341)"
       ]
      }
     ],
     "prompt_number": 630
    },
    {
     "cell_type": "code",
     "collapsed": false,
     "input": [
      "l_test = get_prediction_times_all_patients(list_y_preds_test, patients_test, time_ind, icu_combined[ind_test])\n",
      "print 'median:', np.median(l_test[l_test>0]/3600), ', min:', np.min(l_test[l_test>0]/3600)"
     ],
     "language": "python",
     "metadata": {},
     "outputs": [
      {
       "output_type": "stream",
       "stream": "stdout",
       "text": [
        "median: 127.472638889 , min: 3.25722222222\n"
       ]
      }
     ],
     "prompt_number": 452
    },
    {
     "cell_type": "code",
     "collapsed": false,
     "input": [
      "y_any_test, list_y_preds_test = get_unstacked_predictions_from_probs(y_prob_stacked_test,\n",
      "                                                                     ind_windows_stacked_test, theta_max)\n",
      "get_ss((confusion_matrix(labels_test, y_any_test)))"
     ],
     "language": "python",
     "metadata": {},
     "outputs": [
      {
       "metadata": {},
       "output_type": "pyout",
       "prompt_number": 453,
       "text": [
        "(0.16666666666666666, 0.9881831610044313)"
       ]
      }
     ],
     "prompt_number": 453
    },
    {
     "cell_type": "markdown",
     "metadata": {},
     "source": [
      "## others"
     ]
    },
    {
     "cell_type": "code",
     "collapsed": false,
     "input": [
      "# random run no age, only on icu,\n",
      "y_any_valid = np.array([(list_y_preds_val[i] == True).any() for i in xrange(list_y_preds_val.shape[0])])\n",
      "get_ss(confusion_matrix(labels_valid, y_any_valid))"
     ],
     "language": "python",
     "metadata": {},
     "outputs": [
      {
       "metadata": {},
       "output_type": "pyout",
       "prompt_number": 1322,
       "text": [
        "(0.8309859154929577, 0.8630952380952381)"
       ]
      }
     ],
     "prompt_number": 1322
    },
    {
     "cell_type": "code",
     "collapsed": false,
     "input": [
      "list_y_preds_val = get_list_of_prediction_arrays(y_prob_stacked, ind_windows_stacked_val)"
     ],
     "language": "python",
     "metadata": {},
     "outputs": [],
     "prompt_number": 599
    },
    {
     "cell_type": "code",
     "collapsed": false,
     "input": [
      "confusion_matrix(labels_valid, y_any_valid)"
     ],
     "language": "python",
     "metadata": {},
     "outputs": [
      {
       "metadata": {},
       "output_type": "pyout",
       "prompt_number": 629,
       "text": [
        "array([[469, 198],\n",
        "       [  4,  48]])"
       ]
      }
     ],
     "prompt_number": 629
    },
    {
     "cell_type": "code",
     "collapsed": false,
     "input": [
      "[ind_fp_val, ind_fn_val, ind_tp_val, ind_tn_val] = get_confusion_inds(labels_valid, y_any_valid)"
     ],
     "language": "python",
     "metadata": {},
     "outputs": [],
     "prompt_number": 603
    },
    {
     "cell_type": "code",
     "collapsed": false,
     "input": [
      "for i, p in enumerate(patients_valid[:10]):\n",
      "    if(ind_fp_val[i]):\n",
      "        patient_windows = get_all_window_stats(patients_valid[i], n_windows, stats, time=time_ind)\n",
      "        prob_mod = get_model_sum_probs(patient_windows, forests_final_1) / n_train_splits\n",
      "        #print get_pr_predictions(patient_windows, probit_reg, theta_max, forests_final)\n",
      "        #prob_reg = get_pr_probs(patient_windows, probit_reg, forests_final)\n",
      "        figure()\n",
      "        ylim([0, 1])\n",
      "        \n",
      "        plot(prob_mod[:, 1])"
     ],
     "language": "python",
     "metadata": {},
     "outputs": [
      {
       "metadata": {},
       "output_type": "display_data",
       "png": "[encoded data removed]",
       "text": [
        "<matplotlib.figure.Figure at 0x7f47110ea690>"
       ]
      },
      {
       "metadata": {},
       "output_type": "display_data",
       "png": "[encoded data removed]",
       "text": [
        "<matplotlib.figure.Figure at 0x7f470b678410>"
       ]
      }
     ],
     "prompt_number": 610
    },
    {
     "cell_type": "code",
     "collapsed": false,
     "input": [
      "## MISCLASSIFIED PATIENTS!\n",
      "l = np.array([x.shape[0] for x in patient_combined])\n",
      "l[[689, 694, 699, 695, 705, 715]]\n",
      "np.arange(3594)[argsort(l)==2]"
     ],
     "language": "python",
     "metadata": {},
     "outputs": [],
     "prompt_number": 934
    },
    {
     "cell_type": "markdown",
     "metadata": {},
     "source": [
      "# Things that did not work"
     ]
    },
    {
     "cell_type": "markdown",
     "metadata": {},
     "source": [
      "## Find the se and sp for all feature+stat pairs\n",
      "se_f, sp_f = get_feature_stat_se_sp(forests)\n",
      "## Find the se and sp for all feature+stat pairs\n",
      "se_s, sp_s = get_feature_stat_se_sp(svms)\n",
      "\n",
      "out = np.hstack((np.arange(se_f.shape[0]).reshape((se_f.shape[0], 1)), se_f, sp_f, np.abs(sp_f - se_f)))\n",
      "cols = [get_str(i) for i in np.array(out[:, 0], dtype=int)]\n",
      "\n",
      "df_feat = pd.DataFrame(data=out, columns=['ind', 'sens', 'spec', 'diff'])\n",
      "df_feat['name'] = cols\n",
      "\n",
      "# SAVE!\n",
      "\n",
      "pd.save(df_feat, '/root/code/xerox/windows/df_feat_forest')\n",
      "\n",
      "#################################################################\n",
      "\n",
      "### Features selected:\n",
      "- HDL Cholesterol - 91\n",
      "\n",
      "\n",
      "### Current scheme: ignore those features that lead to biased sens / spec\n",
      "- 18\n",
      "\n",
      "n = df_feat.ind.count()\n",
      "\n",
      "score_with_glm(forests, data_train, data_train_living, data_train_dead, data_valid, labels_valid,\n",
      "               cols = [i ofr i in xrange(18) if i not in [18]])\n",
      "\n",
      "train_score_col_windows(forests, [i for i in xrange(n) if i not in ind])\n",
      "\n",
      "get_cols_stat_se_sp(forests, [29, ])\n",
      "\n",
      "ind = df_feat[df_feat.ix[:, 'diff'] > 0.2].ind\n",
      "print [i for i in xrange(n) if i not in ind].append([1, 2])\n",
      "\n",
      "df_feat.sort(columns=['diff', 'spec'], ascending=False)   # Diff, sp\n",
      "df_feat\n",
      "df_feat.sort(columns=['sens', 'spec'], ascending=False)   # Sensitivity, sp\n",
      "df_feat.sort(columns=[ 'spec', 'sens'], ascending=False)   # Specifity, se\n",
      "\n",
      "### Dhruv's features!\n",
      "- las sys\n",
      "- llas dias\n",
      "\n",
      "- mean oxyge\n",
      "- max lac\n",
      "- max hr\n",
      "- sum bicarb\n",
      "- sum resp rate"
     ]
    },
    {
     "cell_type": "markdown",
     "metadata": {},
     "source": [
      "# The one with glm\n",
      "\n",
      "forests_final = [RandomForestClassifier(n_estimators=300, class_weight=None, max_features=None,\n",
      "                                      n_jobs=-1, max_depth=None\n",
      "                                      ) for i in xrange(n_train_splits)]\n",
      "data_all_windows_stacked, ind_all_windows_stacked = get_stacked_windows_from_ts(patients_valid, n_windows, stats)\n",
      "[probit_reg, theta_max, s] = score_with_glm(forests_final, data_train, labels_train, data_train_living,\n",
      "                                            data_train_dead, data_valid, labels_valid, cols=None)\n",
      "y_pred_stacked = get_pr_predictions(data_all_windows_stacked, probit_reg, theta_max, forests_final)\n",
      "list_y_preds = get_list_of_prediction_arrays(y_pred_stacked, ind_all_windows_stacked)\n",
      "list_y_preds_dead = list_y_preds[labels_valid[:, 0] == 1]\n",
      "list_y_preds_alive = list_y_preds[labels_valid[:, 0] == 0]\n",
      "y_any_valid = np.array([(list_y_preds[i] == True).any() for i in xrange(list_y_preds.shape[0])])\n",
      "get_ss(confusion_matrix(labels_valid, y_any_valid))"
     ]
    },
    {
     "cell_type": "markdown",
     "metadata": {},
     "source": [
      "#### Weird svms combination\n",
      "svms = [svm.NuSVC(nu=0.10, kernel='poly', degree=2, gamma=10**(-1.7), coef0=100, probability=True),\n",
      "        svm.NuSVC(nu=0.10, kernel='poly', degree=2, gamma=10**(-1.7), coef0=100, probability=True),\n",
      "        svm.NuSVC(nu=0.10, kernel='poly', degree=2, gamma=10**(-1.7), coef0=100, probability=True),\n",
      "        svm.NuSVC(nu=0.10, kernel='poly', degree=2, gamma=10**(-1.7), coef0=100, probability=True),\n",
      "        svm.NuSVC(nu=0.10, kernel='poly', degree=2, gamma=10**(-1.7), coef0=100, probability=True),\n",
      "        svm.NuSVC(nu=0.10, kernel='poly', degree=2, gamma=10**(-1.7), coef0=100, probability=True),\n",
      "        svm.NuSVC(nu=0.10, kernel='poly', degree=2, gamma=10**(-1.7), coef0=100, probability=True),\n",
      "        svm.NuSVC(nu=0.5, kernel='poly', degree=2, gamma=10**(-1.7), coef0=100, probability=True),\n",
      "        svm.NuSVC(nu=0.9, kernel='poly', degree=2, gamma=10**(-1.7), coef0=100, probability=True),\n",
      "        svm.NuSVC(nu=0.8, kernel='poly', degree=2, gamma=10**(-1.7), coef0=100, probability=True),\n",
      "        svm.NuSVC(nu=0.8, kernel='poly', degree=2, gamma=10**(-1.7), coef0=100, probability=True),\n",
      "        svm.NuSVC(nu=0.8, kernel='poly', degree=2, gamma=10**(-1.7), coef0=100, probability=True)\n",
      "        ]\n",
      "c_train, c_valid = train_balanced(svms)\n",
      "probit_reg_svm, theta_max_svm = train_pr_max_sens(svms, data_train, labels_train)\n",
      "\n",
      "svms = [svm.NuSVC(nu=0.52, kernel='poly', degree=2, gamma=10**(-1.7), coef0=1, probability=True),\n",
      "        svm.NuSVC(nu=0.52, kernel='poly', degree=2, gamma=10**(-1.3), coef0=1, probability=True),\n",
      "        svm.NuSVC(nu=0.40, kernel='poly', degree=2, gamma=10**(-1.1), coef0=1, probability=True),\n",
      "        svm.NuSVC(nu=0.50, kernel='poly', degree=2, gamma=10**(-0.9), coef0=1, probability=True),\n",
      "        svm.NuSVC(nu=0.56, kernel='poly', degree=2, gamma=10**(-0.7), coef0=1, probability=True),\n",
      "        svm.NuSVC(nu=0.62, kernel='poly', degree=2, gamma=10**(-2), coef0=1, probability=True),\n",
      "        svm.NuSVC(nu=0.62, kernel='poly', degree=2, gamma=10**(-2), coef0=1, probability=True),\n",
      "        svm.NuSVC(nu=0.44, kernel='poly', degree=2, gamma=10**(-0.1), coef0=1, probability=True),\n",
      "        svm.NuSVC(nu=0.90, kernel='poly', degree=2, gamma=10**(-0.1), coef0=1, probability=True),\n",
      "        svm.NuSVC(nu=0.45, kernel='poly', degree=2, gamma=10**(-1.4), coef0=1, probability=True),\n",
      "        svm.NuSVC(nu=0.60, kernel='poly', degree=2, gamma=10**(-1.7), coef0=1, probability=True),\n",
      "        svm.NuSVC(nu=0.90, kernel='poly', degree=2, gamma=10**(-1.1), coef0=1, probability=True),\n",
      "        svm.NuSVC(nu=0.51, kernel='poly', degree=2, gamma=10**(-1.7), coef0=1, probability=True)\n",
      "        ]"
     ]
    },
    {
     "cell_type": "markdown",
     "metadata": {},
     "source": [
      "# LOAD VALIDATION DATA!"
     ]
    },
    {
     "cell_type": "code",
     "collapsed": false,
     "input": [
      "df_age_valid = pd.read_csv('validation/id_age_val.csv')\n",
      "df_vitals_valid = pd.read_csv('validation/id_time_vitals_val.csv')\n",
      "df_labs_valid = pd.read_csv('validation/id_time_labs_val.csv')"
     ],
     "language": "python",
     "metadata": {},
     "outputs": [],
     "prompt_number": 34
    },
    {
     "cell_type": "markdown",
     "metadata": {},
     "source": [
      "[patient_combined_val, patient_combined_dead_val, patient_combined_living_val,\n",
      " age_combined_val, icu_combined_val] = get_norm_patients_from_df(df_vitals_valid, df_labs_valid,\n",
      "    df_age_valid, x_range, W, path='/root/code/xerox/windows/svm_norm_data_valid.csv')"
     ]
    },
    {
     "cell_type": "code",
     "collapsed": false,
     "input": [
      "path='/root/code/xerox/windows/svm_norm_data_valid.csv'"
     ],
     "language": "python",
     "metadata": {},
     "outputs": [],
     "prompt_number": 36
    },
    {
     "cell_type": "code",
     "collapsed": false,
     "input": [
      "[patient_combined_val, age_combined_val, icu_combined_val] = get_data_combined_from_raw(df_vitals_valid, df_labs_valid,\n",
      "                                                                                         df_age_valid, x_range, W, path)"
     ],
     "language": "python",
     "metadata": {},
     "outputs": [
      {
       "ename": "NameError",
       "evalue": "global name 'patients_combined' is not defined",
       "output_type": "pyerr",
       "traceback": [
        "\u001b[1;31m---------------------------------------------------------------------------\u001b[0m\n\u001b[1;31mNameError\u001b[0m                                 Traceback (most recent call last)",
        "\u001b[1;32m<ipython-input-51-c90a5346dc6f>\u001b[0m in \u001b[0;36m<module>\u001b[1;34m()\u001b[0m\n\u001b[0;32m      1\u001b[0m [patient_combined_val, age_combined_val, icu_combined_val] = get_data_combined_from_raw(df_vitals_valid, df_labs_valid,\n\u001b[1;32m----> 2\u001b[1;33m                                                                                          df_age_valid, x_range, W, path)\n\u001b[0m",
        "\u001b[1;32m<ipython-input-9-65b83c2d4357>\u001b[0m in \u001b[0;36mget_data_combined_from_raw\u001b[1;34m(df_vitals, df_labs, df_age, x_range, W, path)\u001b[0m\n\u001b[0;32m      5\u001b[0m     \u001b[0mage_combined\u001b[0m \u001b[1;33m=\u001b[0m \u001b[0mnp\u001b[0m\u001b[1;33m.\u001b[0m\u001b[0marray\u001b[0m\u001b[1;33m(\u001b[0m\u001b[0mdf_age\u001b[0m\u001b[1;33m.\u001b[0m\u001b[0mAGE\u001b[0m\u001b[1;33m)\u001b[0m\u001b[1;33m\u001b[0m\u001b[0m\n\u001b[0;32m      6\u001b[0m     \u001b[0micu_combined\u001b[0m \u001b[1;33m=\u001b[0m \u001b[0mnp\u001b[0m\u001b[1;33m.\u001b[0m\u001b[0marray\u001b[0m\u001b[1;33m(\u001b[0m\u001b[1;33m[\u001b[0m\u001b[0mnp\u001b[0m\u001b[1;33m.\u001b[0m\u001b[0marray\u001b[0m\u001b[1;33m(\u001b[0m\u001b[0mdf_vitals\u001b[0m\u001b[1;33m.\u001b[0m\u001b[0mICU\u001b[0m\u001b[1;33m[\u001b[0m\u001b[0mdf_vitals\u001b[0m\u001b[1;33m[\u001b[0m\u001b[1;34m'ID'\u001b[0m\u001b[1;33m]\u001b[0m\u001b[1;33m==\u001b[0m\u001b[0mi\u001b[0m\u001b[1;33m]\u001b[0m\u001b[1;33m)\u001b[0m \u001b[1;32mfor\u001b[0m \u001b[0mi\u001b[0m \u001b[1;32min\u001b[0m \u001b[0mdf_age\u001b[0m\u001b[1;33m[\u001b[0m\u001b[1;34m'ID'\u001b[0m\u001b[1;33m]\u001b[0m\u001b[1;33m.\u001b[0m\u001b[0munique\u001b[0m\u001b[1;33m(\u001b[0m\u001b[1;33m)\u001b[0m\u001b[1;33m]\u001b[0m\u001b[1;33m)\u001b[0m\u001b[1;33m\u001b[0m\u001b[0m\n\u001b[1;32m----> 7\u001b[1;33m     \u001b[1;32mreturn\u001b[0m \u001b[1;33m[\u001b[0m\u001b[0mpatients_combined\u001b[0m\u001b[1;33m,\u001b[0m \u001b[0mage_combined\u001b[0m\u001b[1;33m,\u001b[0m \u001b[0micu_combined\u001b[0m\u001b[1;33m]\u001b[0m\u001b[1;33m\u001b[0m\u001b[0m\n\u001b[0m",
        "\u001b[1;31mNameError\u001b[0m: global name 'patients_combined' is not defined"
       ]
      }
     ],
     "prompt_number": 51
    },
    {
     "cell_type": "markdown",
     "metadata": {},
     "source": [
      "# PICKLE THE NUMPY ARRAYS"
     ]
    },
    {
     "cell_type": "markdown",
     "metadata": {},
     "source": [
      "df_norm_val = get_norm_df(df_vitals_valid, df_labs_valid, x_range, W, path)\n",
      "patient_combined_val = [np.array(df_norm_val.ix[df_vitals_valid['ID'] == ID, :]) for ID in df_age_valid['ID'].unique()]\n",
      "\n",
      "age_combined_val = np.array(df_age_valid.AGE)\n",
      "icu_combined_val = np.array([np.array(df_vitals_valid.ICU[df_vitals_valid['ID']==i]) for i in df_age_valid['ID'].unique()])"
     ]
    }
   ],
   "metadata": {}
  }
 ]
}