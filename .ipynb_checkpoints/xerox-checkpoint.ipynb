{
 "metadata": {
  "name": "",
  "signature": "sha256:430ae3717fa7c6d94238edd6a715b37d45b7c017eeff7102db7ffc7e518959da"
 },
 "nbformat": 3,
 "nbformat_minor": 0,
 "worksheets": [
  {
   "cells": [
    {
     "cell_type": "code",
     "collapsed": false,
     "input": [
      "%vimception"
     ],
     "language": "python",
     "metadata": {},
     "outputs": [
      {
       "output_type": "stream",
       "stream": "stderr",
       "text": [
        "ERROR: Line magic function `%vimception` not found.\n"
       ]
      }
     ],
     "prompt_number": 3
    },
    {
     "cell_type": "code",
     "collapsed": false,
     "input": [
      "%reset"
     ],
     "language": "python",
     "metadata": {},
     "outputs": [
      {
       "name": "stdout",
       "output_type": "stream",
       "stream": "stdout",
       "text": [
        "Once deleted, variables cannot be recovered. Proceed (y/[n])? y\n"
       ]
      }
     ],
     "prompt_number": 90
    },
    {
     "cell_type": "code",
     "collapsed": false,
     "input": [
      "import re\n",
      "import numpy as np\n",
      "import pandas as pd\n",
      "from patsy import dmatrices, dmatrix\n",
      "from pandas import Series, DataFrame\n",
      "import matplotlib.pyplot as plt"
     ],
     "language": "python",
     "metadata": {},
     "outputs": [],
     "prompt_number": 1
    },
    {
     "cell_type": "code",
     "collapsed": false,
     "input": [
      "df_age = pd.read_csv('data_train/id_age_train.csv')\n",
      "df_labels = pd.read_csv('data_train/id_label_train.csv')\n",
      "df_vitals = pd.read_csv('data_train/id_time_vitals_train.csv')\n",
      "df_labs = pd.read_csv('data_train/id_time_labs_train.csv')"
     ],
     "language": "python",
     "metadata": {},
     "outputs": [],
     "prompt_number": 2
    },
    {
     "cell_type": "markdown",
     "metadata": {},
     "source": [
      "### Drop columns with no entries at all\n",
      "- Maybe consider removing ones with \"too few\" (?) entries too\n",
      "\n",
      "c = df_labs.ix[:, df_labs.count(axis=0)==0].columns\n",
      "print c\n",
      "df_labs.isnull().all(axis=0).sum()\n",
      "df_vitals.isnull().all(axis=0).sum()"
     ]
    },
    {
     "cell_type": "code",
     "collapsed": false,
     "input": [
      "df_vitals.describe()"
     ],
     "language": "python",
     "metadata": {},
     "outputs": [
      {
       "html": [
        "<div style=\"max-height:1000px;max-width:1500px;overflow:auto;\">\n",
        "<table border=\"1\" class=\"dataframe\">\n",
        "  <thead>\n",
        "    <tr style=\"text-align: right;\">\n",
        "      <th></th>\n",
        "      <th>ID</th>\n",
        "      <th>TIME</th>\n",
        "      <th>V1</th>\n",
        "      <th>V2</th>\n",
        "      <th>V3</th>\n",
        "      <th>V4</th>\n",
        "      <th>V5</th>\n",
        "      <th>V6</th>\n",
        "      <th>ICU</th>\n",
        "    </tr>\n",
        "  </thead>\n",
        "  <tbody>\n",
        "    <tr>\n",
        "      <th>count</th>\n",
        "      <td> 628437.000000</td>\n",
        "      <td>   628437.000000</td>\n",
        "      <td> 423137.000000</td>\n",
        "      <td> 423038.000000</td>\n",
        "      <td> 455161.000000</td>\n",
        "      <td> 430491.000000</td>\n",
        "      <td> 435631.000000</td>\n",
        "      <td> 157943.000000</td>\n",
        "      <td> 628437.000000</td>\n",
        "    </tr>\n",
        "    <tr>\n",
        "      <th>mean</th>\n",
        "      <td>   1727.806905</td>\n",
        "      <td>  1022408.279161</td>\n",
        "      <td>    122.710737</td>\n",
        "      <td>     69.210043</td>\n",
        "      <td>     86.815320</td>\n",
        "      <td>     20.426097</td>\n",
        "      <td>     97.666431</td>\n",
        "      <td>     98.242680</td>\n",
        "      <td>      0.810113</td>\n",
        "    </tr>\n",
        "    <tr>\n",
        "      <th>std</th>\n",
        "      <td>   1029.031829</td>\n",
        "      <td>  2756239.769567</td>\n",
        "      <td>     23.069533</td>\n",
        "      <td>     15.151000</td>\n",
        "      <td>     18.974359</td>\n",
        "      <td>      6.011689</td>\n",
        "      <td>      3.722011</td>\n",
        "      <td>      1.234502</td>\n",
        "      <td>      0.392212</td>\n",
        "    </tr>\n",
        "    <tr>\n",
        "      <th>min</th>\n",
        "      <td>      1.000000</td>\n",
        "      <td>        0.000000</td>\n",
        "      <td>      1.000000</td>\n",
        "      <td>      1.000000</td>\n",
        "      <td>      1.000000</td>\n",
        "      <td>      1.000000</td>\n",
        "      <td>      0.000000</td>\n",
        "      <td>     79.900000</td>\n",
        "      <td>      0.000000</td>\n",
        "    </tr>\n",
        "    <tr>\n",
        "      <th>25%</th>\n",
        "      <td>    880.000000</td>\n",
        "      <td>   130786.000000</td>\n",
        "      <td>    106.000000</td>\n",
        "      <td>     59.000000</td>\n",
        "      <td>     73.000000</td>\n",
        "      <td>     17.000000</td>\n",
        "      <td>     96.000000</td>\n",
        "      <td>     97.600000</td>\n",
        "      <td>      1.000000</td>\n",
        "    </tr>\n",
        "    <tr>\n",
        "      <th>50%</th>\n",
        "      <td>   1700.000000</td>\n",
        "      <td>   362109.000000</td>\n",
        "      <td>    120.000000</td>\n",
        "      <td>     68.000000</td>\n",
        "      <td>     85.000000</td>\n",
        "      <td>     20.000000</td>\n",
        "      <td>     98.000000</td>\n",
        "      <td>     98.200000</td>\n",
        "      <td>      1.000000</td>\n",
        "    </tr>\n",
        "    <tr>\n",
        "      <th>75%</th>\n",
        "      <td>   2574.000000</td>\n",
        "      <td>   840985.000000</td>\n",
        "      <td>    137.000000</td>\n",
        "      <td>     78.000000</td>\n",
        "      <td>     98.000000</td>\n",
        "      <td>     23.000000</td>\n",
        "      <td>    100.000000</td>\n",
        "      <td>     98.800000</td>\n",
        "      <td>      1.000000</td>\n",
        "    </tr>\n",
        "    <tr>\n",
        "      <th>max</th>\n",
        "      <td>   3594.000000</td>\n",
        "      <td> 35236735.000000</td>\n",
        "      <td>    290.000000</td>\n",
        "      <td>    200.000000</td>\n",
        "      <td>    219.000000</td>\n",
        "      <td>     82.000000</td>\n",
        "      <td>    102.000000</td>\n",
        "      <td>    108.200000</td>\n",
        "      <td>      1.000000</td>\n",
        "    </tr>\n",
        "  </tbody>\n",
        "</table>\n",
        "</div>"
       ],
       "metadata": {},
       "output_type": "pyout",
       "prompt_number": 3,
       "text": [
        "                  ID             TIME             V1             V2  \\\n",
        "count  628437.000000    628437.000000  423137.000000  423038.000000   \n",
        "mean     1727.806905   1022408.279161     122.710737      69.210043   \n",
        "std      1029.031829   2756239.769567      23.069533      15.151000   \n",
        "min         1.000000         0.000000       1.000000       1.000000   \n",
        "25%       880.000000    130786.000000     106.000000      59.000000   \n",
        "50%      1700.000000    362109.000000     120.000000      68.000000   \n",
        "75%      2574.000000    840985.000000     137.000000      78.000000   \n",
        "max      3594.000000  35236735.000000     290.000000     200.000000   \n",
        "\n",
        "                  V3             V4             V5             V6  \\\n",
        "count  455161.000000  430491.000000  435631.000000  157943.000000   \n",
        "mean       86.815320      20.426097      97.666431      98.242680   \n",
        "std        18.974359       6.011689       3.722011       1.234502   \n",
        "min         1.000000       1.000000       0.000000      79.900000   \n",
        "25%        73.000000      17.000000      96.000000      97.600000   \n",
        "50%        85.000000      20.000000      98.000000      98.200000   \n",
        "75%        98.000000      23.000000     100.000000      98.800000   \n",
        "max       219.000000      82.000000     102.000000     108.200000   \n",
        "\n",
        "                 ICU  \n",
        "count  628437.000000  \n",
        "mean        0.810113  \n",
        "std         0.392212  \n",
        "min         0.000000  \n",
        "25%         1.000000  \n",
        "50%         1.000000  \n",
        "75%         1.000000  \n",
        "max         1.000000  "
       ]
      }
     ],
     "prompt_number": 3
    },
    {
     "cell_type": "markdown",
     "metadata": {},
     "source": [
      "### Skewed?\n",
      "Check if data is skewed, if yes, then we need some strategy to show the model eq. amount of positive (died) examples for better generalization\n",
      "\n",
      "N_PATIENTS = df_labels['ID'].count()\n",
      "print N_PATIENTS\n",
      "sum(df_labels['LABEL'] == 1) * 100.0 / N_PATIENTS"
     ]
    },
    {
     "cell_type": "markdown",
     "metadata": {},
     "source": [
      "### Preprocess\n",
      "- Imputations?\n",
      "- Segmentation?\n",
      "- ??\n",
      "- feature selection?"
     ]
    },
    {
     "cell_type": "markdown",
     "metadata": {},
     "source": [
      "### Append the labels to the labs and vitals for ease :P"
     ]
    },
    {
     "cell_type": "markdown",
     "metadata": {},
     "source": [
      "for i in df_labels.ix[:, 'ID']:\n",
      "    index = df_vitals.ix[:, 'ID'] == i # 1-1 corr in vitals and labs ID-TIME\n",
      "    label = df_labels.ix[i - 1, 'LABEL']\n",
      "    df_vitals.ix[index, 'label'] = label\n",
      "    df_labs.ix[index, 'label'] = label"
     ]
    },
    {
     "cell_type": "markdown",
     "metadata": {},
     "source": [
      "### impute with zeros\n",
      "\n",
      "df_vitals_zero=df_vitals.copy()\n",
      "df_vitals_zero[df_vitals.isnull()] = 0"
     ]
    },
    {
     "cell_type": "markdown",
     "metadata": {},
     "source": [
      "### Impute with mean"
     ]
    },
    {
     "cell_type": "markdown",
     "metadata": {},
     "source": [
      "df_vitals_mean = df_vitals.copy()\n",
      "for i in xrange(1, 7):\n",
      "    col = 'V' + str(i)\n",
      "    index = df_vitals_mean.ix[:, col].isnull()\n",
      "    df_vitals_mean.ix[index, col] = df_vitals_mean.ix[index^1, col].mean()\n",
      "df_labs_mean = df_labs.copy()\n",
      "for i in xrange(1, 26):\n",
      "    col = 'L' + str(i)\n",
      "    index = df_labs_mean.ix[:, col].isnull()\n",
      "    df_labs_mean.ix[index, col] = df_labs_mean.ix[index^1, col].mean()\n",
      "#### Combined values imputed with mean\n",
      "patient_combined_mean = [np.append(np.array(df_vitals_mean.ix[df_vitals_mean['ID'] == ID, 2:8]),\n",
      "                                   np.array(df_labs_mean.ix[df_labs_mean['ID'] == ID, 2:27]), axis=1)\n",
      "                         for ID in df_labels['ID'].unique()                        \n",
      "                         ]\n",
      "\n",
      "##### split into living and dead\n",
      "patient_combined_dead = [patient_combined_mean[ID-1] for ID in df_labels['ID']\n",
      "                                                      if df_labels.ix[ID - 1, 'LABEL'] == 1]\n",
      "patient_combined_living = [patient_combined_mean[ID-1] for ID in df_labels['ID']\n",
      "                                                      if df_labels.ix[ID - 1, 'LABEL'] == 0]\n",
      "\n",
      "patient_combined_living_mean = patient_combined_living\n",
      "patient_combined_dead_mean = patient_combined_dead"
     ]
    },
    {
     "cell_type": "code",
     "collapsed": false,
     "input": [
      "# Combined values WITH NANs\n",
      "df_v = df_vitals\n",
      "df_l = df_labs\n",
      "patient_combined = [np.append(np.array(df_v.ix[df_v['ID'] == ID, 2:8]),\n",
      "                              np.array(df_l.ix[df_l['ID'] == ID, 2:27]), axis=1)\n",
      "                    for ID in df_labels['ID'].unique()                        \n",
      "                   ]\n",
      "\n",
      "# split into living and dead\n",
      "patient_combined_dead_nan = [patient_combined[ID-1] for ID in df_labels['ID']\n",
      "                                                      if df_labels.ix[ID - 1, 'LABEL'] == 1]\n",
      "patient_combined_living_nan = [patient_combined[ID-1] for ID in df_labels['ID']\n",
      "                                                      if df_labels.ix[ID - 1, 'LABEL'] == 0]"
     ],
     "language": "python",
     "metadata": {},
     "outputs": [],
     "prompt_number": 3
    },
    {
     "cell_type": "code",
     "collapsed": false,
     "input": [
      "patient_combined[i].shape"
     ],
     "language": "python",
     "metadata": {},
     "outputs": [
      {
       "metadata": {},
       "output_type": "pyout",
       "prompt_number": 12,
       "text": [
        "(43, 31)"
       ]
      }
     ],
     "prompt_number": 12
    },
    {
     "cell_type": "markdown",
     "metadata": {},
     "source": [
      "#### Stats of all the patients combined\n",
      "stats = np.zeros((len(patient_combined), 4 * 31))\n",
      "for i in xrange(len(patient_combined)):\n",
      "    stats[i, :31] = np.nanmean(patient_combined_mean[i], axis=0)\n",
      "    stats[i, 31:2*31] = np.nanvar(patient_combined_mean[i], axis=0)\n",
      "    stats[i, 2*31:3*31] = np.nanmin(patient_combined_mean[i], axis=0)\n",
      "    stats[i, 3*31:] = np.nanmax(patient_combined_mean[i], axis=0)\n",
      "\n",
      "stats.shape"
     ]
    },
    {
     "cell_type": "markdown",
     "metadata": {},
     "source": [
      "### Save the values"
     ]
    },
    {
     "cell_type": "markdown",
     "metadata": {},
     "source": [
      "for i, o in enumerate(patient_combined_living_nan):\n",
      "    np.savetxt('patient_living_nan/' + str(i) + '.csv', o, delimiter=',')\n",
      "for i, o in enumerate(patient_combined_dead_nan):\n",
      "    np.savetxt('patient_dead_nan/' + str(i) + '.csv', o, delimiter=',')"
     ]
    },
    {
     "cell_type": "markdown",
     "metadata": {},
     "source": [
      "### Split into living and dead sets separately\n",
      "\n",
      "df_vitals_dead = df_vitals[df_vitals.label == 1]\n",
      "df_vitals_living = df_vitals[df_vitals.label == 0]\n",
      "\n",
      "df_labs_dead = df_labs[df_labs.label == 1]\n",
      "df_labs_living = df_labs[df_labs.label == 0]"
     ]
    },
    {
     "cell_type": "markdown",
     "metadata": {},
     "source": [
      "num_pos = 0\n",
      "for i in df_labels.ix[:, 'ID']:\n",
      "    num_pos = num_pos + df_vitals.ID[df_vitals.ID == i].count() * df_labels.LABEL[i-1]\n",
      "print num_pos"
     ]
    },
    {
     "cell_type": "markdown",
     "metadata": {},
     "source": [
      "# Exploratory analysis\n",
      "\n",
      "## Export histograms of all labs and vitals"
     ]
    },
    {
     "cell_type": "markdown",
     "metadata": {},
     "source": [
      "for i in xrange(1, 6):\n",
      "    col = 'V' + str(i)\n",
      "    plt = figure(figsize=(30, 30));\n",
      "    title('Hello there')\n",
      "    v_dead = np.array(df_vitals_dead.ix[df_vitals_dead[col].notnull(), col])\n",
      "\n",
      "    subplot(3, 1, 1)\n",
      "    hist(v_dead, bins=100);\n",
      "    title('Dead - Vital ' + col)\n",
      "\n",
      "    subplot(3, 1, 2)\n",
      "    hist(np.array(df_vitals.ix[df_vitals[col].notnull(), col]) , bins=100);\n",
      "    title('Everyone - Vital ' + col)\n",
      "\n",
      "    subplot(3, 1, 3)\n",
      "    v_living = np.array(df_vitals_living.ix[df_vitals_living[col].notnull(), col])\n",
      "    hist(v_living, bins=100);\n",
      "    title('Living - Vital ' + col)\n",
      "\n",
      "    plt.savefig('plots/' + col+'.png')"
     ]
    },
    {
     "cell_type": "markdown",
     "metadata": {},
     "source": [
      "for i in xrange(13, 14):\n",
      "    col = 'L' + str(i)\n",
      "    plt = figure(figsize=(30, 30));\n",
      "    title('Hello there')\n",
      "    v_dead = np.array(df_labs_dead.ix[df_labs_dead[col].notnull(), col])\n",
      "\n",
      "    subplot(3, 1, 1)\n",
      "    hist(v_dead, bins=100);\n",
      "    title('Dead - Lab ' + col)\n",
      "\n",
      "    subplot(3, 1, 2)\n",
      "    hist(np.array(df_labs.ix[df_labs[col].notnull(), col]) , bins=100);\n",
      "    title('Everyone - Lab ' + col)\n",
      "\n",
      "    subplot(3, 1, 3)\n",
      "    v_living = np.array(df_labs_living.ix[df_labs_living[col].notnull(), col])\n",
      "    hist(v_living, bins=100);\n",
      "    title('Living - Lab ' + col)\n",
      "\n",
      "    plt.savefig('plots/' + col+'.png')"
     ]
    },
    {
     "cell_type": "markdown",
     "metadata": {},
     "source": [
      "### NEED TO REMOVE OUTLIER VALUES!\n",
      "- there are outlier values in many of the labs which are waaay out there.. remove\n",
      "\n",
      "- L13 does not have any dead patient data!"
     ]
    },
    {
     "cell_type": "markdown",
     "metadata": {},
     "source": [
      "### Plot qunatiles of length of patient timestamps\n",
      "\n",
      "k = 100\n",
      "scatter(xrange(1, N_PATIENTS + 1 - k), lens[:-k])"
     ]
    },
    {
     "cell_type": "markdown",
     "metadata": {},
     "source": [
      "### Windows!"
     ]
    },
    {
     "cell_type": "markdown",
     "metadata": {},
     "source": [
      "df_combined_mean = df_labs_mean.join(df_vitals_mean.drop(['ID', 'TIME', 'label'], axis=1))\n",
      "df_combined_mean.columns\n",
      "df_combined_mean_vals = df_combined_mean.drop(['ID', 'TIME', 'label', 'ICU'], axis=1)"
     ]
    },
    {
     "cell_type": "markdown",
     "metadata": {},
     "source": [
      "- We want to get windows of each patient separately"
     ]
    },
    {
     "cell_type": "markdown",
     "metadata": {},
     "source": [
      "### We will loose the smaller time series dependign on the window size\n",
      "- liviing - 44 values < 50\n",
      "- dead - 4 values < 50\n",
      "\n",
      "- 525046 windows - living\n",
      "- 71186 windows - dead \n",
      "\n",
      "### The stats are structured as:\n",
      "- Divided into living and dead\n",
      "- PATIENT WISE\n",
      "- Each row has 31 * {Mean, var, min, max} entries\n",
      "- Each row corresponds to one window in some patient (living / dead)"
     ]
    },
    {
     "cell_type": "code",
     "collapsed": false,
     "input": [
      "window_size = 10\n",
      "stride = 1"
     ],
     "language": "python",
     "metadata": {},
     "outputs": [],
     "prompt_number": 10
    },
    {
     "cell_type": "code",
     "collapsed": false,
     "input": [
      "patient_combined_dead = patient_combined_dead_nan\n",
      "patient_combined_living = patient_combined_living_nan"
     ],
     "language": "python",
     "metadata": {},
     "outputs": [],
     "prompt_number": 8
    },
    {
     "cell_type": "code",
     "collapsed": true,
     "input": [
      "ts_lens_dead = [x.shape[0] for x in patient_combined_dead]\n",
      "ts_lens_living = [x.shape[0] for x in patient_combined_living]"
     ],
     "language": "python",
     "metadata": {},
     "outputs": [],
     "prompt_number": 9
    },
    {
     "cell_type": "code",
     "collapsed": false,
     "input": [
      "n_features = 31\n",
      "n_stats = 4\n",
      "n_dead = len(patient_combined_dead)\n",
      "n_living = len(patient_combined_living)"
     ],
     "language": "python",
     "metadata": {},
     "outputs": []
    },
    {
     "cell_type": "code",
     "collapsed": false,
     "input": [
      "data = patient_combined_dead\n",
      "window_stats = []\n",
      "\n",
      "for i in xrange(len(data)):\n",
      "    ts = data[i]\n",
      "    n_windows = ts.shape[0] - window_size + 1 # NO STRIDE!!\n",
      "    \n",
      "    if(n_windows <= 0):\n",
      "        window_stats.append(None)    # We want to keep 1-1 mapping with patients..\n",
      "        continue\n",
      "    \n",
      "    l = np.zeros((n_windows, n_stats * n_features))\n",
      "    \n",
      "    for j in xrange(0, n_windows, stride):   # NO STRIDE!\n",
      "        window = ts[j : window_size+j, :] \n",
      "        l[j, :n_features] = np.nanmean(window, axis=0)\n",
      "        l[j, n_features:2*n_features] = np.nanvar(window, axis=0)\n",
      "        l[j, 2*n_features:3*n_features] = np.nanmin(window, axis=0)\n",
      "        l[j, 3*n_features:4*n_features] = np.nanmax(window, axis=0)\n",
      "    \n",
      "    window_stats.append(l)\n",
      "\n",
      "# SET teh global variable\n",
      "window_stats_patient_dead = window_stats"
     ],
     "language": "python",
     "metadata": {},
     "outputs": [],
     "prompt_number": 18
    },
    {
     "cell_type": "code",
     "collapsed": false,
     "input": [
      "# Create a list of columns\n",
      "cols = []\n",
      "for sname in ['mean', 'var', 'min', 'max']:\n",
      "    for i in xrange(1, 6+1):\n",
      "        cols.append(sname + '_v' + str(i))\n",
      "    for i in xrange(1, 25+1):\n",
      "        cols.append(sname + '_l' + str(i))"
     ],
     "language": "python",
     "metadata": {},
     "outputs": [],
     "prompt_number": 19
    },
    {
     "cell_type": "code",
     "collapsed": false,
     "input": [
      "# No. of patients with NO WINDOW\n",
      "print sum([window_stats_patient_dead[i] == None for i in xrange(n_dead)])\n",
      "print sum([window_stats_patient_living[i] == None for i in xrange(n_living)])"
     ],
     "language": "python",
     "metadata": {},
     "outputs": [
      {
       "output_type": "stream",
       "stream": "stdout",
       "text": [
        "5\n",
        "43\n"
       ]
      },
      {
       "output_type": "stream",
       "stream": "stderr",
       "text": [
        "-c:2: FutureWarning: comparison to `None` will result in an elementwise object comparison in the future.\n",
        "-c:3: FutureWarning: comparison to `None` will result in an elementwise object comparison in the future.\n"
       ]
      }
     ],
     "prompt_number": 20
    },
    {
     "cell_type": "code",
     "collapsed": false,
     "input": [
      "print len(window_stats_patient_dead)\n",
      "print len(window_stats_patient_living)"
     ],
     "language": "python",
     "metadata": {},
     "outputs": [
      {
       "output_type": "stream",
       "stream": "stdout",
       "text": [
        "245\n",
        "3349\n"
       ]
      }
     ],
     "prompt_number": 66
    },
    {
     "cell_type": "code",
     "collapsed": false,
     "input": [
      "l = [x.shape[0] for x in window_stats_patient_dead if x is not None]\n",
      "print sum(l), l[0]"
     ],
     "language": "python",
     "metadata": {},
     "outputs": [
      {
       "output_type": "stream",
       "stream": "stdout",
       "text": [
        "71186 34\n"
       ]
      }
     ],
     "prompt_number": 21
    },
    {
     "cell_type": "markdown",
     "metadata": {},
     "source": [
      "### Stack the living and dead stats"
     ]
    },
    {
     "cell_type": "code",
     "collapsed": false,
     "input": [
      "window_stats_patient_dead[2].shape"
     ],
     "language": "python",
     "metadata": {},
     "outputs": [
      {
       "metadata": {},
       "output_type": "pyout",
       "prompt_number": 22,
       "text": [
        "(40, 124)"
       ]
      }
     ],
     "prompt_number": 22
    },
    {
     "cell_type": "code",
     "collapsed": false,
     "input": [
      "window_stats = [x for x in window_stats_patient_dead if x is not None]\n",
      "window_stats_dead = np.vstack(window_stats)"
     ],
     "language": "python",
     "metadata": {},
     "outputs": [],
     "prompt_number": 23
    },
    {
     "cell_type": "code",
     "collapsed": false,
     "input": [
      "window_stats = [x for x in window_stats_patient_living if x is not None]\n",
      "window_stats_living = np.vstack(window_stats)"
     ],
     "language": "python",
     "metadata": {},
     "outputs": [],
     "prompt_number": 24
    },
    {
     "cell_type": "code",
     "collapsed": false,
     "input": [
      "window_stats_living.shape"
     ],
     "language": "python",
     "metadata": {},
     "outputs": [
      {
       "metadata": {},
       "output_type": "pyout",
       "prompt_number": 25,
       "text": [
        "(525046, 124)"
       ]
      }
     ],
     "prompt_number": 25
    }
   ],
   "metadata": {}
  }
 ]
}