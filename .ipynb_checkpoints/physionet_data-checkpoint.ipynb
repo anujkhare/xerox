{
 "metadata": {
  "name": "",
  "signature": "sha256:3409c246be8f529e477311237df3106cc3aa05ae4468cc39e4c7f4325c7c1a02"
 },
 "nbformat": 3,
 "nbformat_minor": 0,
 "worksheets": [
  {
   "cells": [
    {
     "cell_type": "code",
     "collapsed": false,
     "input": [
      "%reset"
     ],
     "language": "python",
     "metadata": {},
     "outputs": []
    },
    {
     "cell_type": "code",
     "collapsed": false,
     "input": [
      "import re\n",
      "from os import listdir"
     ],
     "language": "python",
     "metadata": {},
     "outputs": [],
     "prompt_number": 1
    },
    {
     "cell_type": "code",
     "collapsed": false,
     "input": [
      "with open('fields') as f:\n",
      "    field_names = [x.strip('\\n').split(': ') for x in f.readlines()]"
     ],
     "language": "python",
     "metadata": {},
     "outputs": [],
     "prompt_number": 2
    },
    {
     "cell_type": "code",
     "collapsed": false,
     "input": [
      "vitals = field_names[1: 7]\n",
      "labs = field_names[9:]"
     ],
     "language": "python",
     "metadata": {},
     "outputs": [],
     "prompt_number": 3
    },
    {
     "cell_type": "code",
     "collapsed": false,
     "input": [
      "str1 = ','.join([labs[i][1] for i in xrange(len(labs))])"
     ],
     "language": "python",
     "metadata": {},
     "outputs": [],
     "prompt_number": 32
    },
    {
     "cell_type": "code",
     "collapsed": false,
     "input": [
      "str2 = ','.join([vitals[i][1] for i in xrange(len(vitals))])"
     ],
     "language": "python",
     "metadata": {},
     "outputs": [],
     "prompt_number": 34
    },
    {
     "cell_type": "code",
     "collapsed": false,
     "input": [
      "str1"
     ],
     "language": "python",
     "metadata": {},
     "outputs": [
      {
       "metadata": {},
       "output_type": "pyout",
       "prompt_number": 33,
       "text": [
        "'pH,PaCO2,PaO2,Na,K,HCO3,BUN,Creatinine,WBC,HCT,Platelets,Bilirubin,Urine,Cholesterol,Lactate,TropI,TropT,Glucose,FiO2,Albumin,ALP,ALT,Mg'"
       ]
      }
     ],
     "prompt_number": 33
    },
    {
     "cell_type": "code",
     "collapsed": false,
     "input": [
      "str2"
     ],
     "language": "python",
     "metadata": {},
     "outputs": [
      {
       "metadata": {},
       "output_type": "pyout",
       "prompt_number": 35,
       "text": [
        "'SysABP,DiasABP,RespRate,HR,SaO2,Temp'"
       ]
      }
     ],
     "prompt_number": 35
    },
    {
     "cell_type": "code",
     "collapsed": false,
     "input": [
      "for i, row in enumerate(labs):\n",
      "    print i, row"
     ],
     "language": "python",
     "metadata": {},
     "outputs": [
      {
       "output_type": "stream",
       "stream": "stdout",
       "text": [
        "0 ['Arterial blood Ph', 'pH']\n",
        "1 ['Partial Pressure of Carbon dioxide (PaCO2)', 'PaCO2']\n",
        "2 ['Partial Pressure of Oxygen (PaO2)', 'PaO2']\n",
        "3 ['Sodium', 'Na']\n",
        "4 ['Potassium', 'K']\n",
        "5 ['Bicarbonate', 'HCO3']\n",
        "6 ['Blood Urea Nitrogen', 'BUN']\n",
        "7 ['Serum Creatinine', 'Creatinine']\n",
        "8 ['WBC Count', 'WBC']\n",
        "9 ['Hematocrit', 'HCT']\n",
        "10 ['Platelet Count', 'Platelets']\n",
        "11 ['Bilirubin', 'Bilirubin']\n",
        "12 ['Urine Output', 'Urine']\n",
        "13 ['LDL Cholesterol', 'Cholesterol']\n",
        "14 ['Lactic Acid', 'Lactate']\n",
        "15 ['Troponin I', 'TropI']\n",
        "16 ['Troponin T', 'TropT']\n",
        "17 ['Random Blood Glucose', 'Glucose']\n",
        "18 ['Fraction of Inspired Oxygen (FiO2)', 'FiO2']\n",
        "19 ['Albumin', 'Albumin']\n",
        "20 ['Alkaline Phosphatase', 'ALP']\n",
        "21 ['Alanine', 'ALT']\n",
        "22 ['Magnesium', 'Mg']\n"
       ]
      }
     ],
     "prompt_number": 28
    },
    {
     "cell_type": "code",
     "collapsed": false,
     "input": [
      "# Remove the missing values\n",
      "# labs.pop(18)\n",
      "# labs.pop(22)"
     ],
     "language": "python",
     "metadata": {},
     "outputs": [],
     "prompt_number": 6
    },
    {
     "cell_type": "code",
     "collapsed": false,
     "input": [
      "# This will be the default value of each row\n",
      "dict_vitals = {vitals[i][1]: 'NA' for i in xrange(len(vitals))}\n",
      "dict_labs = {labs[i][1]: 'NA' for i in xrange(len(labs))}"
     ],
     "language": "python",
     "metadata": {},
     "outputs": [],
     "prompt_number": 7
    },
    {
     "cell_type": "code",
     "collapsed": false,
     "input": [
      "def get_seconds(time):\n",
      "    [hr, sec] = time.split(':')\n",
      "    return int(hr) * 3600 + int(sec) * 60"
     ],
     "language": "python",
     "metadata": {},
     "outputs": [],
     "prompt_number": 8
    },
    {
     "cell_type": "code",
     "collapsed": false,
     "input": [
      "def print_record_labs(p_id, record_time, t_labs):\n",
      "        record_labs = [p_id, record_time]\n",
      "        record_labs.extend([t_labs[labs[i][1]]\n",
      "                             for i in xrange(len(labs))])\n",
      "        \n",
      "        string = ','.join([str(e) for e in record_labs])\n",
      "        f_labs.write(string)\n",
      "        f_labs.write('\\n')\n",
      "#         print string"
     ],
     "language": "python",
     "metadata": {},
     "outputs": [],
     "prompt_number": 21
    },
    {
     "cell_type": "code",
     "collapsed": false,
     "input": [
      "def print_record_vitals(p_id, record_time, t_vitals):\n",
      "        record_vitals = [p_id, record_time]\n",
      "        record_vitals.extend([t_vitals[vitals[i][1]]\n",
      "                             for i in xrange(len(vitals))])\n",
      "        \n",
      "        string = ','.join([str(e) for e in record_vitals])\n",
      "        f_vitals.write(string)\n",
      "        f_vitals.write('\\n')\n",
      "#         print string"
     ],
     "language": "python",
     "metadata": {},
     "outputs": [],
     "prompt_number": 22
    },
    {
     "cell_type": "code",
     "collapsed": false,
     "input": [
      "def process_patient_file(content):\n",
      "    # Read first lines to generate id file\n",
      "    if(content[2][1] != 'Age' or content[1][1] != 'RecordID'):\n",
      "        print \"ERROR!\"\n",
      "    p_id = int(content[1][2])\n",
      "    p_age = int(content[2][2])\n",
      "\n",
      "    string = ','.join([str(p_id), str(p_age)])\n",
      "    f_age.write(string)\n",
      "    f_age.write('\\n')\n",
      "    \n",
      "    # Read row by row and club entries with same timestamp for vitals and labs\n",
      "    record_time = 0  \n",
      "    t_vitals = dict_vitals.copy()\n",
      "    t_labs = dict_labs.copy()\n",
      "\n",
      "#     k = 0\n",
      "    for row in content[1:]:\n",
      "        row_time = get_seconds(row[0])\n",
      "\n",
      "#         print row\n",
      "        \n",
      "        # we will skip the initial entries (time=0) \n",
      "        if (record_time == 0):\n",
      "            record_time = row_time\n",
      "        if (row_time == 0):\n",
      "            continue\n",
      "\n",
      "        if (row_time == record_time):\n",
      "            if(t_vitals.has_key(row[1])):\n",
      "                t_vitals[row[1]] = float(row[2])\n",
      "            if(t_labs.has_key(row[1])):\n",
      "                t_labs[row[1]] = float(row[2])\n",
      "\n",
      "        else:  # New timestamp\n",
      "#             k = k + 1\n",
      "#             print k\n",
      "            print_record_labs(p_id, record_time, t_labs)\n",
      "            print_record_vitals(p_id, record_time, t_vitals)\n",
      "\n",
      "            # Initialize for the next record\n",
      "            record_time = row_time\n",
      "            t_labs = dict_labs.copy()\n",
      "            t_vitals = dict_vitals.copy()\n",
      "\n",
      "    # Last record is not printed\n",
      "    print_record_labs(p_id, record_time, t_labs)\n",
      "    print_record_vitals(p_id, record_time, t_vitals)"
     ],
     "language": "python",
     "metadata": {},
     "outputs": [],
     "prompt_number": 23
    },
    {
     "cell_type": "code",
     "collapsed": false,
     "input": [
      "patient_file = 'data_train/133687.txt'"
     ],
     "language": "python",
     "metadata": {},
     "outputs": [],
     "prompt_number": 24
    },
    {
     "cell_type": "code",
     "collapsed": false,
     "input": [
      "# Open output files\n",
      "f_vitals = open('train_vitals.csv', 'w') \n",
      "f_labs = open('train_labs.csv', 'w')\n",
      "f_age = open('train_age.csv', 'w')\n",
      "#f_labels = open('train_labels.csv', 'w')\n",
      "\n",
      "# Process each patient file\n",
      "for patient_file in ['data_train/' + f for f in listdir('data_train/')]:\n",
      "    with open(patient_file) as f:\n",
      "        content = [re.split(r',', x.strip('\\n')) for x in f.readlines()]\n",
      "        process_patient_file(content)\n",
      "\n",
      "    # Flush streams\n",
      "    f_age.flush()\n",
      "#     f_vitals.flush()\n",
      "#     f_labs.flush()\n",
      "f_age.close()\n",
      "f_vitals.close()\n",
      "f_labs.close()"
     ],
     "language": "python",
     "metadata": {},
     "outputs": [],
     "prompt_number": 27
    }
   ],
   "metadata": {}
  }
 ]
}